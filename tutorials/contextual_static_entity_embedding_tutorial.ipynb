{
 "cells": [
  {
   "cell_type": "markdown",
   "metadata": {},
   "source": [
    "# Creates \"Contextualized\" Entity Embeddings\n",
    "\n",
    "We will use the same requirements as in the entity_embedding_tutorial.ipynb file.\n",
    "\n",
    "The unique entity embeddings, before contextualization, that are used in Bootleg's neural model are not as useful in downstream tasks in isolation. They were not trained to have a meaningful dot product, for example. Instead, we create \"contextualized\" entity embeddings that a fed through the Bootleg model.\n",
    "\n",
    "Bootleg requires two things generating a \"contextualized\" entity embeddings:\n",
    "1. A sentence\n",
    "2. A mention and list of entity candidates\n",
    "\n",
    "We want to generate (1) and (2) that represents, as closely as possible, a single entity. Our solution is\n",
    "1. The sentence is the entity title and nothing else\n",
    "2. The mention is the entiyt title and there is a single candidate. The candidate is the entity we want to generate an embedding for.\n",
    "\n",
    "We do this below to create embeddings."
   ]
  },
  {
   "cell_type": "code",
   "execution_count": 1,
   "metadata": {},
   "outputs": [
    {
     "data": {
      "text/html": [
       "<style>.container { width:90% !important; }</style>"
      ],
      "text/plain": [
       "<IPython.core.display.HTML object>"
      ]
     },
     "metadata": {},
     "output_type": "display_data"
    }
   ],
   "source": [
    "%load_ext autoreload\n",
    "%autoreload 2\n",
    "\n",
    "from IPython.core.display import display, HTML\n",
    "display(HTML(\"<style>.container { width:90% !important; }</style>\"))"
   ]
  },
  {
   "cell_type": "code",
   "execution_count": 2,
   "metadata": {},
   "outputs": [],
   "source": [
    "import sys, torch\n",
    "from rich import print\n",
    "from rich.progress import track\n",
    "import numpy as np\n",
    "from pathlib import Path"
   ]
  },
  {
   "cell_type": "markdown",
   "metadata": {},
   "source": [
    "## Loading"
   ]
  },
  {
   "cell_type": "code",
   "execution_count": 3,
   "metadata": {},
   "outputs": [
    {
     "name": "stderr",
     "output_type": "stream",
     "text": [
      "[2021-09-06 22:33:39,371][INFO] emmental.meta:122 - Setting logging directory to: /dfs/scratch0/lorr1/projects/bootleg/tutorial_data/data/log_dir\n",
      "[2021-09-06 22:33:39,428][INFO] emmental.meta:64 - Loading Emmental default config from /dfs/scratch0/lorr1/projects/emmental/src/emmental/emmental-default-config.yaml.\n",
      "[2021-09-06 22:33:39,429][INFO] emmental.meta:174 - Updating Emmental config from user provided config.\n",
      "[2021-09-06 22:33:39,431][INFO] emmental.utils.seed:27 - Set random seed to 1234.\n",
      "[2021-09-06 22:33:39,436][DEBUG] bootleg.end2end.bootleg_annotator:225 - Reading entity database\n",
      "[2021-09-06 22:35:38,197][DEBUG] bootleg.end2end.bootleg_annotator:238 - Reading entity database\n",
      "[2021-09-06 22:38:10,187][DEBUG] bootleg.end2end.bootleg_annotator:248 - Reading word tokenizers\n",
      "[2021-09-06 22:38:10,196][DEBUG] urllib3.connectionpool:971 - Starting new HTTPS connection (1): huggingface.co:443\n",
      "[2021-09-06 22:38:10,491][DEBUG] urllib3.connectionpool:452 - https://huggingface.co:443 \"HEAD /bert-base-uncased/resolve/main/tokenizer_config.json HTTP/1.1\" 200 0\n",
      "[2021-09-06 22:38:10,500][DEBUG] urllib3.connectionpool:971 - Starting new HTTPS connection (1): huggingface.co:443\n",
      "[2021-09-06 22:38:10,795][DEBUG] urllib3.connectionpool:452 - https://huggingface.co:443 \"HEAD /bert-base-uncased/resolve/main/config.json HTTP/1.1\" 200 0\n",
      "[2021-09-06 22:38:10,805][DEBUG] urllib3.connectionpool:971 - Starting new HTTPS connection (1): huggingface.co:443\n",
      "[2021-09-06 22:38:11,099][DEBUG] urllib3.connectionpool:452 - https://huggingface.co:443 \"HEAD /bert-base-uncased/resolve/main/vocab.txt HTTP/1.1\" 200 0\n",
      "[2021-09-06 22:38:11,108][DEBUG] urllib3.connectionpool:971 - Starting new HTTPS connection (1): huggingface.co:443\n",
      "[2021-09-06 22:38:11,401][DEBUG] urllib3.connectionpool:452 - https://huggingface.co:443 \"HEAD /bert-base-uncased/resolve/main/tokenizer.json HTTP/1.1\" 200 0\n",
      "[2021-09-06 22:38:11,408][DEBUG] urllib3.connectionpool:971 - Starting new HTTPS connection (1): huggingface.co:443\n",
      "[2021-09-06 22:38:11,698][DEBUG] urllib3.connectionpool:452 - https://huggingface.co:443 \"HEAD /bert-base-uncased/resolve/main/added_tokens.json HTTP/1.1\" 404 0\n",
      "[2021-09-06 22:38:11,707][DEBUG] urllib3.connectionpool:971 - Starting new HTTPS connection (1): huggingface.co:443\n",
      "[2021-09-06 22:38:11,993][DEBUG] urllib3.connectionpool:452 - https://huggingface.co:443 \"HEAD /bert-base-uncased/resolve/main/special_tokens_map.json HTTP/1.1\" 404 0\n",
      "[2021-09-06 22:38:12,000][DEBUG] urllib3.connectionpool:971 - Starting new HTTPS connection (1): huggingface.co:443\n",
      "[2021-09-06 22:38:12,293][DEBUG] urllib3.connectionpool:452 - https://huggingface.co:443 \"HEAD /bert-base-uncased/resolve/main/tokenizer_config.json HTTP/1.1\" 200 0\n",
      "[2021-09-06 22:38:12,355][INFO] emmental.model:72 - Created emmental model Bootleg that contains task set().\n",
      "[2021-09-06 22:38:12,360][DEBUG] urllib3.connectionpool:971 - Starting new HTTPS connection (1): huggingface.co:443\n"
     ]
    },
    {
     "name": "stdout",
     "output_type": "stream",
     "text": [
      "Using Standard Cands CrossEntropy Loss\n"
     ]
    },
    {
     "name": "stderr",
     "output_type": "stream",
     "text": [
      "[2021-09-06 22:38:12,647][DEBUG] urllib3.connectionpool:452 - https://huggingface.co:443 \"HEAD /bert-base-uncased/resolve/main/config.json HTTP/1.1\" 200 0\n",
      "[2021-09-06 22:38:12,657][DEBUG] urllib3.connectionpool:971 - Starting new HTTPS connection (1): huggingface.co:443\n",
      "[2021-09-06 22:38:12,954][DEBUG] urllib3.connectionpool:452 - https://huggingface.co:443 \"HEAD /bert-base-uncased/resolve/main/pytorch_model.bin HTTP/1.1\" 302 0\n",
      "Some weights of the model checkpoint at bert-base-uncased were not used when initializing BertModel: ['cls.seq_relationship.weight', 'cls.predictions.decoder.weight', 'cls.predictions.transform.dense.bias', 'cls.predictions.transform.LayerNorm.weight', 'cls.predictions.transform.LayerNorm.bias', 'cls.predictions.transform.dense.weight', 'cls.seq_relationship.bias', 'cls.predictions.bias']\n",
      "- This IS expected if you are initializing BertModel from the checkpoint of a model trained on another task or with another architecture (e.g. initializing a BertForSequenceClassification model from a BertForPreTraining model).\n",
      "- This IS NOT expected if you are initializing BertModel from the checkpoint of a model that you expect to be exactly identical (initializing a BertForSequenceClassification model from a BertForSequenceClassification model).\n",
      "[2021-09-06 22:38:14,773][DEBUG] urllib3.connectionpool:971 - Starting new HTTPS connection (1): huggingface.co:443\n",
      "[2021-09-06 22:38:15,073][DEBUG] urllib3.connectionpool:452 - https://huggingface.co:443 \"HEAD /bert-base-uncased/resolve/main/config.json HTTP/1.1\" 200 0\n",
      "[2021-09-06 22:38:15,082][DEBUG] urllib3.connectionpool:971 - Starting new HTTPS connection (1): huggingface.co:443\n",
      "[2021-09-06 22:38:15,374][DEBUG] urllib3.connectionpool:452 - https://huggingface.co:443 \"HEAD /bert-base-uncased/resolve/main/pytorch_model.bin HTTP/1.1\" 302 0\n",
      "Some weights of the model checkpoint at bert-base-uncased were not used when initializing BertModel: ['cls.seq_relationship.weight', 'cls.predictions.decoder.weight', 'cls.predictions.transform.dense.bias', 'cls.predictions.transform.LayerNorm.weight', 'cls.predictions.transform.LayerNorm.bias', 'cls.predictions.transform.dense.weight', 'cls.seq_relationship.bias', 'cls.predictions.bias']\n",
      "- This IS expected if you are initializing BertModel from the checkpoint of a model trained on another task or with another architecture (e.g. initializing a BertForSequenceClassification model from a BertForPreTraining model).\n",
      "- This IS NOT expected if you are initializing BertModel from the checkpoint of a model that you expect to be exactly identical (initializing a BertForSequenceClassification model from a BertForSequenceClassification model).\n",
      "[2021-09-06 22:38:17,067][INFO] emmental.task:78 - Created task: NED\n",
      "[2021-09-06 22:38:17,068][INFO] emmental.model:97 - Moving context_encoder module to GPU (cuda:0).\n",
      "[2021-09-06 22:38:23,086][INFO] emmental.model:97 - Moving entity_encoder module to GPU (cuda:0).\n",
      "[2021-09-06 22:38:23,271][DEBUG] bootleg.end2end.bootleg_annotator:270 - Loading model\n",
      "[2021-09-06 22:38:23,729][INFO] emmental.model:800 - [Bootleg] Model loaded from /dfs/scratch0/lorr1/projects/bootleg/tutorial_data/models/bootleg_uncased/bootleg_wiki.pth\n",
      "[2021-09-06 22:38:23,730][INFO] emmental.model:97 - Moving context_encoder module to GPU (cuda:0).\n",
      "[2021-09-06 22:38:23,732][INFO] emmental.model:97 - Moving entity_encoder module to GPU (cuda:0).\n",
      "[2021-09-06 22:38:23,736][DEBUG] bootleg.end2end.extract_mentions:108 - Loading candidate mapping...\n",
      "Reading candidate map: 100%|██████████| 15202497/15202497 [00:33<00:00, 447326.49it/s]\n",
      "[2021-09-06 22:38:57,724][DEBUG] bootleg.end2end.extract_mentions:111 - Loaded candidate mapping with 15202497 aliases.\n"
     ]
    }
   ],
   "source": [
    "from bootleg.end2end.bootleg_annotator import BootlegAnnotator\n",
    "bootleg_cache = \"/dfs/scratch0/lorr1/projects/bootleg/tutorial_data\" # WHERE DATA IS DOWNLOADED\n",
    "device = 0 # SET TO 0 FOR GPU\n",
    "ann = BootlegAnnotator(cache_dir=bootleg_cache, device=device, return_embs=True, verbose=True)"
   ]
  },
  {
   "cell_type": "code",
   "execution_count": 4,
   "metadata": {},
   "outputs": [],
   "source": [
    "from bootleg.utils.utils import get_lnrm\n",
    "\n",
    "def get_mention(ep, qid):\n",
    "    \"\"\"Returns the lower cased title with punction stripped\"\"\"\n",
    "    return get_lnrm(ep.get_title(qid), strip=True, lower=True)"
   ]
  },
  {
   "cell_type": "code",
   "execution_count": 5,
   "metadata": {},
   "outputs": [],
   "source": [
    "from bootleg.symbols.entity_profile import EntityProfile\n",
    "\n",
    "ep = EntityProfile.load_from_cache(Path(bootleg_cache) / \"data/entity_db\")"
   ]
  },
  {
   "cell_type": "markdown",
   "metadata": {},
   "source": [
    "## Generate embeddings\n",
    "\n",
    "To show how the process works, we'll use a small subset of entities, create embeddings for them, and compare their cosine similarity. The entity set we'll use is a collection of all entities with the word vmware or apple in their title."
   ]
  },
  {
   "cell_type": "code",
   "execution_count": 6,
   "metadata": {},
   "outputs": [
    {
     "data": {
      "application/vnd.jupyter.widget-view+json": {
       "model_id": "8c0186d45e0c486a99f716e73cb181b8",
       "version_major": 2,
       "version_minor": 0
      },
      "text/plain": [
       "Output()"
      ]
     },
     "metadata": {},
     "output_type": "display_data"
    },
    {
     "data": {
      "text/html": [
       "<pre style=\"white-space:pre;overflow-x:auto;line-height:normal;font-family:Menlo,'DejaVu Sans Mono',consolas,'Courier New',monospace\"><span style=\"font-weight: bold\">[</span>\n",
       "    <span style=\"color: #008000; text-decoration-color: #008000\">'Appleton P. Clark Jr.'</span>,\n",
       "    <span style=\"color: #008000; text-decoration-color: #008000\">'You Are the Apple of My Eye'</span>,\n",
       "    <span style=\"color: #008000; text-decoration-color: #008000\">'The Forgotten (Applegate novel)'</span>,\n",
       "    <span style=\"color: #008000; text-decoration-color: #008000\">'Katy (apple)'</span>,\n",
       "    <span style=\"color: #008000; text-decoration-color: #008000\">'The Apple Dumpling Gang (film)'</span>,\n",
       "    <span style=\"color: #008000; text-decoration-color: #008000\">'John Appleton'</span>,\n",
       "    <span style=\"color: #008000; text-decoration-color: #008000\">'Cairnpapple Hill'</span>,\n",
       "    <span style=\"color: #008000; text-decoration-color: #008000\">'Daniel Appleton'</span>,\n",
       "    <span style=\"color: #008000; text-decoration-color: #008000\">'Mark Appleyard'</span>,\n",
       "    <span style=\"color: #008000; text-decoration-color: #008000\">'Golden apple'</span>,\n",
       "    <span style=\"color: #008000; text-decoration-color: #008000\">'Appleton (surname)'</span>,\n",
       "    <span style=\"color: #008000; text-decoration-color: #008000\">'Eva (apple)'</span>,\n",
       "    <span style=\"color: #008000; text-decoration-color: #008000\">'David Applebee'</span>,\n",
       "    <span style=\"color: #008000; text-decoration-color: #008000\">'Migration Assistant (Apple)'</span>,\n",
       "    <span style=\"color: #008000; text-decoration-color: #008000\">'Major Applewhite'</span>,\n",
       "    <span style=\"color: #008000; text-decoration-color: #008000\">'Institute of Physics Edward Appleton Medal and Prize'</span>,\n",
       "    <span style=\"color: #008000; text-decoration-color: #008000\">'AppleWorks User Group'</span>,\n",
       "    <span style=\"color: #008000; text-decoration-color: #008000\">'The Apple Dumpling Gang'</span>,\n",
       "    <span style=\"color: #008000; text-decoration-color: #008000\">'James Cappleman'</span>,\n",
       "    <span style=\"color: #008000; text-decoration-color: #008000\">'The Resistance (Applegate novel)'</span>\n",
       "<span style=\"font-weight: bold\">]</span>\n",
       "</pre>\n"
      ],
      "text/plain": [
       "\u001b[1m[\u001b[0m\n",
       "    \u001b[32m'Appleton P. Clark Jr.'\u001b[0m,\n",
       "    \u001b[32m'You Are the Apple of My Eye'\u001b[0m,\n",
       "    \u001b[32m'The Forgotten (Applegate novel)'\u001b[0m,\n",
       "    \u001b[32m'Katy (apple)'\u001b[0m,\n",
       "    \u001b[32m'The Apple Dumpling Gang (film)'\u001b[0m,\n",
       "    \u001b[32m'John Appleton'\u001b[0m,\n",
       "    \u001b[32m'Cairnpapple Hill'\u001b[0m,\n",
       "    \u001b[32m'Daniel Appleton'\u001b[0m,\n",
       "    \u001b[32m'Mark Appleyard'\u001b[0m,\n",
       "    \u001b[32m'Golden apple'\u001b[0m,\n",
       "    \u001b[32m'Appleton (surname)'\u001b[0m,\n",
       "    \u001b[32m'Eva (apple)'\u001b[0m,\n",
       "    \u001b[32m'David Applebee'\u001b[0m,\n",
       "    \u001b[32m'Migration Assistant (Apple)'\u001b[0m,\n",
       "    \u001b[32m'Major Applewhite'\u001b[0m,\n",
       "    \u001b[32m'Institute of Physics Edward Appleton Medal and Prize'\u001b[0m,\n",
       "    \u001b[32m'AppleWorks User Group'\u001b[0m,\n",
       "    \u001b[32m'The Apple Dumpling Gang'\u001b[0m,\n",
       "    \u001b[32m'James Cappleman'\u001b[0m,\n",
       "    \u001b[32m'The Resistance (Applegate novel)'\u001b[0m\n",
       "\u001b[1m]\u001b[0m\n"
      ]
     },
     "metadata": {},
     "output_type": "display_data"
    }
   ],
   "source": [
    "# Collect entities\n",
    "entities_to_emb = [q for q in track(ep.get_all_qids()) if (\"vmware\" in ep.get_title(q).lower()) or (\"apple\" in ep.get_title(q).lower())]\n",
    "\n",
    "print([ep.get_title(q) for q in entities_to_emb][:20])"
   ]
  },
  {
   "cell_type": "code",
   "execution_count": 7,
   "metadata": {},
   "outputs": [
    {
     "name": "stderr",
     "output_type": "stream",
     "text": [
      "Prepping data: 100%|██████████| 1740/1740 [00:13<00:00, 125.85it/s]\n",
      "Evaluating model: 100%|██████████| 109/109 [04:40<00:00,  2.58s/it]\n"
     ]
    }
   ],
   "source": [
    "# Create the input of (1) and (2) to feed into our annotator\n",
    "extracted_exs = [\n",
    "    {\n",
    "        \"sentence\": ep.get_title(q),\n",
    "        \"aliases\": [get_mention(ep, q)],\n",
    "        \"spans\": [[0, len(ep.get_title(q).split())]],\n",
    "        \"cands\": [[q]],\n",
    "    }\n",
    "    for q in entities_to_emb\n",
    "]\n",
    "# We use the special `extracted_examples` input into our label_mentions so that annotator uses the candidates and sentence we provide\n",
    "out_dict = ann.label_mentions(extracted_examples=extracted_exs)"
   ]
  },
  {
   "cell_type": "code",
   "execution_count": 8,
   "metadata": {},
   "outputs": [
    {
     "data": {
      "text/html": [
       "<pre style=\"white-space:pre;overflow-x:auto;line-height:normal;font-family:Menlo,'DejaVu Sans Mono',consolas,'Courier New',monospace\"><span style=\"color: #008080; text-decoration-color: #008080; font-weight: bold\">13</span> <span style=\"color: #008080; text-decoration-color: #008080; font-weight: bold\">1740</span>\n",
       "</pre>\n"
      ],
      "text/plain": [
       "\u001b[1;36m13\u001b[0m \u001b[1;36m1740\u001b[0m\n"
      ]
     },
     "metadata": {},
     "output_type": "display_data"
    }
   ],
   "source": [
    "# Get the ids of the VMWare entities only\n",
    "vmware_ids = [i for i, t in enumerate([ep.get_title(q) for q in entities_to_emb]) if \"vmware\" in t.lower()]\n",
    "print(len(vmware_ids), len(entities_to_emb))"
   ]
  },
  {
   "cell_type": "code",
   "execution_count": 9,
   "metadata": {},
   "outputs": [
    {
     "data": {
      "text/html": [
       "<pre style=\"white-space:pre;overflow-x:auto;line-height:normal;font-family:Menlo,'DejaVu Sans Mono',consolas,'Courier New',monospace\"><span style=\"font-weight: bold\">(</span><span style=\"color: #008080; text-decoration-color: #008080; font-weight: bold\">1740</span>, <span style=\"color: #008080; text-decoration-color: #008080; font-weight: bold\">200</span><span style=\"font-weight: bold\">)</span>\n",
       "</pre>\n"
      ],
      "text/plain": [
       "\u001b[1m(\u001b[0m\u001b[1;36m1740\u001b[0m, \u001b[1;36m200\u001b[0m\u001b[1m)\u001b[0m\n"
      ]
     },
     "metadata": {},
     "output_type": "display_data"
    },
    {
     "data": {
      "text/html": [
       "<pre style=\"white-space:pre;overflow-x:auto;line-height:normal;font-family:Menlo,'DejaVu Sans Mono',consolas,'Courier New',monospace\"><span style=\"font-weight: bold\">(</span><span style=\"color: #008080; text-decoration-color: #008080; font-weight: bold\">1740</span>, <span style=\"color: #008080; text-decoration-color: #008080; font-weight: bold\">1740</span><span style=\"font-weight: bold\">)</span>\n",
       "</pre>\n"
      ],
      "text/plain": [
       "\u001b[1m(\u001b[0m\u001b[1;36m1740\u001b[0m, \u001b[1;36m1740\u001b[0m\u001b[1m)\u001b[0m\n"
      ]
     },
     "metadata": {},
     "output_type": "display_data"
    },
    {
     "data": {
      "text/html": [
       "<pre style=\"white-space:pre;overflow-x:auto;line-height:normal;font-family:Menlo,'DejaVu Sans Mono',consolas,'Courier New',monospace\">VMware vSphere ~ VMware vSphere\n",
       "</pre>\n"
      ],
      "text/plain": [
       "VMware vSphere ~ VMware vSphere\n"
      ]
     },
     "metadata": {},
     "output_type": "display_data"
    },
    {
     "data": {
      "text/html": [
       "<pre style=\"white-space:pre;overflow-x:auto;line-height:normal;font-family:Menlo,'DejaVu Sans Mono',consolas,'Courier New',monospace\">VMware vSphere ~ VMware VMFS\n",
       "</pre>\n"
      ],
      "text/plain": [
       "VMware vSphere ~ VMware VMFS\n"
      ]
     },
     "metadata": {},
     "output_type": "display_data"
    },
    {
     "data": {
      "text/html": [
       "<pre style=\"white-space:pre;overflow-x:auto;line-height:normal;font-family:Menlo,'DejaVu Sans Mono',consolas,'Courier New',monospace\">VMware vSphere ~ VMware Server\n",
       "</pre>\n"
      ],
      "text/plain": [
       "VMware vSphere ~ VMware Server\n"
      ]
     },
     "metadata": {},
     "output_type": "display_data"
    },
    {
     "data": {
      "text/html": [
       "<pre style=\"white-space:pre;overflow-x:auto;line-height:normal;font-family:Menlo,'DejaVu Sans Mono',consolas,'Courier New',monospace\">VMware vSphere ~ VMware Infrastructure\n",
       "</pre>\n"
      ],
      "text/plain": [
       "VMware vSphere ~ VMware Infrastructure\n"
      ]
     },
     "metadata": {},
     "output_type": "display_data"
    },
    {
     "data": {
      "text/html": [
       "<pre style=\"white-space:pre;overflow-x:auto;line-height:normal;font-family:Menlo,'DejaVu Sans Mono',consolas,'Courier New',monospace\">VMware vSphere ~ VMware Workstation Player\n",
       "</pre>\n"
      ],
      "text/plain": [
       "VMware vSphere ~ VMware Workstation Player\n"
      ]
     },
     "metadata": {},
     "output_type": "display_data"
    },
    {
     "data": {
      "text/html": [
       "<pre style=\"white-space:pre;overflow-x:auto;line-height:normal;font-family:Menlo,'DejaVu Sans Mono',consolas,'Courier New',monospace\">VMware Server ~ VMware Server\n",
       "</pre>\n"
      ],
      "text/plain": [
       "VMware Server ~ VMware Server\n"
      ]
     },
     "metadata": {},
     "output_type": "display_data"
    },
    {
     "data": {
      "text/html": [
       "<pre style=\"white-space:pre;overflow-x:auto;line-height:normal;font-family:Menlo,'DejaVu Sans Mono',consolas,'Courier New',monospace\">VMware Server ~ VMware Workstation Player\n",
       "</pre>\n"
      ],
      "text/plain": [
       "VMware Server ~ VMware Workstation Player\n"
      ]
     },
     "metadata": {},
     "output_type": "display_data"
    },
    {
     "data": {
      "text/html": [
       "<pre style=\"white-space:pre;overflow-x:auto;line-height:normal;font-family:Menlo,'DejaVu Sans Mono',consolas,'Courier New',monospace\">VMware Server ~ VMware VMFS\n",
       "</pre>\n"
      ],
      "text/plain": [
       "VMware Server ~ VMware VMFS\n"
      ]
     },
     "metadata": {},
     "output_type": "display_data"
    },
    {
     "data": {
      "text/html": [
       "<pre style=\"white-space:pre;overflow-x:auto;line-height:normal;font-family:Menlo,'DejaVu Sans Mono',consolas,'Courier New',monospace\">VMware Server ~ VMware Infrastructure\n",
       "</pre>\n"
      ],
      "text/plain": [
       "VMware Server ~ VMware Infrastructure\n"
      ]
     },
     "metadata": {},
     "output_type": "display_data"
    },
    {
     "data": {
      "text/html": [
       "<pre style=\"white-space:pre;overflow-x:auto;line-height:normal;font-family:Menlo,'DejaVu Sans Mono',consolas,'Courier New',monospace\">VMware Server ~ VMware Workstation\n",
       "</pre>\n"
      ],
      "text/plain": [
       "VMware Server ~ VMware Workstation\n"
      ]
     },
     "metadata": {},
     "output_type": "display_data"
    },
    {
     "data": {
      "text/html": [
       "<pre style=\"white-space:pre;overflow-x:auto;line-height:normal;font-family:Menlo,'DejaVu Sans Mono',consolas,'Courier New',monospace\">VMware ThinApp ~ VMware ThinApp\n",
       "</pre>\n"
      ],
      "text/plain": [
       "VMware ThinApp ~ VMware ThinApp\n"
      ]
     },
     "metadata": {},
     "output_type": "display_data"
    },
    {
     "data": {
      "text/html": [
       "<pre style=\"white-space:pre;overflow-x:auto;line-height:normal;font-family:Menlo,'DejaVu Sans Mono',consolas,'Courier New',monospace\">VMware ThinApp ~ VMware Workstation Player\n",
       "</pre>\n"
      ],
      "text/plain": [
       "VMware ThinApp ~ VMware Workstation Player\n"
      ]
     },
     "metadata": {},
     "output_type": "display_data"
    },
    {
     "data": {
      "text/html": [
       "<pre style=\"white-space:pre;overflow-x:auto;line-height:normal;font-family:Menlo,'DejaVu Sans Mono',consolas,'Courier New',monospace\">VMware ThinApp ~ VMware VMFS\n",
       "</pre>\n"
      ],
      "text/plain": [
       "VMware ThinApp ~ VMware VMFS\n"
      ]
     },
     "metadata": {},
     "output_type": "display_data"
    },
    {
     "data": {
      "text/html": [
       "<pre style=\"white-space:pre;overflow-x:auto;line-height:normal;font-family:Menlo,'DejaVu Sans Mono',consolas,'Courier New',monospace\">VMware ThinApp ~ VMware vSphere\n",
       "</pre>\n"
      ],
      "text/plain": [
       "VMware ThinApp ~ VMware vSphere\n"
      ]
     },
     "metadata": {},
     "output_type": "display_data"
    },
    {
     "data": {
      "text/html": [
       "<pre style=\"white-space:pre;overflow-x:auto;line-height:normal;font-family:Menlo,'DejaVu Sans Mono',consolas,'Courier New',monospace\">VMware ThinApp ~ VMware Server\n",
       "</pre>\n"
      ],
      "text/plain": [
       "VMware ThinApp ~ VMware Server\n"
      ]
     },
     "metadata": {},
     "output_type": "display_data"
    },
    {
     "data": {
      "text/html": [
       "<pre style=\"white-space:pre;overflow-x:auto;line-height:normal;font-family:Menlo,'DejaVu Sans Mono',consolas,'Courier New',monospace\">VMware ESXi ~ VMware ESXi\n",
       "</pre>\n"
      ],
      "text/plain": [
       "VMware ESXi ~ VMware ESXi\n"
      ]
     },
     "metadata": {},
     "output_type": "display_data"
    },
    {
     "data": {
      "text/html": [
       "<pre style=\"white-space:pre;overflow-x:auto;line-height:normal;font-family:Menlo,'DejaVu Sans Mono',consolas,'Courier New',monospace\">VMware ESXi ~ VMware Workstation\n",
       "</pre>\n"
      ],
      "text/plain": [
       "VMware ESXi ~ VMware Workstation\n"
      ]
     },
     "metadata": {},
     "output_type": "display_data"
    },
    {
     "data": {
      "text/html": [
       "<pre style=\"white-space:pre;overflow-x:auto;line-height:normal;font-family:Menlo,'DejaVu Sans Mono',consolas,'Courier New',monospace\">VMware ESXi ~ VMware Infrastructure\n",
       "</pre>\n"
      ],
      "text/plain": [
       "VMware ESXi ~ VMware Infrastructure\n"
      ]
     },
     "metadata": {},
     "output_type": "display_data"
    },
    {
     "data": {
      "text/html": [
       "<pre style=\"white-space:pre;overflow-x:auto;line-height:normal;font-family:Menlo,'DejaVu Sans Mono',consolas,'Courier New',monospace\">VMware ESXi ~ VMware Server\n",
       "</pre>\n"
      ],
      "text/plain": [
       "VMware ESXi ~ VMware Server\n"
      ]
     },
     "metadata": {},
     "output_type": "display_data"
    },
    {
     "data": {
      "text/html": [
       "<pre style=\"white-space:pre;overflow-x:auto;line-height:normal;font-family:Menlo,'DejaVu Sans Mono',consolas,'Courier New',monospace\">VMware ESXi ~ VMware Workstation Player\n",
       "</pre>\n"
      ],
      "text/plain": [
       "VMware ESXi ~ VMware Workstation Player\n"
      ]
     },
     "metadata": {},
     "output_type": "display_data"
    },
    {
     "data": {
      "text/html": [
       "<pre style=\"white-space:pre;overflow-x:auto;line-height:normal;font-family:Menlo,'DejaVu Sans Mono',consolas,'Courier New',monospace\">VMware Service Manager ~ VMware Service Manager\n",
       "</pre>\n"
      ],
      "text/plain": [
       "VMware Service Manager ~ VMware Service Manager\n"
      ]
     },
     "metadata": {},
     "output_type": "display_data"
    },
    {
     "data": {
      "text/html": [
       "<pre style=\"white-space:pre;overflow-x:auto;line-height:normal;font-family:Menlo,'DejaVu Sans Mono',consolas,'Courier New',monospace\">VMware Service Manager ~ VMware vSphere\n",
       "</pre>\n"
      ],
      "text/plain": [
       "VMware Service Manager ~ VMware vSphere\n"
      ]
     },
     "metadata": {},
     "output_type": "display_data"
    },
    {
     "data": {
      "text/html": [
       "<pre style=\"white-space:pre;overflow-x:auto;line-height:normal;font-family:Menlo,'DejaVu Sans Mono',consolas,'Courier New',monospace\">VMware Service Manager ~ VMware ESXi compatible hardware\n",
       "</pre>\n"
      ],
      "text/plain": [
       "VMware Service Manager ~ VMware ESXi compatible hardware\n"
      ]
     },
     "metadata": {},
     "output_type": "display_data"
    },
    {
     "data": {
      "text/html": [
       "<pre style=\"white-space:pre;overflow-x:auto;line-height:normal;font-family:Menlo,'DejaVu Sans Mono',consolas,'Courier New',monospace\">VMware Service Manager ~ VMware Server\n",
       "</pre>\n"
      ],
      "text/plain": [
       "VMware Service Manager ~ VMware Server\n"
      ]
     },
     "metadata": {},
     "output_type": "display_data"
    },
    {
     "data": {
      "text/html": [
       "<pre style=\"white-space:pre;overflow-x:auto;line-height:normal;font-family:Menlo,'DejaVu Sans Mono',consolas,'Courier New',monospace\">VMware Service Manager ~ VMware Workstation Player\n",
       "</pre>\n"
      ],
      "text/plain": [
       "VMware Service Manager ~ VMware Workstation Player\n"
      ]
     },
     "metadata": {},
     "output_type": "display_data"
    },
    {
     "data": {
      "text/html": [
       "<pre style=\"white-space:pre;overflow-x:auto;line-height:normal;font-family:Menlo,'DejaVu Sans Mono',consolas,'Courier New',monospace\">VMware Horizon ~ VMware Horizon\n",
       "</pre>\n"
      ],
      "text/plain": [
       "VMware Horizon ~ VMware Horizon\n"
      ]
     },
     "metadata": {},
     "output_type": "display_data"
    },
    {
     "data": {
      "text/html": [
       "<pre style=\"white-space:pre;overflow-x:auto;line-height:normal;font-family:Menlo,'DejaVu Sans Mono',consolas,'Courier New',monospace\">VMware Horizon ~ VMware Workstation Player\n",
       "</pre>\n"
      ],
      "text/plain": [
       "VMware Horizon ~ VMware Workstation Player\n"
      ]
     },
     "metadata": {},
     "output_type": "display_data"
    },
    {
     "data": {
      "text/html": [
       "<pre style=\"white-space:pre;overflow-x:auto;line-height:normal;font-family:Menlo,'DejaVu Sans Mono',consolas,'Courier New',monospace\">VMware Horizon ~ VMware Server\n",
       "</pre>\n"
      ],
      "text/plain": [
       "VMware Horizon ~ VMware Server\n"
      ]
     },
     "metadata": {},
     "output_type": "display_data"
    },
    {
     "data": {
      "text/html": [
       "<pre style=\"white-space:pre;overflow-x:auto;line-height:normal;font-family:Menlo,'DejaVu Sans Mono',consolas,'Courier New',monospace\">VMware Horizon ~ VMware Infrastructure\n",
       "</pre>\n"
      ],
      "text/plain": [
       "VMware Horizon ~ VMware Infrastructure\n"
      ]
     },
     "metadata": {},
     "output_type": "display_data"
    },
    {
     "data": {
      "text/html": [
       "<pre style=\"white-space:pre;overflow-x:auto;line-height:normal;font-family:Menlo,'DejaVu Sans Mono',consolas,'Courier New',monospace\">VMware Horizon ~ VMware Fusion\n",
       "</pre>\n"
      ],
      "text/plain": [
       "VMware Horizon ~ VMware Fusion\n"
      ]
     },
     "metadata": {},
     "output_type": "display_data"
    },
    {
     "data": {
      "text/html": [
       "<pre style=\"white-space:pre;overflow-x:auto;line-height:normal;font-family:Menlo,'DejaVu Sans Mono',consolas,'Courier New',monospace\">VMware ESXi compatible hardware ~ VMware ESXi compatible hardware\n",
       "</pre>\n"
      ],
      "text/plain": [
       "VMware ESXi compatible hardware ~ VMware ESXi compatible hardware\n"
      ]
     },
     "metadata": {},
     "output_type": "display_data"
    },
    {
     "data": {
      "text/html": [
       "<pre style=\"white-space:pre;overflow-x:auto;line-height:normal;font-family:Menlo,'DejaVu Sans Mono',consolas,'Courier New',monospace\">VMware ESXi compatible hardware ~ VMware Service Manager\n",
       "</pre>\n"
      ],
      "text/plain": [
       "VMware ESXi compatible hardware ~ VMware Service Manager\n"
      ]
     },
     "metadata": {},
     "output_type": "display_data"
    },
    {
     "data": {
      "text/html": [
       "<pre style=\"white-space:pre;overflow-x:auto;line-height:normal;font-family:Menlo,'DejaVu Sans Mono',consolas,'Courier New',monospace\">VMware ESXi compatible hardware ~ VMware Workstation Player\n",
       "</pre>\n"
      ],
      "text/plain": [
       "VMware ESXi compatible hardware ~ VMware Workstation Player\n"
      ]
     },
     "metadata": {},
     "output_type": "display_data"
    },
    {
     "data": {
      "text/html": [
       "<pre style=\"white-space:pre;overflow-x:auto;line-height:normal;font-family:Menlo,'DejaVu Sans Mono',consolas,'Courier New',monospace\">VMware ESXi compatible hardware ~ VMware Infrastructure\n",
       "</pre>\n"
      ],
      "text/plain": [
       "VMware ESXi compatible hardware ~ VMware Infrastructure\n"
      ]
     },
     "metadata": {},
     "output_type": "display_data"
    },
    {
     "data": {
      "text/html": [
       "<pre style=\"white-space:pre;overflow-x:auto;line-height:normal;font-family:Menlo,'DejaVu Sans Mono',consolas,'Courier New',monospace\">VMware ESXi compatible hardware ~ VMware Server\n",
       "</pre>\n"
      ],
      "text/plain": [
       "VMware ESXi compatible hardware ~ VMware Server\n"
      ]
     },
     "metadata": {},
     "output_type": "display_data"
    },
    {
     "data": {
      "text/html": [
       "<pre style=\"white-space:pre;overflow-x:auto;line-height:normal;font-family:Menlo,'DejaVu Sans Mono',consolas,'Courier New',monospace\">VMware Workstation ~ VMware Workstation\n",
       "</pre>\n"
      ],
      "text/plain": [
       "VMware Workstation ~ VMware Workstation\n"
      ]
     },
     "metadata": {},
     "output_type": "display_data"
    },
    {
     "data": {
      "text/html": [
       "<pre style=\"white-space:pre;overflow-x:auto;line-height:normal;font-family:Menlo,'DejaVu Sans Mono',consolas,'Courier New',monospace\">VMware Workstation ~ VMware Workstation Player\n",
       "</pre>\n"
      ],
      "text/plain": [
       "VMware Workstation ~ VMware Workstation Player\n"
      ]
     },
     "metadata": {},
     "output_type": "display_data"
    },
    {
     "data": {
      "text/html": [
       "<pre style=\"white-space:pre;overflow-x:auto;line-height:normal;font-family:Menlo,'DejaVu Sans Mono',consolas,'Courier New',monospace\">VMware Workstation ~ VMware Server\n",
       "</pre>\n"
      ],
      "text/plain": [
       "VMware Workstation ~ VMware Server\n"
      ]
     },
     "metadata": {},
     "output_type": "display_data"
    },
    {
     "data": {
      "text/html": [
       "<pre style=\"white-space:pre;overflow-x:auto;line-height:normal;font-family:Menlo,'DejaVu Sans Mono',consolas,'Courier New',monospace\">VMware Workstation ~ VMware Infrastructure\n",
       "</pre>\n"
      ],
      "text/plain": [
       "VMware Workstation ~ VMware Infrastructure\n"
      ]
     },
     "metadata": {},
     "output_type": "display_data"
    },
    {
     "data": {
      "text/html": [
       "<pre style=\"white-space:pre;overflow-x:auto;line-height:normal;font-family:Menlo,'DejaVu Sans Mono',consolas,'Courier New',monospace\">VMware Workstation ~ VMware VMFS\n",
       "</pre>\n"
      ],
      "text/plain": [
       "VMware Workstation ~ VMware VMFS\n"
      ]
     },
     "metadata": {},
     "output_type": "display_data"
    },
    {
     "data": {
      "text/html": [
       "<pre style=\"white-space:pre;overflow-x:auto;line-height:normal;font-family:Menlo,'DejaVu Sans Mono',consolas,'Courier New',monospace\">VMware Workstation Player ~ VMware Workstation Player\n",
       "</pre>\n"
      ],
      "text/plain": [
       "VMware Workstation Player ~ VMware Workstation Player\n"
      ]
     },
     "metadata": {},
     "output_type": "display_data"
    },
    {
     "data": {
      "text/html": [
       "<pre style=\"white-space:pre;overflow-x:auto;line-height:normal;font-family:Menlo,'DejaVu Sans Mono',consolas,'Courier New',monospace\">VMware Workstation Player ~ VMware Server\n",
       "</pre>\n"
      ],
      "text/plain": [
       "VMware Workstation Player ~ VMware Server\n"
      ]
     },
     "metadata": {},
     "output_type": "display_data"
    },
    {
     "data": {
      "text/html": [
       "<pre style=\"white-space:pre;overflow-x:auto;line-height:normal;font-family:Menlo,'DejaVu Sans Mono',consolas,'Courier New',monospace\">VMware Workstation Player ~ VMware Workstation\n",
       "</pre>\n"
      ],
      "text/plain": [
       "VMware Workstation Player ~ VMware Workstation\n"
      ]
     },
     "metadata": {},
     "output_type": "display_data"
    },
    {
     "data": {
      "text/html": [
       "<pre style=\"white-space:pre;overflow-x:auto;line-height:normal;font-family:Menlo,'DejaVu Sans Mono',consolas,'Courier New',monospace\">VMware Workstation Player ~ VMware Horizon\n",
       "</pre>\n"
      ],
      "text/plain": [
       "VMware Workstation Player ~ VMware Horizon\n"
      ]
     },
     "metadata": {},
     "output_type": "display_data"
    },
    {
     "data": {
      "text/html": [
       "<pre style=\"white-space:pre;overflow-x:auto;line-height:normal;font-family:Menlo,'DejaVu Sans Mono',consolas,'Courier New',monospace\">VMware Workstation Player ~ VMware Infrastructure\n",
       "</pre>\n"
      ],
      "text/plain": [
       "VMware Workstation Player ~ VMware Infrastructure\n"
      ]
     },
     "metadata": {},
     "output_type": "display_data"
    },
    {
     "data": {
      "text/html": [
       "<pre style=\"white-space:pre;overflow-x:auto;line-height:normal;font-family:Menlo,'DejaVu Sans Mono',consolas,'Courier New',monospace\">VMware ~ VMware\n",
       "</pre>\n"
      ],
      "text/plain": [
       "VMware ~ VMware\n"
      ]
     },
     "metadata": {},
     "output_type": "display_data"
    },
    {
     "data": {
      "text/html": [
       "<pre style=\"white-space:pre;overflow-x:auto;line-height:normal;font-family:Menlo,'DejaVu Sans Mono',consolas,'Courier New',monospace\">VMware ~ VMware Workstation Player\n",
       "</pre>\n"
      ],
      "text/plain": [
       "VMware ~ VMware Workstation Player\n"
      ]
     },
     "metadata": {},
     "output_type": "display_data"
    },
    {
     "data": {
      "text/html": [
       "<pre style=\"white-space:pre;overflow-x:auto;line-height:normal;font-family:Menlo,'DejaVu Sans Mono',consolas,'Courier New',monospace\">VMware ~ VMware Server\n",
       "</pre>\n"
      ],
      "text/plain": [
       "VMware ~ VMware Server\n"
      ]
     },
     "metadata": {},
     "output_type": "display_data"
    },
    {
     "data": {
      "text/html": [
       "<pre style=\"white-space:pre;overflow-x:auto;line-height:normal;font-family:Menlo,'DejaVu Sans Mono',consolas,'Courier New',monospace\">VMware ~ VMware VMFS\n",
       "</pre>\n"
      ],
      "text/plain": [
       "VMware ~ VMware VMFS\n"
      ]
     },
     "metadata": {},
     "output_type": "display_data"
    },
    {
     "data": {
      "text/html": [
       "<pre style=\"white-space:pre;overflow-x:auto;line-height:normal;font-family:Menlo,'DejaVu Sans Mono',consolas,'Courier New',monospace\">VMware ~ VMware Infrastructure\n",
       "</pre>\n"
      ],
      "text/plain": [
       "VMware ~ VMware Infrastructure\n"
      ]
     },
     "metadata": {},
     "output_type": "display_data"
    },
    {
     "data": {
      "text/html": [
       "<pre style=\"white-space:pre;overflow-x:auto;line-height:normal;font-family:Menlo,'DejaVu Sans Mono',consolas,'Courier New',monospace\">VMware Fusion ~ VMware Fusion\n",
       "</pre>\n"
      ],
      "text/plain": [
       "VMware Fusion ~ VMware Fusion\n"
      ]
     },
     "metadata": {},
     "output_type": "display_data"
    },
    {
     "data": {
      "text/html": [
       "<pre style=\"white-space:pre;overflow-x:auto;line-height:normal;font-family:Menlo,'DejaVu Sans Mono',consolas,'Courier New',monospace\">VMware Fusion ~ VMware Infrastructure\n",
       "</pre>\n"
      ],
      "text/plain": [
       "VMware Fusion ~ VMware Infrastructure\n"
      ]
     },
     "metadata": {},
     "output_type": "display_data"
    },
    {
     "data": {
      "text/html": [
       "<pre style=\"white-space:pre;overflow-x:auto;line-height:normal;font-family:Menlo,'DejaVu Sans Mono',consolas,'Courier New',monospace\">VMware Fusion ~ VMware Server\n",
       "</pre>\n"
      ],
      "text/plain": [
       "VMware Fusion ~ VMware Server\n"
      ]
     },
     "metadata": {},
     "output_type": "display_data"
    },
    {
     "data": {
      "text/html": [
       "<pre style=\"white-space:pre;overflow-x:auto;line-height:normal;font-family:Menlo,'DejaVu Sans Mono',consolas,'Courier New',monospace\">VMware Fusion ~ VMware Horizon\n",
       "</pre>\n"
      ],
      "text/plain": [
       "VMware Fusion ~ VMware Horizon\n"
      ]
     },
     "metadata": {},
     "output_type": "display_data"
    },
    {
     "data": {
      "text/html": [
       "<pre style=\"white-space:pre;overflow-x:auto;line-height:normal;font-family:Menlo,'DejaVu Sans Mono',consolas,'Courier New',monospace\">VMware Fusion ~ VMware Workstation Player\n",
       "</pre>\n"
      ],
      "text/plain": [
       "VMware Fusion ~ VMware Workstation Player\n"
      ]
     },
     "metadata": {},
     "output_type": "display_data"
    },
    {
     "data": {
      "text/html": [
       "<pre style=\"white-space:pre;overflow-x:auto;line-height:normal;font-family:Menlo,'DejaVu Sans Mono',consolas,'Courier New',monospace\">VMware Infrastructure ~ VMware Infrastructure\n",
       "</pre>\n"
      ],
      "text/plain": [
       "VMware Infrastructure ~ VMware Infrastructure\n"
      ]
     },
     "metadata": {},
     "output_type": "display_data"
    },
    {
     "data": {
      "text/html": [
       "<pre style=\"white-space:pre;overflow-x:auto;line-height:normal;font-family:Menlo,'DejaVu Sans Mono',consolas,'Courier New',monospace\">VMware Infrastructure ~ VMware Server\n",
       "</pre>\n"
      ],
      "text/plain": [
       "VMware Infrastructure ~ VMware Server\n"
      ]
     },
     "metadata": {},
     "output_type": "display_data"
    },
    {
     "data": {
      "text/html": [
       "<pre style=\"white-space:pre;overflow-x:auto;line-height:normal;font-family:Menlo,'DejaVu Sans Mono',consolas,'Courier New',monospace\">VMware Infrastructure ~ VMware Workstation Player\n",
       "</pre>\n"
      ],
      "text/plain": [
       "VMware Infrastructure ~ VMware Workstation Player\n"
      ]
     },
     "metadata": {},
     "output_type": "display_data"
    },
    {
     "data": {
      "text/html": [
       "<pre style=\"white-space:pre;overflow-x:auto;line-height:normal;font-family:Menlo,'DejaVu Sans Mono',consolas,'Courier New',monospace\">VMware Infrastructure ~ VMware VMFS\n",
       "</pre>\n"
      ],
      "text/plain": [
       "VMware Infrastructure ~ VMware VMFS\n"
      ]
     },
     "metadata": {},
     "output_type": "display_data"
    },
    {
     "data": {
      "text/html": [
       "<pre style=\"white-space:pre;overflow-x:auto;line-height:normal;font-family:Menlo,'DejaVu Sans Mono',consolas,'Courier New',monospace\">VMware Infrastructure ~ VMware vSphere\n",
       "</pre>\n"
      ],
      "text/plain": [
       "VMware Infrastructure ~ VMware vSphere\n"
      ]
     },
     "metadata": {},
     "output_type": "display_data"
    },
    {
     "data": {
      "text/html": [
       "<pre style=\"white-space:pre;overflow-x:auto;line-height:normal;font-family:Menlo,'DejaVu Sans Mono',consolas,'Courier New',monospace\">VMware VMFS ~ VMware VMFS\n",
       "</pre>\n"
      ],
      "text/plain": [
       "VMware VMFS ~ VMware VMFS\n"
      ]
     },
     "metadata": {},
     "output_type": "display_data"
    },
    {
     "data": {
      "text/html": [
       "<pre style=\"white-space:pre;overflow-x:auto;line-height:normal;font-family:Menlo,'DejaVu Sans Mono',consolas,'Courier New',monospace\">VMware VMFS ~ VMware Server\n",
       "</pre>\n"
      ],
      "text/plain": [
       "VMware VMFS ~ VMware Server\n"
      ]
     },
     "metadata": {},
     "output_type": "display_data"
    },
    {
     "data": {
      "text/html": [
       "<pre style=\"white-space:pre;overflow-x:auto;line-height:normal;font-family:Menlo,'DejaVu Sans Mono',consolas,'Courier New',monospace\">VMware VMFS ~ VMware vSphere\n",
       "</pre>\n"
      ],
      "text/plain": [
       "VMware VMFS ~ VMware vSphere\n"
      ]
     },
     "metadata": {},
     "output_type": "display_data"
    },
    {
     "data": {
      "text/html": [
       "<pre style=\"white-space:pre;overflow-x:auto;line-height:normal;font-family:Menlo,'DejaVu Sans Mono',consolas,'Courier New',monospace\">VMware VMFS ~ VMware Infrastructure\n",
       "</pre>\n"
      ],
      "text/plain": [
       "VMware VMFS ~ VMware Infrastructure\n"
      ]
     },
     "metadata": {},
     "output_type": "display_data"
    },
    {
     "data": {
      "text/html": [
       "<pre style=\"white-space:pre;overflow-x:auto;line-height:normal;font-family:Menlo,'DejaVu Sans Mono',consolas,'Courier New',monospace\">VMware VMFS ~ VMware Workstation Player\n",
       "</pre>\n"
      ],
      "text/plain": [
       "VMware VMFS ~ VMware Workstation Player\n"
      ]
     },
     "metadata": {},
     "output_type": "display_data"
    }
   ],
   "source": [
    "from sklearn.metrics.pairwise import cosine_similarity\n",
    "import numpy as np\n",
    "\n",
    "mat = np.vstack(out_dict[\"embs\"])\n",
    "print(mat.shape)\n",
    "res = cosine_similarity(mat)\n",
    "sorted_res = np.argsort(res, axis=-1)\n",
    "print(sorted_res.shape)\n",
    "# For each vmware entity, get the top 5 most similar entities from the set above\n",
    "for i in vmware_ids:\n",
    "    for j in sorted_res[i][::-1][:5]:\n",
    "        print(ep.get_title(entities_to_emb[i]), \"~\", ep.get_title(entities_to_emb[j]))"
   ]
  },
  {
   "cell_type": "markdown",
   "metadata": {},
   "source": [
    "We see that overall, we are choosing similar entities. No people with the name of Apple, for example, are returned as being similar."
   ]
  }
 ],
 "metadata": {
  "kernelspec": {
   "display_name": "Python 3",
   "language": "python",
   "name": "python3"
  },
  "language_info": {
   "codemirror_mode": {
    "name": "ipython",
    "version": 3
   },
   "file_extension": ".py",
   "mimetype": "text/x-python",
   "name": "python",
   "nbconvert_exporter": "python",
   "pygments_lexer": "ipython3",
   "version": "3.8.6"
  }
 },
 "nbformat": 4,
 "nbformat_minor": 4
}
