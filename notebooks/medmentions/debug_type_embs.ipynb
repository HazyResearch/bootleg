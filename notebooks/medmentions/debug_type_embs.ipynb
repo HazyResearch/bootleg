{
 "cells": [
  {
   "cell_type": "code",
   "execution_count": 1,
   "metadata": {},
   "outputs": [],
   "source": [
    "import torch, os, sys, ujson\n",
    "from pathlib import Path"
   ]
  },
  {
   "cell_type": "code",
   "execution_count": 23,
   "metadata": {},
   "outputs": [],
   "source": [
    "bootleg_dir = Path(\"/dfs/scratch0/lorr1/projects/bootleg-data\")\n",
    "\n",
    "pretrain_run_p = Path(\"/dfs/scratch1/lorr1/projects/bootleg/logs_medmentions_0203/base/2021_03_01/20_57_42/75a8a5fc\")\n",
    "new_model_p = pretrain_run_p / \"altered_model.pth\"\n",
    "old_types_p = bootleg_dir / \"embs/wikidata_types_1229.json\"\n",
    "old_qid_p = bootleg_dir / \"data/medmentions_pretrain_0301_10c_25k/entity_db/entity_mappings/qid2title.json\"\n",
    "old_qideid_p = bootleg_dir / \"data/medmentions_pretrain_0301_10c_25k/entity_db/entity_mappings/qid2eid.json\"\n",
    "new_qid_p = bootleg_dir / \"data/medmentions_0203/spacy_10_exp_noNC/entity_db_pretrained/entity_mappings/qid2title.json\"\n",
    "new_vocab_p = bootleg_dir / \"data/medmentions_0203/spacy_10_exp_noNC/entity_db_pretrained/type_mappings/wiki/type_vocab.json\"\n",
    "new_typeid_p = bootleg_dir / \"data/medmentions_0203/spacy_10_exp_noNC/entity_db_pretrained/type_mappings/wiki/qid2typeids.json\"\n",
    "new_typename_p = bootleg_dir / \"data/medmentions_0203/spacy_10_exp_noNC/entity_db_pretrained/type_mappings/wiki/qid2typenames.json\"\n",
    "\n",
    "\n",
    "new_model = torch.load(new_model_p)\n",
    "old_types = ujson.load(open(old_types_p))\n",
    "old_qids = ujson.load(open(old_qid_p))\n",
    "old_qid2eids = ujson.load(open(old_qideid_p))\n",
    "new_qids = ujson.load(open(new_qid_p))\n",
    "new_vocab = ujson.load(open(new_vocab_p))\n",
    "qid2typeids = ujson.load(open(new_typeid_p))\n",
    "qid2typenames = ujson.load(open(new_typename_p))"
   ]
  },
  {
   "cell_type": "code",
   "execution_count": 15,
   "metadata": {},
   "outputs": [
    {
     "name": "stdout",
     "output_type": "stream",
     "text": [
      "434091\n",
      "825173\n"
     ]
    }
   ],
   "source": [
    "print(len(old_qids))\n",
    "print(len(new_qids))"
   ]
  },
  {
   "cell_type": "code",
   "execution_count": 20,
   "metadata": {},
   "outputs": [],
   "source": [
    "def build_type_table(qid2typeid, qid2eid, max_types=3):\n",
    "    \"\"\"Builds the EID to type ids table.\n",
    "\n",
    "    Args:\n",
    "        type_labels: QID to type ids json mapping\n",
    "        max_types: maximum number of types for an entity\n",
    "        entity_symbols: entity symbols\n",
    "\n",
    "    Returns: torch tensor from EID to type IDS, type ID to row in type embedding matrix, and number of types with unk type\n",
    "    \"\"\"\n",
    "    # all eids are initially assigned to unk types\n",
    "    # if they occur in the type file, then they are assigned the types in the file plus padded types\n",
    "    eid2typeids = torch.zeros(\n",
    "        len(qid2eid)+2, max_types\n",
    "    )\n",
    "    eid2typeids[0] = torch.zeros(1, max_types)\n",
    "    # currently types are assigned by wikipageid\n",
    "    # keep track of the max_type_id to set the size of the type embedding\n",
    "    max_type_id_all = -1\n",
    "    type_hit = 0\n",
    "    type2row_dict = {}\n",
    "    for qid, row_types in qid2typeid.items():\n",
    "        if qid not in qid2eid:\n",
    "            continue\n",
    "        # assign padded types to the last row\n",
    "        typeids = torch.ones(max_types) * -1\n",
    "        if len(row_types) > 0:\n",
    "            type_hit += 1\n",
    "            # increment by 1 to account for unk row\n",
    "            typeids_list = []\n",
    "            for type_id in row_types:\n",
    "                typeids_list.append(type_id + 1)\n",
    "                type2row_dict[type_id] = type_id + 1\n",
    "            # we take the max_id over all of the types\n",
    "            # not just the ones we filter with max_types\n",
    "            max_type_id = max(typeids_list)\n",
    "            if max_type_id > max_type_id_all:\n",
    "                if max_type_id == 23414:\n",
    "                    print(qid)\n",
    "                max_type_id_all = max_type_id\n",
    "            num_types = min(len(typeids_list), max_types)\n",
    "            typeids[:num_types] = torch.tensor(typeids_list)[:num_types]\n",
    "            eid2typeids[qid2eid[qid]] = typeids\n",
    "    # + 1 bc indices start at 0 (we've already incremented for the unk row)\n",
    "    labeled_num_types = max_type_id_all + 1\n",
    "    print(\"max_type_id_all\", max_type_id_all)\n",
    "    # assign padded types to the last row of the type embedding\n",
    "    # make sure adding type labels doesn't add new types\n",
    "    assert (max_type_id_all + 1) <= labeled_num_types\n",
    "    eid2typeids[eid2typeids == -1] = labeled_num_types\n",
    "    return eid2typeids.long(), type2row_dict, labeled_num_types"
   ]
  },
  {
   "cell_type": "code",
   "execution_count": 21,
   "metadata": {},
   "outputs": [
    {
     "name": "stdout",
     "output_type": "stream",
     "text": [
      "Q278070\n",
      "max_type_id_all 23414\n"
     ]
    }
   ],
   "source": [
    "eid2typeid, type2row, labeled_num_types = build_type_table(old_types, old_qid2eids, max_types=3)"
   ]
  },
  {
   "cell_type": "code",
   "execution_count": 18,
   "metadata": {},
   "outputs": [
    {
     "data": {
      "text/plain": [
       "23415"
      ]
     },
     "execution_count": 18,
     "metadata": {},
     "output_type": "execute_result"
    }
   ],
   "source": [
    "labeled_num_types"
   ]
  },
  {
   "cell_type": "code",
   "execution_count": 19,
   "metadata": {},
   "outputs": [
    {
     "name": "stdout",
     "output_type": "stream",
     "text": [
      "23413\n"
     ]
    }
   ],
   "source": [
    "all_type_ids = set(list(new_vocab.values()))\n",
    "max_type_id_all = max(all_type_ids)\n",
    "print(max_type_id_all)"
   ]
  },
  {
   "cell_type": "code",
   "execution_count": 25,
   "metadata": {},
   "outputs": [
    {
     "name": "stdout",
     "output_type": "stream",
     "text": [
      "[1763, 23413]\n",
      "['mountain range', 'volcanic belt']\n",
      "[1763, 23413]\n"
     ]
    }
   ],
   "source": [
    "print(qid2typeids[\"Q278070\"])\n",
    "print(qid2typenames[\"Q278070\"])\n",
    "print(old_types[\"Q278070\"])"
   ]
  }
 ],
 "metadata": {
  "kernelspec": {
   "display_name": "Python 3",
   "language": "python",
   "name": "python3"
  },
  "language_info": {
   "codemirror_mode": {
    "name": "ipython",
    "version": 3
   },
   "file_extension": ".py",
   "mimetype": "text/x-python",
   "name": "python",
   "nbconvert_exporter": "python",
   "pygments_lexer": "ipython3",
   "version": "3.8.6"
  }
 },
 "nbformat": 4,
 "nbformat_minor": 4
}
