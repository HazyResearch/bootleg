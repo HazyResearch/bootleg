{
 "cells": [
  {
   "cell_type": "code",
   "execution_count": 1,
   "metadata": {},
   "outputs": [],
   "source": [
    "%load_ext autoreload\n",
    "%autoreload 2"
   ]
  },
  {
   "cell_type": "code",
   "execution_count": 4,
   "metadata": {
    "pycharm": {
     "name": "#%%\n"
    }
   },
   "outputs": [
    {
     "data": {
      "text/html": [
       "<style>.container { width:90% !important; }</style>"
      ],
      "text/plain": [
       "<IPython.core.display.HTML object>"
      ]
     },
     "metadata": {},
     "output_type": "display_data"
    }
   ],
   "source": [
    "import os, sys\n",
    "from tutorials.utils import load_train_data, score_predictions\n",
    "import ujson as json\n",
    "import jsonlines\n",
    "from tqdm import tqdm\n",
    "from itertools import chain, islice\n",
    "import random\n",
    "import numpy as np\n",
    "from fuzzywuzzy import fuzz, process\n",
    "from pathlib import Path\n",
    "from collections import defaultdict\n",
    "from bootleg.symbols.entity_symbols import EntitySymbols\n",
    "import shutil\n",
    "from IPython.core.display import display, HTML\n",
    "display(HTML(\"<style>.container { width:90% !important; }</style>\"))"
   ]
  },
  {
   "cell_type": "code",
   "execution_count": 9,
   "metadata": {
    "pycharm": {
     "name": "#%%\n"
    }
   },
   "outputs": [
    {
     "name": "stdout",
     "output_type": "stream",
     "text": [
      "Loading entity symbols\n",
      "Reading a2q\n"
     ]
    }
   ],
   "source": [
    "data_dir = Path(\"/dfs/scratch0/lorr1/projects/bootleg-data/data/medmentions_0203\")\n",
    "train_file = data_dir / \"spacy_10_noNC/train.jsonl\"\n",
    "test_file = data_dir / \"spacy_10_noNC/test.jsonl\"\n",
    "dev_file = data_dir / \"spacy_10_noNC/dev.jsonl\"\n",
    "print(f\"Loading entity symbols\")\n",
    "es = EntitySymbols(load_dir = os.path.join(data_dir, \"spacy_10_noNC/entity_db/entity_mappings\"))\n",
    "print(f\"Reading a2q\")\n",
    "a2q = es.get_alias2qids()\n",
    "q2title = es.get_qid2title()"
   ]
  },
  {
   "cell_type": "code",
   "execution_count": 7,
   "metadata": {},
   "outputs": [],
   "source": [
    "qid2cnt = defaultdict(int)\n",
    "with jsonlines.open(train_file) as in_f:\n",
    "    for line in in_f:\n",
    "        for qid in line[\"qids\"]:\n",
    "            qid2cnt[qid] += 1"
   ]
  },
  {
   "cell_type": "code",
   "execution_count": 10,
   "metadata": {
    "pycharm": {
     "name": "#%%\n"
    }
   },
   "outputs": [
    {
     "name": "stderr",
     "output_type": "stream",
     "text": [
      "100%|██████████| 27008/27008 [00:01<00:00, 17119.79it/s]\n",
      "100%|██████████| 8949/8949 [00:02<00:00, 3258.28it/s] \n"
     ]
    }
   ],
   "source": [
    "train_df = load_train_data(\n",
    "    train_file, q2title, cands_map=a2q, type_symbols=None, kg_symbols=None\n",
    ")\n",
    "dev_df = load_train_data(\n",
    "    dev_file, q2title, cands_map=a2q, type_symbols=None, kg_symbols=None\n",
    ")"
   ]
  },
  {
   "cell_type": "code",
   "execution_count": 6,
   "metadata": {},
   "outputs": [
    {
     "name": "stderr",
     "output_type": "stream",
     "text": [
      "100%|██████████| 6949/6949 [00:00<00:00, 7975.69it/s]\n"
     ]
    }
   ],
   "source": [
    "dev_pred_file = Path(\"/dfs/scratch1/lorr1/projects/bootleg/logs_medmentions/base/2021_02_01/23_38_13/28ec0c96/dev/last_model/bootleg_labels.jsonl\")\n",
    "dev_pred_file = Path(\"/dfs/scratch1/lorr1/projects/bootleg/logs_medmentions/base/2021_02_01/23_38_13/28ec0c96/dev_titlecue/last_model/bootleg_labels.jsonl\")\n",
    "dev_preds_df = score_predictions(orig_file=dev_file,\n",
    "                 pred_file=dev_pred_file,\n",
    "                 title_map=q2title,\n",
    "                 cands_map=a2q,\n",
    "                 type_symbols=[],\n",
    "                 kg_symbols=[])"
   ]
  },
  {
   "cell_type": "code",
   "execution_count": 7,
   "metadata": {},
   "outputs": [
    {
     "name": "stdout",
     "output_type": "stream",
     "text": [
      "15045 7102\n"
     ]
    }
   ],
   "source": [
    "print(dev_preds_df.shape[0], dev_preds_df[dev_preds_df[\"pred_qid\"]==dev_preds_df[\"gold_qid\"]].shape[0])"
   ]
  },
  {
   "cell_type": "code",
   "execution_count": 8,
   "metadata": {},
   "outputs": [],
   "source": [
    "if \"cands\" in dev_preds_df:\n",
    "    dev_preds_df[\"num_cands\"] = dev_preds_df[\"cands\"].apply(lambda x: len(x))\n",
    "    dev_preds_df[\"cand_names\"] = dev_preds_df[\"cands\"].apply(lambda x: [y[0] for y in x])\n",
    "    dev_preds_df[\"cand_probs\"] = dev_preds_df[\"cands\"].apply(lambda x: [y[1] for y in x])\n",
    "    del dev_preds_df[\"cands\"]\n",
    "dev_preds_df[\"span\"] = dev_preds_df[\"span\"].apply(lambda x: tuple(x))\n",
    "dev_preds_df[\"in_cand\"] = dev_preds_df.apply(lambda x: x[\"gold_title\"] in x[\"cand_names\"], axis=1)\n",
    "dev_preds_df[\"qid_cnt\"] = dev_preds_df[\"gold_qid\"].apply(lambda x: qid2cnt.get(x, 0))\n",
    "dev_preds_df[\"pred_qid_cnt\"] = dev_preds_df[\"pred_qid\"].apply(lambda x: qid2cnt.get(x, 0))\n",
    "dev_preds_df = dev_preds_df[dev_preds_df[\"pred_qid\"] != -1]"
   ]
  },
  {
   "cell_type": "code",
   "execution_count": 9,
   "metadata": {},
   "outputs": [
    {
     "name": "stdout",
     "output_type": "stream",
     "text": [
      "15045 7102\n"
     ]
    }
   ],
   "source": [
    "print(dev_preds_df.shape[0], dev_preds_df[dev_preds_df[\"pred_qid\"] == dev_preds_df[\"gold_qid\"]].shape[0])"
   ]
  },
  {
   "cell_type": "code",
   "execution_count": 11,
   "metadata": {
    "pycharm": {
     "name": "#%%\n"
    }
   },
   "outputs": [],
   "source": [
    "def compute_fuzz_score(df):\n",
    "    crc = 0\n",
    "    no_cands = 0\n",
    "    for i, row in tqdm(df.iterrows(), total=df.shape[0]):\n",
    "        cand_names = row[\"cand_names\"]\n",
    "        if len(cand_names) == 0:\n",
    "            no_cands += 1\n",
    "            continue\n",
    "        sp_l, sp_r = row[\"span\"]\n",
    "        al = \" \".join(row[\"sentence\"].split()[sp_l:sp_r])\n",
    "        r = process.extractOne(al, cand_names)\n",
    "    #     print(row[\"cands\"], r)\n",
    "        gld = row[\"gold_title\"]\n",
    "        if r[0] == gld:\n",
    "            crc += 1\n",
    "\n",
    "\n",
    "    print(crc, no_cands, df.shape[0], crc/(df.shape[0]-no_cands))"
   ]
  },
  {
   "cell_type": "code",
   "execution_count": null,
   "metadata": {},
   "outputs": [],
   "source": [
    "print(\"DEV\")\n",
    "compute_fuzz_score(dev_df)\n",
    "print(\"DEV WRONG\")\n",
    "compute_fuzz_score(dev_preds_df[dev_preds_df[\"pred_qid\"] != dev_preds_df[\"gold_qid\"]])\n",
    "print(\"TRAIN\")\n",
    "compute_fuzz_score(train_df)"
   ]
  },
  {
   "cell_type": "code",
   "execution_count": 11,
   "metadata": {},
   "outputs": [],
   "source": [
    "def subsample_data(orig, new):\n",
    "    org = 0\n",
    "    kp = 0\n",
    "    with open(orig) as in_f, open(new, \"w\") as out_f:\n",
    "        for line in tqdm(in_f, total=sum(1 for _ in open(orig))):\n",
    "            line = json.loads(line)\n",
    "            new_line = {\n",
    "                \"aliases\": [],\n",
    "                \"qids\": [],\n",
    "                \"spans\": [],\n",
    "                \"gold\": [],\n",
    "                \"sentence\": \"\",\n",
    "                \"sent_idx_unq\": -1,\n",
    "                \"doc_id\": -1\n",
    "            }\n",
    "            for al, sp, gld in zip(line[\"aliases\"], line[\"spans\"], line[\"qids\"]):\n",
    "                org += 1\n",
    "                cand_names = [q2title[p[0]] for p in a2q[al]]\n",
    "                if len(cand_names) == 0:\n",
    "                    continue\n",
    "                sp_l, sp_r = sp\n",
    "                al2 = \" \".join(line[\"sentence\"].split()[sp_l:sp_r])\n",
    "                r = process.extractOne(al2, cand_names)\n",
    "                if r[0] == q2title[gld]:\n",
    "                    kp += 1\n",
    "                    new_line[\"aliases\"].append(al)\n",
    "                    new_line[\"spans\"].append(sp)\n",
    "                    new_line[\"qids\"].append(gld)\n",
    "                    new_line[\"gold\"].append(True)\n",
    "                    new_line[\"doc_id\"] = line[\"doc_id\"]\n",
    "                    new_line[\"sentence\"] = line[\"sentence\"]\n",
    "                    new_line[\"sent_idx_unq\"] = line[\"sent_idx_unq\"]\n",
    "            if new_line[\"doc_id\"] != -1:\n",
    "                out_f.write(json.dumps(new_line) + \"\\n\")\n",
    "\n",
    "    print(f\"Kept: {kp} Our of: {org}\")"
   ]
  },
  {
   "cell_type": "code",
   "execution_count": 12,
   "metadata": {},
   "outputs": [
    {
     "name": "stderr",
     "output_type": "stream",
     "text": [
      "  9%|▉         | 2487/26993 [00:05<00:55, 439.14it/s]WARNING:root:Applied processor reduces input query to empty string, all comparisons will have score 0. [Query: '( - )']\n",
      "WARNING:root:Applied processor reduces input query to empty string, all comparisons will have score 0. [Query: '( - )']\n",
      "WARNING:root:Applied processor reduces input query to empty string, all comparisons will have score 0. [Query: '( - )']\n",
      "WARNING:root:Applied processor reduces input query to empty string, all comparisons will have score 0. [Query: '( - )']\n",
      " 33%|███▎      | 8949/26993 [00:21<00:42, 425.45it/s]\n",
      "  0%|          | 45/26993 [00:00<01:02, 428.85it/s]"
     ]
    },
    {
     "name": "stdout",
     "output_type": "stream",
     "text": [
      "Kept: 17348 Our of: 40817\n"
     ]
    },
    {
     "name": "stderr",
     "output_type": "stream",
     "text": [
      "27008it [01:00, 449.34it/s]                           "
     ]
    },
    {
     "name": "stdout",
     "output_type": "stream",
     "text": [
      "Kept: 50707 Our of: 122002\n"
     ]
    },
    {
     "name": "stderr",
     "output_type": "stream",
     "text": [
      "\n"
     ]
    }
   ],
   "source": [
    "new_train = data_dir / \"spacy_10_noNC/train_titlecue.jsonl\"\n",
    "new_dev = data_dir / \"spacy_10_noNC/dev_titlecue.jsonl\" \n",
    "subsample_data(dev_file, new_dev)\n",
    "subsample_data(train_file, new_train)"
   ]
  },
  {
   "cell_type": "code",
   "execution_count": 12,
   "metadata": {},
   "outputs": [
    {
     "name": "stderr",
     "output_type": "stream",
     "text": [
      "100%|██████████| 6949/6949 [00:00<00:00, 7886.21it/s]\n"
     ]
    }
   ],
   "source": [
    "dev_pred_file_ft = Path(\"/dfs/scratch1/lorr1/projects/bootleg/logs_medmentions/titlecue/2021_02_02/21_44_32/de3aeb1d/dev_titlecue/checkpoint_9.0/bootleg_labels.jsonl\")\n",
    "dev_preds_ft_df = score_predictions(orig_file=dev_file,\n",
    "                 pred_file=dev_pred_file_ft,\n",
    "                 title_map=q2title,\n",
    "                 cands_map=a2q,\n",
    "                 type_symbols=[],\n",
    "                 kg_symbols=[])\n",
    "\n",
    "if \"cands\" in dev_preds_ft_df:\n",
    "    dev_preds_ft_df[\"num_cands\"] = dev_preds_ft_df[\"cands\"].apply(lambda x: len(x))\n",
    "    dev_preds_ft_df[\"cand_names\"] = dev_preds_ft_df[\"cands\"].apply(lambda x: [y[0] for y in x])\n",
    "    dev_preds_ft_df[\"cand_probs\"] = dev_preds_ft_df[\"cands\"].apply(lambda x: [y[1] for y in x])\n",
    "    del dev_preds_ft_df[\"cands\"]\n",
    "dev_preds_ft_df[\"span\"] = dev_preds_ft_df[\"span\"].apply(lambda x: tuple(x))\n",
    "dev_preds_ft_df[\"in_cand\"] = dev_preds_ft_df.apply(lambda x: x[\"gold_title\"] in x[\"cand_names\"], axis=1)\n",
    "dev_preds_ft_df[\"qid_cnt\"] = dev_preds_ft_df[\"gold_qid\"].apply(lambda x: qid2cnt.get(x, 0))\n",
    "dev_preds_ft_df[\"pred_qid_cnt\"] = dev_preds_ft_df[\"pred_qid\"].apply(lambda x: qid2cnt.get(x, 0))\n",
    "dev_preds_ft_df = dev_preds_ft_df[dev_preds_ft_df[\"pred_qid\"] != -1]"
   ]
  },
  {
   "cell_type": "code",
   "execution_count": 18,
   "metadata": {},
   "outputs": [
    {
     "name": "stdout",
     "output_type": "stream",
     "text": [
      "15045 7102\n",
      "15045 12371\n",
      "Index(['sentence', 'sent_idx', 'aliases', 'span', 'slices', 'alias',\n",
      "       'alias_idx', 'is_gold_label', 'gold_qid', 'pred_qid', 'gold_title',\n",
      "       'pred_title', 'all_gold_qids', 'all_pred_qids', 'gold_label_aliases',\n",
      "       'all_is_gold_labels', 'all_spans', 'num_cands', 'cand_names',\n",
      "       'cand_probs', 'in_cand', 'qid_cnt', 'pred_qid_cnt'],\n",
      "      dtype='object')\n"
     ]
    }
   ],
   "source": [
    "print(dev_preds_df.shape[0], dev_preds_df[dev_preds_df[\"pred_qid\"] == dev_preds_df[\"gold_qid\"]].shape[0])\n",
    "print(dev_preds_ft_df.shape[0], dev_preds_ft_df[dev_preds_ft_df[\"pred_qid\"] == dev_preds_ft_df[\"gold_qid\"]].shape[0])\n",
    "print(dev_preds_ft_df.columns)\n",
    "cols = [\"sent_idx\", \"sentence\", \"in_cand\", \"qid_cnt\", \"pred_qid_cnt\", \"span\", \"gold_qid\", \"gold_title\", \"pred_qid\", \"pred_title\", \"all_spans\", \"cand_names\", \"cand_probs\"]"
   ]
  },
  {
   "cell_type": "code",
   "execution_count": 21,
   "metadata": {},
   "outputs": [
    {
     "data": {
      "text/html": [
       "<div>\n",
       "<style scoped>\n",
       "    .dataframe tbody tr th:only-of-type {\n",
       "        vertical-align: middle;\n",
       "    }\n",
       "\n",
       "    .dataframe tbody tr th {\n",
       "        vertical-align: top;\n",
       "    }\n",
       "\n",
       "    .dataframe thead th {\n",
       "        text-align: right;\n",
       "    }\n",
       "</style>\n",
       "<table border=\"1\" class=\"dataframe\">\n",
       "  <thead>\n",
       "    <tr style=\"text-align: right;\">\n",
       "      <th></th>\n",
       "      <th>sent_idx</th>\n",
       "      <th>sentence</th>\n",
       "      <th>in_cand</th>\n",
       "      <th>qid_cnt</th>\n",
       "      <th>pred_qid_cnt</th>\n",
       "      <th>span</th>\n",
       "      <th>gold_qid</th>\n",
       "      <th>gold_title</th>\n",
       "      <th>pred_qid</th>\n",
       "      <th>pred_title</th>\n",
       "      <th>all_spans</th>\n",
       "      <th>cand_names</th>\n",
       "      <th>cand_probs</th>\n",
       "    </tr>\n",
       "  </thead>\n",
       "  <tbody>\n",
       "    <tr>\n",
       "      <th>14050</th>\n",
       "      <td>42414</td>\n",
       "      <td>Hypertension is a prevalent and costly chronic condition in the U.S. and worldwide , and alcohol use is a modifiable hypertension risk factor .</td>\n",
       "      <td>True</td>\n",
       "      <td>157</td>\n",
       "      <td>157</td>\n",
       "      <td>(21, 23)</td>\n",
       "      <td>C0035648</td>\n",
       "      <td>Risk factor (observable entity)</td>\n",
       "      <td>C0035648</td>\n",
       "      <td>Risk factor (observable entity)</td>\n",
       "      <td>[[0, 1], [6, 8], [10, 11], [20, 21], [21, 23]]</td>\n",
       "      <td>[Risk factor (observable entity), Risk assessment (procedure), Disease Predictive Factor, management procedures risk, RISKSOC, trigger, Risk factor;cardiovascular, Lipid risk factors, rndx suicide risk, psychological risk factors, High risk of (qualifier value), Risk Factor Assessment, Biologic agent, Prognostic/Survival Factor, Cardiovascular event risk (finding), Disease Susceptibility [Disease/Finding], Health Social Determinant, High risk factors, rndx aspiration risk, Intermediate risk,...</td>\n",
       "      <td>[0.9956347346, 0.0034684855, 0.000121272, 8.756e-07, 1.43699e-05, 5.1e-08, 1.51812e-05, 5.789e-07, 2.7885e-06, 6.2792e-06, 0.0001006576, 8.0376e-06, 3.265e-07, 0.0005208465, 5.141e-07, 4.397e-07, 1.0984e-06, 3.00663e-05, 1.982e-07, 8.1053e-06, 2.127e-07, 3.005e-07, 3.2301e-06, 1.2819e-05, 9.1972e-06, 2.25587e-05, 1.67112e-05]</td>\n",
       "    </tr>\n",
       "    <tr>\n",
       "      <th>6419</th>\n",
       "      <td>38831</td>\n",
       "      <td>Although we focus here on the detection of positive selection from multiple population data , the local score approach is general and can be applied to other genome scans for selection or other genomewide analyses such as GWAS .</td>\n",
       "      <td>True</td>\n",
       "      <td>20</td>\n",
       "      <td>20</td>\n",
       "      <td>(37, 38)</td>\n",
       "      <td>C2350277</td>\n",
       "      <td>WGA study</td>\n",
       "      <td>C2350277</td>\n",
       "      <td>WGA study</td>\n",
       "      <td>[[9, 10], [30, 31], [37, 38]]</td>\n",
       "      <td>[WGA study, RNA SEQ DATABASES, research, WGS, global genomic nucleotide-excision repair, genome sequence analysis (lab test), GENET SEQ DATABASES, Sequencing, High-Throughput RNA, Editing, Genome, Human Genome Sequence Index, PROTEIN SEQ DATABASES, Total RNA Sequencing, SEQ DETERMINATIONS RNA, GENET DATA BASES, Gene Sequencing, genome mapping, Large-Scale Sequencing, genome sequencing, Genomics Research, SEQ DATA MOL, HUGO, Study, Genetic Association, Intellectual Product, genome database, R...</td>\n",
       "      <td>[0.583927393, 0.0014656227, 0.0140366936, 0.1867334694, 0.0017058838, 0.0062172795, 0.0032819642, 0.0025903168, 0.0027275078, 0.0017878308, 0.0031466258, 0.0021873149, 0.0008279632, 0.0024420489, 0.0065079276, 0.0025940447, 0.0033537529, 0.0025265771, 0.0021622237, 0.0097124791, 0.0051232204, 0.0062213833, 0.0288446359, 0.0030783813, 0.0011065813, 0.0058318549, 0.0078671239, 0.0026091295, 0.0877004415, 0.0116822729]</td>\n",
       "    </tr>\n",
       "    <tr>\n",
       "      <th>7821</th>\n",
       "      <td>19809</td>\n",
       "      <td>Here , we report that SL4 is able to inhibit the proliferation of different types of breast cancer cell in vitro and in vivo by inducing G2/M cell cycle arrest .</td>\n",
       "      <td>True</td>\n",
       "      <td>79</td>\n",
       "      <td>79</td>\n",
       "      <td>(11, 12)</td>\n",
       "      <td>C0596290</td>\n",
       "      <td>Cell Proliferation Process</td>\n",
       "      <td>C0596290</td>\n",
       "      <td>Cell Proliferation Process</td>\n",
       "      <td>[[3, 4], [11, 12], [22, 24]]</td>\n",
       "      <td>[Cell Proliferation Process, cellular growth, Replicative Senescence, Size Growth, Cell, Cancer Cell Growth, chondrocyte cell proliferation, Growth, cell viability, Lymphocyte proliferation, Cell Division Process, Cancer Induction, Neoplasms [Disease/Finding], fibroblast proliferation, (Neoplasms) or (cancers) (disorder), Cell Transformation, Neoplastic [Disease/Finding], DIFFER CELL, Precancerous Cells, microglial cell proliferation, 76-77 PROLIFERATIONS, movement of a cell, cellular quiesc...</td>\n",
       "      <td>[0.8633034229, 0.0021705497, 4.22184e-05, 1.49012e-05, 0.0079335384, 4.20618e-05, 1.84874e-05, 0.0017639453, 4.5908e-05, 6.8e-05, 0.0033850214, 2.7083e-06, 1.01164e-05, 0.0006899759, 2.40165e-05, 0.0064120954, 1.67286e-05, 9.67916e-05, 0.0001102814, 1.96556e-05, 4.781e-06, 0.0026278798, 0.1088375822, 3.91722e-05, 9.95814e-05, 0.0019197067, 0.0002409555, 2.08371e-05, 2.34108e-05, 1.56345e-05]</td>\n",
       "    </tr>\n",
       "    <tr>\n",
       "      <th>12360</th>\n",
       "      <td>27854</td>\n",
       "      <td>The phylogeny of the Phasianidae ( pheasants , partridges , and allies ) has been studied extensively .</td>\n",
       "      <td>True</td>\n",
       "      <td>0</td>\n",
       "      <td>0</td>\n",
       "      <td>(4, 5)</td>\n",
       "      <td>C0325635</td>\n",
       "      <td>Family phasianidae (organism)</td>\n",
       "      <td>C0325635</td>\n",
       "      <td>Family phasianidae (organism)</td>\n",
       "      <td>[[4, 5]]</td>\n",
       "      <td>[Subfamily Meleagridinae (organism), Family phasianidae (organism), Family Psychodidae (organism), Phasianellidae, Family Apidae (organism), cockle, Family fasciolidae (organism), Drosophilidae, Phasmatidae, Family Fagaceae (organism), Bird (organism), Flabellidae, Family Camelidae, pompanos, Nuttalliellidae, Cricket (organism), Macropsyllidae, Family scopidae (organism), Family helicidae (organism), Subfamily Phasianinae (organism), Cossidae, crawling seals, Beetle (organism), Family Cerato...</td>\n",
       "      <td>[0.0746359602, 0.2339954674, 0.016072534, 0.0522450842, 0.0266559962, 0.0008992016, 0.009943421, 0.0310628954, 0.0796381533, 0.0037184386, 0.0216003191, 0.009292556, 0.0443421341, 0.0130970199, 0.0099032298, 0.0042195749, 0.047467865, 0.047710672, 0.0076917084, 0.0679474473, 0.0372577235, 0.0045364117, 0.0015941198, 0.0081791338, 0.0180011839, 0.0765092224, 0.0145792477, 0.0247758832, 0.002785614, 0.0096416771]</td>\n",
       "    </tr>\n",
       "    <tr>\n",
       "      <th>7015</th>\n",
       "      <td>14623</td>\n",
       "      <td>While UPS pathways in plants are certainly not yet exhaustively researched , an emerging notion is that induction of UPS pathways is correlated with pathogenesis and stress responses .</td>\n",
       "      <td>True</td>\n",
       "      <td>68</td>\n",
       "      <td>68</td>\n",
       "      <td>(24, 25)</td>\n",
       "      <td>C0699748</td>\n",
       "      <td>Pathogeneses (qualifier value)</td>\n",
       "      <td>C0699748</td>\n",
       "      <td>Pathogeneses (qualifier value)</td>\n",
       "      <td>[[24, 25]]</td>\n",
       "      <td>[Pathogeneses (qualifier value), Phenomenon, Cell Physiological, Biological function (qualifier value), Organismal Process, cellular growth, homeostatic, obsolete senescence, Cell Division Process, biological regulation, Nerve Degeneration [Disease/Finding], Responses, Plant Immune, Hormeses, cell viability, growth plant, Cancer Induction, heat generation, Biosynthetic, Adaptation (function), Host Defense Mechanism, Inflammation Process, response, Adaption, organic evolution, molecular funct...</td>\n",
       "      <td>[0.7317121029, 0.005195566, 0.0812990293, 0.0003993542, 0.0010534395, 0.0004561713, 3.60625e-05, 1.31006e-05, 0.0112475483, 3.5014e-05, 0.0003875243, 0.001447318, 0.0071535646, 0.0015100059, 0.0119849704, 0.0002388787, 0.0021963543, 0.0612392388, 0.0135968598, 0.0037065973, 0.0028056111, 0.0005883113, 0.0349430181, 0.0178439002, 0.0007553959, 0.0009803183, 0.0008553963, 0.0009085981, 5.2684e-06, 0.0054055182]</td>\n",
       "    </tr>\n",
       "    <tr>\n",
       "      <th>347</th>\n",
       "      <td>10786</td>\n",
       "      <td>The rapid development of programmable nuclease -based genome editing technologies has enabled targeted gene disruption and correction both in vitro and in vivo This revolution opens up the possibility of precise genome editing at target genomic sites to modulate gene function in animals and plants .</td>\n",
       "      <td>True</td>\n",
       "      <td>169</td>\n",
       "      <td>169</td>\n",
       "      <td>(21, 23)</td>\n",
       "      <td>C1515655</td>\n",
       "      <td>In Vivo</td>\n",
       "      <td>C1515655</td>\n",
       "      <td>In Vivo</td>\n",
       "      <td>[[7, 9], [13, 14], [21, 23], [31, 33], [39, 41]]</td>\n",
       "      <td>[In Vivo, In situ (qualifier value), External (modifier) (qualifier value), Possible (qualifier value), Intracellular (qualifier value), Places (environment), Right and left (qualifier value), Unlimited, Countries (geographic location), Present (qualifier value), Left (qualifier value), obsolete uniport, Site (qualifier value), in vivo test, Union, Proximal (qualifier value), far, SITE, INFUSION, Local (modifier) (qualifier value), Invention, dextros, orthotopic, Juxta-posed (qualifier value...</td>\n",
       "      <td>[0.9919037223, 0.0001091692, 2.0448e-06, 1.182e-07, 0.0008722071, 8.2e-09, 3.343e-06, 2.8e-09, 3.04e-08, 5.51853e-05, 6.529e-07, 3.77e-08, 0.0067462865, 0.0001638336, 2.32e-08, 1.8034e-06, 1.2141e-06, 2.4744e-06, 6.1368e-06, 1.9e-09, 1.064e-07, 1.777e-07, 1.23635e-05, 6.5e-09, 0.0001183262, 1.728e-07, 1.106e-07, 4.003e-07]</td>\n",
       "    </tr>\n",
       "    <tr>\n",
       "      <th>14129</th>\n",
       "      <td>13992</td>\n",
       "      <td>It has multifaceted challenges including pre and post-operative histopathological diagnosis and optimal modality of treatment .</td>\n",
       "      <td>True</td>\n",
       "      <td>339</td>\n",
       "      <td>339</td>\n",
       "      <td>(9, 10)</td>\n",
       "      <td>C0011900</td>\n",
       "      <td>diagnosis (DX)</td>\n",
       "      <td>C0011900</td>\n",
       "      <td>diagnosis (DX)</td>\n",
       "      <td>[[2, 3], [3, 4], [9, 10]]</td>\n",
       "      <td>[diagnostic technique, diagnosis (DX), Diagnostic Study, Detected, Diagnostic radiography (procedure), TESTS DIAG, diagnostic dental procedures (procedure), Clinical Trials, Diagnosis, Histology (situation), Diagnostic assessment (procedure), Aspiration - diagnostic (procedure), anesthetics [specialty], exploratory surgical procedures, Clinical diagnosis (contextual qualifier), DIAG IMAGE, Diagnostic physical therapy procedure (regime/therapy), Molecular diagnosis, Assay technique (qualifier...</td>\n",
       "      <td>[0.0992526859, 0.8262358904, 0.0619286932, 2.14429e-05, 1.00967e-05, 1.7923e-06, 5.1824e-06, 1.77074e-05, 4.15721e-05, 0.0001979803, 4.119e-07, 1.4087e-06, 2.5742e-06, 0.0022436169, 0.0002482856, 1.21512e-05, 1.38552e-05, 6.714e-06, 1.27748e-05, 3.809e-06, 0.0072641, 8.1127e-06, 3.94625e-05, 1.8209e-06, 7.373e-07, 6.5719e-06, 1.21138e-05, 7.319e-07, 0.0024075531]</td>\n",
       "    </tr>\n",
       "    <tr>\n",
       "      <th>6171</th>\n",
       "      <td>1132</td>\n",
       "      <td>Most common complications were pneumonia ( 12 % ) , UTI ( 9 % ) , and wound infection ( 7 % ) .</td>\n",
       "      <td>True</td>\n",
       "      <td>19</td>\n",
       "      <td>19</td>\n",
       "      <td>(4, 5)</td>\n",
       "      <td>C0032285</td>\n",
       "      <td>Pneumonia [Disease/Finding]</td>\n",
       "      <td>C0032285</td>\n",
       "      <td>Pneumonia [Disease/Finding]</td>\n",
       "      <td>[[2, 3], [4, 5], [17, 19]]</td>\n",
       "      <td>[Pneumonia [Disease/Finding], Pneumonia, Aspiration [Disease/Finding], flus, Interstitial pneumonia (disorder), Asthma [Disease/Finding], Inflammation of the bronchioles, Pneumonia, Bacterial [Disease/Finding], Diphtheria [Disease/Finding], rndx hyperthermia, Bronchitis: [unspecified (&amp; chest infection)] or [recurrent wheezy] (disorder), Tuberculosis (A15-A19), Haemophilus influenzae (organism), Tetanus [Disease/Finding], H1N1 Flu (Swine Flu), Rabies [Disease/Finding], Trichomonas Vaginitis ...</td>\n",
       "      <td>[0.3845651448, 0.0100375302, 0.0033778062, 0.0057115485, 0.0435556173, 0.0015481486, 0.0330408588, 0.0009850387, 0.0035451469, 0.0053827083, 0.0061343969, 0.0005698901, 0.0013258026, 0.0060026408, 0.0056630005, 0.0018701184, 0.0069308607, 0.0091250185, 0.035779763, 0.090170145, 0.2405107468, 0.0123125678, 0.0015676591, 0.0044830889, 0.0015606153, 0.0564073175, 0.0013988719, 0.0248376764, 0.0007023888, 0.0008978558]</td>\n",
       "    </tr>\n",
       "    <tr>\n",
       "      <th>11008</th>\n",
       "      <td>37360</td>\n",
       "      <td>Ventricular pacing site separation by cardiac computed tomography : validation for the prediction of clinical response to cardiac resynchronization therapy \\n</td>\n",
       "      <td>True</td>\n",
       "      <td>13</td>\n",
       "      <td>13</td>\n",
       "      <td>(14, 16)</td>\n",
       "      <td>C4055223</td>\n",
       "      <td>CLINRESP</td>\n",
       "      <td>C4055223</td>\n",
       "      <td>CLINRESP</td>\n",
       "      <td>[[0, 2], [5, 6], [9, 10], [14, 16], [17, 20]]</td>\n",
       "      <td>[CLINRESP, successful treatment]</td>\n",
       "      <td>[0.867752254, 0.132247746]</td>\n",
       "    </tr>\n",
       "    <tr>\n",
       "      <th>8142</th>\n",
       "      <td>43393</td>\n",
       "      <td>NLP -based pneumonia information extraction of pediatric diagnostic imaging reports performed better than domain experts in this pilot study .</td>\n",
       "      <td>True</td>\n",
       "      <td>31</td>\n",
       "      <td>31</td>\n",
       "      <td>(17, 19)</td>\n",
       "      <td>C0031928</td>\n",
       "      <td>pilot study</td>\n",
       "      <td>C0031928</td>\n",
       "      <td>pilot study</td>\n",
       "      <td>[[2, 3], [17, 19]]</td>\n",
       "      <td>[pilot study, demonstration programs, CROSS SECTIONAL ANAL, prospective longitudinal study, research, Screening Trial, Clinical Studies, experimental studies, Observational Trial, Experiment Design, study, feasibility study, Study, Clinical Trial as Topic, Blinded Clinical Trial, test validation, STATIST MODEL, ECOLOGIC OR COMMUNITY, Prospective Study, prospective, OPEN LABEL, OBSMODEL, Preclinical Models, SAMPLING STUDIES, INTMODEL, RETROSPECTIVE, Epidemiologic Trial, CONTROLLED CLIN TRIALS...</td>\n",
       "      <td>[0.5386298895, 0.00177816, 0.0009545347, 0.1068802699, 0.0024110547, 0.0065684123, 0.0108929649, 0.022775542, 0.0025842458, 0.0167698301, 0.0069796336, 0.0422489122, 0.0069796336, 0.0210474283, 0.0030183748, 0.0020100079, 0.0006917809, 0.0015169021, 0.1144548208, 0.0428132229, 0.0018555331, 0.0006530134, 0.00064764, 0.0261748433, 0.0006700994, 0.0099118603, 0.0013201906, 0.0045359465, 0.001533453, 0.0006917412]</td>\n",
       "    </tr>\n",
       "  </tbody>\n",
       "</table>\n",
       "</div>"
      ],
      "text/plain": [
       "       sent_idx  \\\n",
       "14050     42414   \n",
       "6419      38831   \n",
       "7821      19809   \n",
       "12360     27854   \n",
       "7015      14623   \n",
       "347       10786   \n",
       "14129     13992   \n",
       "6171       1132   \n",
       "11008     37360   \n",
       "8142      43393   \n",
       "\n",
       "                                                                                                                                                                                                                                                                                                           sentence  \\\n",
       "14050                                                                                                                                                               Hypertension is a prevalent and costly chronic condition in the U.S. and worldwide , and alcohol use is a modifiable hypertension risk factor .   \n",
       "6419                                                                           Although we focus here on the detection of positive selection from multiple population data , the local score approach is general and can be applied to other genome scans for selection or other genomewide analyses such as GWAS .   \n",
       "7821                                                                                                                                              Here , we report that SL4 is able to inhibit the proliferation of different types of breast cancer cell in vitro and in vivo by inducing G2/M cell cycle arrest .   \n",
       "12360                                                                                                                                                                                                       The phylogeny of the Phasianidae ( pheasants , partridges , and allies ) has been studied extensively .   \n",
       "7015                                                                                                                       While UPS pathways in plants are certainly not yet exhaustively researched , an emerging notion is that induction of UPS pathways is correlated with pathogenesis and stress responses .   \n",
       "347    The rapid development of programmable nuclease -based genome editing technologies has enabled targeted gene disruption and correction both in vitro and in vivo This revolution opens up the possibility of precise genome editing at target genomic sites to modulate gene function in animals and plants .   \n",
       "14129                                                                                                                                                                               It has multifaceted challenges including pre and post-operative histopathological diagnosis and optimal modality of treatment .   \n",
       "6171                                                                                                                                                                                                                Most common complications were pneumonia ( 12 % ) , UTI ( 9 % ) , and wound infection ( 7 % ) .   \n",
       "11008                                                                                                                                                Ventricular pacing site separation by cardiac computed tomography : validation for the prediction of clinical response to cardiac resynchronization therapy \\n   \n",
       "8142                                                                                                                                                                 NLP -based pneumonia information extraction of pediatric diagnostic imaging reports performed better than domain experts in this pilot study .   \n",
       "\n",
       "       in_cand  qid_cnt  pred_qid_cnt      span  gold_qid  \\\n",
       "14050     True      157           157  (21, 23)  C0035648   \n",
       "6419      True       20            20  (37, 38)  C2350277   \n",
       "7821      True       79            79  (11, 12)  C0596290   \n",
       "12360     True        0             0    (4, 5)  C0325635   \n",
       "7015      True       68            68  (24, 25)  C0699748   \n",
       "347       True      169           169  (21, 23)  C1515655   \n",
       "14129     True      339           339   (9, 10)  C0011900   \n",
       "6171      True       19            19    (4, 5)  C0032285   \n",
       "11008     True       13            13  (14, 16)  C4055223   \n",
       "8142      True       31            31  (17, 19)  C0031928   \n",
       "\n",
       "                            gold_title  pred_qid  \\\n",
       "14050  Risk factor (observable entity)  C0035648   \n",
       "6419                         WGA study  C2350277   \n",
       "7821        Cell Proliferation Process  C0596290   \n",
       "12360    Family phasianidae (organism)  C0325635   \n",
       "7015    Pathogeneses (qualifier value)  C0699748   \n",
       "347                            In Vivo  C1515655   \n",
       "14129                   diagnosis (DX)  C0011900   \n",
       "6171       Pneumonia [Disease/Finding]  C0032285   \n",
       "11008                         CLINRESP  C4055223   \n",
       "8142                       pilot study  C0031928   \n",
       "\n",
       "                            pred_title  \\\n",
       "14050  Risk factor (observable entity)   \n",
       "6419                         WGA study   \n",
       "7821        Cell Proliferation Process   \n",
       "12360    Family phasianidae (organism)   \n",
       "7015    Pathogeneses (qualifier value)   \n",
       "347                            In Vivo   \n",
       "14129                   diagnosis (DX)   \n",
       "6171       Pneumonia [Disease/Finding]   \n",
       "11008                         CLINRESP   \n",
       "8142                       pilot study   \n",
       "\n",
       "                                              all_spans  \\\n",
       "14050    [[0, 1], [6, 8], [10, 11], [20, 21], [21, 23]]   \n",
       "6419                      [[9, 10], [30, 31], [37, 38]]   \n",
       "7821                       [[3, 4], [11, 12], [22, 24]]   \n",
       "12360                                          [[4, 5]]   \n",
       "7015                                         [[24, 25]]   \n",
       "347    [[7, 9], [13, 14], [21, 23], [31, 33], [39, 41]]   \n",
       "14129                         [[2, 3], [3, 4], [9, 10]]   \n",
       "6171                         [[2, 3], [4, 5], [17, 19]]   \n",
       "11008     [[0, 2], [5, 6], [9, 10], [14, 16], [17, 20]]   \n",
       "8142                                 [[2, 3], [17, 19]]   \n",
       "\n",
       "                                                                                                                                                                                                                                                                                                                                                                                                                                                                                                                cand_names  \\\n",
       "14050  [Risk factor (observable entity), Risk assessment (procedure), Disease Predictive Factor, management procedures risk, RISKSOC, trigger, Risk factor;cardiovascular, Lipid risk factors, rndx suicide risk, psychological risk factors, High risk of (qualifier value), Risk Factor Assessment, Biologic agent, Prognostic/Survival Factor, Cardiovascular event risk (finding), Disease Susceptibility [Disease/Finding], Health Social Determinant, High risk factors, rndx aspiration risk, Intermediate risk,...   \n",
       "6419   [WGA study, RNA SEQ DATABASES, research, WGS, global genomic nucleotide-excision repair, genome sequence analysis (lab test), GENET SEQ DATABASES, Sequencing, High-Throughput RNA, Editing, Genome, Human Genome Sequence Index, PROTEIN SEQ DATABASES, Total RNA Sequencing, SEQ DETERMINATIONS RNA, GENET DATA BASES, Gene Sequencing, genome mapping, Large-Scale Sequencing, genome sequencing, Genomics Research, SEQ DATA MOL, HUGO, Study, Genetic Association, Intellectual Product, genome database, R...   \n",
       "7821   [Cell Proliferation Process, cellular growth, Replicative Senescence, Size Growth, Cell, Cancer Cell Growth, chondrocyte cell proliferation, Growth, cell viability, Lymphocyte proliferation, Cell Division Process, Cancer Induction, Neoplasms [Disease/Finding], fibroblast proliferation, (Neoplasms) or (cancers) (disorder), Cell Transformation, Neoplastic [Disease/Finding], DIFFER CELL, Precancerous Cells, microglial cell proliferation, 76-77 PROLIFERATIONS, movement of a cell, cellular quiesc...   \n",
       "12360  [Subfamily Meleagridinae (organism), Family phasianidae (organism), Family Psychodidae (organism), Phasianellidae, Family Apidae (organism), cockle, Family fasciolidae (organism), Drosophilidae, Phasmatidae, Family Fagaceae (organism), Bird (organism), Flabellidae, Family Camelidae, pompanos, Nuttalliellidae, Cricket (organism), Macropsyllidae, Family scopidae (organism), Family helicidae (organism), Subfamily Phasianinae (organism), Cossidae, crawling seals, Beetle (organism), Family Cerato...   \n",
       "7015   [Pathogeneses (qualifier value), Phenomenon, Cell Physiological, Biological function (qualifier value), Organismal Process, cellular growth, homeostatic, obsolete senescence, Cell Division Process, biological regulation, Nerve Degeneration [Disease/Finding], Responses, Plant Immune, Hormeses, cell viability, growth plant, Cancer Induction, heat generation, Biosynthetic, Adaptation (function), Host Defense Mechanism, Inflammation Process, response, Adaption, organic evolution, molecular funct...   \n",
       "347    [In Vivo, In situ (qualifier value), External (modifier) (qualifier value), Possible (qualifier value), Intracellular (qualifier value), Places (environment), Right and left (qualifier value), Unlimited, Countries (geographic location), Present (qualifier value), Left (qualifier value), obsolete uniport, Site (qualifier value), in vivo test, Union, Proximal (qualifier value), far, SITE, INFUSION, Local (modifier) (qualifier value), Invention, dextros, orthotopic, Juxta-posed (qualifier value...   \n",
       "14129  [diagnostic technique, diagnosis (DX), Diagnostic Study, Detected, Diagnostic radiography (procedure), TESTS DIAG, diagnostic dental procedures (procedure), Clinical Trials, Diagnosis, Histology (situation), Diagnostic assessment (procedure), Aspiration - diagnostic (procedure), anesthetics [specialty], exploratory surgical procedures, Clinical diagnosis (contextual qualifier), DIAG IMAGE, Diagnostic physical therapy procedure (regime/therapy), Molecular diagnosis, Assay technique (qualifier...   \n",
       "6171   [Pneumonia [Disease/Finding], Pneumonia, Aspiration [Disease/Finding], flus, Interstitial pneumonia (disorder), Asthma [Disease/Finding], Inflammation of the bronchioles, Pneumonia, Bacterial [Disease/Finding], Diphtheria [Disease/Finding], rndx hyperthermia, Bronchitis: [unspecified (& chest infection)] or [recurrent wheezy] (disorder), Tuberculosis (A15-A19), Haemophilus influenzae (organism), Tetanus [Disease/Finding], H1N1 Flu (Swine Flu), Rabies [Disease/Finding], Trichomonas Vaginitis ...   \n",
       "11008                                                                                                                                                                                                                                                                                                                                                                                                                                                                                     [CLINRESP, successful treatment]   \n",
       "8142   [pilot study, demonstration programs, CROSS SECTIONAL ANAL, prospective longitudinal study, research, Screening Trial, Clinical Studies, experimental studies, Observational Trial, Experiment Design, study, feasibility study, Study, Clinical Trial as Topic, Blinded Clinical Trial, test validation, STATIST MODEL, ECOLOGIC OR COMMUNITY, Prospective Study, prospective, OPEN LABEL, OBSMODEL, Preclinical Models, SAMPLING STUDIES, INTMODEL, RETROSPECTIVE, Epidemiologic Trial, CONTROLLED CLIN TRIALS...   \n",
       "\n",
       "                                                                                                                                                                                                                                                                                                                                                                                                                                cand_probs  \n",
       "14050                                                                                              [0.9956347346, 0.0034684855, 0.000121272, 8.756e-07, 1.43699e-05, 5.1e-08, 1.51812e-05, 5.789e-07, 2.7885e-06, 6.2792e-06, 0.0001006576, 8.0376e-06, 3.265e-07, 0.0005208465, 5.141e-07, 4.397e-07, 1.0984e-06, 3.00663e-05, 1.982e-07, 8.1053e-06, 2.127e-07, 3.005e-07, 3.2301e-06, 1.2819e-05, 9.1972e-06, 2.25587e-05, 1.67112e-05]  \n",
       "6419   [0.583927393, 0.0014656227, 0.0140366936, 0.1867334694, 0.0017058838, 0.0062172795, 0.0032819642, 0.0025903168, 0.0027275078, 0.0017878308, 0.0031466258, 0.0021873149, 0.0008279632, 0.0024420489, 0.0065079276, 0.0025940447, 0.0033537529, 0.0025265771, 0.0021622237, 0.0097124791, 0.0051232204, 0.0062213833, 0.0288446359, 0.0030783813, 0.0011065813, 0.0058318549, 0.0078671239, 0.0026091295, 0.0877004415, 0.0116822729]  \n",
       "7821                            [0.8633034229, 0.0021705497, 4.22184e-05, 1.49012e-05, 0.0079335384, 4.20618e-05, 1.84874e-05, 0.0017639453, 4.5908e-05, 6.8e-05, 0.0033850214, 2.7083e-06, 1.01164e-05, 0.0006899759, 2.40165e-05, 0.0064120954, 1.67286e-05, 9.67916e-05, 0.0001102814, 1.96556e-05, 4.781e-06, 0.0026278798, 0.1088375822, 3.91722e-05, 9.95814e-05, 0.0019197067, 0.0002409555, 2.08371e-05, 2.34108e-05, 1.56345e-05]  \n",
       "12360       [0.0746359602, 0.2339954674, 0.016072534, 0.0522450842, 0.0266559962, 0.0008992016, 0.009943421, 0.0310628954, 0.0796381533, 0.0037184386, 0.0216003191, 0.009292556, 0.0443421341, 0.0130970199, 0.0099032298, 0.0042195749, 0.047467865, 0.047710672, 0.0076917084, 0.0679474473, 0.0372577235, 0.0045364117, 0.0015941198, 0.0081791338, 0.0180011839, 0.0765092224, 0.0145792477, 0.0247758832, 0.002785614, 0.0096416771]  \n",
       "7015          [0.7317121029, 0.005195566, 0.0812990293, 0.0003993542, 0.0010534395, 0.0004561713, 3.60625e-05, 1.31006e-05, 0.0112475483, 3.5014e-05, 0.0003875243, 0.001447318, 0.0071535646, 0.0015100059, 0.0119849704, 0.0002388787, 0.0021963543, 0.0612392388, 0.0135968598, 0.0037065973, 0.0028056111, 0.0005883113, 0.0349430181, 0.0178439002, 0.0007553959, 0.0009803183, 0.0008553963, 0.0009085981, 5.2684e-06, 0.0054055182]  \n",
       "347                                                                                                   [0.9919037223, 0.0001091692, 2.0448e-06, 1.182e-07, 0.0008722071, 8.2e-09, 3.343e-06, 2.8e-09, 3.04e-08, 5.51853e-05, 6.529e-07, 3.77e-08, 0.0067462865, 0.0001638336, 2.32e-08, 1.8034e-06, 1.2141e-06, 2.4744e-06, 6.1368e-06, 1.9e-09, 1.064e-07, 1.777e-07, 1.23635e-05, 6.5e-09, 0.0001183262, 1.728e-07, 1.106e-07, 4.003e-07]  \n",
       "14129                                                        [0.0992526859, 0.8262358904, 0.0619286932, 2.14429e-05, 1.00967e-05, 1.7923e-06, 5.1824e-06, 1.77074e-05, 4.15721e-05, 0.0001979803, 4.119e-07, 1.4087e-06, 2.5742e-06, 0.0022436169, 0.0002482856, 1.21512e-05, 1.38552e-05, 6.714e-06, 1.27748e-05, 3.809e-06, 0.0072641, 8.1127e-06, 3.94625e-05, 1.8209e-06, 7.373e-07, 6.5719e-06, 1.21138e-05, 7.319e-07, 0.0024075531]  \n",
       "6171    [0.3845651448, 0.0100375302, 0.0033778062, 0.0057115485, 0.0435556173, 0.0015481486, 0.0330408588, 0.0009850387, 0.0035451469, 0.0053827083, 0.0061343969, 0.0005698901, 0.0013258026, 0.0060026408, 0.0056630005, 0.0018701184, 0.0069308607, 0.0091250185, 0.035779763, 0.090170145, 0.2405107468, 0.0123125678, 0.0015676591, 0.0044830889, 0.0015606153, 0.0564073175, 0.0013988719, 0.0248376764, 0.0007023888, 0.0008978558]  \n",
       "11008                                                                                                                                                                                                                                                                                                                                                                                                           [0.867752254, 0.132247746]  \n",
       "8142        [0.5386298895, 0.00177816, 0.0009545347, 0.1068802699, 0.0024110547, 0.0065684123, 0.0108929649, 0.022775542, 0.0025842458, 0.0167698301, 0.0069796336, 0.0422489122, 0.0069796336, 0.0210474283, 0.0030183748, 0.0020100079, 0.0006917809, 0.0015169021, 0.1144548208, 0.0428132229, 0.0018555331, 0.0006530134, 0.00064764, 0.0261748433, 0.0006700994, 0.0099118603, 0.0013201906, 0.0045359465, 0.001533453, 0.0006917412]  "
      ]
     },
     "execution_count": 21,
     "metadata": {},
     "output_type": "execute_result"
    }
   ],
   "source": [
    "dev_preds_df[dev_preds_df[\"pred_qid\"] == dev_preds_df[\"gold_qid\"]][cols].sample(10)"
   ]
  }
 ],
 "metadata": {
  "kernelspec": {
   "display_name": "Python 3",
   "language": "python",
   "name": "python3"
  },
  "language_info": {
   "codemirror_mode": {
    "name": "ipython",
    "version": 3
   },
   "file_extension": ".py",
   "mimetype": "text/x-python",
   "name": "python",
   "nbconvert_exporter": "python",
   "pygments_lexer": "ipython3",
   "version": "3.8.6"
  }
 },
 "nbformat": 4,
 "nbformat_minor": 1
}
