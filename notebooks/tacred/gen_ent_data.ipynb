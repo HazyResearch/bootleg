{
 "cells": [
  {
   "cell_type": "code",
   "execution_count": 1,
   "metadata": {},
   "outputs": [],
   "source": [
    "%load_ext autoreload\n",
    "%autoreload 2"
   ]
  },
  {
   "cell_type": "code",
   "execution_count": 2,
   "metadata": {
    "pycharm": {
     "name": "#%%\n"
    }
   },
   "outputs": [
    {
     "data": {
      "text/html": [
       "<style>.container { width:90% !important; }</style>"
      ],
      "text/plain": [
       "<IPython.core.display.HTML object>"
      ]
     },
     "metadata": {},
     "output_type": "display_data"
    }
   ],
   "source": [
    "import os, sys\n",
    "import ujson as json\n",
    "from tqdm import tqdm\n",
    "import numpy as np\n",
    "from pathlib import Path\n",
    "from collections import defaultdict\n",
    "from IPython.core.display import display, HTML\n",
    "sys.path.append(\"/dfs/scratch0/lorr1/projects/bootleg/tutorials/downstream_tutorial/bootleg_utilities\")\n",
    "display(HTML(\"<style>.container { width:90% !important; }</style>\"))"
   ]
  },
  {
   "cell_type": "markdown",
   "metadata": {
    "pycharm": {
     "name": "#%%\n"
    }
   },
   "source": [
    "### Instructions\n",
    "Before running this, it's recommended to filter the alias candidate map before mention extraction to avoid spurious mentions.\n",
    "\n",
    "You will need to run\n",
    "`python3 -m bootleg.utils.preprocessing.compute_statistics --data_dir <wiki_train_dir> --save_dir <wiki_train_dir>  --no_types --num_workers 30 --strip --lower`\n",
    "\n",
    "And then use the `filter_alias_cand_map.ipynb` notebook."
   ]
  },
  {
   "cell_type": "code",
   "execution_count": 3,
   "metadata": {
    "pycharm": {
     "name": "#%%\n"
    }
   },
   "outputs": [],
   "source": [
    "from bootleg.end2end.extract_mentions import extract_mentions\n",
    "wiki_train_dir = Path(\"/dfs/scratch0/lorr1/projects/bootleg-data/data/korealiases_title_0122/\")\n",
    "tacred_dir = Path(\"/dfs/scratch0/lorr1/projects/bootleg-data/downstream/tacred/\")\n",
    "emb_dir = Path(\"/dfs/scratch0/lorr1/projects/bootleg-data/embs\")\n",
    "root_boot_model = Path(\"/dfs/scratch1/lorr1/projects/bootleg/logs_guid/base/2021_01_23/23_45_31/2f2b98c2\")"
   ]
  },
  {
   "cell_type": "code",
   "execution_count": 5,
   "metadata": {
    "pycharm": {
     "name": "#%%\n"
    }
   },
   "outputs": [
    {
     "name": "stdout",
     "output_type": "stream",
     "text": [
      "68124\n",
      "22631\n",
      "15509\n",
      "Data is saved to /dfs/scratch0/lorr1/projects/bootleg-data/downstream/tacred/all_tacred_bootinput.jsonl\n"
     ]
    }
   ],
   "source": [
    "# Converts three separate files into one for mention extraction\n",
    "# Outputs: tacred_dir / all_tacred_bootinput.jsonl\n",
    "import convert_to_jsonl\n",
    "convert_to_jsonl.main(source_path=tacred_dir)"
   ]
  },
  {
   "cell_type": "code",
   "execution_count": 5,
   "metadata": {
    "pycharm": {
     "name": "#%%\n"
    }
   },
   "outputs": [],
   "source": [
    "cand_map = wiki_train_dir / 'entity_db/entity_mappings/alias2qids_filt.json'\n",
    "infile = tacred_dir / \"all_tacred_bootinput.jsonl\"\n",
    "outfile = tacred_dir / \"all_tacred_bootinput_ent.jsonl\""
   ]
  },
  {
   "cell_type": "code",
   "execution_count": null,
   "metadata": {},
   "outputs": [],
   "source": [
    "extract_mentions(in_filepath=infile, out_filepath=outfile, cand_map_file=cand_map, num_workers=20)"
   ]
  },
  {
   "cell_type": "code",
   "execution_count": 10,
   "metadata": {
    "pycharm": {
     "name": "#%%\n"
    }
   },
   "outputs": [
    {
     "data": {
      "text/html": [
       "<div>\n",
       "<style scoped>\n",
       "    .dataframe tbody tr th:only-of-type {\n",
       "        vertical-align: middle;\n",
       "    }\n",
       "\n",
       "    .dataframe tbody tr th {\n",
       "        vertical-align: top;\n",
       "    }\n",
       "\n",
       "    .dataframe thead th {\n",
       "        text-align: right;\n",
       "    }\n",
       "</style>\n",
       "<table border=\"1\" class=\"dataframe\">\n",
       "  <thead>\n",
       "    <tr style=\"text-align: right;\">\n",
       "      <th></th>\n",
       "      <th>sentence</th>\n",
       "      <th>aliases</th>\n",
       "      <th>spans</th>\n",
       "    </tr>\n",
       "  </thead>\n",
       "  <tbody>\n",
       "    <tr>\n",
       "      <th>5385</th>\n",
       "      <td>Kurnaz was seized by US forces in Pakistan shortly after the September 11 , 2001 attacks on the United States and was later sent to a US prison in Afghanistan before being incarcerated at Guantanamo Bay in 2002 .</td>\n",
       "      <td>[us forces, pakistan, september 11 2001 attacks, united states, us prison, afghanistan, guantanamo bay]</td>\n",
       "      <td>[[4, 6], [7, 8], [11, 16], [18, 20], [26, 28], [29, 30], [34, 36]]</td>\n",
       "    </tr>\n",
       "    <tr>\n",
       "      <th>26969</th>\n",
       "      <td>Abigail Johnson , Massachusetts , 44 , $ 12.5 , Fidelity 29 .</td>\n",
       "      <td>[massachusetts, fidelity]</td>\n",
       "      <td>[[3, 4], [10, 11]]</td>\n",
       "    </tr>\n",
       "    <tr>\n",
       "      <th>19609</th>\n",
       "      <td>The youthful zeal of the Paul movement `` does recall the early Goldwater movement , which was also jampacked with people dropping out of graduate school , college , maybe even high school , to devote themselves 24/7 to what they called the ` revolution , '' ' said Rick Perlstein , author of `` Before the Storm : Barry Goldwater and the Unmaking of the American Consensus '' ( Hill and Wang , 2002 ) .</td>\n",
       "      <td>[zeal, paul, goldwater, revolution, rick perlstein, storm, barry goldwater, hill, wang]</td>\n",
       "      <td>[[2, 3], [5, 6], [12, 13], [44, 45], [49, 51], [57, 58], [59, 61], [70, 71], [72, 73]]</td>\n",
       "    </tr>\n",
       "    <tr>\n",
       "      <th>73045</th>\n",
       "      <td>He is also charged with violating his squadron commander 's October 2009 order to notify his sexual partners about his HIV status before having sexual relations and to use condoms .</td>\n",
       "      <td>[commander, october 2009, sexual partners, hiv, sexual relations]</td>\n",
       "      <td>[[8, 9], [10, 12], [16, 18], [20, 21], [24, 26]]</td>\n",
       "    </tr>\n",
       "    <tr>\n",
       "      <th>32591</th>\n",
       "      <td>`` We reserve the right to take further legal action as we see fit , '' Haifa University President Aaron Ben Zeev told The Jerusalem Post .</td>\n",
       "      <td>[legal action, haifa university, the jerusalem post]</td>\n",
       "      <td>[[8, 10], [16, 18], [23, 26]]</td>\n",
       "    </tr>\n",
       "    <tr>\n",
       "      <th>92664</th>\n",
       "      <td>1 on the US album chart with `` Something For Everybody '' -- his sixth US No</td>\n",
       "      <td>[us album chart, us]</td>\n",
       "      <td>[[3, 6], [15, 16]]</td>\n",
       "    </tr>\n",
       "    <tr>\n",
       "      <th>31391</th>\n",
       "      <td>High Score Table PRC 79 Jo 74 Peeb 70 Sebs 68 Helen 67 Jimbo 66 Snake 66 Sumi 66 Lozz 66 STEPHEN 65 Alistair 65 Robz 65 Murf 64 Stroma 64 Peggie 64 Martyn 64 Gee 63 Alison 63 Moog 62 Simon 61 Jan 60 Nicky 60 Bluenose 60 Barry 60 Eyan 57 Dan 53 Piablo 52 Cally 45 AJ 41 Jim D 28</td>\n",
       "      <td>[prc, jo, sebs, helen, jimbo, snake, sumi, alistair, stroma, peggie, martyn, gee, alison, moog, simon, jan, nicky, bluenose, barry, dan, aj]</td>\n",
       "      <td>[[3, 4], [5, 6], [9, 10], [11, 12], [13, 14], [15, 16], [17, 18], [23, 24], [29, 30], [31, 32], [33, 34], [35, 36], [37, 38], [39, 40], [41, 42], [43, 44], [45, 46], [47, 48], [49, 50], [53, 54], [59, 60]]</td>\n",
       "    </tr>\n",
       "    <tr>\n",
       "      <th>54516</th>\n",
       "      <td>Ambac plunged 23.82 percent to 2.59 and MBIA dropped 21.22 percent to 8.24 after reporting third-quarter losses and steep write-downs on soured assets .</td>\n",
       "      <td>[mbia, losses, writedowns]</td>\n",
       "      <td>[[7, 8], [16, 17], [19, 20]]</td>\n",
       "    </tr>\n",
       "    <tr>\n",
       "      <th>79440</th>\n",
       "      <td>Iraqi Shiite leader Abdel Aziz al-Hakim has died in a Tehran hospital after a long battle with lung cancer , his son Mohsen Hakim told AFP .</td>\n",
       "      <td>[alhakim, tehran, lung, afp]</td>\n",
       "      <td>[[5, 6], [10, 11], [17, 18], [25, 26]]</td>\n",
       "    </tr>\n",
       "    <tr>\n",
       "      <th>94508</th>\n",
       "      <td>He said his wife went to see Piedra for teeth whitening , but ended up with a recommendation for extensive work and an unauthorized charge of $ 3,218 on his credit card .</td>\n",
       "      <td>[piedra, recommendation, credit card]</td>\n",
       "      <td>[[7, 8], [17, 18], [30, 32]]</td>\n",
       "    </tr>\n",
       "    <tr>\n",
       "      <th>66061</th>\n",
       "      <td>URGENT Auto : Massa wins Bahrain Grand Prix Englishman Lewis Hamilton was second in a McClaren and Kimi Raikkonen of Finland in another Ferrari was third .</td>\n",
       "      <td>[urgent, auto, massa, bahrain grand prix, lewis hamilton, mcclaren, kimi raikkonen, finland, ferrari]</td>\n",
       "      <td>[[0, 1], [1, 2], [3, 4], [5, 8], [9, 11], [15, 16], [17, 19], [20, 21], [23, 24]]</td>\n",
       "    </tr>\n",
       "    <tr>\n",
       "      <th>28195</th>\n",
       "      <td>Lifting a bit of suspense over one of the museum world 's most controversial architecture commissions , the Barnes Foundation has chosen Tod Williams and Billie Tsien to design its new home in downtown Philadelphia .</td>\n",
       "      <td>[bit, suspense, architecture, commissions, barnes foundation, tod williams, downtown philadelphia]</td>\n",
       "      <td>[[2, 3], [4, 5], [14, 15], [15, 16], [18, 20], [22, 24], [33, 35]]</td>\n",
       "    </tr>\n",
       "    <tr>\n",
       "      <th>91850</th>\n",
       "      <td>Nash told Winfrey she is not in pain but ca n't breathe through her nose and has to eat through a straw .</td>\n",
       "      <td>[nash, winfrey, pain, nose, straw]</td>\n",
       "      <td>[[0, 1], [2, 3], [7, 8], [14, 15], [21, 22]]</td>\n",
       "    </tr>\n",
       "    <tr>\n",
       "      <th>46375</th>\n",
       "      <td>Directors included John Frankenheimer and George Roy Hill .</td>\n",
       "      <td>[john frankenheimer, george roy hill]</td>\n",
       "      <td>[[2, 4], [5, 8]]</td>\n",
       "    </tr>\n",
       "    <tr>\n",
       "      <th>19049</th>\n",
       "      <td>`` The Vostok 's electrical supply is currently cut off for debts , and we never got the money for the work we have done , '' Ria-Novosti news agency quoted Povzyk as saying .</td>\n",
       "      <td>[vostok, rianovosti, news agency]</td>\n",
       "      <td>[[2, 3], [27, 28], [28, 30]]</td>\n",
       "    </tr>\n",
       "    <tr>\n",
       "      <th>99355</th>\n",
       "      <td>Countrywide Bank , FSB , a member of the Countrywide Financial Corporation ( NYSE : CFC ) family of companies , is among the nation &amp; # 8217 ; s fastest-growing and ranks among the 20 largest national banks .</td>\n",
       "      <td>[fsb, nyse, cfc, ranks, banks]</td>\n",
       "      <td>[[3, 4], [13, 14], [15, 16], [32, 33], [38, 39]]</td>\n",
       "    </tr>\n",
       "    <tr>\n",
       "      <th>74151</th>\n",
       "      <td>Her attacks on Frank -- she questions his `` wisdom '' and predictably invokes that tired cliché that he has `` thrown transfolk overboard '' -- are misguided .</td>\n",
       "      <td>[frank, wisdom]</td>\n",
       "      <td>[[3, 4], [9, 10]]</td>\n",
       "    </tr>\n",
       "    <tr>\n",
       "      <th>3090</th>\n",
       "      <td>President Jalal Talabani , a Kurd , said former Defense Minister Sultan Hashim Ahmad al-Tai deserved to be spared because he had been carrying out orders under threat of death by Saddam and because he had engaged in official contact with the Kurdish community under the ousted regime .</td>\n",
       "      <td>[jalal talabani, kurd, defense minister, altai, saddam]</td>\n",
       "      <td>[[1, 3], [5, 6], [9, 11], [14, 15], [31, 32]]</td>\n",
       "    </tr>\n",
       "    <tr>\n",
       "      <th>32173</th>\n",
       "      <td>`` The fact that the judge could , with a straight face , conclude that after several millennia there is no rational reason why Congress might want to define marriage as one man and one woman , even though it has existed that way for thousands of years , is irrational , '' said Bruce Hausknecht , judicial analyst for CitizenLink , the political arm of the group Focus on the Family .</td>\n",
       "      <td>[judge, congress, man, analyst, citizenlink, arm, focus on the family]</td>\n",
       "      <td>[[5, 6], [24, 25], [32, 33], [58, 59], [60, 61], [64, 65], [68, 72]]</td>\n",
       "    </tr>\n",
       "    <tr>\n",
       "      <th>46437</th>\n",
       "      <td>Over the last few days , Cathleen P. Black , Mayor Michael R. Bloomberg 's head-turning choice for schools chancellor , has been furiously dialing members of New York 's political class to simultaneously introduce herself and beat back mounting skepticism of her qualifications .</td>\n",
       "      <td>[michael r bloomberg, chancellor, new york, skepticism, qualifications]</td>\n",
       "      <td>[[11, 14], [19, 20], [27, 29], [40, 41], [43, 44]]</td>\n",
       "    </tr>\n",
       "  </tbody>\n",
       "</table>\n",
       "</div>"
      ],
      "text/plain": [
       "                                                                                                                                                                                                                                                                                                                                                                                                                  sentence  \\\n",
       "5385                                                                                                                                                                                                  Kurnaz was seized by US forces in Pakistan shortly after the September 11 , 2001 attacks on the United States and was later sent to a US prison in Afghanistan before being incarcerated at Guantanamo Bay in 2002 .   \n",
       "26969                                                                                                                                                                                                                                                                                                                                                        Abigail Johnson , Massachusetts , 44 , $ 12.5 , Fidelity 29 .   \n",
       "19609  The youthful zeal of the Paul movement `` does recall the early Goldwater movement , which was also jampacked with people dropping out of graduate school , college , maybe even high school , to devote themselves 24/7 to what they called the ` revolution , '' ' said Rick Perlstein , author of `` Before the Storm : Barry Goldwater and the Unmaking of the American Consensus '' ( Hill and Wang , 2002 ) .   \n",
       "73045                                                                                                                                                                                                                                He is also charged with violating his squadron commander 's October 2009 order to notify his sexual partners about his HIV status before having sexual relations and to use condoms .   \n",
       "32591                                                                                                                                                                                                                                                                          `` We reserve the right to take further legal action as we see fit , '' Haifa University President Aaron Ben Zeev told The Jerusalem Post .   \n",
       "92664                                                                                                                                                                                                                                                                                                                                        1 on the US album chart with `` Something For Everybody '' -- his sixth US No   \n",
       "31391                                                                                                                                High Score Table PRC 79 Jo 74 Peeb 70 Sebs 68 Helen 67 Jimbo 66 Snake 66 Sumi 66 Lozz 66 STEPHEN 65 Alistair 65 Robz 65 Murf 64 Stroma 64 Peggie 64 Martyn 64 Gee 63 Alison 63 Moog 62 Simon 61 Jan 60 Nicky 60 Bluenose 60 Barry 60 Eyan 57 Dan 53 Piablo 52 Cally 45 AJ 41 Jim D 28   \n",
       "54516                                                                                                                                                                                                                                                             Ambac plunged 23.82 percent to 2.59 and MBIA dropped 21.22 percent to 8.24 after reporting third-quarter losses and steep write-downs on soured assets .   \n",
       "79440                                                                                                                                                                                                                                                                         Iraqi Shiite leader Abdel Aziz al-Hakim has died in a Tehran hospital after a long battle with lung cancer , his son Mohsen Hakim told AFP .   \n",
       "94508                                                                                                                                                                                                                                           He said his wife went to see Piedra for teeth whitening , but ended up with a recommendation for extensive work and an unauthorized charge of $ 3,218 on his credit card .   \n",
       "66061                                                                                                                                                                                                                                                          URGENT Auto : Massa wins Bahrain Grand Prix Englishman Lewis Hamilton was second in a McClaren and Kimi Raikkonen of Finland in another Ferrari was third .   \n",
       "28195                                                                                                                                                                                             Lifting a bit of suspense over one of the museum world 's most controversial architecture commissions , the Barnes Foundation has chosen Tod Williams and Billie Tsien to design its new home in downtown Philadelphia .   \n",
       "91850                                                                                                                                                                                                                                                                                                            Nash told Winfrey she is not in pain but ca n't breathe through her nose and has to eat through a straw .   \n",
       "46375                                                                                                                                                                                                                                                                                                                                                          Directors included John Frankenheimer and George Roy Hill .   \n",
       "19049                                                                                                                                                                                                                                      `` The Vostok 's electrical supply is currently cut off for debts , and we never got the money for the work we have done , '' Ria-Novosti news agency quoted Povzyk as saying .   \n",
       "99355                                                                                                                                                                                                     Countrywide Bank , FSB , a member of the Countrywide Financial Corporation ( NYSE : CFC ) family of companies , is among the nation & # 8217 ; s fastest-growing and ranks among the 20 largest national banks .   \n",
       "74151                                                                                                                                                                                                                                                     Her attacks on Frank -- she questions his `` wisdom '' and predictably invokes that tired cliché that he has `` thrown transfolk overboard '' -- are misguided .   \n",
       "3090                                                                                                                         President Jalal Talabani , a Kurd , said former Defense Minister Sultan Hashim Ahmad al-Tai deserved to be spared because he had been carrying out orders under threat of death by Saddam and because he had engaged in official contact with the Kurdish community under the ousted regime .   \n",
       "32173                    `` The fact that the judge could , with a straight face , conclude that after several millennia there is no rational reason why Congress might want to define marriage as one man and one woman , even though it has existed that way for thousands of years , is irrational , '' said Bruce Hausknecht , judicial analyst for CitizenLink , the political arm of the group Focus on the Family .   \n",
       "46437                                                                                                                              Over the last few days , Cathleen P. Black , Mayor Michael R. Bloomberg 's head-turning choice for schools chancellor , has been furiously dialing members of New York 's political class to simultaneously introduce herself and beat back mounting skepticism of her qualifications .   \n",
       "\n",
       "                                                                                                                                            aliases  \\\n",
       "5385                                        [us forces, pakistan, september 11 2001 attacks, united states, us prison, afghanistan, guantanamo bay]   \n",
       "26969                                                                                                                     [massachusetts, fidelity]   \n",
       "19609                                                       [zeal, paul, goldwater, revolution, rick perlstein, storm, barry goldwater, hill, wang]   \n",
       "73045                                                                             [commander, october 2009, sexual partners, hiv, sexual relations]   \n",
       "32591                                                                                          [legal action, haifa university, the jerusalem post]   \n",
       "92664                                                                                                                          [us album chart, us]   \n",
       "31391  [prc, jo, sebs, helen, jimbo, snake, sumi, alistair, stroma, peggie, martyn, gee, alison, moog, simon, jan, nicky, bluenose, barry, dan, aj]   \n",
       "54516                                                                                                                    [mbia, losses, writedowns]   \n",
       "79440                                                                                                                  [alhakim, tehran, lung, afp]   \n",
       "94508                                                                                                         [piedra, recommendation, credit card]   \n",
       "66061                                         [urgent, auto, massa, bahrain grand prix, lewis hamilton, mcclaren, kimi raikkonen, finland, ferrari]   \n",
       "28195                                            [bit, suspense, architecture, commissions, barnes foundation, tod williams, downtown philadelphia]   \n",
       "91850                                                                                                            [nash, winfrey, pain, nose, straw]   \n",
       "46375                                                                                                         [john frankenheimer, george roy hill]   \n",
       "19049                                                                                                             [vostok, rianovosti, news agency]   \n",
       "99355                                                                                                                [fsb, nyse, cfc, ranks, banks]   \n",
       "74151                                                                                                                               [frank, wisdom]   \n",
       "3090                                                                                        [jalal talabani, kurd, defense minister, altai, saddam]   \n",
       "32173                                                                        [judge, congress, man, analyst, citizenlink, arm, focus on the family]   \n",
       "46437                                                                       [michael r bloomberg, chancellor, new york, skepticism, qualifications]   \n",
       "\n",
       "                                                                                                                                                                                                               spans  \n",
       "5385                                                                                                                                              [[4, 6], [7, 8], [11, 16], [18, 20], [26, 28], [29, 30], [34, 36]]  \n",
       "26969                                                                                                                                                                                             [[3, 4], [10, 11]]  \n",
       "19609                                                                                                                         [[2, 3], [5, 6], [12, 13], [44, 45], [49, 51], [57, 58], [59, 61], [70, 71], [72, 73]]  \n",
       "73045                                                                                                                                                               [[8, 9], [10, 12], [16, 18], [20, 21], [24, 26]]  \n",
       "32591                                                                                                                                                                                  [[8, 10], [16, 18], [23, 26]]  \n",
       "92664                                                                                                                                                                                             [[3, 6], [15, 16]]  \n",
       "31391  [[3, 4], [5, 6], [9, 10], [11, 12], [13, 14], [15, 16], [17, 18], [23, 24], [29, 30], [31, 32], [33, 34], [35, 36], [37, 38], [39, 40], [41, 42], [43, 44], [45, 46], [47, 48], [49, 50], [53, 54], [59, 60]]  \n",
       "54516                                                                                                                                                                                   [[7, 8], [16, 17], [19, 20]]  \n",
       "79440                                                                                                                                                                         [[5, 6], [10, 11], [17, 18], [25, 26]]  \n",
       "94508                                                                                                                                                                                   [[7, 8], [17, 18], [30, 32]]  \n",
       "66061                                                                                                                              [[0, 1], [1, 2], [3, 4], [5, 8], [9, 11], [15, 16], [17, 19], [20, 21], [23, 24]]  \n",
       "28195                                                                                                                                             [[2, 3], [4, 5], [14, 15], [15, 16], [18, 20], [22, 24], [33, 35]]  \n",
       "91850                                                                                                                                                                   [[0, 1], [2, 3], [7, 8], [14, 15], [21, 22]]  \n",
       "46375                                                                                                                                                                                               [[2, 4], [5, 8]]  \n",
       "19049                                                                                                                                                                                   [[2, 3], [27, 28], [28, 30]]  \n",
       "99355                                                                                                                                                               [[3, 4], [13, 14], [15, 16], [32, 33], [38, 39]]  \n",
       "74151                                                                                                                                                                                              [[3, 4], [9, 10]]  \n",
       "3090                                                                                                                                                                   [[1, 3], [5, 6], [9, 11], [14, 15], [31, 32]]  \n",
       "32173                                                                                                                                           [[5, 6], [24, 25], [32, 33], [58, 59], [60, 61], [64, 65], [68, 72]]  \n",
       "46437                                                                                                                                                             [[11, 14], [19, 20], [27, 29], [40, 41], [43, 44]]  "
      ]
     },
     "metadata": {},
     "output_type": "display_data"
    }
   ],
   "source": [
    "from tutorials.utils import load_mentions\n",
    "# If you want to do error analysis and examine the mentions\n",
    "bootleg_mentions_df = load_mentions(outfile)\n",
    "display(bootleg_mentions_df.sample(20))"
   ]
  },
  {
   "cell_type": "code",
   "execution_count": 10,
   "metadata": {
    "pycharm": {
     "name": "#%%\n"
    }
   },
   "outputs": [],
   "source": [
    "from bootleg.utils.parser.parser_utils import parse_boot_and_emm_args\n",
    "from bootleg.utils.utils import load_yaml_file, dump_yaml_file\n",
    "from bootleg.run import run_model\n",
    "\n",
    "config_in_path = root_boot_model / 'run_config.yaml'\n",
    "\n",
    "config_args = load_yaml_file(config_in_path)\n",
    "\n",
    "# decrease number of data threads as this is a small file\n",
    "config_args[\"run_config\"][\"dataset_threads\"] = 2\n",
    "config_args[\"run_config\"][\"log_level\"] = \"info\"\n",
    "# set the model checkpoint path\n",
    "config_args[\"emmental\"][\"model_path\"] = str(root_boot_model / 'last_model.pth')\n",
    "config_args[\"emmental\"][\"log_path\"] = str(\"bootleg_results\")\n",
    "# set the path for the entity db and candidate map\n",
    "config_args[\"data_config\"][\"entity_dir\"] = str(wiki_train_dir / 'entity_db')\n",
    "config_args[\"data_config\"][\"alias_cand_map\"] = str(cand_map.name)\n",
    "\n",
    "config_args[\"data_config\"][\"data_dir\"] = str(tacred_dir)\n",
    "config_args[\"data_config\"][\"test_dataset\"][\"file\"] = str(outfile)\n",
    "\n",
    "# set the embedding paths\n",
    "config_args[\"data_config\"][\"emb_dir\"] =  str(emb_dir)\n",
    "config_args[\"data_config\"][\"word_embedding\"][\"cache_dir\"] =  str(emb_dir / 'pretrained_bert_models')\n",
    "\n",
    "# Put on CPU\n",
    "# config_args[\"emmental\"][\"device\"] = -1\n",
    "\n",
    "# Can use this to run via command line:\n",
    "# python3 -m bootleg.run --mode dump_embs --config_script /dfs/scratch0/lorr1/projects/bootleg/notebooks/tacred/tacred_eval_config.yaml\n",
    "config_out_path = \"tacred_eval_config.yaml\"\n",
    "dump_yaml_file(config_out_path, config_args)\n",
    "\n",
    "config_args = parse_boot_and_emm_args(config_args) # or you can pass in the config_out_path\n",
    "\n",
    "# bootleg_label_file, bootleg_emb_file = run_model(mode=\"dump_embs\", config=config_args)"
   ]
  },
  {
   "cell_type": "code",
   "execution_count": 16,
   "metadata": {},
   "outputs": [],
   "source": [
    "bootleg_emb_file = \"/dfs/scratch1/lorr1/projects/bootleg/bootleg_results/2021_02_03/18_34_36/c4128349/all_tacred_bootinput_ent/last_model/bootleg_embs.npy\"\n",
    "bootleg_label_file = \"/dfs/scratch1/lorr1/projects/bootleg/bootleg_results/2021_02_03/18_34_36/c4128349/all_tacred_bootinput_ent/last_model/bootleg_labels.jsonl\""
   ]
  },
  {
   "cell_type": "code",
   "execution_count": 18,
   "metadata": {
    "pycharm": {
     "name": "#%%\n"
    }
   },
   "outputs": [
    {
     "name": "stdout",
     "output_type": "stream",
     "text": [
      "Index(['id', 'sentence', 'aliases', 'spans', 'gold', 'cand_probs', 'qids',\n",
      "       'sent_idx_unq', 'probs', 'ctx_emb_ids', 'entity_ids'],\n",
      "      dtype='object')\n",
      "(106264, 11)\n",
      "TRAIN SHAPE:  (68124, 14)\n",
      "DEV SHAPE:  (22631, 14)\n",
      "TEST SHAPE (15509, 14)\n",
      "Removed 50156 out of 106264 with threshold 0.5\n",
      "Saved datasets with Bootleg features to train_ent.json, dev_ent.json, test_ent.json in /dfs/scratch0/lorr1/projects/bootleg-data/downstream/tacred directory\n"
     ]
    }
   ],
   "source": [
    "import add_bootleg_feature\n",
    "threshold = 0.5\n",
    "add_bootleg_feature.main(os.path.dirname(bootleg_label_file), str(tacred_dir), threshold)"
   ]
  },
  {
   "cell_type": "code",
   "execution_count": 21,
   "metadata": {
    "pycharm": {
     "name": "#%%\n"
    }
   },
   "outputs": [
    {
     "name": "stdout",
     "output_type": "stream",
     "text": [
      "Saved ent at /dfs/scratch0/lorr1/projects/bootleg-data/downstream/tacred/ent_vocab.pkl\n"
     ]
    }
   ],
   "source": [
    "import prepare_entity_vocab_bootleg\n",
    "prepare_entity_vocab_bootleg.main(os.path.dirname(bootleg_emb_file), str(tacred_dir))"
   ]
  },
  {
   "cell_type": "code",
   "execution_count": null,
   "metadata": {},
   "outputs": [],
   "source": []
  }
 ],
 "metadata": {
  "kernelspec": {
   "display_name": "Python 3",
   "language": "python",
   "name": "python3"
  },
  "language_info": {
   "codemirror_mode": {
    "name": "ipython",
    "version": 3
   },
   "file_extension": ".py",
   "mimetype": "text/x-python",
   "name": "python",
   "nbconvert_exporter": "python",
   "pygments_lexer": "ipython3",
   "version": "3.8.6"
  }
 },
 "nbformat": 4,
 "nbformat_minor": 1
}
