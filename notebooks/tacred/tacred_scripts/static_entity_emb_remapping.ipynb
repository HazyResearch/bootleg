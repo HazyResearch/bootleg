{
 "cells": [
  {
   "cell_type": "code",
   "execution_count": 2,
   "metadata": {},
   "outputs": [
    {
     "name": "stderr",
     "output_type": "stream",
     "text": [
      "/dfs/scratch1/simran/tutorial/bootleg-internal/.bootinternal/lib/python3.6/site-packages/pandas/compat/__init__.py:85: UserWarning: Could not import the lzma module. Your installed Python is incomplete. Attempting to use lzma compression will result in a RuntimeError.\n",
      "  warnings.warn(msg)\n",
      "/dfs/scratch1/simran/tutorial/bootleg-internal/.bootinternal/lib/python3.6/site-packages/pandas/compat/__init__.py:85: UserWarning: Could not import the lzma module. Your installed Python is incomplete. Attempting to use lzma compression will result in a RuntimeError.\n",
      "  warnings.warn(msg)\n"
     ]
    }
   ],
   "source": [
    "import os\n",
    "import sys\n",
    "sys.path.append('/dfs/scratch1/simran/tutorial/contextual-embeddings/')\n",
    "import numpy as np\n",
    "import pickle\n",
    "import random\n",
    "import ujson\n",
    "import argparse\n",
    "import pandas as pd\n",
    "import pickle\n",
    "import json\n",
    "import csv\n",
    "from collections import defaultdict, OrderedDict\n",
    "import jsonlines"
   ]
  },
  {
   "cell_type": "markdown",
   "metadata": {},
   "source": [
    "# preliminary loading"
   ]
  },
  {
   "cell_type": "code",
   "execution_count": 3,
   "metadata": {},
   "outputs": [],
   "source": [
    "def load_mentions(file): \n",
    "    lines = []\n",
    "    with jsonlines.open(file) as f: \n",
    "        for line in f: \n",
    "            new_line = {\n",
    "                'id': line['id'],\n",
    "                'sentence': line['sentence'],\n",
    "                'aliases': line['aliases'], \n",
    "                'spans': line['spans'],\n",
    "                'qids': line['qids'],\n",
    "                'anchor': line['anchor'],\n",
    "                'sent_idx_unq': line['sent_idx_unq'],\n",
    "                'probs': line['probs'],\n",
    "                'ctx_emb_ids': line['ctx_emb_ids'],\n",
    "                'entity_ids': line['entity_ids']\n",
    "            }\n",
    "            lines.append(new_line)\n",
    "    return pd.DataFrame(lines)"
   ]
  },
  {
   "cell_type": "code",
   "execution_count": 4,
   "metadata": {},
   "outputs": [],
   "source": [
    "def load_dataset(file):\n",
    "    lines = []\n",
    "    with json.open(file) as f: \n",
    "        lines.append(new_line)\n",
    "    return pd.DataFrame(lines)"
   ]
  },
  {
   "cell_type": "code",
   "execution_count": 36,
   "metadata": {},
   "outputs": [],
   "source": [
    "directory = '/dfs/scratch1/simran/tacred/tacred-relation-bootleg/dataset_bootleg_cidr_model/bootleg_09042020/091120_augmt_pronoun_1person/'\n",
    "boot_labels_file = \"{}bootleg_labels.jsonl\".format(directory)\n",
    "bootleg_labels_df = load_mentions(boot_labels_file)"
   ]
  },
  {
   "cell_type": "markdown",
   "metadata": {},
   "source": [
    "# generate a remapping for the static entit ids"
   ]
  },
  {
   "cell_type": "code",
   "execution_count": 29,
   "metadata": {},
   "outputs": [],
   "source": [
    "static_ent_ids_remap = []\n",
    "\n",
    "for ind, row in bootleg_labels_df.iterrows():\n",
    "    static_ids = row['entity_ids']\n",
    "    for idx in static_ids:\n",
    "        static_ent_ids_remap.append(idx)\n",
    "\n",
    "static_ent_ids_remap.append(-1) # unknown\n",
    "        "
   ]
  },
  {
   "cell_type": "code",
   "execution_count": 30,
   "metadata": {},
   "outputs": [
    {
     "name": "stdout",
     "output_type": "stream",
     "text": [
      "675465\n",
      "64055\n"
     ]
    }
   ],
   "source": [
    "print(len(static_ent_ids_remap))\n",
    "print(len(set(static_ent_ids_remap)))"
   ]
  },
  {
   "cell_type": "code",
   "execution_count": 31,
   "metadata": {},
   "outputs": [],
   "source": [
    "remap_static_ent_id_dict = {}\n",
    "count = 0\n",
    "for idx in set(static_ent_ids_remap):\n",
    "    remap_static_ent_id_dict[count] = idx\n",
    "    count += 1"
   ]
  },
  {
   "cell_type": "markdown",
   "metadata": {},
   "source": [
    "# extract out the static entity embs based on the remapping"
   ]
  },
  {
   "cell_type": "code",
   "execution_count": 32,
   "metadata": {},
   "outputs": [],
   "source": [
    "datafile = '/dfs/scratch1/simran/tacred/tacred-relation-bootleg/dataset_bootleg_cidr_model/bootleg_downloads/static_embeddings.npy'\n",
    "dir = os.path.dirname(datafile)\n",
    "emb_data = np.load(datafile)"
   ]
  },
  {
   "cell_type": "code",
   "execution_count": 33,
   "metadata": {},
   "outputs": [
    {
     "name": "stderr",
     "output_type": "stream",
     "text": [
      "100%|██████████| 64055/64055 [00:00<00:00, 894620.42it/s]\n"
     ]
    }
   ],
   "source": [
    "result_array = np.empty((len(set(static_ent_ids_remap)), 200))\n",
    "from tqdm import tqdm\n",
    "\n",
    "idx_lst = []\n",
    "for idx_new, idx_orig in tqdm(remap_static_ent_id_dict.items()):\n",
    "    idx_lst.append(idx_orig)\n",
    "result_array = emb_data[np.array(idx_lst)] "
   ]
  },
  {
   "cell_type": "code",
   "execution_count": 35,
   "metadata": {},
   "outputs": [],
   "source": [
    "np.save('{DIR}/static_ent_emb_tacred.npy'.format(DIR=dir), result_array)"
   ]
  },
  {
   "cell_type": "code",
   "execution_count": null,
   "metadata": {},
   "outputs": [],
   "source": []
  },
  {
   "cell_type": "code",
   "execution_count": null,
   "metadata": {},
   "outputs": [],
   "source": []
  }
 ],
 "metadata": {
  "kernelspec": {
   "display_name": "Python 3",
   "language": "python",
   "name": "python3"
  },
  "language_info": {
   "codemirror_mode": {
    "name": "ipython",
    "version": 3
   },
   "file_extension": ".py",
   "mimetype": "text/x-python",
   "name": "python",
   "nbconvert_exporter": "python",
   "pygments_lexer": "ipython3",
   "version": "3.8.6"
  }
 },
 "nbformat": 4,
 "nbformat_minor": 4
}
