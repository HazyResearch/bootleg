{
 "cells": [
  {
   "cell_type": "code",
   "execution_count": 1,
   "metadata": {},
   "outputs": [
    {
     "name": "stderr",
     "output_type": "stream",
     "text": [
      "/dfs/scratch1/simran/tutorial/bootleg-internal/.bootinternal/lib/python3.6/site-packages/pandas/compat/__init__.py:85: UserWarning: Could not import the lzma module. Your installed Python is incomplete. Attempting to use lzma compression will result in a RuntimeError.\n",
      "  warnings.warn(msg)\n",
      "/dfs/scratch1/simran/tutorial/bootleg-internal/.bootinternal/lib/python3.6/site-packages/pandas/compat/__init__.py:85: UserWarning: Could not import the lzma module. Your installed Python is incomplete. Attempting to use lzma compression will result in a RuntimeError.\n",
      "  warnings.warn(msg)\n"
     ]
    }
   ],
   "source": [
    "import sys\n",
    "sys.path.append('/dfs/scratch1/simran/tutorial/contextual-embeddings/')\n",
    "import os\n",
    "import random\n",
    "import ujson\n",
    "import argparse\n",
    "import pandas as pd\n",
    "import numpy as np\n",
    "import pickle\n",
    "import json\n",
    "import csv\n",
    "from collections import defaultdict, OrderedDict\n",
    "import jsonlines\n",
    "pd.set_option('display.max_colwidth', -1)\n",
    "from tqdm import tqdm"
   ]
  },
  {
   "cell_type": "markdown",
   "metadata": {},
   "source": [
    "# Utility functions"
   ]
  },
  {
   "cell_type": "code",
   "execution_count": 2,
   "metadata": {},
   "outputs": [
    {
     "name": "stdout",
     "output_type": "stream",
     "text": [
      "Reading in existing entity word bags from /dfs/scratch0/lorr1/data_prep/data/wiki0905/entity_db/entity_mappings/entity_bag_of_words\n",
      "Reading in vocab from /dfs/scratch0/lorr1/data_prep/data/wiki0905/entity_db/entity_mappings/entity_all_words/all_words_vocab.marisa\n",
      "Loaded entity symbols.\n",
      "Loading alias qid counts from /dfs/scratch0/lorr1/data_prep/data/wiki0905/stats/alias_qid_traindata_withaugment.json\n",
      "Found 506 hyena types\n",
      "Found 26933 wikidata types\n",
      "FINISHED LOADING IN 90.59796619415283\n"
     ]
    }
   ],
   "source": [
    "sys.path.append('/dfs/scratch1/simran/tutorial/bootleg-internal/notebooks')\n",
    "sys.path.append('/dfs/scratch1/simran/tutorial/bootleg-internal/')\n",
    "import utils_not_for_public as du\n",
    "def load_rel_names_0905():\n",
    "    return json.load(open(\"/dfs/scratch1/simran/bootleg_downstream/archive/wikidata_mappings/pid_names.json\"))\n",
    "\n",
    "es_0905, esp_0905, type_vocab_0905, typeid2typename_0905, type_vocab_wd_0905, typeid2typename_wd_0905, alias_qid_count_0905 = du.load_esp(\"wiki_0905\", overwrite=False)     \n",
    "\n",
    "import ujson\n",
    "def load_json_file(filename):\n",
    "    with open(filename, 'r') as f:\n",
    "        contents = ujson.load(f)\n",
    "    return contents\n",
    "\n",
    "\n",
    "typename2title_wd_0905 = load_json_file(\"/dfs/scratch0/lorr1/bootleg/embs/wikidatatypeid_to_title_0905.json\")\n",
    "typeqid_to_id_0905 = json.load(open(\"/dfs/scratch0/lorr1/bootleg/embs/wikidata_to_typeid_0905.json\"))\n",
    "rel2id_0905 = '/dfs/scratch0/lorr1/bootleg/embs/relation_to_typeid_0905.json'\n",
    "rel_to_name_0905 = load_rel_names_0905()"
   ]
  },
  {
   "cell_type": "code",
   "execution_count": 4,
   "metadata": {},
   "outputs": [],
   "source": [
    "\n",
    "\n",
    "def get_relations_lst_0905(qid1, qid2):\n",
    "    # If there are multiple relationships between two qids (both directions)\n",
    "    rels = [esp_0905.get_relation_name(r) for r in esp_0905.get_all_relations(qid1, qid2)]\n",
    "    rels = [rel_to_name_0905.get(rel, rel) for rel in rels]\n",
    "    if rels:\n",
    "        return rels[0]\n",
    "    else:\n",
    "        return \"\""
   ]
  },
  {
   "cell_type": "code",
   "execution_count": 5,
   "metadata": {},
   "outputs": [],
   "source": [
    "def load_mentions(file): \n",
    "    lines = []\n",
    "    with jsonlines.open(file) as f: \n",
    "        for line in f: \n",
    "            new_line = {\n",
    "                'id': line['id'],\n",
    "                'sentence': line['sentence'],\n",
    "                'aliases': line['aliases'], \n",
    "                'spans': line['spans'],\n",
    "                'gold': line['gold'],\n",
    "                'cand_probs': line['cand_probs'],\n",
    "                'qids': line['qids'],\n",
    "                'sent_idx_unq': line['sent_idx_unq'],\n",
    "                'probs': line['probs'],\n",
    "                'ctx_emb_ids': line['ctx_emb_ids'],\n",
    "                'entity_ids': line['entity_ids']\n",
    "            }\n",
    "            lines.append(new_line)\n",
    "    return pd.DataFrame(lines)"
   ]
  },
  {
   "cell_type": "code",
   "execution_count": 6,
   "metadata": {},
   "outputs": [],
   "source": [
    "def get_span(span):\n",
    "    span = span.split(\":\")\n",
    "    span_s = int(span[0])\n",
    "    span_e = int(span[1])\n",
    "    return span_s, span_e"
   ]
  },
  {
   "cell_type": "code",
   "execution_count": 7,
   "metadata": {},
   "outputs": [],
   "source": [
    "def load_mapping(file):\n",
    "    lines = []\n",
    "    with jsonlines.open(file) as f: \n",
    "        for line in f: \n",
    "            new_line = {\n",
    "                'sentence': line['sentence'],\n",
    "                'id': line['id']\n",
    "            }\n",
    "            lines.append(new_line)\n",
    "    return pd.DataFrame(lines)"
   ]
  },
  {
   "cell_type": "code",
   "execution_count": 8,
   "metadata": {},
   "outputs": [],
   "source": [
    "def load_dataset(file):\n",
    "    lines = []\n",
    "    with json.open(file) as f: \n",
    "        lines.append(new_line)\n",
    "    return pd.DataFrame(lines)"
   ]
  },
  {
   "cell_type": "markdown",
   "metadata": {},
   "source": [
    "# Load bootleg labels, mapping of labeled sentences to tacred ids, and tacred splits"
   ]
  },
  {
   "cell_type": "code",
   "execution_count": 13,
   "metadata": {},
   "outputs": [],
   "source": [
    "data_dict = {\n",
    "    'iclr':{'base_directory':'/dfs/scratch1/simran/tacred/tacred-relation-bootleg/dataset_bootleg_iclr_model/bootleg_092620/',\n",
    "            'expt_directory': 'basic_full_sentences/',\n",
    "           },\n",
    "    '1007_full':{'base_directory':'/dfs/scratch1/simran/tacred/tacred-relation-bootleg/dataset_bootleg_ablations/full_expts/',\n",
    "                 'expt_directory': 'basic_full_sentences/'},\n",
    "    '1007_noty':{'base_directory':'/dfs/scratch1/simran/tacred/tacred-relation-bootleg/dataset_bootleg_ablations/noty_expts/',\n",
    "                 'expt_directory': 'basic_full_sentences/'},\n",
    "    '1007_clean_men':{'base_directory':'/dfs/scratch1/simran/tacred/tacred-relation-bootleg/dataset_bootleg_ablations/clean_men/',\n",
    "                 'expt_directory': 'basic_full_sentences/'},\n",
    "    '1007_clean':{'base_directory':'/dfs/scratch1/simran/tacred/tacred-relation-bootleg/dataset_bootleg_ablations/clean_expts/',\n",
    "                 'expt_directory': 'basic_full_sentences/'},\n",
    "    '1007_ft':{'base_directory':'/dfs/scratch1/simran/tacred/tacred-relation-bootleg/dataset_bootleg_ablations/ft_expts/',\n",
    "                 'expt_directory': 'basic_full_sentences/'},\n",
    "    '1007_clean_nowl':{'base_directory':'/dfs/scratch1/simran/tacred/tacred-relation-bootleg/dataset_bootleg_ablations/clean_nowl/',\n",
    "                 'expt_directory': 'basic_full_sentences/'},\n",
    "}\n",
    "\n",
    "key = 'iclr'\n"
   ]
  },
  {
   "cell_type": "code",
   "execution_count": 41,
   "metadata": {
    "scrolled": true
   },
   "outputs": [
    {
     "name": "stdout",
     "output_type": "stream",
     "text": [
      "Index(['id', 'sentence', 'aliases', 'spans', 'gold', 'cand_probs', 'qids',\n",
      "       'sent_idx_unq', 'probs', 'ctx_emb_ids', 'entity_ids'],\n",
      "      dtype='object')\n",
      "(106264, 11)\n"
     ]
    }
   ],
   "source": [
    "base_directory = data_dict[key]['base_directory']\n",
    "expt_directory = data_dict[key]['expt_directory']\n",
    "boot_labels_file = \"{}{}bootleg_labels.jsonl\".format(base_directory, expt_directory)\n",
    "bootleg_labels_df = load_mentions(boot_labels_file)\n",
    "print(bootleg_labels_df.columns)\n",
    "print(bootleg_labels_df.shape)"
   ]
  },
  {
   "cell_type": "code",
   "execution_count": 42,
   "metadata": {},
   "outputs": [
    {
     "name": "stdout",
     "output_type": "stream",
     "text": [
      "(68124, 14)\n",
      "(22631, 14)\n",
      "(15509, 14)\n"
     ]
    }
   ],
   "source": [
    "base_data = '/dfs/scratch1/simran/tacred/tacred-relation-bootleg/dataset_bootleg_iclr_model/tacred/base_data'\n",
    "\n",
    "train_file = \"{}/train.json\".format(base_data)\n",
    "with open(train_file) as train:\n",
    "    df_train = json.load(train)\n",
    "    df_train = pd.DataFrame.from_dict(df_train, orient='columns')\n",
    "    print(df_train.shape)\n",
    "    \n",
    "dev_file = \"{}/dev_rev.json\".format(base_data)\n",
    "with open(dev_file) as dev:\n",
    "    df_dev = json.load(dev)\n",
    "    df_dev = pd.DataFrame.from_dict(df_dev, orient='columns')\n",
    "    print(df_dev.shape)\n",
    "    \n",
    "test_file = \"{}/test_rev.json\".format(base_data)\n",
    "with open(test_file) as test:\n",
    "    df_test = json.load(test)\n",
    "    df_test = pd.DataFrame.from_dict(df_test, orient='columns')\n",
    "    print(df_test.shape)\n"
   ]
  },
  {
   "cell_type": "code",
   "execution_count": 43,
   "metadata": {},
   "outputs": [],
   "source": [
    "train_ids = df_train.loc[:,'id'].tolist()\n",
    "dev_ids = df_dev.loc[:,'id'].tolist()\n",
    "test_ids = df_test.loc[:,'id'].tolist()"
   ]
  },
  {
   "cell_type": "code",
   "execution_count": 44,
   "metadata": {},
   "outputs": [],
   "source": [
    "# Filter bootleg QIDs "
   ]
  },
  {
   "cell_type": "code",
   "execution_count": 45,
   "metadata": {},
   "outputs": [],
   "source": [
    "import math\n",
    "def entropy_candprobs(cand_probs):\n",
    "    entropy = 0\n",
    "    for p in cand_probs:\n",
    "        if p > 0:\n",
    "            entropy += (-p*math.log(p,2))\n",
    "    return entropy"
   ]
  },
  {
   "cell_type": "code",
   "execution_count": 47,
   "metadata": {},
   "outputs": [
    {
     "name": "stdout",
     "output_type": "stream",
     "text": [
      "0.0\n",
      "0.0\n",
      "3.5208970776813384\n",
      "0.0\n",
      "1.7429673857213877\n",
      "0.0\n",
      "0.0\n",
      "0.013588871907137886\n",
      "1.1533277448001882\n",
      "id              61b3a5c8c9a882dcfcd2                                                                                                                                                                                                                                                                                                                                                                                                                                                                                                                                                                                                                                                                                                                                                                                                                                                                                                                                                                                                                                                                                                                                                                                                                                                                                                                                                                                                                                                                                                                                                                                                                                                                                                                                                                                                                                                                                                                                                                                                                                                                                                                                                                                                                                                                                                                                                                                                                                                                                      \n",
      "sentence        Tom Thabane resigned in October last year to form the All Basotho Convention ( ABC ) , crossing the floor with 17 members of parliament , causing constitutional monarch King Letsie III to dissolve parliament and call the snap election .                                                                                                                                                                                                                                                                                                                                                                                                                                                                                                                                                                                                                                                                                                                                                                                                                                                                                                                                                                                                                                                                                                                                                                                                                                                                                                                                                                                                                                                                                                                                                                                                                                                                                                                                                                                                                                                                                                                                                                                                                                                                                                                                                                                                                                                              \n",
      "aliases         [tom thabane, all basotho convention, abc, crossing the floor, members of parliament, constitutional monarch, king letsie iii, dissolve parliament, snap election]                                                                                                                                                                                                                                                                                                                                                                                                                                                                                                                                                                                                                                                                                                                                                                                                                                                                                                                                                                                                                                                                                                                                                                                                                                                                                                                                                                                                                                                                                                                                                                                                                                                                                                                                                                                                                                                                                                                                                                                                                                                                                                                                                                                                                                                                                                                                        \n",
      "spans           [[0, 2], [10, 13], [14, 15], [17, 20], [22, 25], [27, 29], [29, 32], [33, 35], [38, 40]]                                                                                                                                                                                                                                                                                                                                                                                                                                                                                                                                                                                                                                                                                                                                                                                                                                                                                                                                                                                                                                                                                                                                                                                                                                                                                                                                                                                                                                                                                                                                                                                                                                                                                                                                                                                                                                                                                                                                                                                                                                                                                                                                                                                                                                                                                                                                                                                                                  \n",
      "gold            [True, True, True, True, True, True, True, True, True]                                                                                                                                                                                                                                                                                                                                                                                                                                                                                                                                                                                                                                                                                                                                                                                                                                                                                                                                                                                                                                                                                                                                                                                                                                                                                                                                                                                                                                                                                                                                                                                                                                                                                                                                                                                                                                                                                                                                                                                                                                                                                                                                                                                                                                                                                                                                                                                                                                                    \n",
      "cand_probs      [[1.0, 0.0, 0.0, 0.0, 0.0, 0.0, 0.0, 0.0, 0.0, 0.0, 0.0, 0.0, 0.0, 0.0, 0.0, 0.0, 0.0, 0.0, 0.0, 0.0, 0.0, 0.0, 0.0, 0.0, 0.0, 0.0, 0.0, 0.0, 0.0, 0.0], [1.0, 0.0, 0.0, 0.0, 0.0, 0.0, 0.0, 0.0, 0.0, 0.0, 0.0, 0.0, 0.0, 0.0, 0.0, 0.0, 0.0, 0.0, 0.0, 0.0, 0.0, 0.0, 0.0, 0.0, 0.0, 0.0, 0.0, 0.0, 0.0, 0.0], [0.06056491658091545, 0.24920785427093506, 0.014725782908499241, 0.03222745656967163, 0.0010422613704577088, 0.005951743107289076, 0.0035214517265558243, 0.0020396942272782326, 0.010694228112697601, 0.005356890615075827, 0.021783925592899323, 0.008762160316109657, 0.0017214352265000343, 0.0021157204173505306, 0.008542227558791637, 0.01381553616374731, 0.0007661804556846619, 0.011968592181801796, 0.0035155408550053835, 0.041882265359163284, 0.0015647815307602286, 0.0007313975365832448, 0.20393626391887665, 0.05743778869509697, 0.016426991671323776, 0.05774658918380737, 0.05918577313423157, 0.0007629496394656599, 0.10145583748817444, 0.0005457713268697262], [1.0, 0.0, 0.0, 0.0, 0.0, 0.0, 0.0, 0.0, 0.0, 0.0, 0.0, 0.0, 0.0, 0.0, 0.0, 0.0, 0.0, 0.0, 0.0, 0.0, 0.0, 0.0, 0.0, 0.0, 0.0, 0.0, 0.0, 0.0, 0.0, 0.0], [0.046471718698740005, 0.05781851336359978, 0.002140834229066968, 0.000996128306724131, 0.6502183079719543, 0.001267763669602573, 0.000483037147205323, 0.007990754209458828, 0.17317959666252136, 0.006350282113999128, 0.0003958119486924261, 0.0015998578164726496, 0.00468053575605154, 0.00020983947615604848, 2.6111445549759082e-05, 0.0021499234717339277, 0.0358305461704731, 0.0004912422737106681, 0.0076992930844426155, 0.0, 0.0, 0.0, 0.0, 0.0, 0.0, 0.0, 0.0, 0.0, 0.0, 0.0], [1.0, 0.0, 0.0, 0.0, 0.0, 0.0, 0.0, 0.0, 0.0, 0.0, 0.0, 0.0, 0.0, 0.0, 0.0, 0.0, 0.0, 0.0, 0.0, 0.0, 0.0, 0.0, 0.0, 0.0, 0.0, 0.0, 0.0, 0.0, 0.0, 0.0], [1.0, 0.0, 0.0, 0.0, 0.0, 0.0, 0.0, 0.0, 0.0, 0.0, 0.0, 0.0, 0.0, 0.0, 0.0, 0.0, 0.0, 0.0, 0.0, 0.0, 0.0, 0.0, 0.0, 0.0, 0.0, 0.0, 0.0, 0.0, 0.0, 0.0], [0.9987781047821045, 0.0012222909135743976, 0.0, 0.0, 0.0, 0.0, 0.0, 0.0, 0.0, 0.0, 0.0, 0.0, 0.0, 0.0, 0.0, 0.0, 0.0, 0.0, 0.0, 0.0, 0.0, 0.0, 0.0, 0.0, 0.0, 0.0, 0.0, 0.0, 0.0, 0.0], [0.05445246770977974, 0.0012358735548332334, 0.0010982237290591002, 3.206458859494887e-05, 0.0010639559477567673, 0.005778422113507986, 0.2325185239315033, 0.00010177819058299065, 3.596053647925146e-05, 0.7036824822425842, 0.0, 0.0, 0.0, 0.0, 0.0, 0.0, 0.0, 0.0, 0.0, 0.0, 0.0, 0.0, 0.0, 0.0, 0.0, 0.0, 0.0, 0.0, 0.0, 0.0]]\n",
      "qids            [Q983971, Q1346132, Q781365, Q5188683, Q486839, Q41614, Q57537, Q741182, Q18215789]                                                                                                                                                                                                                                                                                                                                                                                                                                                                                                                                                                                                                                                                                                                                                                                                                                                                                                                                                                                                                                                                                                                                                                                                                                                                                                                                                                                                                                                                                                                                                                                                                                                                                                                                                                                                                                                                                                                                                                                                                                                                                                                                                                                                                                                                                                                                                                                                                       \n",
      "sent_idx_unq    0                                                                                                                                                                                                                                                                                                                                                                                                                                                                                                                                                                                                                                                                                                                                                                                                                                                                                                                                                                                                                                                                                                                                                                                                                                                                                                                                                                                                                                                                                                                                                                                                                                                                                                                                                                                                                                                                                                                                                                                                                                                                                                                                                                                                                                                                                                                                                                                                                                                                                                         \n",
      "probs           [1.0, 1.0, 0.24920785427093506, 1.0, 0.6502183079719543, 1.0, 1.0, 0.9987781047821045, 0.7036824822425842]                                                                                                                                                                                                                                                                                                                                                                                                                                                                                                                                                                                                                                                                                                                                                                                                                                                                                                                                                                                                                                                                                                                                                                                                                                                                                                                                                                                                                                                                                                                                                                                                                                                                                                                                                                                                                                                                                                                                                                                                                                                                                                                                                                                                                                                                                                                                                                                                \n",
      "ctx_emb_ids     [0, 1, 2, 3, 4, 5, 6, 7, 8]                                                                                                                                                                                                                                                                                                                                                                                                                                                                                                                                                                                                                                                                                                                                                                                                                                                                                                                                                                                                                                                                                                                                                                                                                                                                                                                                                                                                                                                                                                                                                                                                                                                                                                                                                                                                                                                                                                                                                                                                                                                                                                                                                                                                                                                                                                                                                                                                                                                                               \n",
      "entity_ids      [313327, 1348342, 1265, 150513, 43671, 2398, 158893, 232259, 4145806]                                                                                                                                                                                                                                                                                                                                                                                                                                                                                                                                                                                                                                                                                                                                                                                                                                                                                                                                                                                                                                                                                                                                                                                                                                                                                                                                                                                                                                                                                                                                                                                                                                                                                                                                                                                                                                                                                                                                                                                                                                                                                                                                                                                                                                                                                                                                                                                                                                     \n",
      "Name: 0, dtype: object\n",
      "2.159590719548941\n",
      "0.07272609567348155\n",
      "0.01797484164870617\n",
      "0.0\n",
      "id              61b3a65fb9b7111c4ca4                                                                                                                                                                                                                                                                                                                                                                                                                                                                                                                                                                                                                                                                                                                                                                                                                                                                                                                                                                                                                                                                                                                                                                                                                                                                                                                                                                                                                                       \n",
      "sentence        In 1983 , a year after the rally , Forsberg received the so-called `` genius award '' from the John D. and Catherine T. MacArthur Foundation .                                                                                                                                                                                                                                                                                                                                                                                                                                                                                                                                                                                                                                                                                                                                                                                                                                                                                                                                                                                                                                                                                                                                                                                                                                                                                                             \n",
      "aliases         [rally, forsberg, genius award, john d and catherine t macarthur foundation]                                                                                                                                                                                                                                                                                                                                                                                                                                                                                                                                                                                                                                                                                                                                                                                                                                                                                                                                                                                                                                                                                                                                                                                                                                                                                                                                                                               \n",
      "spans           [[7, 8], [9, 10], [14, 16], [19, 26]]                                                                                                                                                                                                                                                                                                                                                                                                                                                                                                                                                                                                                                                                                                                                                                                                                                                                                                                                                                                                                                                                                                                                                                                                                                                                                                                                                                                                                      \n",
      "gold            [True, True, True, True]                                                                                                                                                                                                                                                                                                                                                                                                                                                                                                                                                                                                                                                                                                                                                                                                                                                                                                                                                                                                                                                                                                                                                                                                                                                                                                                                                                                                                                   \n",
      "cand_probs      [[0.004783171694725752, 0.536637008190155, 0.14387652277946472, 5.483112181536853e-05, 0.14037378132343292, 0.012982815504074097, 0.023861290886998177, 0.006111594382673502, 0.02194521389901638, 0.03148377686738968, 0.0004247365868650377, 0.07485701143741608, 0.0026081306859850883, 0.0, 0.0, 0.0, 0.0, 0.0, 0.0, 0.0, 0.0, 0.0, 0.0, 0.0, 0.0, 0.0, 0.0, 0.0, 0.0, 0.0], [0.0005998422857373953, 0.0001031208157655783, 2.8526152163976803e-05, 8.365783287445083e-06, 0.0016893614083528519, 0.0002766343823168427, 3.751422991626896e-05, 0.00031879646121524274, 0.0003469259536359459, 0.00010900010965997353, 7.739140710327774e-05, 1.2415130186127499e-05, 0.0001494709140388295, 0.9942037463188171, 0.00015356943185906857, 6.605758244404569e-05, 0.0002970047644339502, 0.0005143017042428255, 0.00013129478611517698, 7.437085514538921e-06, 2.8240528990863822e-05, 8.297820022562519e-05, 2.3752056222292595e-05, 1.22098836072837e-05, 8.590364814153872e-06, 0.00010948652925435454, 4.414864451973699e-05, 0.0005268074455671012, 2.879005296563264e-05, 4.2130200199608225e-06], [0.9983124136924744, 0.0016873502172529697, 0.0, 0.0, 0.0, 0.0, 0.0, 0.0, 0.0, 0.0, 0.0, 0.0, 0.0, 0.0, 0.0, 0.0, 0.0, 0.0, 0.0, 0.0, 0.0, 0.0, 0.0, 0.0, 0.0, 0.0, 0.0, 0.0, 0.0, 0.0], [1.0, 0.0, 0.0, 0.0, 0.0, 0.0, 0.0, 0.0, 0.0, 0.0, 0.0, 0.0, 0.0, 0.0, 0.0, 0.0, 0.0, 0.0, 0.0, 0.0, 0.0, 0.0, 0.0, 0.0, 0.0, 0.0, 0.0, 0.0, 0.0, 0.0]]\n",
      "qids            [Q7856, Q533306, Q1543268, Q1424691]                                                                                                                                                                                                                                                                                                                                                                                                                                                                                                                                                                                                                                                                                                                                                                                                                                                                                                                                                                                                                                                                                                                                                                                                                                                                                                                                                                                                                       \n",
      "sent_idx_unq    1                                                                                                                                                                                                                                                                                                                                                                                                                                                                                                                                                                                                                                                                                                                                                                                                                                                                                                                                                                                                                                                                                                                                                                                                                                                                                                                                                                                                                                                          \n",
      "probs           [0.536637008190155, 0.9942037463188171, 0.9983124136924744, 1.0]                                                                                                                                                                                                                                                                                                                                                                                                                                                                                                                                                                                                                                                                                                                                                                                                                                                                                                                                                                                                                                                                                                                                                                                                                                                                                                                                                                                           \n",
      "ctx_emb_ids     [9, 10, 11, 12]                                                                                                                                                                                                                                                                                                                                                                                                                                                                                                                                                                                                                                                                                                                                                                                                                                                                                                                                                                                                                                                                                                                                                                                                                                                                                                                                                                                                                                            \n",
      "entity_ids      [24100, 1075219, 847054, 144107]                                                                                                                                                                                                                                                                                                                                                                                                                                                                                                                                                                                                                                                                                                                                                                                                                                                                                                                                                                                                                                                                                                                                                                                                                                                                                                                                                                                                                           \n",
      "Name: 1, dtype: object\n",
      "1.7828126773025377\n",
      "0.0\n",
      "0.39404432085867924\n",
      "1.635972971436154\n",
      "3.33443466230558e-05\n",
      "id              61b3a65fb9aeb61c81e7                                                                                                                                                                                                                                                                                                                                                                                                                                                                                                                                                                                                                                                                                                                                                                                                                                                                                                                                                                                                                                                                                                                                                                                                                                                                                                                                                                                                                                                                                                                                                                                                                                                                                                                                                                                                                         \n",
      "sentence        This was among a batch of paperback Oxford World 's Classics that I was given as a reward for reading and commenting on a manuscript for OUP .                                                                                                                                                                                                                                                                                                                                                                                                                                                                                                                                                                                                                                                                                                                                                                                                                                                                                                                                                                                                                                                                                                                                                                                                                                                                                                                                                                                                                                                                                                                                                                                                                                                                                               \n",
      "aliases         [batch, oxford world s classics, reward, reading, oup]                                                                                                                                                                                                                                                                                                                                                                                                                                                                                                                                                                                                                                                                                                                                                                                                                                                                                                                                                                                                                                                                                                                                                                                                                                                                                                                                                                                                                                                                                                                                                                                                                                                                                                                                                                                       \n",
      "spans           [[4, 5], [7, 11], [17, 18], [19, 20], [26, 27]]                                                                                                                                                                                                                                                                                                                                                                                                                                                                                                                                                                                                                                                                                                                                                                                                                                                                                                                                                                                                                                                                                                                                                                                                                                                                                                                                                                                                                                                                                                                                                                                                                                                                                                                                                                                              \n",
      "gold            [True, True, True, True, True]                                                                                                                                                                                                                                                                                                                                                                                                                                                                                                                                                                                                                                                                                                                                                                                                                                                                                                                                                                                                                                                                                                                                                                                                                                                                                                                                                                                                                                                                                                                                                                                                                                                                                                                                                                                                               \n",
      "cand_probs      [[0.00011214621918043122, 0.21251259744167328, 0.06132056191563606, 0.0991438552737236, 0.5796570777893066, 0.000536976964212954, 0.00014596304390579462, 0.008000289089977741, 0.001393336453475058, 0.0033931580837816, 4.4498003262560815e-05, 6.623262743232772e-05, 0.00011751703277695924, 0.03346152976155281, 3.4452219551894814e-05, 5.9840927860932425e-05, 0.0, 0.0, 0.0, 0.0, 0.0, 0.0, 0.0, 0.0, 0.0, 0.0, 0.0, 0.0, 0.0, 0.0], [1.0, 0.0, 0.0, 0.0, 0.0, 0.0, 0.0, 0.0, 0.0, 0.0, 0.0, 0.0, 0.0, 0.0, 0.0, 0.0, 0.0, 0.0, 0.0, 0.0, 0.0, 0.0, 0.0, 0.0, 0.0, 0.0, 0.0, 0.0, 0.0, 0.0], [0.9460629820823669, 0.025199878960847855, 0.02111077681183815, 0.0003043799370061606, 0.0036703345831483603, 5.531945589609677e-06, 0.002313090255483985, 3.099122841376811e-05, 9.765302820596844e-05, 0.0012045976473018527, 0.0, 0.0, 0.0, 0.0, 0.0, 0.0, 0.0, 0.0, 0.0, 0.0, 0.0, 0.0, 0.0, 0.0, 0.0, 0.0, 0.0, 0.0, 0.0, 0.0], [0.0030704662203788757, 0.03221330791711807, 0.5590695142745972, 0.00094079680275172, 0.0002879136009141803, 0.0012599353212863207, 0.00014001151430420578, 9.795495861908421e-05, 0.0004554164479486644, 0.001076610991731286, 0.00018381029076408595, 7.66700177337043e-05, 0.0006445767357945442, 0.00020116500672884285, 0.13153423368930817, 9.646049147704616e-05, 0.0006339265964925289, 5.565380706684664e-05, 0.2658764719963074, 5.247983426670544e-05, 0.00015287780843209475, 0.0005020006792619824, 8.97687568794936e-05, 0.000125628721434623, 2.1321744497981854e-05, 0.0009821346029639244, 6.72258684062399e-05, 1.2536200301838107e-05, 1.1067104424000718e-05, 6.820590351708233e-05], [0.9999980330467224, 1.5832218878131243e-06, 0.0, 0.0, 0.0, 0.0, 0.0, 0.0, 0.0, 0.0, 0.0, 0.0, 0.0, 0.0, 0.0, 0.0, 0.0, 0.0, 0.0, 0.0, 0.0, 0.0, 0.0, 0.0, 0.0, 0.0, 0.0, 0.0, 0.0, 0.0]]\n",
      "qids            [Q479833, Q2042817, Q4372150, Q1432632, Q217595]                                                                                                                                                                                                                                                                                                                                                                                                                                                                                                                                                                                                                                                                                                                                                                                                                                                                                                                                                                                                                                                                                                                                                                                                                                                                                                                                                                                                                                                                                                                                                                                                                                                                                                                                                                                             \n",
      "sent_idx_unq    2                                                                                                                                                                                                                                                                                                                                                                                                                                                                                                                                                                                                                                                                                                                                                                                                                                                                                                                                                                                                                                                                                                                                                                                                                                                                                                                                                                                                                                                                                                                                                                                                                                                                                                                                                                                                                                            \n",
      "probs           [0.5796570777893066, 1.0, 0.9460629820823669, 0.5590695142745972, 0.9999980330467224]                                                                                                                                                                                                                                                                                                                                                                                                                                                                                                                                                                                                                                                                                                                                                                                                                                                                                                                                                                                                                                                                                                                                                                                                                                                                                                                                                                                                                                                                                                                                                                                                                                                                                                                                                        \n",
      "ctx_emb_ids     [13, 14, 15, 16, 17]                                                                                                                                                                                                                                                                                                                                                                                                                                                                                                                                                                                                                                                                                                                                                                                                                                                                                                                                                                                                                                                                                                                                                                                                                                                                                                                                                                                                                                                                                                                                                                                                                                                                                                                                                                                                                         \n",
      "entity_ids      [1877890, 811834, 240877, 185158, 22575]                                                                                                                                                                                                                                                                                                                                                                                                                                                                                                                                                                                                                                                                                                                                                                                                                                                                                                                                                                                                                                                                                                                                                                                                                                                                                                                                                                                                                                                                                                                                                                                                                                                                                                                                                                                                     \n",
      "Name: 2, dtype: object\n",
      "1.1026692330105223\n",
      "0.09753990069317534\n",
      "2.5174694317079434\n",
      "1.5802642905188053\n",
      "0.12603440032299526\n",
      "0.9642239198287187\n",
      "1.8584912542857543\n",
      "0.0\n",
      "0.6600138027283995\n",
      "0.0\n",
      "0.08605536429057922\n",
      "0.0\n",
      "2.078388246261526\n",
      "id              61b3a65fb9c9956eccbc                                                                                                                                                                                                                                                                                                                                                                                                                                                                                                                                                                                                                                                                                                                                                                                                                                                                                                                                                                                                                                                                                                                                                                                                                                                                                                                                                                                                                                                                                                                                                                                                                                                                                                                                                                                                                                                                                                                                                                                                                                                                                                                                                                                                                                                                                                                                                                                                                                                                                                                                                                                                                                                                                                                                                                                                                                                                                                                                                                                                                                                                                                                                                                                                                                                                                                                                                                                                                                                                                                                                                                                                                                                                                                                                                                                                                                                                                                                                                                                                                                                                                                                                                                                                                                                                                                                                                                                                                                                                                                                                                                                                                                                                                                                                                                                                                                                                                                                                                                                                                                                                                                                                                                                                                                                                                                                                                                                                                  \n",
      "sentence        The latest investigation was authorized after the Supreme Court in 2007 found DCC and its founder , Jim Flavin , guilty of selling DCC 's ( EURO ) 106 million ( then $ 130 million ) stake in Fyffes after Flavin -- also a Fyffes director at the time -- received inside information about bad Fyffes news in the pipeline .                                                                                                                                                                                                                                                                                                                                                                                                                                                                                                                                                                                                                                                                                                                                                                                                                                                                                                                                                                                                                                                                                                                                                                                                                                                                                                                                                                                                                                                                                                                                                                                                                                                                                                                                                                                                                                                                                                                                                                                                                                                                                                                                                                                                                                                                                                                                                                                                                                                                                                                                                                                                                                                                                                                                                                                                                                                                                                                                                                                                                                                                                                                                                                                                                                                                                                                                                                                                                                                                                                                                                                                                                                                                                                                                                                                                                                                                                                                                                                                                                                                                                                                                                                                                                                                                                                                                                                                                                                                                                                                                                                                                                                                                                                                                                                                                                                                                                                                                                                                                                                                                                                       \n",
      "aliases         [supreme court, dcc, jim, flavin, dcc, euro, stake, fyffes, flavin, fyffes, inside information, fyffes, pipeline]                                                                                                                                                                                                                                                                                                                                                                                                                                                                                                                                                                                                                                                                                                                                                                                                                                                                                                                                                                                                                                                                                                                                                                                                                                                                                                                                                                                                                                                                                                                                                                                                                                                                                                                                                                                                                                                                                                                                                                                                                                                                                                                                                                                                                                                                                                                                                                                                                                                                                                                                                                                                                                                                                                                                                                                                                                                                                                                                                                                                                                                                                                                                                                                                                                                                                                                                                                                                                                                                                                                                                                                                                                                                                                                                                                                                                                                                                                                                                                                                                                                                                                                                                                                                                                                                                                                                                                                                                                                                                                                                                                                                                                                                                                                                                                                                                                                                                                                                                                                                                                                                                                                                                                                                                                                                                                                     \n",
      "spans           [[7, 9], [12, 13], [17, 18], [18, 19], [23, 24], [26, 27], [36, 37], [38, 39], [40, 41], [44, 45], [51, 53], [55, 56], [59, 60]]                                                                                                                                                                                                                                                                                                                                                                                                                                                                                                                                                                                                                                                                                                                                                                                                                                                                                                                                                                                                                                                                                                                                                                                                                                                                                                                                                                                                                                                                                                                                                                                                                                                                                                                                                                                                                                                                                                                                                                                                                                                                                                                                                                                                                                                                                                                                                                                                                                                                                                                                                                                                                                                                                                                                                                                                                                                                                                                                                                                                                                                                                                                                                                                                                                                                                                                                                                                                                                                                                                                                                                                                                                                                                                                                                                                                                                                                                                                                                                                                                                                                                                                                                                                                                                                                                                                                                                                                                                                                                                                                                                                                                                                                                                                                                                                                                                                                                                                                                                                                                                                                                                                                                                                                                                                                                                      \n",
      "gold            [True, True, True, True, True, True, True, True, True, True, True, True, True]                                                                                                                                                                                                                                                                                                                                                                                                                                                                                                                                                                                                                                                                                                                                                                                                                                                                                                                                                                                                                                                                                                                                                                                                                                                                                                                                                                                                                                                                                                                                                                                                                                                                                                                                                                                                                                                                                                                                                                                                                                                                                                                                                                                                                                                                                                                                                                                                                                                                                                                                                                                                                                                                                                                                                                                                                                                                                                                                                                                                                                                                                                                                                                                                                                                                                                                                                                                                                                                                                                                                                                                                                                                                                                                                                                                                                                                                                                                                                                                                                                                                                                                                                                                                                                                                                                                                                                                                                                                                                                                                                                                                                                                                                                                                                                                                                                                                                                                                                                                                                                                                                                                                                                                                                                                                                                                                                        \n",
      "cand_probs      [[0.5585341453552246, 0.0001135792481363751, 5.535653326660395e-05, 4.1136619984172285e-05, 5.368453457776923e-06, 3.590111737139523e-05, 7.812890544300899e-05, 9.739790402818471e-05, 9.87969269772293e-06, 2.0923447664245032e-05, 0.00019284363952465355, 1.546456701362331e-06, 0.00041166410665027797, 7.846678636269644e-05, 2.7154972485732287e-05, 2.0730656160594663e-06, 3.580259317459422e-06, 3.0829903607809683e-06, 3.2636769446980907e-06, 0.42483627796173096, 2.0929642232658807e-06, 7.3800051723083016e-06, 3.303453922853805e-05, 1.421416413904808e-06, 9.864708090390195e-07, 1.5579942100885091e-06, 0.015393638983368874, 1.489857481828949e-06, 3.063602662223275e-06, 3.2594591630186187e-06], [0.00044028391130268574, 2.7082454835181125e-05, 0.00010418026067782193, 0.0001190656766993925, 0.00043643557000905275, 3.6745846045960207e-06, 0.000741342781111598, 2.4165772629203275e-05, 0.9893247485160828, 6.398760160664096e-05, 1.6893725842237473e-05, 9.225903340848163e-06, 2.9316156542336103e-06, 1.0340349035686813e-05, 0.008675279095768929, 0.0, 0.0, 0.0, 0.0, 0.0, 0.0, 0.0, 0.0, 0.0, 0.0, 0.0, 0.0, 0.0, 0.0, 0.0], [0.0054267700761556625, 0.03395330533385277, 0.011047923937439919, 0.03471769392490387, 0.0034615425392985344, 0.0013111659791320562, 0.030924366787075996, 0.005675292108207941, 0.008930339477956295, 0.0077534327283501625, 0.5962015390396118, 0.010054904036223888, 0.003938757348805666, 0.006543325260281563, 0.0013462790520861745, 0.11773727834224701, 0.00343140447512269, 0.0036714705638587475, 0.003875041613355279, 0.0009524418856017292, 0.0014592254301533103, 0.004258332774043083, 0.03127269446849823, 0.007281856145709753, 0.004823979455977678, 0.007045597303658724, 0.011159902438521385, 0.004603384993970394, 0.03063560649752617, 0.006505138240754604], [0.004046648740768433, 0.09435317665338516, 0.7349205613136292, 0.002121357247233391, 0.0011183740571141243, 0.0016488563269376755, 0.015208660624921322, 0.0009936306159943342, 0.050090428441762924, 0.0014366316609084606, 0.0027026028838008642, 0.012532114051282406, 0.0011860973900184035, 0.009024211205542088, 0.0027958499267697334, 0.006137843709439039, 0.0025878772139549255, 0.0007888016407378018, 0.0012668161652982235, 0.0009255961049348116, 0.05411391332745552, 0.0, 0.0, 0.0, 0.0, 0.0, 0.0, 0.0, 0.0, 0.0], [0.00025721179554238915, 3.7715581129305065e-05, 6.91554305376485e-05, 0.00010397757432656363, 0.0005834352341480553, 4.057386831846088e-06, 0.0007825444336049259, 9.526366739009973e-06, 0.9848748445510864, 9.53166963881813e-05, 5.353263986762613e-06, 4.131611603952479e-06, 2.594210172901512e-06, 7.568790806544712e-06, 0.013162922114133835, 0.0, 0.0, 0.0, 0.0, 0.0, 0.0, 0.0, 0.0, 0.0, 0.0, 0.0, 0.0, 0.0, 0.0, 0.0], [4.503090167418122e-05, 0.6244283318519592, 1.3991784442168864e-07, 0.0005095410160720348, 0.374794065952301, 2.9056686798867304e-06, 2.1109997305757133e-06, 9.509886876912788e-05, 8.540955604985356e-07, 7.74437103245873e-06, 8.084980072453618e-05, 4.217942546347331e-07, 1.7760547166290053e-07, 2.43885182271697e-07, 3.231151640648022e-05, 4.098964723198151e-07, 0.0, 0.0, 0.0, 0.0, 0.0, 0.0, 0.0, 0.0, 0.0, 0.0, 0.0, 0.0, 0.0, 0.0], [0.010596594773232937, 0.24608543515205383, 0.49901652336120605, 0.00042728858534246683, 0.16464367508888245, 0.0018757510697469115, 0.06649855524301529, 0.0087071368470788, 4.514696047408506e-05, 1.4990909221523907e-05, 9.157106978818774e-05, 7.219126473501092e-06, 4.890142736257985e-05, 5.18015913257841e-05, 9.357152521261014e-06, 0.0018801110563799739, 0.0, 0.0, 0.0, 0.0, 0.0, 0.0, 0.0, 0.0, 0.0, 0.0, 0.0, 0.0, 0.0, 0.0], [1.0, 0.0, 0.0, 0.0, 0.0, 0.0, 0.0, 0.0, 0.0, 0.0, 0.0, 0.0, 0.0, 0.0, 0.0, 0.0, 0.0, 0.0, 0.0, 0.0, 0.0, 0.0, 0.0, 0.0, 0.0, 0.0, 0.0, 0.0, 0.0, 0.0], [0.00042237641173414886, 0.04915788397192955, 0.9053207635879517, 0.0002760379866231233, 7.374218694167212e-05, 0.0002528611512389034, 0.00527575658634305, 0.00010900405322900042, 0.010561761446297169, 0.00014586020552087575, 0.0007803344633430243, 0.003533527022227645, 0.00014266844664234668, 0.0018484137253835797, 0.00030682634678669274, 0.001221156562678516, 0.0003398945555090904, 0.0001277250557905063, 0.00015308134607039392, 9.13523108465597e-05, 0.019859034568071365, 0.0, 0.0, 0.0, 0.0, 0.0, 0.0, 0.0, 0.0, 0.0], [1.0, 0.0, 0.0, 0.0, 0.0, 0.0, 0.0, 0.0, 0.0, 0.0, 0.0, 0.0, 0.0, 0.0, 0.0, 0.0, 0.0, 0.0, 0.0, 0.0, 0.0, 0.0, 0.0, 0.0, 0.0, 0.0, 0.0, 0.0, 0.0, 0.0], [0.9907670021057129, 0.004942695610225201, 7.4567120464053e-05, 0.004135950934141874, 3.3015108783729374e-05, 4.6763459977228194e-05, 0.0, 0.0, 0.0, 0.0, 0.0, 0.0, 0.0, 0.0, 0.0, 0.0, 0.0, 0.0, 0.0, 0.0, 0.0, 0.0, 0.0, 0.0, 0.0, 0.0, 0.0, 0.0, 0.0, 0.0], [1.0, 0.0, 0.0, 0.0, 0.0, 0.0, 0.0, 0.0, 0.0, 0.0, 0.0, 0.0, 0.0, 0.0, 0.0, 0.0, 0.0, 0.0, 0.0, 0.0, 0.0, 0.0, 0.0, 0.0, 0.0, 0.0, 0.0, 0.0, 0.0, 0.0], [0.6210060715675354, 0.12575790286064148, 0.009188118390738964, 0.003030991880223155, 0.014203880913555622, 0.019388893619179726, 0.04485471919178963, 9.706761193228886e-05, 0.014877804554998875, 0.03903521969914436, 0.014513361267745495, 0.05313820764422417, 0.03893425315618515, 0.0004708757624030113, 0.0015024917665868998, 0.0, 0.0, 0.0, 0.0, 0.0, 0.0, 0.0, 0.0, 0.0, 0.0, 0.0, 0.0, 0.0, 0.0, 0.0]]\n",
      "qids            [Q11201, Q5204483, Q83333, Q174337, Q5204483, Q458, Q11692, Q3091339, Q174337, Q3091339, Q854623, Q3091339, Q725864]                                                                                                                                                                                                                                                                                                                                                                                                                                                                                                                                                                                                                                                                                                                                                                                                                                                                                                                                                                                                                                                                                                                                                                                                                                                                                                                                                                                                                                                                                                                                                                                                                                                                                                                                                                                                                                                                                                                                                                                                                                                                                                                                                                                                                                                                                                                                                                                                                                                                                                                                                                                                                                                                                                                                                                                                                                                                                                                                                                                                                                                                                                                                                                                                                                                                                                                                                                                                                                                                                                                                                                                                                                                                                                                                                                                                                                                                                                                                                                                                                                                                                                                                                                                                                                                                                                                                                                                                                                                                                                                                                                                                                                                                                                                                                                                                                                                                                                                                                                                                                                                                                                                                                                                                                                                                                                                  \n",
      "sent_idx_unq    3                                                                                                                                                                                                                                                                                                                                                                                                                                                                                                                                                                                                                                                                                                                                                                                                                                                                                                                                                                                                                                                                                                                                                                                                                                                                                                                                                                                                                                                                                                                                                                                                                                                                                                                                                                                                                                                                                                                                                                                                                                                                                                                                                                                                                                                                                                                                                                                                                                                                                                                                                                                                                                                                                                                                                                                                                                                                                                                                                                                                                                                                                                                                                                                                                                                                                                                                                                                                                                                                                                                                                                                                                                                                                                                                                                                                                                                                                                                                                                                                                                                                                                                                                                                                                                                                                                                                                                                                                                                                                                                                                                                                                                                                                                                                                                                                                                                                                                                                                                                                                                                                                                                                                                                                                                                                                                                                                                                                                                     \n",
      "probs           [0.5585341453552246, 0.9893247485160828, 0.5962015390396118, 0.7349205613136292, 0.9848748445510864, 0.6244283318519592, 0.49901652336120605, 1.0, 0.9053207635879517, 1.0, 0.9907670021057129, 1.0, 0.6210060715675354]                                                                                                                                                                                                                                                                                                                                                                                                                                                                                                                                                                                                                                                                                                                                                                                                                                                                                                                                                                                                                                                                                                                                                                                                                                                                                                                                                                                                                                                                                                                                                                                                                                                                                                                                                                                                                                                                                                                                                                                                                                                                                                                                                                                                                                                                                                                                                                                                                                                                                                                                                                                                                                                                                                                                                                                                                                                                                                                                                                                                                                                                                                                                                                                                                                                                                                                                                                                                                                                                                                                                                                                                                                                                                                                                                                                                                                                                                                                                                                                                                                                                                                                                                                                                                                                                                                                                                                                                                                                                                                                                                                                                                                                                                                                                                                                                                                                                                                                                                                                                                                                                                                                                                                                                              \n",
      "ctx_emb_ids     [18, 19, 20, 21, 22, 23, 24, 25, 26, 27, 28, 29, 30]                                                                                                                                                                                                                                                                                                                                                                                                                                                                                                                                                                                                                                                                                                                                                                                                                                                                                                                                                                                                                                                                                                                                                                                                                                                                                                                                                                                                                                                                                                                                                                                                                                                                                                                                                                                                                                                                                                                                                                                                                                                                                                                                                                                                                                                                                                                                                                                                                                                                                                                                                                                                                                                                                                                                                                                                                                                                                                                                                                                                                                                                                                                                                                                                                                                                                                                                                                                                                                                                                                                                                                                                                                                                                                                                                                                                                                                                                                                                                                                                                                                                                                                                                                                                                                                                                                                                                                                                                                                                                                                                                                                                                                                                                                                                                                                                                                                                                                                                                                                                                                                                                                                                                                                                                                                                                                                                                                                  \n",
      "entity_ids      [14865, 308826, 7397, 35797, 308826, 4092, 276490, 814335, 35797, 814335, 6966, 814335, 23587]                                                                                                                                                                                                                                                                                                                                                                                                                                                                                                                                                                                                                                                                                                                                                                                                                                                                                                                                                                                                                                                                                                                                                                                                                                                                                                                                                                                                                                                                                                                                                                                                                                                                                                                                                                                                                                                                                                                                                                                                                                                                                                                                                                                                                                                                                                                                                                                                                                                                                                                                                                                                                                                                                                                                                                                                                                                                                                                                                                                                                                                                                                                                                                                                                                                                                                                                                                                                                                                                                                                                                                                                                                                                                                                                                                                                                                                                                                                                                                                                                                                                                                                                                                                                                                                                                                                                                                                                                                                                                                                                                                                                                                                                                                                                                                                                                                                                                                                                                                                                                                                                                                                                                                                                                                                                                                                                        \n",
      "Name: 3, dtype: object\n",
      "0.021694025042547253\n",
      "1.286054808666435\n",
      "1.3165637367268626\n",
      "1.6776320242674871\n",
      "0.9878696954892827\n",
      "2.1853528078557822\n",
      "2.4765004047149053\n",
      "id              61b3a65fb9197aba87ff                                                                                                                                                                                                                                                                                                                                                                                                                                                                                                                                                                                                                                                                                                                                                                                                                                                                                                                                                                                                                                                                                                                                                                                                                                                                                                                                                                                                                                                                                                                                                                                                                                                                                                                                                                                                                                                                                                                                                                                                                                                                                                                                                                                                                                                                                                                                                                                                                                                                                                                                                                                                                                                                                                                                                                                                                                                                                                                                                                                                                                                                                                                                                                                                                                                                                                                                                                                                                                                                                                                                                                                                                                                                                                                                                                                                                                                                                                                          \n",
      "sentence        The event is a response to a White House immigration reform proposal in March , said Chung-Wha Hong , executive director of the New York Immigration Coalition .                                                                                                                                                                                                                                                                                                                                                                                                                                                                                                                                                                                                                                                                                                                                                                                                                                                                                                                                                                                                                                                                                                                                                                                                                                                                                                                                                                                                                                                                                                                                                                                                                                                                                                                                                                                                                                                                                                                                                                                                                                                                                                                                                                                                                                                                                                                                                                                                                                                                                                                                                                                                                                                                                                                                                                                                                                                                                                                                                                                                                                                                                                                                                                                                                                                                                                                                                                                                                                                                                                                                                                                                                                                                                                                                                                              \n",
      "aliases         [white house, immigration reform, hong, executive director, new york, immigration, coalition]                                                                                                                                                                                                                                                                                                                                                                                                                                                                                                                                                                                                                                                                                                                                                                                                                                                                                                                                                                                                                                                                                                                                                                                                                                                                                                                                                                                                                                                                                                                                                                                                                                                                                                                                                                                                                                                                                                                                                                                                                                                                                                                                                                                                                                                                                                                                                                                                                                                                                                                                                                                                                                                                                                                                                                                                                                                                                                                                                                                                                                                                                                                                                                                                                                                                                                                                                                                                                                                                                                                                                                                                                                                                                                                                                                                                                                                 \n",
      "spans           [[7, 9], [9, 11], [17, 18], [19, 21], [23, 25], [25, 26], [26, 27]]                                                                                                                                                                                                                                                                                                                                                                                                                                                                                                                                                                                                                                                                                                                                                                                                                                                                                                                                                                                                                                                                                                                                                                                                                                                                                                                                                                                                                                                                                                                                                                                                                                                                                                                                                                                                                                                                                                                                                                                                                                                                                                                                                                                                                                                                                                                                                                                                                                                                                                                                                                                                                                                                                                                                                                                                                                                                                                                                                                                                                                                                                                                                                                                                                                                                                                                                                                                                                                                                                                                                                                                                                                                                                                                                                                                                                                                                           \n",
      "gold            [True, True, True, True, True, True, True]                                                                                                                                                                                                                                                                                                                                                                                                                                                                                                                                                                                                                                                                                                                                                                                                                                                                                                                                                                                                                                                                                                                                                                                                                                                                                                                                                                                                                                                                                                                                                                                                                                                                                                                                                                                                                                                                                                                                                                                                                                                                                                                                                                                                                                                                                                                                                                                                                                                                                                                                                                                                                                                                                                                                                                                                                                                                                                                                                                                                                                                                                                                                                                                                                                                                                                                                                                                                                                                                                                                                                                                                                                                                                                                                                                                                                                                                                                    \n",
      "cand_probs      [[0.0013264273293316364, 0.9981801509857178, 0.00021223687508609146, 4.785247438121587e-05, 3.999919044872513e-06, 9.829464397625998e-05, 1.0437586297484813e-06, 0.00012505782069638371, 7.89908494169822e-09, 2.6842612896871287e-06, 2.0450745541467086e-09, 6.745671043972834e-08, 1.1280051239737077e-06, 4.43324452703564e-08, 4.978014889189808e-09, 4.110696920633927e-07, 2.6696177712892677e-08, 2.272174128847837e-07, 1.7896967463570945e-08, 3.4369880275164633e-09, 1.2454252384941356e-07, 2.129564968811337e-09, 4.647699114457282e-09, 1.75131891211322e-08, 2.3220940725821038e-09, 6.1835998543813275e-09, 0.0, 0.0, 0.0, 0.0], [0.002594543155282736, 0.2186361849308014, 0.12853626906871796, 0.6502335071563721, 0.0, 0.0, 0.0, 0.0, 0.0, 0.0, 0.0, 0.0, 0.0, 0.0, 0.0, 0.0, 0.0, 0.0, 0.0, 0.0, 0.0, 0.0, 0.0, 0.0, 0.0, 0.0, 0.0, 0.0, 0.0, 0.0], [9.33308092498919e-06, 2.8729877158184536e-05, 0.00010086621477967128, 7.629074389114976e-05, 0.0009396320674568415, 0.00024652332649566233, 0.0017541274428367615, 0.0013459761394187808, 0.0010349481599405408, 0.0015881587751209736, 1.5485753465327434e-05, 0.602851152420044, 0.0008265064097940922, 0.0025909319519996643, 2.103200131386984e-05, 0.00040964229265227914, 0.00026516636717133224, 0.0345238596200943, 7.373487460426986e-05, 0.00017253008263651282, 9.184060763800517e-05, 0.001060225535184145, 0.00022242635895963758, 0.0022670673206448555, 0.001400970621034503, 3.8090588532213587e-06, 0.0006984390784054995, 7.856068259570748e-05, 0.0011883885599672794, 0.34411361813545227], [0.34173914790153503, 0.333261638879776, 0.30877429246902466, 0.016225000843405724, 0.0, 0.0, 0.0, 0.0, 0.0, 0.0, 0.0, 0.0, 0.0, 0.0, 0.0, 0.0, 0.0, 0.0, 0.0, 0.0, 0.0, 0.0, 0.0, 0.0, 0.0, 0.0, 0.0, 0.0, 0.0, 0.0], [0.6883361339569092, 0.30089280009269714, 0.0001125241833506152, 0.00011238658771617338, 1.2715705452137627e-05, 0.00023370093549601734, 0.00011334724695188925, 0.005483638029545546, 0.0008352487348020077, 1.5841636923141778e-05, 3.119869143120013e-05, 8.27328949526418e-06, 3.167422619299032e-05, 6.565496278199134e-06, 2.3189695639302954e-05, 0.0014054428320378065, 9.198089173878543e-06, 0.0018829327309504151, 6.099576421547681e-05, 1.7097695490519982e-06, 0.0001253476075362414, 3.95801134800422e-06, 1.4452723917202093e-05, 6.537380613735877e-06, 2.2032856577425264e-05, 0.00018095796986017376, 1.6949965356616303e-05, 2.7106962079415098e-06, 2.8075230602553347e-06, 1.481460640206933e-05], [0.00023812783183529973, 0.2069300264120102, 0.004320419859141111, 0.27573901414871216, 0.3868890106678009, 0.05891391634941101, 0.044447578489780426, 0.002177546266466379, 5.547724140342325e-05, 0.0001506328844698146, 0.0028812894597649574, 0.0015854983357712626, 7.32722255634144e-05, 0.00015527685172855854, 0.002038872567936778, 2.5789817300392315e-05, 8.453123882645741e-05, 0.0009546757210046053, 0.00015736932982690632, 0.00021468747581820935, 0.0033979008439928293, 0.0004174242785666138, 0.00020168327318970114, 0.00012156431330367923, 0.0007657257956452668, 0.00012122914631618187, 0.00022616448404733092, 1.1838456885016058e-05, 0.0067040082067251205, 0.0], [0.005017891060560942, 3.2602598366793245e-05, 4.000989065389149e-05, 0.01525708008557558, 4.088704736204818e-05, 0.00440862076357007, 0.00027140669408254325, 6.523900083266199e-05, 0.039398156106472015, 0.001384492265060544, 0.043586455285549164, 0.0009401917923241854, 0.24817100167274475, 0.00017909503367263824, 1.029441955324728e-05, 0.008534833788871765, 9.326545841759071e-05, 0.3676880896091461, 0.20349448919296265, 0.00018010007624980062, 0.01374258566647768, 0.03939583897590637, 0.00013576218043453991, 0.00046545223449356854, 0.0014056030195206404, 0.0002781393413897604, 0.00019949486886616796, 0.0010468976106494665, 0.0045038810931146145, 3.221357837901451e-05]]\n",
      "qids            [Q35525, Q17163140, Q4587796, Q188628, Q60, Q131288, Q124964]                                                                                                                                                                                                                                                                                                                                                                                                                                                                                                                                                                                                                                                                                                                                                                                                                                                                                                                                                                                                                                                                                                                                                                                                                                                                                                                                                                                                                                                                                                                                                                                                                                                                                                                                                                                                                                                                                                                                                                                                                                                                                                                                                                                                                                                                                                                                                                                                                                                                                                                                                                                                                                                                                                                                                                                                                                                                                                                                                                                                                                                                                                                                                                                                                                                                                                                                                                                                                                                                                                                                                                                                                                                                                                                                                                                                                                                                                 \n",
      "sent_idx_unq    4                                                                                                                                                                                                                                                                                                                                                                                                                                                                                                                                                                                                                                                                                                                                                                                                                                                                                                                                                                                                                                                                                                                                                                                                                                                                                                                                                                                                                                                                                                                                                                                                                                                                                                                                                                                                                                                                                                                                                                                                                                                                                                                                                                                                                                                                                                                                                                                                                                                                                                                                                                                                                                                                                                                                                                                                                                                                                                                                                                                                                                                                                                                                                                                                                                                                                                                                                                                                                                                                                                                                                                                                                                                                                                                                                                                                                                                                                                                                             \n",
      "probs           [0.9981801509857178, 0.6502335071563721, 0.602851152420044, 0.34173914790153503, 0.6883361339569092, 0.3868890106678009, 0.3676880896091461]                                                                                                                                                                                                                                                                                                                                                                                                                                                                                                                                                                                                                                                                                                                                                                                                                                                                                                                                                                                                                                                                                                                                                                                                                                                                                                                                                                                                                                                                                                                                                                                                                                                                                                                                                                                                                                                                                                                                                                                                                                                                                                                                                                                                                                                                                                                                                                                                                                                                                                                                                                                                                                                                                                                                                                                                                                                                                                                                                                                                                                                                                                                                                                                                                                                                                                                                                                                                                                                                                                                                                                                                                                                                                                                                                                                                  \n",
      "ctx_emb_ids     [31, 32, 33, 34, 35, 36, 37]                                                                                                                                                                                                                                                                                                                                                                                                                                                                                                                                                                                                                                                                                                                                                                                                                                                                                                                                                                                                                                                                                                                                                                                                                                                                                                                                                                                                                                                                                                                                                                                                                                                                                                                                                                                                                                                                                                                                                                                                                                                                                                                                                                                                                                                                                                                                                                                                                                                                                                                                                                                                                                                                                                                                                                                                                                                                                                                                                                                                                                                                                                                                                                                                                                                                                                                                                                                                                                                                                                                                                                                                                                                                                                                                                                                                                                                                                                                  \n",
      "entity_ids      [15436, 426754, 1341548, 2046, 230562, 895266, 45435]                                                                                                                                                                                                                                                                                                                                                                                                                                                                                                                                                                                                                                                                                                                                                                                                                                                                                                                                                                                                                                                                                                                                                                                                                                                                                                                                                                                                                                                                                                                                                                                                                                                                                                                                                                                                                                                                                                                                                                                                                                                                                                                                                                                                                                                                                                                                                                                                                                                                                                                                                                                                                                                                                                                                                                                                                                                                                                                                                                                                                                                                                                                                                                                                                                                                                                                                                                                                                                                                                                                                                                                                                                                                                                                                                                                                                                                                                         \n",
      "Name: 4, dtype: object\n",
      "0.8089492299024802\n",
      "1.798702988050213\n",
      "0.412932662831505\n",
      "0.0023129492438832273\n",
      "0.0\n",
      "id              61b3a65fb94b342e4da3                                                                                                                                                                                                                                                                                                                                                                                                                                                                                                                                                                                                                                                                                                                                                                                                                                                                                                                                                                                                                                                                                                                                                                                                                                                                                                                                                                                                                                                                                                                                                                                                                                                                                                                                                                                                                                                                                                                                                                                                                                                                                                                                                                                                 \n",
      "sentence        Manning was prime minister in 1991 , and called a snap elections in 1995 which he lost to the UNC after the party entered an electoral arrangement with the National Alliance for Reconstruction .                                                                                                                                                                                                                                                                                                                                                                                                                                                                                                                                                                                                                                                                                                                                                                                                                                                                                                                                                                                                                                                                                                                                                                                                                                                                                                                                                                                                                                                                                                                                                                                                                                                                                                                                                                                                                                                                                                                                                                                                                   \n",
      "aliases         [manning, prime minister, snap elections, unc, national alliance for reconstruction]                                                                                                                                                                                                                                                                                                                                                                                                                                                                                                                                                                                                                                                                                                                                                                                                                                                                                                                                                                                                                                                                                                                                                                                                                                                                                                                                                                                                                                                                                                                                                                                                                                                                                                                                                                                                                                                                                                                                                                                                                                                                                                                                 \n",
      "spans           [[0, 1], [2, 4], [10, 12], [19, 20], [29, 33]]                                                                                                                                                                                                                                                                                                                                                                                                                                                                                                                                                                                                                                                                                                                                                                                                                                                                                                                                                                                                                                                                                                                                                                                                                                                                                                                                                                                                                                                                                                                                                                                                                                                                                                                                                                                                                                                                                                                                                                                                                                                                                                                                                                       \n",
      "gold            [True, True, True, True, True]                                                                                                                                                                                                                                                                                                                                                                                                                                                                                                                                                                                                                                                                                                                                                                                                                                                                                                                                                                                                                                                                                                                                                                                                                                                                                                                                                                                                                                                                                                                                                                                                                                                                                                                                                                                                                                                                                                                                                                                                                                                                                                                                                                                       \n",
      "cand_probs      [[5.1946117309853435e-06, 2.1463279153977055e-06, 1.7435659174225293e-05, 0.00030040807905606925, 0.21825172007083893, 0.0011234511621296406, 8.474655260215513e-06, 3.42123894370161e-05, 0.00017912680050358176, 0.0015540551394224167, 2.576606857473962e-05, 6.34141497357632e-06, 4.676807293435559e-06, 7.682588147872593e-06, 1.4308975551102776e-06, 7.776936399750412e-06, 2.6272531613358296e-05, 0.0001914805470732972, 7.341284799622372e-06, 6.574246799573302e-05, 0.7773549556732178, 1.5144072676775977e-05, 3.1863492040429264e-05, 2.4262621082016267e-05, 0.00012688263086602092, 1.6294965462293476e-05, 1.6210019566642586e-06, 2.0855733964708634e-05, 0.0003064716001972556, 0.0002810512960422784], [1.2474554750951938e-05, 0.0028232841286808252, 5.288606189424172e-06, 6.559510802617297e-05, 1.6689504263922572e-05, 0.48939409852027893, 0.18845883011817932, 4.7986239223973826e-05, 0.00015993429406080395, 6.623876106459647e-05, 0.000151984510011971, 8.523350516043138e-06, 0.00020664690237026662, 7.574788469355553e-05, 0.0014048157026991248, 9.966018978957436e-07, 8.464038546662778e-05, 3.0705318749824073e-06, 0.23996129631996155, 0.0002727536193560809, 5.5062737374100834e-05, 7.148128497647122e-05, 4.7211608034558594e-05, 0.00030504397000186145, 9.72676730270905e-07, 1.0340931112295948e-05, 0.0002443926641717553, 0.07583951205015182, 1.4400018699234352e-05, 0.00019068930123466998], [0.002573591424152255, 0.005916754249483347, 0.062067076563835144, 0.9294425845146179, 0.0, 0.0, 0.0, 0.0, 0.0, 0.0, 0.0, 0.0, 0.0, 0.0, 0.0, 0.0, 0.0, 0.0, 0.0, 0.0, 0.0, 0.0, 0.0, 0.0, 0.0, 0.0, 0.0, 0.0, 0.0, 0.0], [3.945337539335014e-06, 2.5825604097917676e-05, 1.6216381482081488e-07, 1.6774898767835111e-06, 7.896791430539452e-06, 1.628636482564616e-06, 4.25266262027435e-05, 0.9998607039451599, 1.3703775039175525e-06, 4.496906171880255e-07, 4.7117689973674715e-05, 6.7289206526766066e-06, 0.0, 0.0, 0.0, 0.0, 0.0, 0.0, 0.0, 0.0, 0.0, 0.0, 0.0, 0.0, 0.0, 0.0, 0.0, 0.0, 0.0, 0.0], [1.0, 0.0, 0.0, 0.0, 0.0, 0.0, 0.0, 0.0, 0.0, 0.0, 0.0, 0.0, 0.0, 0.0, 0.0, 0.0, 0.0, 0.0, 0.0, 0.0, 0.0, 0.0, 0.0, 0.0, 0.0, 0.0, 0.0, 0.0, 0.0, 0.0]]\n",
      "qids            [Q365206, Q839078, Q4789451, Q1024804, Q6970302]                                                                                                                                                                                                                                                                                                                                                                                                                                                                                                                                                                                                                                                                                                                                                                                                                                                                                                                                                                                                                                                                                                                                                                                                                                                                                                                                                                                                                                                                                                                                                                                                                                                                                                                                                                                                                                                                                                                                                                                                                                                                                                                                                                     \n",
      "sent_idx_unq    5                                                                                                                                                                                                                                                                                                                                                                                                                                                                                                                                                                                                                                                                                                                                                                                                                                                                                                                                                                                                                                                                                                                                                                                                                                                                                                                                                                                                                                                                                                                                                                                                                                                                                                                                                                                                                                                                                                                                                                                                                                                                                                                                                                                                                    \n",
      "probs           [0.7773549556732178, 0.48939409852027893, 0.9294425845146179, 0.9998607039451599, 1.0]                                                                                                                                                                                                                                                                                                                                                                                                                                                                                                                                                                                                                                                                                                                                                                                                                                                                                                                                                                                                                                                                                                                                                                                                                                                                                                                                                                                                                                                                                                                                                                                                                                                                                                                                                                                                                                                                                                                                                                                                                                                                                                                               \n",
      "ctx_emb_ids     [38, 39, 40, 41, 42]                                                                                                                                                                                                                                                                                                                                                                                                                                                                                                                                                                                                                                                                                                                                                                                                                                                                                                                                                                                                                                                                                                                                                                                                                                                                                                                                                                                                                                                                                                                                                                                                                                                                                                                                                                                                                                                                                                                                                                                                                                                                                                                                                                                                 \n",
      "entity_ids      [159312, 11232, 2323147, 208263, 330225]                                                                                                                                                                                                                                                                                                                                                                                                                                                                                                                                                                                                                                                                                                                                                                                                                                                                                                                                                                                                                                                                                                                                                                                                                                                                                                                                                                                                                                                                                                                                                                                                                                                                                                                                                                                                                                                                                                                                                                                                                                                                                                                                                                             \n",
      "Name: 5, dtype: object\n",
      "1.7280336822771698\n",
      "1.3503266610970848\n",
      "0.0\n",
      "id              61b3a65fb9062d316790                                                                                                                                                                                                                                                                                                                                                                                                                                                                                                                                                                                                                                                                                                                                                                                                                                                                                                                                                                                                                                                                                                                                                                                                                                                                                                                                                                                                                                                                                                                                                          \n",
      "sentence        Christine Egerszegi-Obrist ( l ) and Haddad-Adel                                                                                                                                                                                                                                                                                                                                                                                                                                                                                                                                                                                                                                                                                                                                                                                                                                                                                                                                                                                                                                                                                                                                                                                                                                                                                                                                                                                                                                                                                                                              \n",
      "aliases         [christine, l, haddadadel]                                                                                                                                                                                                                                                                                                                                                                                                                                                                                                                                                                                                                                                                                                                                                                                                                                                                                                                                                                                                                                                                                                                                                                                                                                                                                                                                                                                                                                                                                                                                                    \n",
      "spans           [[0, 1], [3, 4], [6, 7]]                                                                                                                                                                                                                                                                                                                                                                                                                                                                                                                                                                                                                                                                                                                                                                                                                                                                                                                                                                                                                                                                                                                                                                                                                                                                                                                                                                                                                                                                                                                                                      \n",
      "gold            [True, True, True]                                                                                                                                                                                                                                                                                                                                                                                                                                                                                                                                                                                                                                                                                                                                                                                                                                                                                                                                                                                                                                                                                                                                                                                                                                                                                                                                                                                                                                                                                                                                                            \n",
      "cand_probs      [[0.011148919351398945, 0.025760333985090256, 0.006001673638820648, 0.005669549573212862, 0.010489067994058132, 0.03262961655855179, 0.0014113513752818108, 0.0008046220755204558, 0.0010355982230976224, 0.0007280168356373906, 0.0007021757774055004, 0.7297780513763428, 0.0016532855806872249, 0.0033462182618677616, 0.0023664399050176144, 0.07731875032186508, 0.05961275100708008, 0.0009377686656080186, 0.003003188641741872, 0.0010920721106231213, 0.002714296104386449, 0.0015800966648384929, 0.004487105179578066, 0.0002739494084380567, 0.0002443038974888623, 0.0004831923870369792, 0.0006399012636393309, 0.011836307123303413, 0.00021077149722259492, 0.0020405298564583063], [0.16295984387397766, 0.004294652491807938, 0.0002887753944378346, 0.00044324586633592844, 0.0009218890918418765, 0.00010116736666532233, 6.03757580392994e-05, 2.4661465431563556e-05, 0.00016269678599201143, 0.7363453507423401, 5.3153439694142435e-06, 2.4423830836894922e-05, 0.013776781968772411, 0.0001618389942450449, 0.0046596769243478775, 0.00031850836239755154, 0.020822536200284958, 0.030862782150506973, 0.02158469893038273, 4.940180588164367e-05, 0.00012514395348262042, 3.920786548405886e-05, 8.130700734909624e-05, 2.653521551110316e-05, 2.6845058528124355e-05, 8.453285408904776e-05, 2.308761395397596e-05, 0.00039789179572835565, 0.0009980126051232219, 0.00032897357596084476], [1.0, 0.0, 0.0, 0.0, 0.0, 0.0, 0.0, 0.0, 0.0, 0.0, 0.0, 0.0, 0.0, 0.0, 0.0, 0.0, 0.0, 0.0, 0.0, 0.0, 0.0, 0.0, 0.0, 0.0, 0.0, 0.0, 0.0, 0.0, 0.0, 0.0]]\n",
      "qids            [Q484605, Q558334, Q1394767]                                                                                                                                                                                                                                                                                                                                                                                                                                                                                                                                                                                                                                                                                                                                                                                                                                                                                                                                                                                                                                                                                                                                                                                                                                                                                                                                                                                                                                                                                                                                                  \n",
      "sent_idx_unq    6                                                                                                                                                                                                                                                                                                                                                                                                                                                                                                                                                                                                                                                                                                                                                                                                                                                                                                                                                                                                                                                                                                                                                                                                                                                                                                                                                                                                                                                                                                                                                                             \n",
      "probs           [0.7297780513763428, 0.7363453507423401, 1.0]                                                                                                                                                                                                                                                                                                                                                                                                                                                                                                                                                                                                                                                                                                                                                                                                                                                                                                                                                                                                                                                                                                                                                                                                                                                                                                                                                                                                                                                                                                                                 \n",
      "ctx_emb_ids     [43, 44, 45]                                                                                                                                                                                                                                                                                                                                                                                                                                                                                                                                                                                                                                                                                                                                                                                                                                                                                                                                                                                                                                                                                                                                                                                                                                                                                                                                                                                                                                                                                                                                                                  \n",
      "entity_ids      [1352386, 15005, 182785]                                                                                                                                                                                                                                                                                                                                                                                                                                                                                                                                                                                                                                                                                                                                                                                                                                                                                                                                                                                                                                                                                                                                                                                                                                                                                                                                                                                                                                                                                                                                                      \n",
      "Name: 6, dtype: object\n",
      "2.992095393128451\n",
      "0.0\n",
      "1.3370117939119353\n",
      "id              61b3a65fb919cf88f14e                                                                                                                                                                                                                                                                                                                                                                                                                                                                                                                                                                                                                                                                                                                                                                                                                                                                                                                                                                                                                                                                                                                                                                                                       \n",
      "sentence        Al-Hubayshi explained that , far from being a mastermind , Abu Zubaydah was responsible for `` receiving people and financing the camp , '' that he once bought him travel tickets , and that he was the man he went to when he needed a replacement passport .                                                                                                                                                                                                                                                                                                                                                                                                                                                                                                                                                                                                                                                                                                                                                                                                                                                                                                                                                            \n",
      "aliases         [mastermind, abu zubaydah, passport]                                                                                                                                                                                                                                                                                                                                                                                                                                                                                                                                                                                                                                                                                                                                                                                                                                                                                                                                                                                                                                                                                                                                                                                       \n",
      "spans           [[8, 9], [10, 12], [46, 47]]                                                                                                                                                                                                                                                                                                                                                                                                                                                                                                                                                                                                                                                                                                                                                                                                                                                                                                                                                                                                                                                                                                                                                                                               \n",
      "gold            [True, True, True]                                                                                                                                                                                                                                                                                                                                                                                                                                                                                                                                                                                                                                                                                                                                                                                                                                                                                                                                                                                                                                                                                                                                                                                                         \n",
      "cand_probs      [[0.086158886551857, 0.14111801981925964, 0.06102190539240837, 0.0065149907022714615, 0.0921461284160614, 0.2659963071346283, 0.004757291171699762, 0.002474186709150672, 0.015590972267091274, 0.08263994753360748, 0.0012688172282651067, 0.0078572453930974, 0.0037736776284873486, 0.19544894993305206, 0.033232737332582474, 0.0, 0.0, 0.0, 0.0, 0.0, 0.0, 0.0, 0.0, 0.0, 0.0, 0.0, 0.0, 0.0, 0.0, 0.0], [1.0, 0.0, 0.0, 0.0, 0.0, 0.0, 0.0, 0.0, 0.0, 0.0, 0.0, 0.0, 0.0, 0.0, 0.0, 0.0, 0.0, 0.0, 0.0, 0.0, 0.0, 0.0, 0.0, 0.0, 0.0, 0.0, 0.0, 0.0, 0.0, 0.0], [0.007799647282809019, 0.7315255999565125, 0.00017876569472718984, 9.347011655336246e-06, 0.00047162018017843366, 0.003208254463970661, 0.16873617470264435, 0.0016570518491789699, 1.6078718090284383e-06, 0.0007340273587033153, 0.04994771629571915, 0.004396629519760609, 0.00012982889893464744, 0.0032349564135074615, 0.013617785647511482, 7.3118026193697e-05, 0.0004674087685998529, 0.00021341083629522473, 0.00079068832565099, 3.978185304731596e-06, 7.946914411149919e-05, 2.8927220796504116e-07, 0.012642551213502884, 2.7208568553760415e-06, 7.517503399867564e-05, 1.1549345799721777e-06, 1.041251266542531e-06, 0.0, 0.0, 0.0]]\n",
      "qids            [Q16876533, Q335523, Q1066909]                                                                                                                                                                                                                                                                                                                                                                                                                                                                                                                                                                                                                                                                                                                                                                                                                                                                                                                                                                                                                                                                                                                                                                                             \n",
      "sent_idx_unq    7                                                                                                                                                                                                                                                                                                                                                                                                                                                                                                                                                                                                                                                                                                                                                                                                                                                                                                                                                                                                                                                                                                                                                                                                                          \n",
      "probs           [0.2659963071346283, 1.0, 0.7315255999565125]                                                                                                                                                                                                                                                                                                                                                                                                                                                                                                                                                                                                                                                                                                                                                                                                                                                                                                                                                                                                                                                                                                                                                                              \n",
      "ctx_emb_ids     [46, 47, 48]                                                                                                                                                                                                                                                                                                                                                                                                                                                                                                                                                                                                                                                                                                                                                                                                                                                                                                                                                                                                                                                                                                                                                                                                               \n",
      "entity_ids      [1056565, 1284, 693904]                                                                                                                                                                                                                                                                                                                                                                                                                                                                                                                                                                                                                                                                                                                                                                                                                                                                                                                                                                                                                                                                                                                                                                                                    \n",
      "Name: 7, dtype: object\n",
      "0.0\n",
      "0.0004672615965244812\n",
      "0.6708881122652199\n",
      "2.4246424991874145\n",
      "0.1794197997313836\n",
      "0.0\n",
      "0.0\n",
      "id              61b3a89f60d0777c9f0f                                                                                                                                                                                                                                                                                                                                                                                                                                                                                                                                                                                                                                                                                                                                                                                                                                                                                                                                                                                                                                                                                                                                                                                                                                                                                                                                                                                                                                                                                                                                                                                                                                                                                                                                                                                                                                                                                                                                                                                                                     \n",
      "sentence        Olivia Palermo was looking very Blair Waldorfish at last week 's You Know You Want It : Style-Inspiration-Confidence book launch , so it 's only fitting she ran into real-life Gossip Girl s Leighton Meester and Nicole Fiscella on her way there !                                                                                                                                                                                                                                                                                                                                                                                                                                                                                                                                                                                                                                                                                                                                                                                                                                                                                                                                                                                                                                                                                                                                                                                                                                                                                                                                                                                                                                                                                                                                                                                                                                                                                                                                                                                    \n",
      "aliases         [olivia palermo, blair, at last, fitting, gossip girl, leighton meester, nicole fiscella]                                                                                                                                                                                                                                                                                                                                                                                                                                                                                                                                                                                                                                                                                                                                                                                                                                                                                                                                                                                                                                                                                                                                                                                                                                                                                                                                                                                                                                                                                                                                                                                                                                                                                                                                                                                                                                                                                                                                                \n",
      "spans           [[0, 2], [5, 6], [7, 9], [25, 26], [30, 32], [33, 35], [36, 38]]                                                                                                                                                                                                                                                                                                                                                                                                                                                                                                                                                                                                                                                                                                                                                                                                                                                                                                                                                                                                                                                                                                                                                                                                                                                                                                                                                                                                                                                                                                                                                                                                                                                                                                                                                                                                                                                                                                                                                                         \n",
      "gold            [True, True, True, True, True, True, True]                                                                                                                                                                                                                                                                                                                                                                                                                                                                                                                                                                                                                                                                                                                                                                                                                                                                                                                                                                                                                                                                                                                                                                                                                                                                                                                                                                                                                                                                                                                                                                                                                                                                                                                                                                                                                                                                                                                                                                                               \n",
      "cand_probs      [[1.0, 0.0, 0.0, 0.0, 0.0, 0.0, 0.0, 0.0, 0.0, 0.0, 0.0, 0.0, 0.0, 0.0, 0.0, 0.0, 0.0, 0.0, 0.0, 0.0, 0.0, 0.0, 0.0, 0.0, 0.0, 0.0, 0.0, 0.0, 0.0, 0.0], [5.488592250912916e-06, 3.1410473866344546e-07, 2.9439371829198535e-08, 1.6119150814120076e-07, 1.3793642210657708e-06, 3.971193507368298e-07, 6.493651767414121e-07, 3.3785821074161504e-07, 2.829352467870194e-07, 7.08816969563486e-08, 1.677387444942724e-06, 0.9999761581420898, 5.5644385099640203e-08, 4.374581052957183e-08, 7.799973218425293e-07, 3.93207386650829e-08, 2.27224134619064e-07, 9.755059181770775e-06, 4.694458155540815e-08, 3.691545913397931e-08, 1.057681853211534e-08, 1.2701488572020025e-07, 6.742094882383753e-08, 7.787084754795615e-09, 3.112940873961634e-07, 5.3494417784349935e-08, 1.7555530362756144e-08, 9.033081482812122e-07, 4.043912582574194e-08, 4.053123063840758e-07], [0.8802169561386108, 0.004403294995427132, 0.06191856414079666, 0.053461141884326935, 0.0, 0.0, 0.0, 0.0, 0.0, 0.0, 0.0, 0.0, 0.0, 0.0, 0.0, 0.0, 0.0, 0.0, 0.0, 0.0, 0.0, 0.0, 0.0, 0.0, 0.0, 0.0, 0.0, 0.0, 0.0, 0.0], [0.10694016516208649, 0.40990957617759705, 0.034913547337055206, 0.0009379176190122962, 0.032811664044857025, 0.00045330877765081823, 0.008541547693312168, 0.007742289919406176, 0.030567264184355736, 0.21989783644676208, 0.00853823684155941, 0.13811519742012024, 0.0006313798949122429, 0.0, 0.0, 0.0, 0.0, 0.0, 0.0, 0.0, 0.0, 0.0, 0.0, 0.0, 0.0, 0.0, 0.0, 0.0, 0.0, 0.0], [0.9742421507835388, 0.024610238149762154, 0.0011476798681542277, 2.1584570575328144e-08, 0.0, 0.0, 0.0, 0.0, 0.0, 0.0, 0.0, 0.0, 0.0, 0.0, 0.0, 0.0, 0.0, 0.0, 0.0, 0.0, 0.0, 0.0, 0.0, 0.0, 0.0, 0.0, 0.0, 0.0, 0.0, 0.0], [1.0, 0.0, 0.0, 0.0, 0.0, 0.0, 0.0, 0.0, 0.0, 0.0, 0.0, 0.0, 0.0, 0.0, 0.0, 0.0, 0.0, 0.0, 0.0, 0.0, 0.0, 0.0, 0.0, 0.0, 0.0, 0.0, 0.0, 0.0, 0.0, 0.0], [1.0, 0.0, 0.0, 0.0, 0.0, 0.0, 0.0, 0.0, 0.0, 0.0, 0.0, 0.0, 0.0, 0.0, 0.0, 0.0, 0.0, 0.0, 0.0, 0.0, 0.0, 0.0, 0.0, 0.0, 0.0, 0.0, 0.0, 0.0, 0.0, 0.0]]\n",
      "qids            [Q2372854, Q1785006, Q752942, Q26820931, Q199853, Q199931, Q2347130]                                                                                                                                                                                                                                                                                                                                                                                                                                                                                                                                                                                                                                                                                                                                                                                                                                                                                                                                                                                                                                                                                                                                                                                                                                                                                                                                                                                                                                                                                                                                                                                                                                                                                                                                                                                                                                                                                                                                                                     \n",
      "sent_idx_unq    8                                                                                                                                                                                                                                                                                                                                                                                                                                                                                                                                                                                                                                                                                                                                                                                                                                                                                                                                                                                                                                                                                                                                                                                                                                                                                                                                                                                                                                                                                                                                                                                                                                                                                                                                                                                                                                                                                                                                                                                                                                        \n",
      "probs           [1.0, 0.9999761581420898, 0.8802169561386108, 0.40990957617759705, 0.9742421507835388, 1.0, 1.0]                                                                                                                                                                                                                                                                                                                                                                                                                                                                                                                                                                                                                                                                                                                                                                                                                                                                                                                                                                                                                                                                                                                                                                                                                                                                                                                                                                                                                                                                                                                                                                                                                                                                                                                                                                                                                                                                                                                                         \n",
      "ctx_emb_ids     [49, 50, 51, 52, 53, 54, 55]                                                                                                                                                                                                                                                                                                                                                                                                                                                                                                                                                                                                                                                                                                                                                                                                                                                                                                                                                                                                                                                                                                                                                                                                                                                                                                                                                                                                                                                                                                                                                                                                                                                                                                                                                                                                                                                                                                                                                                                                             \n",
      "entity_ids      [2348220, 264683, 739288, 1151380, 2196349, 719412, 2108579]                                                                                                                                                                                                                                                                                                                                                                                                                                                                                                                                                                                                                                                                                                                                                                                                                                                                                                                                                                                                                                                                                                                                                                                                                                                                                                                                                                                                                                                                                                                                                                                                                                                                                                                                                                                                                                                                                                                                                                             \n",
      "Name: 8, dtype: object\n",
      "0.04619387377673159\n",
      "2.6778471273919617\n",
      "0.9563442179744404\n",
      "2.1800051532568054\n",
      "0.0\n",
      "1.3932677517127712\n",
      "0.11883041203560274\n",
      "0.4173556864717744\n",
      "id              61b3aa9e363a44f45c48                                                                                                                                                                                                                                                                                                                                                                                                                                                                                                                                                                                                                                                                                                                                                                                                                                                                                                                                                                                                                                                                                                                                                                                                                                                                                                                                                                                                                                                                                                                                                                                                                                                                                                                                                                                                                                                                                                                                                                                                                                                                                                                                                                                                                                                                                                                                                                                                                                                                                                                                                                                                                                                                                                                                                                                                                                                                                                                                                                                                                                                                                                                                                                                                                                                                                                                                                                                                                                                                                                                                                                                                                                                                                                                                                                                                                                                                                                                                                                                                                                                                                                                                                                                        \n",
      "sentence        But US and Indian experts say it has hesitated to take action against Lashkar-e-Taiba , which means `` The Army of the Pure , '' believing that the Islamic militants could prove useful in pressuring its historic rival India .                                                                                                                                                                                                                                                                                                                                                                                                                                                                                                                                                                                                                                                                                                                                                                                                                                                                                                                                                                                                                                                                                                                                                                                                                                                                                                                                                                                                                                                                                                                                                                                                                                                                                                                                                                                                                                                                                                                                                                                                                                                                                                                                                                                                                                                                                                                                                                                                                                                                                                                                                                                                                                                                                                                                                                                                                                                                                                                                                                                                                                                                                                                                                                                                                                                                                                                                                                                                                                                                                                                                                                                                                                                                                                                                                                                                                                                                                                                                                                           \n",
      "aliases         [us, indian, say it, action, lashkaretaiba, pure, islamic militants, india]                                                                                                                                                                                                                                                                                                                                                                                                                                                                                                                                                                                                                                                                                                                                                                                                                                                                                                                                                                                                                                                                                                                                                                                                                                                                                                                                                                                                                                                                                                                                                                                                                                                                                                                                                                                                                                                                                                                                                                                                                                                                                                                                                                                                                                                                                                                                                                                                                                                                                                                                                                                                                                                                                                                                                                                                                                                                                                                                                                                                                                                                                                                                                                                                                                                                                                                                                                                                                                                                                                                                                                                                                                                                                                                                                                                                                                                                                                                                                                                                                                                                                                                                 \n",
      "spans           [[1, 2], [3, 4], [5, 7], [11, 12], [13, 14], [22, 23], [28, 30], [38, 39]]                                                                                                                                                                                                                                                                                                                                                                                                                                                                                                                                                                                                                                                                                                                                                                                                                                                                                                                                                                                                                                                                                                                                                                                                                                                                                                                                                                                                                                                                                                                                                                                                                                                                                                                                                                                                                                                                                                                                                                                                                                                                                                                                                                                                                                                                                                                                                                                                                                                                                                                                                                                                                                                                                                                                                                                                                                                                                                                                                                                                                                                                                                                                                                                                                                                                                                                                                                                                                                                                                                                                                                                                                                                                                                                                                                                                                                                                                                                                                                                                                                                                                                                                  \n",
      "gold            [True, True, True, True, True, True, True, True]                                                                                                                                                                                                                                                                                                                                                                                                                                                                                                                                                                                                                                                                                                                                                                                                                                                                                                                                                                                                                                                                                                                                                                                                                                                                                                                                                                                                                                                                                                                                                                                                                                                                                                                                                                                                                                                                                                                                                                                                                                                                                                                                                                                                                                                                                                                                                                                                                                                                                                                                                                                                                                                                                                                                                                                                                                                                                                                                                                                                                                                                                                                                                                                                                                                                                                                                                                                                                                                                                                                                                                                                                                                                                                                                                                                                                                                                                                                                                                                                                                                                                                                                                            \n",
      "cand_probs      [[0.9961422681808472, 0.0003905167686752975, 7.772309800202493e-06, 1.157118003902724e-05, 1.1421984424941911e-07, 0.0005452911136671901, 7.784308309055632e-07, 0.00049747055163607, 6.9134616751398426e-06, 4.679459743783809e-05, 4.383698069432285e-06, 6.484319783339743e-07, 3.133047528081079e-07, 3.099092964475858e-07, 0.0012262214440852404, 2.8459820100579236e-07, 5.175181649974547e-05, 9.758533678905223e-07, 4.900922431261279e-05, 5.956304960363923e-08, 5.048033244747785e-07, 4.69642813527571e-08, 0.0009946445934474468, 3.573985551952319e-08, 1.4933988268239773e-07, 1.4001889780956844e-07, 3.578695668693399e-06, 1.3449116522679105e-06, 3.234098073789937e-07, 1.556536699354183e-05], [0.3095894157886505, 0.006068372633308172, 0.0016088038682937622, 0.025850024074316025, 0.002094034804031253, 0.019409386441111565, 0.002906990936025977, 0.13515664637088776, 0.0042191119864583015, 0.0024920692667365074, 0.0038753668777644634, 0.012087065726518631, 0.0014072051271796227, 0.009276626631617546, 0.29872527718544006, 0.00019547292322386056, 0.12410598248243332, 0.0034685831051319838, 6.194620073074475e-05, 0.020196249708533287, 0.0033124496694654226, 1.0078357263409998e-05, 5.7716923038242385e-05, 0.0005442001856863499, 0.00044549742597155273, 4.7387169615831226e-05, 0.00839435588568449, 0.0035159115213900805, 0.0006665775435976684, 0.00021153064153622836], [0.015144947916269302, 0.020105253905057907, 0.06550190597772598, 0.008771264925599098, 0.01043619029223919, 0.009071772918105125, 0.8523009419441223, 0.018667640164494514, 0.0, 0.0, 0.0, 0.0, 0.0, 0.0, 0.0, 0.0, 0.0, 0.0, 0.0, 0.0, 0.0, 0.0, 0.0, 0.0, 0.0, 0.0, 0.0, 0.0, 0.0, 0.0], [0.19846202433109283, 0.20380915701389313, 8.254654676420614e-05, 0.0003075235290452838, 0.05019447207450867, 0.0007560127414762974, 0.07814394682645798, 2.7594692255661357e-06, 1.121925379266031e-06, 5.914568100706674e-05, 0.004814725369215012, 1.6214534070968512e-06, 3.5531954267753463e-07, 0.00039239643956534564, 0.00018879475828725845, 0.0002852556935977191, 0.006134633906185627, 6.64033941575326e-05, 0.007298729848116636, 3.0116463676677085e-05, 5.9553335631790105e-06, 0.000754200154915452, 5.6513894378440455e-05, 1.221561342390487e-05, 0.00030976173002272844, 0.44051072001457214, 4.375981370685622e-05, 0.007225184701383114, 1.090029968509043e-06, 4.905055902781896e-05], [1.0, 0.0, 0.0, 0.0, 0.0, 0.0, 0.0, 0.0, 0.0, 0.0, 0.0, 0.0, 0.0, 0.0, 0.0, 0.0, 0.0, 0.0, 0.0, 0.0, 0.0, 0.0, 0.0, 0.0, 0.0, 0.0, 0.0, 0.0, 0.0, 0.0], [3.0717928893864155e-05, 0.585260808467865, 2.7636262529995292e-05, 0.00021733666653744876, 0.01272667944431305, 0.36197295784950256, 0.006325949914753437, 0.0038851138669997454, 0.00015422400610987097, 7.112436287570745e-05, 0.003588455030694604, 0.006967529188841581, 9.517304533801507e-06, 8.464595157420263e-05, 0.0009498706785961986, 0.0003129617834929377, 0.0033779414370656013, 0.0002830099256243557, 8.21180728962645e-05, 0.004111746326088905, 0.00012189039989607409, 0.000111224057036452, 0.0013094546739012003, 0.0016458398895338178, 0.0009551010443829, 0.0006272307364270091, 6.148682587081566e-05, 0.003857779549434781, 0.0007974971667863429, 7.21227697795257e-05], [0.9839192032814026, 0.01608092151582241, 0.0, 0.0, 0.0, 0.0, 0.0, 0.0, 0.0, 0.0, 0.0, 0.0, 0.0, 0.0, 0.0, 0.0, 0.0, 0.0, 0.0, 0.0, 0.0, 0.0, 0.0, 0.0, 0.0, 0.0, 0.0, 0.0, 0.0, 0.0], [0.9543977379798889, 0.0003060084127355367, 0.0003136873128823936, 0.0009306957945227623, 1.646507712393941e-07, 0.0064598508179187775, 0.0009139906615018845, 0.00020322187629062682, 0.00012653533485718071, 1.614375833014492e-08, 0.0016070649726316333, 0.0002709587861318141, 0.0019397089490666986, 0.017070505768060684, 0.004477314185351133, 2.3998918550205417e-05, 0.000482938572531566, 0.0016348097706213593, 2.6017509298981167e-05, 0.002228792989626527, 0.0007872444693930447, 0.0006931766401976347, 0.0025318365078419447, 0.0006273548351600766, 0.0011611735681071877, 6.858049164293334e-05, 0.00044151904876343906, 0.0002360314829275012, 3.8458390918094665e-05, 5.959929794130403e-08]]\n",
      "qids            [Q30, Q668, Q4049096, Q4650843, Q736955, Q157811, Q847731, Q668]                                                                                                                                                                                                                                                                                                                                                                                                                                                                                                                                                                                                                                                                                                                                                                                                                                                                                                                                                                                                                                                                                                                                                                                                                                                                                                                                                                                                                                                                                                                                                                                                                                                                                                                                                                                                                                                                                                                                                                                                                                                                                                                                                                                                                                                                                                                                                                                                                                                                                                                                                                                                                                                                                                                                                                                                                                                                                                                                                                                                                                                                                                                                                                                                                                                                                                                                                                                                                                                                                                                                                                                                                                                                                                                                                                                                                                                                                                                                                                                                                                                                                                                                            \n",
      "sent_idx_unq    9                                                                                                                                                                                                                                                                                                                                                                                                                                                                                                                                                                                                                                                                                                                                                                                                                                                                                                                                                                                                                                                                                                                                                                                                                                                                                                                                                                                                                                                                                                                                                                                                                                                                                                                                                                                                                                                                                                                                                                                                                                                                                                                                                                                                                                                                                                                                                                                                                                                                                                                                                                                                                                                                                                                                                                                                                                                                                                                                                                                                                                                                                                                                                                                                                                                                                                                                                                                                                                                                                                                                                                                                                                                                                                                                                                                                                                                                                                                                                                                                                                                                                                                                                                                                           \n",
      "probs           [0.9961422681808472, 0.3095894157886505, 0.8523009419441223, 0.44051072001457214, 1.0, 0.585260808467865, 0.9839192032814026, 0.9543977379798889]                                                                                                                                                                                                                                                                                                                                                                                                                                                                                                                                                                                                                                                                                                                                                                                                                                                                                                                                                                                                                                                                                                                                                                                                                                                                                                                                                                                                                                                                                                                                                                                                                                                                                                                                                                                                                                                                                                                                                                                                                                                                                                                                                                                                                                                                                                                                                                                                                                                                                                                                                                                                                                                                                                                                                                                                                                                                                                                                                                                                                                                                                                                                                                                                                                                                                                                                                                                                                                                                                                                                                                                                                                                                                                                                                                                                                                                                                                                                                                                                                                                           \n",
      "ctx_emb_ids     [56, 57, 58, 59, 60, 61, 62, 63]                                                                                                                                                                                                                                                                                                                                                                                                                                                                                                                                                                                                                                                                                                                                                                                                                                                                                                                                                                                                                                                                                                                                                                                                                                                                                                                                                                                                                                                                                                                                                                                                                                                                                                                                                                                                                                                                                                                                                                                                                                                                                                                                                                                                                                                                                                                                                                                                                                                                                                                                                                                                                                                                                                                                                                                                                                                                                                                                                                                                                                                                                                                                                                                                                                                                                                                                                                                                                                                                                                                                                                                                                                                                                                                                                                                                                                                                                                                                                                                                                                                                                                                                                                            \n",
      "entity_ids      [741033, 6555, 2466346, 1524865, 231668, 23119, 209477, 6555]                                                                                                                                                                                                                                                                                                                                                                                                                                                                                                                                                                                                                                                                                                                                                                                                                                                                                                                                                                                                                                                                                                                                                                                                                                                                                                                                                                                                                                                                                                                                                                                                                                                                                                                                                                                                                                                                                                                                                                                                                                                                                                                                                                                                                                                                                                                                                                                                                                                                                                                                                                                                                                                                                                                                                                                                                                                                                                                                                                                                                                                                                                                                                                                                                                                                                                                                                                                                                                                                                                                                                                                                                                                                                                                                                                                                                                                                                                                                                                                                                                                                                                                                               \n",
      "Name: 9, dtype: object\n",
      "1.1689132500720048\n",
      "1.5337349538475817\n",
      "1.2937266349353236\n",
      "0.9659585584502559\n",
      "0.7077198847985029\n",
      "0.9308133850522432\n",
      "2.1838502589278463\n",
      "1.6578565497836755\n",
      "id              61b3a65fb92c8c9d3d94                                                                                                                                                                                                                                                                                                                                                                                                                                                                                                                                                                                                                                                                                                                                                                                                                                                                                                                                                                                                                                                                                                                                                                                                                                                                                                                                                                                                                                                                                                                                                                                                                                                                                                                                                                                                                                                                                                                                                                                                                                                                                                                                                                                                                                                                                                                                                                                                                                                                                                                                                                                                                                                                                                                                                                                                                                                                                                                                                                                                                                                                                                                                                                                                                                                                                                                                                                                                                                                                                                                                                                                                                                                                                                                                                                                                                                                                                                                                                                                                                                                                                                                                                                                                                                                                                                                                                                                                                                                                                                                                                                                \n",
      "sentence        `` I have n't the slightest doubt that as soon as US and Israeli warships are in place ... and attempt to inspect the first ( Iranian ) merchant ship , a shower of projectiles will be unleashed ... That will be the exact moment the terrible war will start , '' Castro wrote in the Cubadebate website .                                                                                                                                                                                                                                                                                                                                                                                                                                                                                                                                                                                                                                                                                                                                                                                                                                                                                                                                                                                                                                                                                                                                                                                                                                                                                                                                                                                                                                                                                                                                                                                                                                                                                                                                                                                                                                                                                                                                                                                                                                                                                                                                                                                                                                                                                                                                                                                                                                                                                                                                                                                                                                                                                                                                                                                                                                                                                                                                                                                                                                                                                                                                                                                                                                                                                                                                                                                                                                                                                                                                                                                                                                                                                                                                                                                                                                                                                                                                                                                                                                                                                                                                                                                                                                                                                       \n",
      "aliases         [us, israeli, iranian, merchant, shower, projectiles, unleashed, castro]                                                                                                                                                                                                                                                                                                                                                                                                                                                                                                                                                                                                                                                                                                                                                                                                                                                                                                                                                                                                                                                                                                                                                                                                                                                                                                                                                                                                                                                                                                                                                                                                                                                                                                                                                                                                                                                                                                                                                                                                                                                                                                                                                                                                                                                                                                                                                                                                                                                                                                                                                                                                                                                                                                                                                                                                                                                                                                                                                                                                                                                                                                                                                                                                                                                                                                                                                                                                                                                                                                                                                                                                                                                                                                                                                                                                                                                                                                                                                                                                                                                                                                                                                                                                                                                                                                                                                                                                                                                                                                                            \n",
      "spans           [[11, 12], [13, 14], [26, 27], [28, 29], [32, 33], [34, 35], [37, 38], [52, 53]]                                                                                                                                                                                                                                                                                                                                                                                                                                                                                                                                                                                                                                                                                                                                                                                                                                                                                                                                                                                                                                                                                                                                                                                                                                                                                                                                                                                                                                                                                                                                                                                                                                                                                                                                                                                                                                                                                                                                                                                                                                                                                                                                                                                                                                                                                                                                                                                                                                                                                                                                                                                                                                                                                                                                                                                                                                                                                                                                                                                                                                                                                                                                                                                                                                                                                                                                                                                                                                                                                                                                                                                                                                                                                                                                                                                                                                                                                                                                                                                                                                                                                                                                                                                                                                                                                                                                                                                                                                                                                                                    \n",
      "gold            [True, True, True, True, True, True, True, True]                                                                                                                                                                                                                                                                                                                                                                                                                                                                                                                                                                                                                                                                                                                                                                                                                                                                                                                                                                                                                                                                                                                                                                                                                                                                                                                                                                                                                                                                                                                                                                                                                                                                                                                                                                                                                                                                                                                                                                                                                                                                                                                                                                                                                                                                                                                                                                                                                                                                                                                                                                                                                                                                                                                                                                                                                                                                                                                                                                                                                                                                                                                                                                                                                                                                                                                                                                                                                                                                                                                                                                                                                                                                                                                                                                                                                                                                                                                                                                                                                                                                                                                                                                                                                                                                                                                                                                                                                                                                                                                                                    \n",
      "cand_probs      [[0.6831468939781189, 0.0005427893484011292, 0.0003187809488736093, 0.2791255712509155, 1.0279948583047371e-05, 0.002518483204767108, 3.105098949163221e-05, 0.003968343138694763, 0.004869589116424322, 0.001330421888269484, 4.12929366575554e-05, 0.0003477452846709639, 3.842792284558527e-05, 0.00013994702021591365, 0.008936393074691296, 0.00011887926666531712, 9.904857870424166e-05, 2.0635061446228065e-05, 0.013512570410966873, 6.723208230141609e-07, 3.486428613541648e-05, 1.302097984989814e-06, 0.0003715414786711335, 2.2662218270852463e-06, 0.00010956235928460956, 3.6457052488003683e-07, 1.9833853002637625e-05, 0.00015087483916431665, 5.2705377129314e-07, 0.00019113117014057934], [0.289373517036438, 0.005872311536222696, 0.007069943007081747, 0.043900664895772934, 0.0007919074269011617, 2.4074084649328142e-05, 5.939571565249935e-06, 0.6110860705375671, 1.7444148170397966e-06, 0.0024123324546962976, 0.00012814562069252133, 1.0228129212919157e-05, 0.0034172169398516417, 0.011300161480903625, 0.0004354892880655825, 1.4934829778212588e-05, 0.0002602509339340031, 0.0002344393724342808, 0.0010410131653770804, 0.0002117621770594269, 2.3625631229151622e-07, 4.208564860164188e-05, 0.0017892654286697507, 2.0389334167703055e-06, 1.7098372495638614e-07, 5.931236159995024e-07, 0.020451588556170464, 0.0001217869867105037, 1.686737078898659e-07, 9.210882723209579e-09], [0.7775310277938843, 0.0005599426804110408, 0.026983357965946198, 0.09496162831783295, 0.008428556844592094, 0.00010621690307743847, 9.211894939653575e-05, 5.899551979382522e-06, 8.999174497148488e-06, 0.0009797705570235848, 0.00020323254284448922, 0.0003262261161580682, 2.8205199669173453e-06, 0.004342836327850819, 0.0021638842299580574, 0.0026605608873069286, 0.0033608032390475273, 0.009140586480498314, 0.002374805975705385, 2.1868638668820495e-06, 1.3699221199203748e-05, 0.00033934556995518506, 0.06330400705337524, 6.218367343535647e-05, 0.00016300086281262338, 0.00016653134662192315, 0.0010936892358586192, 3.270720480941236e-05, 0.0005688375094905496, 2.086198037432041e-05], [0.004301069304347038, 1.6673135178280063e-05, 7.216246012831107e-05, 0.7809963226318359, 0.00022244526189751923, 5.6961267546284944e-05, 0.16568292677402496, 0.00022114672174211591, 1.8127612975149532e-06, 1.700454390629602e-07, 4.996435905013641e-07, 1.7937243228516309e-06, 0.04792242497205734, 4.791745595866814e-05, 7.665780117349641e-07, 3.5539071063794836e-07, 7.982667398209742e-07, 1.2317716027610004e-05, 1.0499104519112734e-06, 4.1796997720666695e-06, 0.00035393110010772943, 2.824156354108709e-06, 3.9957553781277966e-06, 5.575832801696379e-06, 2.582737579359673e-07, 1.0632330713633564e-06, 3.459491563262418e-05, 2.8397289497661404e-06, 2.996679540956393e-05, 5.646863883157494e-07], [0.00015738328511361033, 0.00014176178956404328, 0.002389485016465187, 0.10873860120773315, 0.00010157175711356103, 0.8636720776557922, 0.00025982290389947593, 0.0007341593154706061, 0.00046249598381109536, 0.021675564348697662, 0.0016669954638928175, 0.0, 0.0, 0.0, 0.0, 0.0, 0.0, 0.0, 0.0, 0.0, 0.0, 0.0, 0.0, 0.0, 0.0, 0.0, 0.0, 0.0, 0.0, 0.0], [0.6535982489585876, 0.3464016318321228, 0.0, 0.0, 0.0, 0.0, 0.0, 0.0, 0.0, 0.0, 0.0, 0.0, 0.0, 0.0, 0.0, 0.0, 0.0, 0.0, 0.0, 0.0, 0.0, 0.0, 0.0, 0.0, 0.0, 0.0, 0.0, 0.0, 0.0, 0.0], [0.02088288776576519, 0.527653157711029, 0.018729915842413902, 0.224986732006073, 0.0032972502522170544, 0.002224226715043187, 0.008719517849385738, 0.07215052843093872, 0.001455496996641159, 0.011502324603497982, 0.0023377249017357826, 0.0023814488667994738, 0.003080262104049325, 0.0052414569072425365, 0.023994963616132736, 0.0020721200853586197, 0.06929004192352295, 0.0, 0.0, 0.0, 0.0, 0.0, 0.0, 0.0, 0.0, 0.0, 0.0, 0.0, 0.0, 0.0], [0.6211969256401062, 0.0009789795149117708, 0.17889900505542755, 0.006359411869198084, 0.00012141207116656005, 1.1580166756175458e-05, 4.7068915591808036e-05, 0.00045868835877627134, 0.021378859877586365, 0.000705479527823627, 0.028557613492012024, 2.8921787816216238e-05, 0.1353616714477539, 0.000513532490003854, 9.350167601951398e-06, 4.9095862777903676e-05, 1.648028592171613e-05, 0.0006545559735968709, 9.029456123244017e-05, 0.00018468356574885547, 5.4257943702396005e-05, 0.00014457227371167392, 0.0005252131959423423, 1.8398137399344705e-05, 0.0020389105193316936, 2.9178967452025972e-05, 0.00010200945689575747, 1.954407707671635e-05, 1.0264254342473578e-05, 0.0014341854257509112]]\n",
      "qids            [Q30, Q510534, Q794, Q215536, Q7863, Q318028, Q470507, Q11256]                                                                                                                                                                                                                                                                                                                                                                                                                                                                                                                                                                                                                                                                                                                                                                                                                                                                                                                                                                                                                                                                                                                                                                                                                                                                                                                                                                                                                                                                                                                                                                                                                                                                                                                                                                                                                                                                                                                                                                                                                                                                                                                                                                                                                                                                                                                                                                                                                                                                                                                                                                                                                                                                                                                                                                                                                                                                                                                                                                                                                                                                                                                                                                                                                                                                                                                                                                                                                                                                                                                                                                                                                                                                                                                                                                                                                                                                                                                                                                                                                                                                                                                                                                                                                                                                                                                                                                                                                                                                                                                                      \n",
      "sent_idx_unq    10                                                                                                                                                                                                                                                                                                                                                                                                                                                                                                                                                                                                                                                                                                                                                                                                                                                                                                                                                                                                                                                                                                                                                                                                                                                                                                                                                                                                                                                                                                                                                                                                                                                                                                                                                                                                                                                                                                                                                                                                                                                                                                                                                                                                                                                                                                                                                                                                                                                                                                                                                                                                                                                                                                                                                                                                                                                                                                                                                                                                                                                                                                                                                                                                                                                                                                                                                                                                                                                                                                                                                                                                                                                                                                                                                                                                                                                                                                                                                                                                                                                                                                                                                                                                                                                                                                                                                                                                                                                                                                                                                                                                  \n",
      "probs           [0.6831468939781189, 0.6110860705375671, 0.7775310277938843, 0.7809963226318359, 0.8636720776557922, 0.6535982489585876, 0.527653157711029, 0.6211969256401062]                                                                                                                                                                                                                                                                                                                                                                                                                                                                                                                                                                                                                                                                                                                                                                                                                                                                                                                                                                                                                                                                                                                                                                                                                                                                                                                                                                                                                                                                                                                                                                                                                                                                                                                                                                                                                                                                                                                                                                                                                                                                                                                                                                                                                                                                                                                                                                                                                                                                                                                                                                                                                                                                                                                                                                                                                                                                                                                                                                                                                                                                                                                                                                                                                                                                                                                                                                                                                                                                                                                                                                                                                                                                                                                                                                                                                                                                                                                                                                                                                                                                                                                                                                                                                                                                                                                                                                                                                                     \n",
      "ctx_emb_ids     [64, 65, 66, 67, 68, 69, 70, 71]                                                                                                                                                                                                                                                                                                                                                                                                                                                                                                                                                                                                                                                                                                                                                                                                                                                                                                                                                                                                                                                                                                                                                                                                                                                                                                                                                                                                                                                                                                                                                                                                                                                                                                                                                                                                                                                                                                                                                                                                                                                                                                                                                                                                                                                                                                                                                                                                                                                                                                                                                                                                                                                                                                                                                                                                                                                                                                                                                                                                                                                                                                                                                                                                                                                                                                                                                                                                                                                                                                                                                                                                                                                                                                                                                                                                                                                                                                                                                                                                                                                                                                                                                                                                                                                                                                                                                                                                                                                                                                                                                                    \n",
      "entity_ids      [741033, 387199, 6614, 9626, 185564, 143148, 447517, 17709]                                                                                                                                                                                                                                                                                                                                                                                                                                                                                                                                                                                                                                                                                                                                                                                                                                                                                                                                                                                                                                                                                                                                                                                                                                                                                                                                                                                                                                                                                                                                                                                                                                                                                                                                                                                                                                                                                                                                                                                                                                                                                                                                                                                                                                                                                                                                                                                                                                                                                                                                                                                                                                                                                                                                                                                                                                                                                                                                                                                                                                                                                                                                                                                                                                                                                                                                                                                                                                                                                                                                                                                                                                                                                                                                                                                                                                                                                                                                                                                                                                                                                                                                                                                                                                                                                                                                                                                                                                                                                                                                         \n",
      "Name: 10, dtype: object\n"
     ]
    }
   ],
   "source": [
    "sub_test_df = bootleg_labels_df[bootleg_labels_df['id'].isin(test_ids)]\n",
    "for ind, row in bootleg_labels_df.iterrows():\n",
    "    for i in range(len(row['cand_probs'])):\n",
    "        print(entropy_candprobs(row['cand_probs'][i]))\n",
    "    print(row)\n",
    "    if ind == 10:\n",
    "        break"
   ]
  },
  {
   "cell_type": "code",
   "execution_count": 48,
   "metadata": {},
   "outputs": [],
   "source": [
    "# for ind, row in bootleg_labels_df.iterrows():\n",
    "#     for i in range(len(row['cand_probs'])):\n",
    "#         print(entropy_candprobs(row['cand_probs'][i]))\n",
    "#     print(row)\n",
    "#     break"
   ]
  },
  {
   "cell_type": "code",
   "execution_count": 49,
   "metadata": {},
   "outputs": [
    {
     "data": {
      "text/plain": [
       "'Beyonce'"
      ]
     },
     "execution_count": 49,
     "metadata": {},
     "output_type": "execute_result"
    }
   ],
   "source": [
    "import unicodedata\n",
    "\n",
    "def strip_accents(text):\n",
    "    \"\"\"\n",
    "    Strip accents from input String.\n",
    "\n",
    "    :param text: The input string.\n",
    "    :type text: String.\n",
    "\n",
    "    :returns: The processed String.\n",
    "    :rtype: String.\n",
    "    \"\"\"\n",
    "    try:\n",
    "        text = unicode(text, 'utf-8')\n",
    "    except (TypeError, NameError): # unicode is a default on python 3 \n",
    "        pass\n",
    "    text = unicodedata.normalize('NFD', text)\n",
    "    text = text.encode('ascii', 'ignore')\n",
    "    text = text.decode(\"utf-8\")\n",
    "    return str(text)\n",
    "\n",
    "strip_accents('Beyoncé')"
   ]
  },
  {
   "cell_type": "code",
   "execution_count": 50,
   "metadata": {},
   "outputs": [
    {
     "name": "stdout",
     "output_type": "stream",
     "text": [
      "<class 'list'>\n",
      "['administrator', 'agent', 'analyst', 'architect', 'assistant', 'associate', 'buyer', 'clerk', 'comptroller', 'consultant', 'controller', 'coordinator', 'designer', 'developer', 'director', 'engineer', 'executive', 'facilitator', 'instructor', 'liason', 'manager', 'officer', 'orchestrator', 'planner', 'producer', 'representative', 'specialist', 'strategist', 'supervisor', 'technician', 'trainer', 'writer', 'athlete', 'coach', 'singer', 'politician', 'food manufacturer', 'actor', 'prisoner', 'journalist', 'poet', 'composer', 'songwriter', 'fashion designer', 'businessperson', 'singer-songwriter', 'producer', 'television producer', 'television actor', 'musician']\n"
     ]
    }
   ],
   "source": [
    "# professions list\n",
    "\n",
    "f_profession = open('/dfs/scratch1/simran/tutorial/bootleg-internal/notebooks/type_categories/profession.txt', 'r')\n",
    "profession_content = f_profession.read().split('\\n')\n",
    "profession_content.extend(['singer', 'politician', 'food manufacturer', 'actor', 'prisoner', 'journalist', 'poet',\n",
    "                           'composer', 'songwriter', 'fashion designer', 'businessperson', 'singer-songwriter',\n",
    "                           'producer', 'television producer', 'television actor', 'musician', 'film actor'])\n",
    "print(type(profession_content))\n",
    "print(profession_content)"
   ]
  },
  {
   "cell_type": "code",
   "execution_count": 57,
   "metadata": {},
   "outputs": [],
   "source": [
    "day_of_week = ['Monday', 'Tuesday', 'Wednesday', 'Thursday', 'Friday', 'Saturday', 'Sunday']\n",
    "month = ['January', 'February', 'March', 'April', 'May', 'June', 'July', 'August', 'September', 'October', 'November', 'December']"
   ]
  },
  {
   "cell_type": "code",
   "execution_count": 56,
   "metadata": {},
   "outputs": [
    {
     "name": "stdout",
     "output_type": "stream",
     "text": [
      "no candidates\n"
     ]
    }
   ],
   "source": [
    "# BY ALIAS: \n",
    "alias = 'youxiaistan'\n",
    "try:\n",
    "    # To get qid candidates of an alias\n",
    "    cands = esp.get_qid_cands(alias)\n",
    "    print(f\"Cands {cands}\")\n",
    "    print([es.get_title(qid) for qid in cands])\n",
    "except:\n",
    "    print(\"no candidates\")\n",
    "    pass\n"
   ]
  },
  {
   "cell_type": "code",
   "execution_count": 71,
   "metadata": {
    "scrolled": true
   },
   "outputs": [
    {
     "name": "stderr",
     "output_type": "stream",
     "text": [
      "0it [00:00, ?it/s]/dfs/scratch1/simran/tutorial/bootleg-internal/.bootinternal/lib/python3.6/site-packages/ipykernel_launcher.py:11: FutureWarning: `item` has been deprecated and will be removed in a future version\n",
      "  # This is added back by InteractiveShellApp.init_path()\n",
      "/dfs/scratch1/simran/tutorial/bootleg-internal/.bootinternal/lib/python3.6/site-packages/ipykernel_launcher.py:12: FutureWarning: `item` has been deprecated and will be removed in a future version\n",
      "  if sys.path[0] == '':\n",
      "125it [00:00, 166.88it/s]"
     ]
    },
    {
     "name": "stdout",
     "output_type": "stream",
     "text": [
      "`` To get rich is glorious '' has been the mantra in booming communist China for 30 years , but few have embraced the slogan more vigorously than Wen Qiang , a leading law official in the country 's southwest .\n",
      "no_relation\n",
      "['Wen', 'Qiang'] ['Wen', 'Qiang'] 1.0 ['PERSON', 'PERSON'] 0.0\n",
      "\n"
     ]
    },
    {
     "name": "stderr",
     "output_type": "stream",
     "text": [
      "199it [00:01, 210.42it/s]"
     ]
    },
    {
     "name": "stdout",
     "output_type": "stream",
     "text": [
      "The verdict comes two days after Chongqing 's former police chief Wen Qiang went on trial for rape and accepting bribes in exchange for protecting the city 's extensive gang network .\n",
      "per:charges\n",
      "['Wen', 'Qiang'] ['Wen', 'Qiang'] 1.0 ['PERSON', 'PERSON'] 0.0\n",
      "\n"
     ]
    },
    {
     "name": "stderr",
     "output_type": "stream",
     "text": [
      "276it [00:01, 234.04it/s]"
     ]
    },
    {
     "name": "stdout",
     "output_type": "stream",
     "text": [
      "Wen Qiang , 55 , who stood trial at the Chongqing No. 5 Intermediate People 's Court between Feb. 2 and 7 , was charged with bribery , rape and gang affiliations .\n",
      "no_relation\n",
      "['Wen', 'Qiang'] ['Wen', 'Qiang'] 1.0 ['PERSON', 'PERSON'] 0.0\n",
      "\n"
     ]
    },
    {
     "name": "stderr",
     "output_type": "stream",
     "text": [
      "456it [00:02, 248.93it/s]"
     ]
    },
    {
     "name": "stdout",
     "output_type": "stream",
     "text": [
      "`` Wen Qiang provided the biggest protection umbrella for the Chongqing mafia -- his sentencing will show that Chongqing 's crackdown on organised crime is rather complete , '' Gao Yaoxian , a legal expert at the Legal Institute of Sichuan University , told AFP .\n",
      "no_relation\n",
      "['Wen', 'Qiang'] ['Wen', 'Qiang'] 1.0 ['PERSON', 'PERSON'] 0.0\n",
      "\n",
      "Wen Qiang , former deputy director of Chongqing 's public security department , was also accused of rape and being unable to explain the sources of his assets , according to a statement published on the website of the municipal procuratorate , wwwcqjcygovcn .\n",
      "no_relation\n",
      "['Wen', 'Qiang'] ['Wen', 'Qiang'] 1.0 ['PERSON', 'PERSON'] 0.0\n",
      "\n",
      "The case of Wen Qiang has been the biggest in a series of gang prosecutions in the southwestern city of Chongqing that have featured lurid testimony about sex , corruption and the city 's violent underworld .\n",
      "no_relation\n",
      "['Wen', 'Qiang'] ['Wen', 'Qiang'] 1.0 ['PERSON', 'PERSON'] 0.0\n",
      "\n"
     ]
    },
    {
     "name": "stderr",
     "output_type": "stream",
     "text": [
      "807it [00:03, 187.60it/s]"
     ]
    },
    {
     "name": "stdout",
     "output_type": "stream",
     "text": [
      "A municipal court in Chongqing convicted Xie Caiping -- sister-in-law of the former head of the city 's judiciary , Wen Qiang -- of a series of crimes linked to the gambling syndicate , said the verdict , posted on the court 's website .\n",
      "no_relation\n",
      "['Wen', 'Qiang'] ['Wen', 'Qiang'] 1.0 ['PERSON', 'PERSON'] 0.0\n",
      "\n"
     ]
    },
    {
     "name": "stderr",
     "output_type": "stream",
     "text": [
      "868it [00:03, 182.13it/s]"
     ]
    },
    {
     "name": "stdout",
     "output_type": "stream",
     "text": [
      "Xie was the sister-in-law of Wen Qiang , formerly the second in command of the Chongqing police and director of the justice bureau before he was arrested .\n",
      "per:other_family\n",
      "['Wen', 'Qiang'] ['Wen', 'Qiang'] 1.0 ['PERSON', 'PERSON'] 0.0\n",
      "\n"
     ]
    },
    {
     "name": "stderr",
     "output_type": "stream",
     "text": [
      "925it [00:04, 182.47it/s]"
     ]
    },
    {
     "name": "stdout",
     "output_type": "stream",
     "text": [
      "Wen Qiang , former deputy director of Chongqing 's public security department , was found to have shielded criminal gangs and committed other crimes while holding his post .\n",
      "per:title\n",
      "['Wen', 'Qiang'] ['Wen', 'Qiang'] 1.0 ['PERSON', 'PERSON'] 0.0\n",
      "\n"
     ]
    },
    {
     "name": "stderr",
     "output_type": "stream",
     "text": [
      "1021it [00:04, 219.14it/s]"
     ]
    },
    {
     "name": "stdout",
     "output_type": "stream",
     "text": [
      "As part of the campaign , Wen Qiang , the previous deputy director of the city 's police -- a post he held for 16 years until last year -- was detained in an internal investigation , Zhou said .\n",
      "no_relation\n",
      "['Wen', 'Qiang'] ['Wen', 'Qiang'] 1.0 ['PERSON', 'PERSON'] 0.0\n",
      "\n",
      "Former director of the Chongqing Municipal Judicial Bureau Wen Qiang , 55 , was convicted at the Chongqing No. 5 Intermediate People 's Court of accepting bribes , protecting criminal gangs , rape and failing to account for his cash and assets .\n",
      "per:employee_of\n",
      "['Wen', 'Qiang'] ['Wen', 'Qiang'] 1.0 ['PERSON', 'PERSON'] 0.0\n",
      "\n",
      "The verdict comes two days after Chongqing 's former police chief Wen Qiang went on trial for rape and accepting bribes in exchange for protecting the city 's extensive gang network .\n",
      "per:title\n",
      "['Wen', 'Qiang'] ['Wen', 'Qiang'] 1.0 ['PERSON', 'PERSON'] 0.0\n",
      "\n"
     ]
    },
    {
     "name": "stderr",
     "output_type": "stream",
     "text": [
      "1093it [00:04, 228.83it/s]"
     ]
    },
    {
     "name": "stdout",
     "output_type": "stream",
     "text": [
      "The Chongqing No. 5 Intermediate People 's Court will deliver its verdict on Wen Qiang , former director of the Chongqing Municipal Judicial Bureau , after rehearing his case Wednesday morning , according to a statement from the court .\n",
      "no_relation\n",
      "['Wen', 'Qiang'] ['Wen', 'Qiang'] 1.0 ['PERSON', 'PERSON'] 0.0\n",
      "\n",
      "CHONGQING , May 13 ( Xinhua ) -- Chongqing Municipal Higher People 's Court Thursday started to hear the appeal of Wen Qiang , a former senior judicial official who was sentenced to death by a lower court April 14 for four counts of crime including protecting gangs .\n",
      "no_relation\n",
      "['Wen', 'Qiang'] ['Wen', 'Qiang'] 1.0 ['PERSON', 'PERSON'] 0.0\n",
      "\n"
     ]
    },
    {
     "name": "stderr",
     "output_type": "stream",
     "text": [
      "1190it [00:05, 235.31it/s]"
     ]
    },
    {
     "name": "stdout",
     "output_type": "stream",
     "text": [
      "Xie was the sister-in-law of Wen Qiang , formerly the second in command of the Chongqing police and director of the justice bureau before he was arrested .\n",
      "no_relation\n",
      "['Wen', 'Qiang'] ['Wen', 'Qiang'] 1.0 ['PERSON', 'PERSON'] 0.0\n",
      "\n",
      "Wen Qiang , 55 , former director of the Chongqing Municipal Judicial Bureau , was also accused of taking bribes , rape and owning huge amounts of money and assets he could not justify , heard the Chongqing Municipal No. 5 Intermediate People 's Court .\n",
      "per:charges\n",
      "['Wen', 'Qiang'] ['Wen', 'Qiang'] 1.0 ['PERSON', 'PERSON'] 0.0\n",
      "\n",
      "Former director of the Chongqing Municipal Judicial Bureau Wen Qiang , 55 , was convicted at the Chongqing No. 5 Intermediate People 's Court of accepting bribes , protecting criminal gangs , rape and failing to account for his cash and assets .\n",
      "no_relation\n",
      "['Wen', 'Qiang'] ['Wen', 'Qiang'] 1.0 ['PERSON', 'PERSON'] 0.0\n",
      "\n"
     ]
    },
    {
     "name": "stderr",
     "output_type": "stream",
     "text": [
      "1314it [00:05, 243.78it/s]"
     ]
    },
    {
     "name": "stdout",
     "output_type": "stream",
     "text": [
      "Gang members arrested in China corruption case Earlier this month , China executed Wen Qiang , 55 , former director of the Chongqing Municipal Judicial Bureau for corruption charges involving bribery , rape , extortion and gang-related activities .\n",
      "per:charges\n",
      "['Wen', 'Qiang'] ['Wen', 'Qiang'] 1.0 ['PERSON', 'PERSON'] 0.0\n",
      "\n",
      "China earlier this month executed Wen Qiang , a former top Chongqing police and justice official at the centre of the scandal .\n",
      "per:cause_of_death\n",
      "['Wen', 'Qiang'] ['Wen', 'Qiang'] 1.0 ['PERSON', 'PERSON'] 0.0\n",
      "\n",
      "`` Wen Qiang provided the biggest protection umbrella for the Chongqing mafia -- his sentencing will show that Chongqing 's crackdown on organised crime is rather complete , '' Gao Yaoxian , a legal expert at the Legal Institute of Sichuan University , told AFP .\n",
      "no_relation\n",
      "['Wen', 'Qiang'] ['Wen', 'Qiang'] 1.0 ['PERSON', 'PERSON'] 0.0\n",
      "\n",
      "Wen Qiang , former director of the justice department in the giant city of Chongqing , stands accused of accepting bribes , protecting mafia rings and four counts of rape , a court statement said .\n",
      "per:cities_of_residence\n",
      "['Wen', 'Qiang'] ['Wen', 'Qiang'] 1.0 ['PERSON', 'PERSON'] 0.0\n",
      "\n"
     ]
    },
    {
     "name": "stderr",
     "output_type": "stream",
     "text": [
      "1441it [00:06, 249.52it/s]"
     ]
    },
    {
     "name": "stdout",
     "output_type": "stream",
     "text": [
      "As part of the campaign , Wen Qiang , the previous deputy director of the city 's police -- a post he held for 16 years until last year -- was detained in an internal investigation , Zhou said .\n",
      "no_relation\n",
      "['Wen', 'Qiang'] ['Wen', 'Qiang'] 1.0 ['PERSON', 'PERSON'] 0.0\n",
      "\n",
      "Wen Qiang , who became Chongqing 's top judicial official last year after 16 years on the police force , stands accused of protecting an intricate web of businessmen , officials and mobsters in the city of over 30 million people .\n",
      "no_relation\n",
      "['Wen', 'Qiang'] ['Wen', 'Qiang'] 1.0 ['PERSON', 'PERSON'] 0.0\n",
      "\n"
     ]
    },
    {
     "name": "stderr",
     "output_type": "stream",
     "text": [
      "1516it [00:06, 239.77it/s]"
     ]
    },
    {
     "name": "stdout",
     "output_type": "stream",
     "text": [
      "Wen Qiang , who once headed the judiciary and served as deputy police chief in the southwest mega-city , stands accused of taking more than two million dollars in bribes , multiple rapes and protecting organised crime networks .\n",
      "no_relation\n",
      "['Wen', 'Qiang'] ['Wen', 'Qiang'] 1.0 ['PERSON', 'PERSON'] 0.0\n",
      "\n",
      "Wen Qiang , head of the judicial administrative bureau in southwest China 's Chongqing Municipality , is being investigated over alleged connections with gangsters , said local authorities on Thursday .\n",
      "per:employee_of\n",
      "['Wen', 'Qiang'] ['Wen', 'Qiang'] 1.0 ['PERSON', 'PERSON'] 0.0\n",
      "\n"
     ]
    },
    {
     "name": "stderr",
     "output_type": "stream",
     "text": [
      "1709it [00:07, 233.68it/s]"
     ]
    },
    {
     "name": "stdout",
     "output_type": "stream",
     "text": [
      "The verdict against Wen Qiang , the former head of Chongqing 's judiciary and an ex-deputy police chief , brought to a climax a series of trials that lifted the lid on the seamy underworld in the mega-city of more than 30 million .\n",
      "no_relation\n",
      "['Wen', 'Qiang'] ['Wen', 'Qiang'] 1.0 ['PERSON', 'PERSON'] 0.0\n",
      "\n",
      "Among them were Li Hanbin , commander of the first detachment of the municipal criminal police unit , and Wen Qiang , former director of the municipal judicial administrative bureau and former executive deputy director of the municipal police department .\n",
      "per:title\n",
      "['Wen', 'Qiang'] ['Wen', 'Qiang'] 1.0 ['PERSON', 'PERSON'] 0.0\n",
      "\n"
     ]
    },
    {
     "name": "stderr",
     "output_type": "stream",
     "text": [
      "1832it [00:08, 242.33it/s]"
     ]
    },
    {
     "name": "stdout",
     "output_type": "stream",
     "text": [
      "Wen Qiang , who became Chongqing 's top judicial official last year after 16 years on the police force , stands accused of protecting an intricate web of businessmen , officials and mobsters in the city of over 30 million people .\n",
      "no_relation\n",
      "['Wen', 'Qiang'] ['Wen', 'Qiang'] 1.0 ['PERSON', 'PERSON'] 0.0\n",
      "\n",
      "Wen Qiang , 55 , who stood trial at the Chongqing No. 5 Intermediate People 's Court between Feb. 2 and 7 , was charged with bribery , rape and gang affiliations .\n",
      "no_relation\n",
      "['Wen', 'Qiang'] ['Wen', 'Qiang'] 1.0 ['PERSON', 'PERSON'] 0.0\n",
      "\n"
     ]
    },
    {
     "name": "stderr",
     "output_type": "stream",
     "text": [
      "1932it [00:08, 245.95it/s]"
     ]
    },
    {
     "name": "stdout",
     "output_type": "stream",
     "text": [
      "Wen Qiang , former director of the justice department in the giant city of Chongqing , went on trial accused of accepting bribes , protecting mafia rings and rape , a court statement said .\n",
      "per:employee_of\n",
      "['Wen', 'Qiang'] ['Wen', 'Qiang'] 1.0 ['PERSON', 'PERSON'] 0.0\n",
      "\n",
      "The Chongqing No. 5 Intermediate People 's Court will deliver its verdict on Wen Qiang , former director of the Chongqing Municipal Judicial Bureau , after rehearing his case Wednesday morning , according to a statement from the court .\n",
      "per:employee_of\n",
      "['Wen', 'Qiang'] ['Wen', 'Qiang'] 1.0 ['PERSON', 'PERSON'] 0.0\n",
      "\n"
     ]
    },
    {
     "name": "stderr",
     "output_type": "stream",
     "text": [
      "2057it [00:08, 246.94it/s]"
     ]
    },
    {
     "name": "stdout",
     "output_type": "stream",
     "text": [
      "The Chongqing Municipal Higher People 's Court rejected the appeal from Wen Qiang , 55 , who was convicted of taking bribes worth millions from gang members while he was director of the Chongqing Municipal Judicial Bureau , a report on the court 's website said .\n",
      "per:title\n",
      "['Wen', 'Qiang'] ['Wen', 'Qiang'] 1.0 ['PERSON', 'PERSON'] 0.0\n",
      "\n"
     ]
    },
    {
     "name": "stderr",
     "output_type": "stream",
     "text": [
      "2156it [00:09, 236.69it/s]"
     ]
    },
    {
     "name": "stdout",
     "output_type": "stream",
     "text": [
      "The Chongqing Municipal Higher People 's Court rejected the appeal from Wen Qiang , 55 , who was convicted of taking bribes worth millions from gang members while he was director of the Chongqing Municipal Judicial Bureau , a report on the court 's website said .\n",
      "per:title\n",
      "['Wen', 'Qiang'] ['Wen', 'Qiang'] 1.0 ['PERSON', 'PERSON'] 0.0\n",
      "\n",
      "The Municipal Higher People 's Court Friday rejected the appeal of Wen Qiang , who was sentenced to death by a lower court April 14 for accepting bribes , shielding criminal gangs , rape and failing to account for his cash and assets .\n",
      "per:charges\n",
      "['Wen', 'Qiang'] ['Wen', 'Qiang'] 1.0 ['PERSON', 'PERSON'] 0.0\n",
      "\n",
      "The Municipal Higher People 's Court Friday rejected the appeal of Wen Qiang , who was sentenced to death by a lower court April 14 for accepting bribes , shielding criminal gangs , rape and failing to account for his cash and assets .\n",
      "no_relation\n",
      "['Wen', 'Qiang'] ['Wen', 'Qiang'] 1.0 ['PERSON', 'PERSON'] 0.0\n",
      "\n"
     ]
    },
    {
     "name": "stderr",
     "output_type": "stream",
     "text": [
      "2278it [00:09, 236.63it/s]"
     ]
    },
    {
     "name": "stdout",
     "output_type": "stream",
     "text": [
      "As part of the campaign , Wen Qiang , the previous deputy director of the city 's police -- a post he held for 16 years until last year -- has been detained in an internal investigation , Zhou said .\n",
      "no_relation\n",
      "['Wen', 'Qiang'] ['Wen', 'Qiang'] 1.0 ['PERSON', 'PERSON'] 0.0\n",
      "\n",
      "`` Wen Qiang provided the biggest protection umbrella for the Chongqing mafia -- his sentencing will show that Chongqing 's crackdown on organised crime is rather complete , '' Gao Yaoxian , a legal expert at the Legal Institute of Sichuan University , told AFP .\n",
      "no_relation\n",
      "['Wen', 'Qiang'] ['Wen', 'Qiang'] 1.0 ['PERSON', 'PERSON'] 0.0\n",
      "\n",
      "`` Wen Qiang provided the biggest protection umbrella for the Chongqing mafia -- his sentencing will show that Chongqing 's crackdown on organised crime is rather complete , '' Gao Yaoxian , a legal expert at the Legal Institute of Sichuan University , told AFP .\n",
      "no_relation\n",
      "['Wen', 'Qiang'] ['Wen', 'Qiang'] 1.0 ['PERSON', 'PERSON'] 0.0\n",
      "\n"
     ]
    },
    {
     "name": "stderr",
     "output_type": "stream",
     "text": [
      "2425it [00:10, 240.96it/s]"
     ]
    },
    {
     "name": "stdout",
     "output_type": "stream",
     "text": [
      "Wen Qiang , former deputy director of Chongqing 's public security department , was found to have shielded criminal gangs and committed other crimes while holding his post .\n",
      "per:cities_of_residence\n",
      "['Wen', 'Qiang'] ['Wen', 'Qiang'] 1.0 ['PERSON', 'PERSON'] 0.0\n",
      "\n",
      "The trail led as high as the former director of the city 's judicial department , Wen Qiang , who was executed after convictions involving bribery , rape , extortion and gang-related activities .\n",
      "per:charges\n",
      "['Wen', 'Qiang'] ['Wen', 'Qiang'] 1.0 ['PERSON', 'PERSON'] 0.0\n",
      "\n",
      "Wen Qiang , former director of the justice department in the giant city of Chongqing , stands accused of accepting bribes , protecting mafia rings and four counts of rape , a court statement said .\n",
      "per:employee_of\n",
      "['Wen', 'Qiang'] ['Wen', 'Qiang'] 1.0 ['PERSON', 'PERSON'] 0.0\n",
      "\n"
     ]
    },
    {
     "name": "stderr",
     "output_type": "stream",
     "text": [
      "2625it [00:11, 245.14it/s]"
     ]
    },
    {
     "name": "stdout",
     "output_type": "stream",
     "text": [
      "In July , authorities executed Wen Qiang , a former top police and justice official , for charges including rape and taking bribes to protect criminal gangs .\n",
      "per:date_of_death\n",
      "['Wen', 'Qiang'] ['Wen', 'Qiang'] 1.0 ['PERSON', 'PERSON'] 0.0\n",
      "\n",
      "Justice official arrested over allegedly protecting local gangs in SW China Wen Qiang , former head of the judicial administrative bureau in southwest China 's Chongqing Municipality , has been arrested over allegedly providing a `` protective umbrella '' for local gangs , local authorities said Sunday .\n",
      "per:employee_of\n",
      "['Wen', 'Qiang'] ['Wen', 'Qiang'] 1.0 ['PERSON', 'PERSON'] 0.0\n",
      "\n",
      "Wen Qiang , former deputy police chief and director of the justice bureau in Chongqing , was accused of rape , taking more than 15 million yuan ( 22 million dollars ) in bribes to protect criminal gangs , and possessing a huge amount of unexplainable assets .\n",
      "per:charges\n",
      "['Wen', 'Qiang'] ['Wen', 'Qiang'] 1.0 ['PERSON', 'PERSON'] 0.0\n",
      "\n"
     ]
    },
    {
     "name": "stderr",
     "output_type": "stream",
     "text": [
      "2823it [00:12, 238.09it/s]"
     ]
    },
    {
     "name": "stdout",
     "output_type": "stream",
     "text": [
      "She once absconded with a suitcase full of money after being tipped off by her brother-in-law , deputy head of police Wen Qiang , before a police raid on one of her premises , according to the Southern Weekend newspaper .\n",
      "no_relation\n",
      "['Wen', 'Qiang'] ['Wen', 'Qiang'] 1.0 ['PERSON', 'PERSON'] 0.0\n",
      "\n",
      "Wen Qiang , who once headed the judiciary and served as deputy police chief in the southwestern mega-city , was convicted of taking bribes , rape and protecting organised crime networks , the court ruled .\n",
      "no_relation\n",
      "['Wen', 'Qiang'] ['Wen', 'Qiang'] 1.0 ['PERSON', 'PERSON'] 0.0\n",
      "\n"
     ]
    },
    {
     "name": "stderr",
     "output_type": "stream",
     "text": [
      "2993it [00:12, 238.18it/s]"
     ]
    },
    {
     "name": "stdout",
     "output_type": "stream",
     "text": [
      "Wen Qiang , 55 , former director of the Chongqing Municipal Judicial Bureau , was convicted of corruption charges involving organized crime .\n",
      "per:employee_of\n",
      "['Wen', 'Qiang'] ['Wen', 'Qiang'] 1.0 ['PERSON', 'PERSON'] 0.0\n",
      "\n"
     ]
    },
    {
     "name": "stderr",
     "output_type": "stream",
     "text": [
      "3135it [00:13, 225.98it/s]"
     ]
    },
    {
     "name": "stdout",
     "output_type": "stream",
     "text": [
      "Wen Qiang was detained in August and accused of protecting the gang operations masterminded by his sister-in-law , Xie Caiping , 46 , known as the `` godmother '' of the Chongqing underworld .\n",
      "per:other_family\n",
      "['Wen', 'Qiang'] ['Wen', 'Qiang'] 1.0 ['PERSON', 'PERSON'] 0.0\n",
      "\n"
     ]
    },
    {
     "name": "stderr",
     "output_type": "stream",
     "text": [
      "3204it [00:13, 225.42it/s]"
     ]
    },
    {
     "name": "stdout",
     "output_type": "stream",
     "text": [
      "The official was Wen Qiang , former director of the Chongqing municipal bureau of justice and a key figure in the country 's largest gang crackdown .\n",
      "no_relation\n",
      "['Wen', 'Qiang'] ['Wen', 'Qiang'] 1.0 ['PERSON', 'PERSON'] 0.0\n",
      "\n",
      "As part of the campaign , Wen Qiang , the previous deputy director of the city 's police -- a post he held for 16 years until last year -- was detained in an internal investigation , Zhou said .\n",
      "per:title\n",
      "['Wen', 'Qiang'] ['Wen', 'Qiang'] 1.0 ['PERSON', 'PERSON'] 0.0\n",
      "\n"
     ]
    },
    {
     "name": "stderr",
     "output_type": "stream",
     "text": [
      "3296it [00:14, 224.40it/s]"
     ]
    },
    {
     "name": "stdout",
     "output_type": "stream",
     "text": [
      "Wen Qiang , 55 , who stood trial at the Chongqing No\n",
      "per:age\n",
      "['Wen', 'Qiang'] ['Wen', 'Qiang'] 1.0 ['PERSON', 'PERSON'] 0.0\n",
      "\n",
      "In July , authorities executed Wen Qiang , a former top police and justice official , for charges including rape and taking bribes to protect criminal gangs .\n",
      "per:charges\n",
      "['Wen', 'Qiang'] ['Wen', 'Qiang'] 1.0 ['PERSON', 'PERSON'] 0.0\n",
      "\n",
      "`` To get rich is glorious '' has been the mantra in booming communist China for 30 years , but few have embraced the slogan more vigorously than Wen Qiang , a leading law official in the country 's southwest .\n",
      "per:countries_of_residence\n",
      "['Wen', 'Qiang'] ['Wen', 'Qiang'] 1.0 ['PERSON', 'PERSON'] 0.0\n",
      "\n"
     ]
    },
    {
     "name": "stderr",
     "output_type": "stream",
     "text": [
      "3388it [00:14, 219.52it/s]"
     ]
    },
    {
     "name": "stdout",
     "output_type": "stream",
     "text": [
      "The Municipal Higher People 's Court Friday rejected the appeal of Wen Qiang , who was sentenced to death by a lower court April 14 for accepting bribes , shielding criminal gangs , rape and failing to account for his cash and assets .\n",
      "no_relation\n",
      "['Wen', 'Qiang'] ['Wen', 'Qiang'] 1.0 ['PERSON', 'PERSON'] 0.0\n",
      "\n",
      "The Chongqing No. 5 Intermediate People 's Court will deliver its verdict on Wen Qiang , former director of the Chongqing Municipal Judicial Bureau , after rehearing his case Wednesday morning , according to a statement from the court .\n",
      "no_relation\n",
      "['Wen', 'Qiang'] ['Wen', 'Qiang'] 1.0 ['PERSON', 'PERSON'] 0.0\n",
      "\n",
      "Former director of the Chongqing Municipal Judicial Bureau Wen Qiang , 55 , was convicted at the Chongqing No. 5 Intermediate People 's Court of accepting bribes , protecting criminal gangs , rape and failing to account for his cash and assets .\n",
      "per:title\n",
      "['Wen', 'Qiang'] ['Wen', 'Qiang'] 1.0 ['PERSON', 'PERSON'] 0.0\n",
      "\n",
      "Wen Qiang , former deputy director of Chongqing 's public security department , was also accused of rape and being unable to explain the sources of his assets , according to a statement published on the website of the municipal procuratorate , wwwcqjcygovcn .\n",
      "per:title\n",
      "['Wen', 'Qiang'] ['Wen', 'Qiang'] 1.0 ['PERSON', 'PERSON'] 0.0\n",
      "\n"
     ]
    },
    {
     "name": "stderr",
     "output_type": "stream",
     "text": [
      "3482it [00:15, 229.47it/s]"
     ]
    },
    {
     "name": "stdout",
     "output_type": "stream",
     "text": [
      "Among them were Li Hanbin , commander of the first detachment of the municipal criminal police unit , and Wen Qiang , former director of the municipal judicial administrative bureau and former executive deputy director of the municipal police department .\n",
      "per:title\n",
      "['Wen', 'Qiang'] ['Wen', 'Qiang'] 1.0 ['PERSON', 'PERSON'] 0.0\n",
      "\n",
      "Former director of the Chongqing Municipal Judicial Bureau Wen Qiang , 55 , was convicted at the Chongqing No. 5 Intermediate People 's Court of accepting bribes , protecting criminal gangs , rape and failing to account for his cash and assets .\n",
      "per:charges\n",
      "['Wen', 'Qiang'] ['Wen', 'Qiang'] 1.0 ['PERSON', 'PERSON'] 0.0\n",
      "\n"
     ]
    },
    {
     "name": "stderr",
     "output_type": "stream",
     "text": [
      "3601it [00:15, 226.58it/s]"
     ]
    },
    {
     "name": "stdout",
     "output_type": "stream",
     "text": [
      "5 Intermediate People 's Court will deliver its verdict on Wen Qiang , former director of the Chongqing Municipal Judicial Bureau , after rehearing his case Wednesday morning , according to a statement from the court .\n",
      "per:employee_of\n",
      "['Wen', 'Qiang'] ['Wen', 'Qiang'] 1.0 ['PERSON', 'PERSON'] 0.0\n",
      "\n",
      "Wen Qiang , former deputy director of Chongqing 's public security department , was also accused of rape and being unable to explain the sources of his assets , according to a statement published on the website of the municipal procuratorate , www.cqjcy.gov.cn .\n",
      "per:charges\n",
      "['Wen', 'Qiang'] ['Wen', 'Qiang'] 1.0 ['PERSON', 'PERSON'] 0.0\n",
      "\n",
      "Among those arrested was Wen Qiang , director of the municipal judicial administrative bureau and former executive deputy director of the municipal public security bureau .\n",
      "per:title\n",
      "['Wen', 'Qiang'] ['Wen', 'Qiang'] 1.0 ['PERSON', 'PERSON'] 0.0\n",
      "\n"
     ]
    },
    {
     "name": "stderr",
     "output_type": "stream",
     "text": [
      "3670it [00:15, 224.66it/s]"
     ]
    },
    {
     "name": "stdout",
     "output_type": "stream",
     "text": [
      "Among them were Wen Qiang , former deputy director of Chongqing 's public security department ; Peng Changjian , former vice director of Chongqing 's public security department ; Zhang Tao , former deputy head of Chongqing 's higher court ; Mao Jianping , former deputy chief procurator of a branch of Chongqing People 's Procuratorate .\n",
      "no_relation\n",
      "['Wen', 'Qiang'] ['Wen', 'Qiang'] 1.0 ['PERSON', 'PERSON'] 0.0\n",
      "\n"
     ]
    },
    {
     "name": "stderr",
     "output_type": "stream",
     "text": [
      "3762it [00:16, 211.14it/s]"
     ]
    },
    {
     "name": "stdout",
     "output_type": "stream",
     "text": [
      "They include Wen Qiang , who became Chongqing 's top judicial official in 2008 after 16 years on the police force and who stands accused of protecting an intricate web of businessmen , officials and mobsters .\n",
      "per:cities_of_residence\n",
      "['Wen', 'Qiang'] ['Wen', 'Qiang'] 1.0 ['PERSON', 'PERSON'] 0.0\n",
      "\n",
      "The trail led as high as the former director of the city 's judicial department , Wen Qiang , who was executed after convictions involving bribery , rape , extortion and gang-related activities .\n",
      "per:charges\n",
      "['Wen', 'Qiang'] ['Wen', 'Qiang'] 1.0 ['PERSON', 'PERSON'] 0.0\n",
      "\n"
     ]
    },
    {
     "name": "stderr",
     "output_type": "stream",
     "text": [
      "3903it [00:16, 222.45it/s]"
     ]
    },
    {
     "name": "stdout",
     "output_type": "stream",
     "text": [
      "The trail led as high as the former director of the city 's judicial department , Wen Qiang , who was executed after convictions involving bribery , rape , extortion and gang-related activities .\n",
      "per:employee_of\n",
      "['Wen', 'Qiang'] ['Wen', 'Qiang'] 1.0 ['PERSON', 'PERSON'] 0.0\n",
      "\n",
      "Wen Qiang , 55 , former director of the Chongqing Municipal Judicial Bureau , was also accused of taking bribes , rape and owning huge amounts of money and assets he could not justify , heard the Chongqing Municipal No\n",
      "per:employee_of\n",
      "['Wen', 'Qiang'] ['Wen', 'Qiang'] 1.0 ['PERSON', 'PERSON'] 0.0\n",
      "\n"
     ]
    },
    {
     "name": "stderr",
     "output_type": "stream",
     "text": [
      "4272it [00:18, 227.86it/s]"
     ]
    },
    {
     "name": "stdout",
     "output_type": "stream",
     "text": [
      "Wen Qiang , who once headed the judiciary and served as deputy police chief in Chongqing , stands accused of taking more than two million dollars in bribes , multiple rapes and protecting organised crime networks .\n",
      "per:title\n",
      "['Wen', 'Qiang'] ['Wen', 'Qiang'] 1.0 ['PERSON', 'PERSON'] 0.0\n",
      "\n",
      "Prosecutors at the Chongqing No. 5 Intermediate People 's Court said Wen Qiang took bribes worth more than 16 million yuan ( $ 2.4 million ) from gang members he gave legal protection while he was director of the Chongqing Municipal Judicial Bureau , the official Xinhua News Agency reported .\n",
      "no_relation\n",
      "['Wen', 'Qiang'] ['Wen', 'Qiang'] 1.0 ['PERSON', 'PERSON'] 0.0\n",
      "\n",
      "Former director of the Chongqing Municipal Judicial Bureau Wen Qiang , 55 , was convicted at the Chongqing No. 5 Intermediate People 's Court of accepting bribes , protecting criminal gangs , rape and failing to account for his cash and assets .\n",
      "no_relation\n",
      "['Wen', 'Qiang'] ['Wen', 'Qiang'] 1.0 ['PERSON', 'PERSON'] 0.0\n",
      "\n",
      "Wen Qiang was detained in August and accused of protecting the gang operations masterminded by his sister-in-law , Xie Caiping , 46 , known as the `` godmother '' of the Chongqing underworld .\n",
      "no_relation\n",
      "['Wen', 'Qiang'] ['Wen', 'Qiang'] 1.0 ['PERSON', 'PERSON'] 0.0\n",
      "\n",
      "He said more than 200 deputies to legislatures at different levels and hundreds of journalists heard the court proceedings of those cases , particularly the case of Wen Qiang , a former judicial chief of the municipality .\n",
      "per:title\n",
      "['Wen', 'Qiang'] ['Wen', 'Qiang'] 1.0 ['PERSON', 'PERSON'] 0.0\n",
      "\n"
     ]
    },
    {
     "name": "stderr",
     "output_type": "stream",
     "text": [
      "4410it [00:19, 225.88it/s]"
     ]
    },
    {
     "name": "stdout",
     "output_type": "stream",
     "text": [
      "Xie was the sister-in-law of Wen Qiang , formerly the second in command of the Chongqing police and director of the justice bureau before he was arrested .\n",
      "no_relation\n",
      "['Wen', 'Qiang'] ['Wen', 'Qiang'] 1.0 ['PERSON', 'PERSON'] 0.0\n",
      "\n",
      "Xie was the sister-in-law of Wen Qiang , formerly the second in command of the Chongqing police and director of the justice bureau before he was arrested .\n",
      "per:other_family\n",
      "['Wen', 'Qiang'] ['Wen', 'Qiang'] 1.0 ['PERSON', 'PERSON'] 0.0\n",
      "\n"
     ]
    },
    {
     "name": "stderr",
     "output_type": "stream",
     "text": [
      "4502it [00:19, 225.52it/s]"
     ]
    },
    {
     "name": "stdout",
     "output_type": "stream",
     "text": [
      "Wen Qiang , who served as a top police and judicial official in Chongqing over the past 16 years , is the highest-ranking official ensnared in the crackdown that has led to the arrest of more than 1,500 suspects .\n",
      "no_relation\n",
      "['Wen', 'Qiang'] ['Wen', 'Qiang'] 1.0 ['PERSON', 'PERSON'] 0.0\n",
      "\n"
     ]
    },
    {
     "name": "stderr",
     "output_type": "stream",
     "text": [
      "4548it [00:19, 221.04it/s]"
     ]
    },
    {
     "name": "stdout",
     "output_type": "stream",
     "text": [
      "A municipal court in Chongqing convicted Xie Caiping -- sister-in-law of the former head of the city 's judiciary , Wen Qiang -- of a series of crimes linked to the gambling syndicate , said the verdict , posted on the court 's website .\n",
      "per:other_family\n",
      "['Wen', 'Qiang'] ['Wen', 'Qiang'] 1.0 ['PERSON', 'PERSON'] 0.0\n",
      "\n",
      "Wen Qiang , 55 , who stood trial at the Chongqing No\n",
      "no_relation\n",
      "['Wen', 'Qiang'] ['Wen', 'Qiang'] 1.0 ['PERSON', 'PERSON'] 0.0\n",
      "\n",
      "A verdict on the case of Wen Qiang , former justice department director in the southwestern city of Chongqing , would be announced at an undisclosed , later date , the No\n",
      "no_relation\n",
      "['Wen', 'Qiang'] ['Wen', 'Qiang'] 1.0 ['PERSON', 'PERSON'] 0.0\n",
      "\n"
     ]
    },
    {
     "name": "stderr",
     "output_type": "stream",
     "text": [
      "4761it [00:20, 228.95it/s]"
     ]
    },
    {
     "name": "stdout",
     "output_type": "stream",
     "text": [
      "A verdict on the case of Wen Qiang , former justice department director in the southwestern city of Chongqing , would be announced at an undisclosed , later date , the No\n",
      "per:employee_of\n",
      "['Wen', 'Qiang'] ['Wen', 'Qiang'] 1.0 ['PERSON', 'PERSON'] 0.0\n",
      "\n",
      "China to conclude nationwide training for grassroots court presidents Among them were former SPC vice president Huang Songyou , who was sentenced on Jan 19 to life imprisonment for taking bribes and embezzlement and Wen Qiang , former director of the Chongqing Municipal Judicial Bureau , who was executed on charges of corruption charges involving organized crime .\n",
      "per:charges\n",
      "['Wen', 'Qiang'] ['Wen', 'Qiang'] 1.0 ['PERSON', 'PERSON'] 0.0\n",
      "\n"
     ]
    },
    {
     "name": "stderr",
     "output_type": "stream",
     "text": [
      "4857it [00:21, 232.25it/s]"
     ]
    },
    {
     "name": "stdout",
     "output_type": "stream",
     "text": [
      "The trail led as high as the former director of the city 's judicial department , Wen Qiang , who was executed after convictions involving bribery , rape , extortion and gang-related activities .\n",
      "per:charges\n",
      "['Wen', 'Qiang'] ['Wen', 'Qiang'] 1.0 ['PERSON', 'PERSON'] 0.0\n",
      "\n",
      "Wen Qiang , 54 , the former head of the judiciary in the southwestern Chongqing region and also an ex-deputy police chief , was sentenced to death in April for charges including rape and taking bribes to protect criminal gangs .\n",
      "per:cities_of_residence\n",
      "['Wen', 'Qiang'] ['Wen', 'Qiang'] 1.0 ['PERSON', 'PERSON'] 0.0\n",
      "\n"
     ]
    },
    {
     "name": "stderr",
     "output_type": "stream",
     "text": [
      "4929it [00:21, 230.00it/s]"
     ]
    },
    {
     "name": "stdout",
     "output_type": "stream",
     "text": [
      "China sentences to death two leaders of prostitution ring Chen was an associate of Wen Qiang , the former head of Chongqing 's judiciary and an ex-deputy police chief who was executed last month for charges including rape and taking bribes to protect gangs .\n",
      "per:employee_of\n",
      "['Wen', 'Qiang'] ['Wen', 'Qiang'] 1.0 ['PERSON', 'PERSON'] 0.0\n",
      "\n"
     ]
    },
    {
     "name": "stderr",
     "output_type": "stream",
     "text": [
      "5072it [00:22, 232.03it/s]"
     ]
    },
    {
     "name": "stdout",
     "output_type": "stream",
     "text": [
      "Xu allegedly offered the former executive deputy director of the Chongiqng public security bureau Wen Qiang 280,000 yuan in 2006 for promotion .\n",
      "no_relation\n",
      "['Wen', 'Qiang'] ['Wen', 'Qiang'] 1.0 ['PERSON', 'PERSON'] 0.0\n",
      "\n",
      "`` Wen Qiang provided the biggest protection umbrella for the Chongqing mafia -- his sentencing will show that Chongqing 's crackdown on organised crime is rather complete , '' Gao Yaoxian , a legal expert at the Legal Institute of Sichuan University , told AFP .\n",
      "no_relation\n",
      "['Wen', 'Qiang'] ['Wen', 'Qiang'] 1.0 ['PERSON', 'PERSON'] 0.0\n",
      "\n"
     ]
    },
    {
     "name": "stderr",
     "output_type": "stream",
     "text": [
      "5305it [00:23, 224.61it/s]"
     ]
    },
    {
     "name": "stdout",
     "output_type": "stream",
     "text": [
      "The verdict against Wen Qiang , once also a former deputy police chief , brought to a climax a series of trials that lifted the lid on the seamy underworld in the city .\n",
      "no_relation\n",
      "['Wen', 'Qiang'] ['Wen', 'Qiang'] 1.0 ['PERSON', 'PERSON'] 0.0\n",
      "\n",
      "Wen Qiang , who served as Chongqing 's judicial bureau chief before his arrest in September 2009 , was convicted of accepting bribes , shielding criminal gangs , rape and failing to account for large amount of his income .\n",
      "per:charges\n",
      "['Wen', 'Qiang'] ['Wen', 'Qiang'] 1.0 ['PERSON', 'PERSON'] 0.0\n",
      "\n",
      "Wen Qiang was detained in August and accused of protecting the gang operations masterminded by his sister-in-law , Xie Caiping , 46 , known as the `` godmother '' of the Chongqing underworld .\n",
      "per:other_family\n",
      "['Wen', 'Qiang'] ['Wen', 'Qiang'] 1.0 ['PERSON', 'PERSON'] 0.0\n",
      "\n"
     ]
    },
    {
     "name": "stderr",
     "output_type": "stream",
     "text": [
      "5845it [00:25, 238.07it/s]"
     ]
    },
    {
     "name": "stdout",
     "output_type": "stream",
     "text": [
      "Xie was the sister-in-law of Wen Qiang , formerly the second in command of the Chongqing police and director of the justice bureau before he was arrested .\n",
      "no_relation\n",
      "['Wen', 'Qiang'] ['Wen', 'Qiang'] 1.0 ['PERSON', 'PERSON'] 0.0\n",
      "\n",
      "In an ongoing case , the former top judicial official of Chongqing , Wen Qiang , regularly sought out underage girls and entertainment starlets for sexual trysts , the Yangzi Evening News reported this week .\n",
      "per:employee_of\n",
      "['Wen', 'Qiang'] ['Wen', 'Qiang'] 1.0 ['PERSON', 'PERSON'] 0.0\n",
      "\n",
      "Former director of the Chongqing Municipal Judicial Bureau Wen Qiang , 55 , was convicted at the Chongqing No. 5 Intermediate People 's Court of accepting bribes , protecting criminal gangs , rape and failing to account for his cash and assets .\n",
      "no_relation\n",
      "['Wen', 'Qiang'] ['Wen', 'Qiang'] 1.0 ['PERSON', 'PERSON'] 0.0\n",
      "\n",
      "`` Wen Qiang provided the biggest protection umbrella for the Chongqing mafia -- his sentencing will show that Chongqing 's crackdown on organised crime is rather complete , '' Gao Yaoxian , a legal expert at the Legal Institute of Sichuan University , told AFP .\n",
      "no_relation\n",
      "['Wen', 'Qiang'] ['Wen', 'Qiang'] 1.0 ['PERSON', 'PERSON'] 0.0\n",
      "\n"
     ]
    },
    {
     "name": "stderr",
     "output_type": "stream",
     "text": [
      "5965it [00:26, 237.13it/s]"
     ]
    },
    {
     "name": "stdout",
     "output_type": "stream",
     "text": [
      "Wen Qiang , former deputy police chief and head of the justice bureau of Chongqing , stood trial last month .\n",
      "no_relation\n",
      "['Wen', 'Qiang'] ['Wen', 'Qiang'] 1.0 ['PERSON', 'PERSON'] 0.0\n",
      "\n"
     ]
    },
    {
     "name": "stderr",
     "output_type": "stream",
     "text": [
      "6037it [00:26, 232.93it/s]"
     ]
    },
    {
     "name": "stdout",
     "output_type": "stream",
     "text": [
      "China executes official at heart of graft trials : Xinhua Wen Qiang , 54 , the former head of the judiciary in the southwestern Chongqing region and also an ex-deputy police chief , was sentenced to death in April for charges including rape and taking bribes to protect criminal gangs .\n",
      "no_relation\n",
      "['Wen', 'Qiang'] ['Wen', 'Qiang'] 1.0 ['PERSON', 'PERSON'] 0.0\n",
      "\n"
     ]
    },
    {
     "name": "stderr",
     "output_type": "stream",
     "text": [
      "6157it [00:26, 234.52it/s]"
     ]
    },
    {
     "name": "stdout",
     "output_type": "stream",
     "text": [
      "Xie was the sister-in-law of Wen Qiang , formerly the second in command of the Chongqing police and director of the justice bureau before he was arrested .\n",
      "no_relation\n",
      "['Wen', 'Qiang'] ['Wen', 'Qiang'] 1.0 ['PERSON', 'PERSON'] 0.0\n",
      "\n"
     ]
    },
    {
     "name": "stderr",
     "output_type": "stream",
     "text": [
      "6229it [00:27, 235.15it/s]"
     ]
    },
    {
     "name": "stdout",
     "output_type": "stream",
     "text": [
      "Earlier this month , China executed Wen Qiang , 55 , former director of the Chongqing Municipal Judicial Bureau for corruption charges involving bribery , rape , extortion and gang-related activities .\n",
      "per:charges\n",
      "['Wen', 'Qiang'] ['Wen', 'Qiang'] 1.0 ['PERSON', 'PERSON'] 0.0\n",
      "\n",
      "Wen Qiang , the 55-year-old director of the city 's justice bureau , is suspected of having helped cover up predatory lending and other types of gang activities , according to a previous Xinhua report .\n",
      "per:age\n",
      "['Wen', 'Qiang'] ['Wen', 'Qiang'] 1.0 ['PERSON', 'PERSON'] 0.0\n",
      "\n"
     ]
    },
    {
     "name": "stderr",
     "output_type": "stream",
     "text": [
      "6349it [00:27, 230.70it/s]"
     ]
    },
    {
     "name": "stdout",
     "output_type": "stream",
     "text": [
      "Wen Qiang , the 55-year-old director of the city 's justice bureau , is suspected of having helped cover up predatory lending and other types of gang activities , according to a previous Xinhua report .\n",
      "per:title\n",
      "['Wen', 'Qiang'] ['Wen', 'Qiang'] 1.0 ['PERSON', 'PERSON'] 0.0\n",
      "\n"
     ]
    },
    {
     "name": "stderr",
     "output_type": "stream",
     "text": [
      "6468it [00:28, 232.62it/s]"
     ]
    },
    {
     "name": "stdout",
     "output_type": "stream",
     "text": [
      "Wen Qiang , former director of the justice department in Chongqing , is the highest-ranking official to appear in the dock in a string of prosecutions over corruption and mafia crime in the vast city .\n",
      "per:employee_of\n",
      "['Wen', 'Qiang'] ['Wen', 'Qiang'] 1.0 ['PERSON', 'PERSON'] 0.0\n",
      "\n",
      "As part of the campaign , Wen Qiang , the previous deputy director of the city 's police -- a post he held for 16 years until last year -- has been detained in an internal investigation , Zhou said .\n",
      "no_relation\n",
      "['Wen', 'Qiang'] ['Wen', 'Qiang'] 1.0 ['PERSON', 'PERSON'] 0.0\n",
      "\n",
      "Chen was an associate of Wen Qiang , the former head of Chongqing 's judiciary and an ex-deputy police chief who was executed last month for charges including rape and taking bribes to protect gangs .\n",
      "no_relation\n",
      "['Wen', 'Qiang'] ['Wen', 'Qiang'] 1.0 ['PERSON', 'PERSON'] 0.0\n",
      "\n"
     ]
    },
    {
     "name": "stderr",
     "output_type": "stream",
     "text": [
      "6656it [00:29, 226.60it/s]"
     ]
    },
    {
     "name": "stdout",
     "output_type": "stream",
     "text": [
      "A verdict on the case of Wen Qiang , former justice department director in the southwestern city of Chongqing , would be announced at an undisclosed , later date , the No\n",
      "per:title\n",
      "['Wen', 'Qiang'] ['Wen', 'Qiang'] 1.0 ['PERSON', 'PERSON'] 0.0\n",
      "\n"
     ]
    },
    {
     "name": "stderr",
     "output_type": "stream",
     "text": [
      "6728it [00:29, 232.65it/s]"
     ]
    },
    {
     "name": "stdout",
     "output_type": "stream",
     "text": [
      "Xie was sister-in-law of Wen Qiang , formerly the second in command of the Chongqing police and director of the justice bureau before his arrest .\n",
      "no_relation\n",
      "['Wen', 'Qiang'] ['Wen', 'Qiang'] 1.0 ['PERSON', 'PERSON'] 0.0\n",
      "\n",
      "The trail led as high as the former director of the city 's judicial department , Wen Qiang , who was executed after convictions involving bribery , rape , extortion and gang-related activities .\n",
      "per:title\n",
      "['Wen', 'Qiang'] ['Wen', 'Qiang'] 1.0 ['PERSON', 'PERSON'] 0.0\n",
      "\n"
     ]
    },
    {
     "name": "stderr",
     "output_type": "stream",
     "text": [
      "6824it [00:29, 233.91it/s]"
     ]
    },
    {
     "name": "stdout",
     "output_type": "stream",
     "text": [
      "In an ongoing case , the former top judicial official of Chongqing , Wen Qiang , regularly sought out underage girls and entertainment starlets for sexual trysts , the Yangzi Evening News reported this week .\n",
      "no_relation\n",
      "['Wen', 'Qiang'] ['Wen', 'Qiang'] 1.0 ['PERSON', 'PERSON'] 0.0\n",
      "\n"
     ]
    },
    {
     "name": "stderr",
     "output_type": "stream",
     "text": [
      "6944it [00:30, 230.09it/s]"
     ]
    },
    {
     "name": "stdout",
     "output_type": "stream",
     "text": [
      "Earlier this month , China executed Wen Qiang , 55 , former director of the Chongqing Municipal Judicial Bureau for corruption charges involving bribery , rape , extortion and gang-related activities .\n",
      "per:employee_of\n",
      "['Wen', 'Qiang'] ['Wen', 'Qiang'] 1.0 ['PERSON', 'PERSON'] 0.0\n",
      "\n",
      "The crackdown has attracted extra attention because it has also targeted Wen Qiang , director of the city 's justice bureau , who allegedly protected the gangs from investigation .\n",
      "per:title\n",
      "['Wen', 'Qiang'] ['Wen', 'Qiang'] 1.0 ['PERSON', 'PERSON'] 0.0\n",
      "\n"
     ]
    },
    {
     "name": "stderr",
     "output_type": "stream",
     "text": [
      "7060it [00:30, 223.63it/s]"
     ]
    },
    {
     "name": "stdout",
     "output_type": "stream",
     "text": [
      "Former director of the Chongqing Municipal Judicial Bureau Wen Qiang , 55 , was convicted at the Chongqing No\n",
      "per:title\n",
      "['Wen', 'Qiang'] ['Wen', 'Qiang'] 1.0 ['PERSON', 'PERSON'] 0.0\n",
      "\n",
      "Wen Qiang , former deputy police chief and director of the justice bureau in Chongqing , was accused of rape , taking more than 15 million yuan ( 2.2 million dollars ) in bribes to protect criminal gangs , and possessing a huge amount of unexplainable assets .\n",
      "per:title\n",
      "['Wen', 'Qiang'] ['Wen', 'Qiang'] 1.0 ['PERSON', 'PERSON'] 0.0\n",
      "\n"
     ]
    },
    {
     "name": "stderr",
     "output_type": "stream",
     "text": [
      "7313it [00:31, 221.59it/s]"
     ]
    },
    {
     "name": "stdout",
     "output_type": "stream",
     "text": [
      "Xie was the sister-in-law of Wen Qiang , formerly the second in command of the Chongqing police and director of the justice bureau before he was arrested .\n",
      "no_relation\n",
      "['Wen', 'Qiang'] ['Wen', 'Qiang'] 1.0 ['PERSON', 'PERSON'] 0.0\n",
      "\n"
     ]
    },
    {
     "name": "stderr",
     "output_type": "stream",
     "text": [
      "7383it [00:32, 225.45it/s]"
     ]
    },
    {
     "name": "stdout",
     "output_type": "stream",
     "text": [
      "China executes official at heart of graft trials : Xinhua Wen Qiang , 54 , the former head of the judiciary in the southwestern Chongqing region and also an ex-deputy police chief , was sentenced to death in April for charges including rape and taking bribes to protect criminal gangs .\n",
      "per:title\n",
      "['Wen', 'Qiang'] ['Wen', 'Qiang'] 1.0 ['PERSON', 'PERSON'] 0.0\n",
      "\n"
     ]
    },
    {
     "name": "stderr",
     "output_type": "stream",
     "text": [
      "7455it [00:32, 230.29it/s]"
     ]
    },
    {
     "name": "stdout",
     "output_type": "stream",
     "text": [
      "A municipal court in Chongqing convicted Xie Caiping -- sister-in-law of the former head of the city 's judiciary , Wen Qiang -- of a series of crimes linked to the gambling syndicate , said the verdict , posted on the court 's website .\n",
      "no_relation\n",
      "['Wen', 'Qiang'] ['Wen', 'Qiang'] 1.0 ['PERSON', 'PERSON'] 0.0\n",
      "\n",
      "Wen Qiang , 54 , the former head of the judiciary in the southwestern Chongqing region and also an ex-deputy police chief , was sentenced to death in April for charges including rape and taking bribes to protect criminal gangs .\n",
      "per:title\n",
      "['Wen', 'Qiang'] ['Wen', 'Qiang'] 1.0 ['PERSON', 'PERSON'] 0.0\n",
      "\n",
      "China to conclude nationwide training for grassroots court presidents Among them were former SPC vice president Huang Songyou , who was sentenced on Jan 19 to life imprisonment for taking bribes and embezzlement and Wen Qiang , former director of the Chongqing Municipal Judicial Bureau , who was executed on charges of corruption charges involving organized crime .\n",
      "per:cause_of_death\n",
      "['Wen', 'Qiang'] ['Wen', 'Qiang'] 1.0 ['PERSON', 'PERSON'] 0.0\n",
      "\n"
     ]
    },
    {
     "name": "stderr",
     "output_type": "stream",
     "text": [
      "7527it [00:32, 226.97it/s]"
     ]
    },
    {
     "name": "stdout",
     "output_type": "stream",
     "text": [
      "Wen Qiang , formerly the No. 2 figure in Chongqing police and director of the justice bureau before he was arrested , and Peng Changjian are among the 52 public servants who are being investigated for shielding gangs , said Yu .\n",
      "no_relation\n",
      "['Wen', 'Qiang'] ['Wen', 'Qiang'] 1.0 ['PERSON', 'PERSON'] 0.0\n",
      "\n"
     ]
    },
    {
     "name": "stderr",
     "output_type": "stream",
     "text": [
      "7597it [00:33, 227.44it/s]"
     ]
    },
    {
     "name": "stdout",
     "output_type": "stream",
     "text": [
      "Xu allegedly offered the former executive deputy director of the Chongiqng public security bureau Wen Qiang 280,000 yuan in 2006 for promotion .\n",
      "per:title\n",
      "['Wen', 'Qiang'] ['Wen', 'Qiang'] 1.0 ['PERSON', 'PERSON'] 0.0\n",
      "\n",
      "China executes official at heart of graft trials : Xinhua Wen Qiang , 54 , the former head of the judiciary in the southwestern Chongqing region and also an ex-deputy police chief , was sentenced to death in April for charges including rape and taking bribes to protect criminal gangs .\n",
      "per:age\n",
      "['Wen', 'Qiang'] ['Wen', 'Qiang'] 1.0 ['PERSON', 'PERSON'] 0.0\n",
      "\n",
      "Xie was sister-in-law of Wen Qiang , formerly the second in command of the Chongqing police and director of the justice bureau before his arrest .\n",
      "no_relation\n",
      "['Wen', 'Qiang'] ['Wen', 'Qiang'] 1.0 ['PERSON', 'PERSON'] 0.0\n",
      "\n"
     ]
    },
    {
     "name": "stderr",
     "output_type": "stream",
     "text": [
      "7716it [00:33, 231.76it/s]"
     ]
    },
    {
     "name": "stdout",
     "output_type": "stream",
     "text": [
      "Wen Qiang was detained in August and accused of protecting the gang operations masterminded by his sister-in-law , Xie Caiping , 46 , known as the `` godmother '' of the Chongqing underworld .\n",
      "per:other_family\n",
      "['Wen', 'Qiang'] ['Wen', 'Qiang'] 1.0 ['PERSON', 'PERSON'] 0.0\n",
      "\n"
     ]
    },
    {
     "name": "stderr",
     "output_type": "stream",
     "text": [
      "7971it [00:34, 221.71it/s]"
     ]
    },
    {
     "name": "stdout",
     "output_type": "stream",
     "text": [
      "The Chongqing Municipal Higher People 's Court rejected the appeal from Wen Qiang , 55 , who was convicted of taking bribes worth millions from gang members while he was director of the Chongqing Municipal Judicial Bureau , a report on the court 's website said .\n",
      "per:employee_of\n",
      "['Wen', 'Qiang'] ['Wen', 'Qiang'] 1.0 ['PERSON', 'PERSON'] 0.0\n",
      "\n"
     ]
    },
    {
     "name": "stderr",
     "output_type": "stream",
     "text": [
      "8065it [00:35, 227.84it/s]"
     ]
    },
    {
     "name": "stdout",
     "output_type": "stream",
     "text": [
      "`` Wen Qiang provided the biggest protection umbrella for the Chongqing mafia -- his sentencing will show that Chongqing 's crackdown on organised crime is rather complete , '' Gao Yaoxian , a legal expert at the Legal Institute of Sichuan University , told AFP .\n",
      "no_relation\n",
      "['Wen', 'Qiang'] ['Wen', 'Qiang'] 1.0 ['PERSON', 'PERSON'] 0.0\n",
      "\n"
     ]
    },
    {
     "name": "stderr",
     "output_type": "stream",
     "text": [
      "8161it [00:35, 206.31it/s]"
     ]
    },
    {
     "name": "stdout",
     "output_type": "stream",
     "text": [
      "Xu allegedly offered the former executive deputy director of the Chongiqng public security bureau Wen Qiang 280,000 yuan in 2006 for promotion .\n",
      "per:employee_of\n",
      "['Wen', 'Qiang'] ['Wen', 'Qiang'] 1.0 ['PERSON', 'PERSON'] 0.0\n",
      "\n",
      "Xie was sister-in-law of Wen Qiang , formerly the second in command of the Chongqing police and director of the justice bureau before his arrest .\n",
      "per:title\n",
      "['Wen', 'Qiang'] ['Wen', 'Qiang'] 1.0 ['PERSON', 'PERSON'] 0.0\n",
      "\n",
      "Xie was sister-in-law of Wen Qiang , formerly the second in command of the Chongqing police and director of the justice bureau before his arrest .\n",
      "per:other_family\n",
      "['Wen', 'Qiang'] ['Wen', 'Qiang'] 1.0 ['PERSON', 'PERSON'] 0.0\n",
      "\n"
     ]
    },
    {
     "name": "stderr",
     "output_type": "stream",
     "text": [
      "8252it [00:36, 217.10it/s]"
     ]
    },
    {
     "name": "stdout",
     "output_type": "stream",
     "text": [
      "Former director of the Chongqing Municipal Judicial Bureau Wen Qiang , 55 , was convicted at the Chongqing No. 5 Intermediate People 's Court of accepting bribes , protecting criminal gangs , rape and failing to account for his cash and assets .\n",
      "per:age\n",
      "['Wen', 'Qiang'] ['Wen', 'Qiang'] 1.0 ['PERSON', 'PERSON'] 0.0\n",
      "\n"
     ]
    },
    {
     "name": "stderr",
     "output_type": "stream",
     "text": [
      "8345it [00:36, 225.87it/s]"
     ]
    },
    {
     "name": "stdout",
     "output_type": "stream",
     "text": [
      "Wen Qiang , a former top judicial official in Chongqing municipality , will be tried on February 2 , as the city of over 30 million seeks to wrap up scores of cases linking the government to organised crime , the China News Service said .\n",
      "per:cities_of_residence\n",
      "['Wen', 'Qiang'] ['Wen', 'Qiang'] 1.0 ['PERSON', 'PERSON'] 0.0\n",
      "\n",
      "Xie was the sister-in-law of Wen Qiang , formerly the second in command of the Chongqing police and director of the justice bureau before he was arrested .\n",
      "per:employee_of\n",
      "['Wen', 'Qiang'] ['Wen', 'Qiang'] 1.0 ['PERSON', 'PERSON'] 0.0\n",
      "\n"
     ]
    },
    {
     "name": "stderr",
     "output_type": "stream",
     "text": [
      "8416it [00:36, 225.83it/s]"
     ]
    },
    {
     "name": "stdout",
     "output_type": "stream",
     "text": [
      "Xie was sister-in-law of Wen Qiang , formerly the second in command of the Chongqing police and director of the justice bureau before his arrest .\n",
      "no_relation\n",
      "['Wen', 'Qiang'] ['Wen', 'Qiang'] 1.0 ['PERSON', 'PERSON'] 0.0\n",
      "\n",
      "Wen Qiang , 55 , former director of the Chongqing Municipal Judicial Bureau , was also accused of taking bribes , rape and owning huge amounts of money and assets he could not justify , heard the Chongqing Municipal No\n",
      "no_relation\n",
      "['Wen', 'Qiang'] ['Wen', 'Qiang'] 1.0 ['PERSON', 'PERSON'] 0.0\n",
      "\n"
     ]
    },
    {
     "name": "stderr",
     "output_type": "stream",
     "text": [
      "8578it [00:37, 219.69it/s]"
     ]
    },
    {
     "name": "stdout",
     "output_type": "stream",
     "text": [
      "Wen Qiang , formerly the No. 2 figure in Chongqing police and director of the justice bureau before he was arrested , and Peng Changjian are among the 52 public servants who are being investigated for shielding gangs , said Yu .\n",
      "no_relation\n",
      "['Wen', 'Qiang'] ['Wen', 'Qiang'] 1.0 ['PERSON', 'PERSON'] 0.0\n",
      "\n",
      "Wen Qiang , former deputy police chief and head of the justice bureau of Chongqing , stood trial last month .\n",
      "per:cities_of_residence\n",
      "['Wen', 'Qiang'] ['Wen', 'Qiang'] 1.0 ['PERSON', 'PERSON'] 0.0\n",
      "\n",
      "The crackdown has attracted extra attention because it has also targeted Wen Qiang , director of the city 's justice bureau , who allegedly protected the gangs from investigation .\n",
      "per:employee_of\n",
      "['Wen', 'Qiang'] ['Wen', 'Qiang'] 1.0 ['PERSON', 'PERSON'] 0.0\n",
      "\n"
     ]
    },
    {
     "name": "stderr",
     "output_type": "stream",
     "text": [
      "8670it [00:38, 225.77it/s]"
     ]
    },
    {
     "name": "stdout",
     "output_type": "stream",
     "text": [
      "The Chongqing No. 5 Intermediate People 's Court will deliver its verdict on Wen Qiang , former director of the Chongqing Municipal Judicial Bureau , after rehearing his case Wednesday morning , according to a statement from the court .\n",
      "per:title\n",
      "['Wen', 'Qiang'] ['Wen', 'Qiang'] 1.0 ['PERSON', 'PERSON'] 0.0\n",
      "\n"
     ]
    },
    {
     "name": "stderr",
     "output_type": "stream",
     "text": [
      "8763it [00:38, 221.33it/s]"
     ]
    },
    {
     "name": "stdout",
     "output_type": "stream",
     "text": [
      "Wen Qiang was detained in August and accused of protecting the gang operations masterminded by his sister-in-law , Xie Caiping , 46 , known as the `` godmother '' of the Chongqing underworld .\n",
      "no_relation\n",
      "['Wen', 'Qiang'] ['Wen', 'Qiang'] 1.0 ['PERSON', 'PERSON'] 0.0\n",
      "\n"
     ]
    },
    {
     "name": "stderr",
     "output_type": "stream",
     "text": [
      "8899it [00:39, 218.53it/s]"
     ]
    },
    {
     "name": "stdout",
     "output_type": "stream",
     "text": [
      "5 Intermediate People 's Court said Wen Qiang took bribes worth more than 16 million yuan ( $ 24 million ) from gang members he gave legal protection while he was director of the Chongqing Municipal Judicial Bureau , the official Xinhua News Agency reported .\n",
      "per:employee_of\n",
      "['Wen', 'Qiang'] ['Wen', 'Qiang'] 1.0 ['PERSON', 'PERSON'] 0.0\n",
      "\n"
     ]
    },
    {
     "name": "stderr",
     "output_type": "stream",
     "text": [
      "9015it [00:39, 228.37it/s]"
     ]
    },
    {
     "name": "stdout",
     "output_type": "stream",
     "text": [
      "Earlier this month , Wen Qiang , head of the judicial administrative bureau in southwestern Chongqing Municipality , was being investigated over alleged connections with gangsters .\n",
      "per:employee_of\n",
      "['Wen', 'Qiang'] ['Wen', 'Qiang'] 1.0 ['PERSON', 'PERSON'] 0.0\n",
      "\n"
     ]
    },
    {
     "name": "stderr",
     "output_type": "stream",
     "text": [
      "9154it [00:40, 220.85it/s]"
     ]
    },
    {
     "name": "stdout",
     "output_type": "stream",
     "text": [
      "Xie was sister-in-law of Wen Qiang , formerly the second in command of the Chongqing police and director of the justice bureau before his arrest .\n",
      "per:title\n",
      "['Wen', 'Qiang'] ['Wen', 'Qiang'] 1.0 ['PERSON', 'PERSON'] 0.0\n",
      "\n"
     ]
    },
    {
     "name": "stderr",
     "output_type": "stream",
     "text": [
      "9247it [00:40, 224.82it/s]"
     ]
    },
    {
     "name": "stdout",
     "output_type": "stream",
     "text": [
      "The Chongqing Municipal Higher People 's Court rejected the appeal from Wen Qiang , 55 , who was convicted of taking bribes worth millions from gang members while he was director of the Chongqing Municipal Judicial Bureau , a report on the court 's website said .\n",
      "per:employee_of\n",
      "['Wen', 'Qiang'] ['Wen', 'Qiang'] 1.0 ['PERSON', 'PERSON'] 0.0\n",
      "\n",
      "Wen Qiang , former deputy director of Chongqing 's public security department , was also accused of rape and being unable to explain the sources of his assets , according to a statement published on the website of the municipal procuratorate , wwwcqjcygovcn .\n",
      "per:employee_of\n",
      "['Wen', 'Qiang'] ['Wen', 'Qiang'] 1.0 ['PERSON', 'PERSON'] 0.0\n",
      "\n"
     ]
    },
    {
     "name": "stderr",
     "output_type": "stream",
     "text": [
      "9317it [00:40, 226.98it/s]"
     ]
    },
    {
     "name": "stdout",
     "output_type": "stream",
     "text": [
      "Earlier this month , the former director of the Chongqing Municipal Judicial Bureau , Wen Qiang , was executed after conviction on charges involving bribery , rape , extortion and gang-related activities .\n",
      "per:employee_of\n",
      "['Wen', 'Qiang'] ['Wen', 'Qiang'] 1.0 ['PERSON', 'PERSON'] 0.0\n",
      "\n",
      "Wen Qiang , head of the judicial administrative bureau in southwest China 's Chongqing Municipality , is being investigated over alleged connections with gangsters , said local authorities on Thursday .\n",
      "no_relation\n",
      "['Wen', 'Qiang'] ['Wen', 'Qiang'] 1.0 ['PERSON', 'PERSON'] 0.0\n",
      "\n"
     ]
    },
    {
     "name": "stderr",
     "output_type": "stream",
     "text": [
      "9386it [00:41, 224.26it/s]"
     ]
    },
    {
     "name": "stdout",
     "output_type": "stream",
     "text": [
      "China earlier this month executed Wen Qiang , a former top Chongqing police and justice official at the centre of the scandal .\n",
      "per:country_of_death\n",
      "['Wen', 'Qiang'] ['Wen', 'Qiang'] 1.0 ['PERSON', 'PERSON'] 0.0\n",
      "\n"
     ]
    },
    {
     "name": "stderr",
     "output_type": "stream",
     "text": [
      "9480it [00:41, 226.79it/s]"
     ]
    },
    {
     "name": "stdout",
     "output_type": "stream",
     "text": [
      "The Chongqing Municipal Higher People 's Court rejected the appeal from Wen Qiang , 55 , who was convicted of taking bribes worth millions from gang members while he was director of the Chongqing Municipal Judicial Bureau , a report on the court 's website said .\n",
      "no_relation\n",
      "['Wen', 'Qiang'] ['Wen', 'Qiang'] 1.0 ['PERSON', 'PERSON'] 0.0\n",
      "\n"
     ]
    },
    {
     "name": "stderr",
     "output_type": "stream",
     "text": [
      "9620it [00:42, 227.75it/s]"
     ]
    },
    {
     "name": "stdout",
     "output_type": "stream",
     "text": [
      "The Chongqing Municipal Higher People 's Court rejected the appeal from Wen Qiang , 55 , who was convicted of taking bribes worth millions from gang members while he was director of the Chongqing Municipal Judicial Bureau , a report on the court 's website said .\n",
      "per:age\n",
      "['Wen', 'Qiang'] ['Wen', 'Qiang'] 1.0 ['PERSON', 'PERSON'] 0.0\n",
      "\n",
      "Wen Qiang , 55 , who stood trial at the Chongqing No. 5 Intermediate People 's Court between Feb. 2 and 7 , was charged with bribery , rape and gang affiliations .\n",
      "no_relation\n",
      "['Wen', 'Qiang'] ['Wen', 'Qiang'] 1.0 ['PERSON', 'PERSON'] 0.0\n",
      "\n",
      "Among them were Li Hanbin , commander of the first detachment of the municipal criminal police unit , and Wen Qiang , former director of the municipal judicial administrative bureau and former executive deputy director of the municipal police department .\n",
      "per:employee_of\n",
      "['Wen', 'Qiang'] ['Wen', 'Qiang'] 1.0 ['PERSON', 'PERSON'] 0.0\n",
      "\n",
      "Wen Qiang , 55 , former director of the Chongqing Municipal Judicial Bureau , was also accused of taking bribes , rape and owning huge amounts of money and assets he could not justify , heard the Chongqing Municipal No\n",
      "per:age\n",
      "['Wen', 'Qiang'] ['Wen', 'Qiang'] 1.0 ['PERSON', 'PERSON'] 0.0\n",
      "\n"
     ]
    },
    {
     "name": "stderr",
     "output_type": "stream",
     "text": [
      "9712it [00:42, 219.96it/s]"
     ]
    },
    {
     "name": "stdout",
     "output_type": "stream",
     "text": [
      "As part of the campaign , Wen Qiang , the previous deputy director of the city 's police -- a post he held for 16 years until last year -- has been detained in an internal investigation , Zhou said .\n",
      "per:title\n",
      "['Wen', 'Qiang'] ['Wen', 'Qiang'] 1.0 ['PERSON', 'PERSON'] 0.0\n",
      "\n",
      "Wen Qiang , former deputy director of Chongqing 's public security department , was also accused of rape and being unable to explain the sources of his assets , according to a statement published on the website of the municipal procuratorate , www.cqjcy.gov.cn .\n",
      "no_relation\n",
      "['Wen', 'Qiang'] ['Wen', 'Qiang'] 1.0 ['PERSON', 'PERSON'] 0.0\n",
      "\n",
      "The Chongqing Municipal Higher People 's Court rejected the appeal from Wen Qiang , 55 , who was convicted of taking bribes worth millions from gang members while he was director of the Chongqing Municipal Judicial Bureau , a report on the court 's website said .\n",
      "no_relation\n",
      "['Wen', 'Qiang'] ['Wen', 'Qiang'] 1.0 ['PERSON', 'PERSON'] 0.0\n",
      "\n"
     ]
    },
    {
     "name": "stderr",
     "output_type": "stream",
     "text": [
      "9999it [00:44, 216.81it/s]"
     ]
    },
    {
     "name": "stdout",
     "output_type": "stream",
     "text": [
      "Xie had been protected for years because she was the sister-in-law of the city 's long-serving deputy police chief , Wen Qiang , who was detained for investigation by the ruling Communist Party in August .\n",
      "no_relation\n",
      "['Wen', 'Qiang'] ['Wen', 'Qiang'] 1.0 ['PERSON', 'PERSON'] 0.0\n",
      "\n",
      "Wen Qiang , formerly the No. 2 figure in Chongqing police and director of the justice bureau before he was arrested , and Peng Changjian are among the 52 public servants who are being investigated for shielding gangs , said Yu .\n",
      "no_relation\n",
      "['Wen', 'Qiang'] ['Wen', 'Qiang'] 1.0 ['PERSON', 'PERSON'] 0.0\n",
      "\n"
     ]
    },
    {
     "name": "stderr",
     "output_type": "stream",
     "text": [
      "10111it [00:44, 217.05it/s]"
     ]
    },
    {
     "name": "stdout",
     "output_type": "stream",
     "text": [
      "Wen Qiang , 55 , former director of the Chongqing Municipal Judicial Bureau , was also accused of taking bribes , rape and owning huge amounts of money and assets he could not justify , heard the Chongqing Municipal No. 5 Intermediate People 's Court .\n",
      "per:employee_of\n",
      "['Wen', 'Qiang'] ['Wen', 'Qiang'] 1.0 ['PERSON', 'PERSON'] 0.0\n",
      "\n",
      "Wen Qiang , 55 , who stood trial at the Chongqing No. 5 Intermediate People 's Court between Feb. 2 and 7 , was charged with bribery , rape and gang affiliations .\n",
      "per:charges\n",
      "['Wen', 'Qiang'] ['Wen', 'Qiang'] 1.0 ['PERSON', 'PERSON'] 0.0\n",
      "\n"
     ]
    },
    {
     "name": "stderr",
     "output_type": "stream",
     "text": [
      "10203it [00:44, 223.01it/s]"
     ]
    },
    {
     "name": "stdout",
     "output_type": "stream",
     "text": [
      "Among them were Li Hanbin , commander of the first detachment of the municipal criminal police unit , and Wen Qiang , former director of the municipal judicial administrative bureau and former executive deputy director of the municipal police department .\n",
      "no_relation\n",
      "['Wen', 'Qiang'] ['Wen', 'Qiang'] 1.0 ['PERSON', 'PERSON'] 0.0\n",
      "\n"
     ]
    },
    {
     "name": "stderr",
     "output_type": "stream",
     "text": [
      "10382it [00:45, 216.83it/s]"
     ]
    },
    {
     "name": "stdout",
     "output_type": "stream",
     "text": [
      "The prosecutors alleged that between May 2004 and 2009 , Wang also offered bribes well over 1.28 million yuan to five government employees , including Wen Qiang , formerly chief of Chongqing municipal bureau of justice , and Li Hanbin , a former police chief of the Chongqing Municipal Bureau of Public Security who was assigned to crack down on organized crimes .\n",
      "no_relation\n",
      "['Wen', 'Qiang'] ['Wen', 'Qiang'] 1.0 ['PERSON', 'PERSON'] 0.0\n",
      "\n",
      "In July , authorities executed Wen Qiang , a former top police and justice official , for charges including rape and taking bribes to protect criminal gangs .\n",
      "per:charges\n",
      "['Wen', 'Qiang'] ['Wen', 'Qiang'] 1.0 ['PERSON', 'PERSON'] 0.0\n",
      "\n"
     ]
    },
    {
     "name": "stderr",
     "output_type": "stream",
     "text": [
      "10427it [00:46, 216.08it/s]"
     ]
    },
    {
     "name": "stdout",
     "output_type": "stream",
     "text": [
      "Chongqing Municipal Higher People 's Court Thursday started to hear the appeal of Wen Qiang , a former senior judicial official who was sentenced to death by a lower court April 14 for four counts of crime including protecting gangs .\n",
      "no_relation\n",
      "['Wen', 'Qiang'] ['Wen', 'Qiang'] 1.0 ['PERSON', 'PERSON'] 0.0\n",
      "\n",
      "The Chongqing No. 5 Intermediate People 's Court will deliver its verdict on Wen Qiang , former director of the Chongqing Municipal Judicial Bureau , after rehearing his case Wednesday morning , according to a statement from the court .\n",
      "no_relation\n",
      "['Wen', 'Qiang'] ['Wen', 'Qiang'] 1.0 ['PERSON', 'PERSON'] 0.0\n",
      "\n"
     ]
    },
    {
     "name": "stderr",
     "output_type": "stream",
     "text": [
      "10559it [00:46, 210.39it/s]"
     ]
    },
    {
     "name": "stdout",
     "output_type": "stream",
     "text": [
      "`` Wen Qiang provided the biggest protection umbrella for the Chongqing mafia -- his sentencing will show that Chongqing 's crackdown on organised crime is rather complete , '' Gao Yaoxian , a legal expert at the Legal Institute of Sichuan University , told AFP .\n",
      "no_relation\n",
      "['Wen', 'Qiang'] ['Wen', 'Qiang'] 1.0 ['PERSON', 'PERSON'] 0.0\n",
      "\n",
      "`` Wen Qiang provided the biggest protection umbrella for the Chongqing mafia -- his sentencing will show that Chongqing 's crackdown on organised crime is rather complete , '' Gao Yaoxian , a legal expert at the Legal Institute of Sichuan University , told AFP .\n",
      "no_relation\n",
      "['Wen', 'Qiang'] ['Wen', 'Qiang'] 1.0 ['PERSON', 'PERSON'] 0.0\n",
      "\n",
      "Among those arrested was Wen Qiang , director of the municipal judicial administrative bureau and former executive deputy director of the municipal public security bureau .\n",
      "per:employee_of\n",
      "['Wen', 'Qiang'] ['Wen', 'Qiang'] 1.0 ['PERSON', 'PERSON'] 0.0\n",
      "\n"
     ]
    },
    {
     "name": "stderr",
     "output_type": "stream",
     "text": [
      "10714it [00:47, 215.22it/s]"
     ]
    },
    {
     "name": "stdout",
     "output_type": "stream",
     "text": [
      "`` Wen Qiang provided the biggest protection umbrella for the Chongqing mafia -- his sentencing will show that Chongqing 's crackdown on organised crime is rather complete , '' Gao Yaoxian , a legal expert at the Legal Institute of Sichuan University , told AFP .\n",
      "no_relation\n",
      "['Wen', 'Qiang'] ['Wen', 'Qiang'] 1.0 ['PERSON', 'PERSON'] 0.0\n",
      "\n",
      "Gang members arrested in China corruption case Earlier this month , China executed Wen Qiang , 55 , former director of the Chongqing Municipal Judicial Bureau for corruption charges involving bribery , rape , extortion and gang-related activities .\n",
      "per:charges\n",
      "['Wen', 'Qiang'] ['Wen', 'Qiang'] 1.0 ['PERSON', 'PERSON'] 0.0\n",
      "\n"
     ]
    },
    {
     "name": "stderr",
     "output_type": "stream",
     "text": [
      "10894it [00:48, 210.38it/s]"
     ]
    },
    {
     "name": "stdout",
     "output_type": "stream",
     "text": [
      "Former director of the Chongqing Municipal Judicial Bureau Wen Qiang , 55 , was convicted at the Chongqing No\n",
      "per:age\n",
      "['Wen', 'Qiang'] ['Wen', 'Qiang'] 1.0 ['PERSON', 'PERSON'] 0.0\n",
      "\n",
      "They include Wen Qiang , who became Chongqing 's top judicial official in 2008 after 16 years on the police force and who stands accused of protecting an intricate web of businessmen , officials and mobsters .\n",
      "no_relation\n",
      "['Wen', 'Qiang'] ['Wen', 'Qiang'] 1.0 ['PERSON', 'PERSON'] 0.0\n",
      "\n"
     ]
    },
    {
     "name": "stderr",
     "output_type": "stream",
     "text": [
      "11096it [00:49, 216.68it/s]"
     ]
    },
    {
     "name": "stdout",
     "output_type": "stream",
     "text": [
      "Wen Qiang , 54 , the former head of the judiciary in the southwestern Chongqing region and also an ex-deputy police chief , was sentenced to death in April for charges including rape and taking bribes to protect criminal gangs .\n",
      "per:age\n",
      "['Wen', 'Qiang'] ['Wen', 'Qiang'] 1.0 ['PERSON', 'PERSON'] 0.0\n",
      "\n"
     ]
    },
    {
     "name": "stderr",
     "output_type": "stream",
     "text": [
      "11162it [00:49, 214.98it/s]"
     ]
    },
    {
     "name": "stdout",
     "output_type": "stream",
     "text": [
      "As part of the campaign , Wen Qiang , the previous deputy director of the city 's police -- a post he held for 16 years until last year -- has been detained in an internal investigation , Zhou said .\n",
      "no_relation\n",
      "['Wen', 'Qiang'] ['Wen', 'Qiang'] 1.0 ['PERSON', 'PERSON'] 0.0\n",
      "\n"
     ]
    },
    {
     "name": "stderr",
     "output_type": "stream",
     "text": [
      "11275it [00:49, 222.62it/s]"
     ]
    },
    {
     "name": "stdout",
     "output_type": "stream",
     "text": [
      "Wen Qiang , former head of the judicial administrative bureau in southwest China 's Chongqing Municipality , has been arrested over allegedly providing a `` protective umbrella '' for local gangs , local authorities said Sunday .\n",
      "per:employee_of\n",
      "['Wen', 'Qiang'] ['Wen', 'Qiang'] 1.0 ['PERSON', 'PERSON'] 0.0\n",
      "\n",
      "State press reported last month that the top official ensnared in the crackdown , Wen Qiang , would go on trial on Tuesday .\n",
      "no_relation\n",
      "['Wen', 'Qiang'] ['Wen', 'Qiang'] 1.0 ['PERSON', 'PERSON'] 0.0\n",
      "\n",
      "China sentences to death two leaders of prostitution ring Chen was an associate of Wen Qiang , the former head of Chongqing 's judiciary and an ex-deputy police chief who was executed last month for charges including rape and taking bribes to protect gangs .\n",
      "per:charges\n",
      "['Wen', 'Qiang'] ['Wen', 'Qiang'] 1.0 ['PERSON', 'PERSON'] 0.0\n",
      "\n"
     ]
    },
    {
     "name": "stderr",
     "output_type": "stream",
     "text": [
      "11504it [00:51, 214.75it/s]"
     ]
    },
    {
     "name": "stdout",
     "output_type": "stream",
     "text": [
      "Prosecutors at the Chongqing No. 5 Intermediate People 's Court said Wen Qiang took bribes worth more than 16 million yuan ( $ 2.4 million ) from gang members he gave legal protection while he was director of the Chongqing Municipal Judicial Bureau , the official Xinhua News Agency reported .\n",
      "per:title\n",
      "['Wen', 'Qiang'] ['Wen', 'Qiang'] 1.0 ['PERSON', 'PERSON'] 0.0\n",
      "\n"
     ]
    },
    {
     "name": "stderr",
     "output_type": "stream",
     "text": [
      "11592it [00:51, 214.54it/s]"
     ]
    },
    {
     "name": "stdout",
     "output_type": "stream",
     "text": [
      "Among them were Li Hanbin , commander of the first detachment of the municipal criminal police unit , and Wen Qiang , former director of the municipal judicial administrative bureau and former executive deputy director of the municipal police department .\n",
      "no_relation\n",
      "['Wen', 'Qiang'] ['Wen', 'Qiang'] 1.0 ['PERSON', 'PERSON'] 0.0\n",
      "\n"
     ]
    },
    {
     "name": "stderr",
     "output_type": "stream",
     "text": [
      "11729it [00:52, 225.58it/s]"
     ]
    },
    {
     "name": "stdout",
     "output_type": "stream",
     "text": [
      "Wen Qiang , who served as a top police and judicial official in Chongqing over the past 16 years , is the highest-ranking official ensnared in the crackdown that has led to the arrest of more than 1,500 suspects .\n",
      "no_relation\n",
      "['Wen', 'Qiang'] ['Wen', 'Qiang'] 1.0 ['PERSON', 'PERSON'] 0.0\n",
      "\n",
      "As part of the campaign , Wen Qiang , the previous deputy director of the city 's police -- a post he held for 16 years until last year -- has been detained in an internal investigation , Zhou said .\n",
      "per:title\n",
      "['Wen', 'Qiang'] ['Wen', 'Qiang'] 1.0 ['PERSON', 'PERSON'] 0.0\n",
      "\n"
     ]
    },
    {
     "name": "stderr",
     "output_type": "stream",
     "text": [
      "11889it [00:52, 217.03it/s]"
     ]
    },
    {
     "name": "stdout",
     "output_type": "stream",
     "text": [
      "Wen Qiang , former deputy police chief and head of the justice bureau of Chongqing , stood trial last month .\n",
      "per:title\n",
      "['Wen', 'Qiang'] ['Wen', 'Qiang'] 1.0 ['PERSON', 'PERSON'] 0.0\n",
      "\n"
     ]
    },
    {
     "name": "stderr",
     "output_type": "stream",
     "text": [
      "12183it [00:54, 222.67it/s]"
     ]
    },
    {
     "name": "stdout",
     "output_type": "stream",
     "text": [
      "Wen Qiang , who once headed the judiciary and served as deputy police chief in Chongqing , stands accused of taking more than two million dollars in bribes , multiple rapes and protecting organised crime networks .\n",
      "per:charges\n",
      "['Wen', 'Qiang'] ['Wen', 'Qiang'] 1.0 ['PERSON', 'PERSON'] 0.0\n",
      "\n"
     ]
    },
    {
     "name": "stderr",
     "output_type": "stream",
     "text": [
      "12453it [00:55, 211.85it/s]"
     ]
    },
    {
     "name": "stdout",
     "output_type": "stream",
     "text": [
      "Wen Qiang was detained in August and accused of protecting the gang operations masterminded by his sister-in-law , Xie Caiping , 46 , known as the `` godmother '' of the Chongqing underworld .\n",
      "no_relation\n",
      "['Wen', 'Qiang'] ['Wen', 'Qiang'] 1.0 ['PERSON', 'PERSON'] 0.0\n",
      "\n"
     ]
    },
    {
     "name": "stderr",
     "output_type": "stream",
     "text": [
      "12563it [00:55, 212.04it/s]"
     ]
    },
    {
     "name": "stdout",
     "output_type": "stream",
     "text": [
      "Gang members arrested in China corruption case Earlier this month , China executed Wen Qiang , 55 , former director of the Chongqing Municipal Judicial Bureau for corruption charges involving bribery , rape , extortion and gang-related activities .\n",
      "per:employee_of\n",
      "['Wen', 'Qiang'] ['Wen', 'Qiang'] 1.0 ['PERSON', 'PERSON'] 0.0\n",
      "\n",
      "China sentences to death two leaders of prostitution ring Chen was an associate of Wen Qiang , the former head of Chongqing 's judiciary and an ex-deputy police chief who was executed last month for charges including rape and taking bribes to protect gangs .\n",
      "no_relation\n",
      "['Wen', 'Qiang'] ['Wen', 'Qiang'] 1.0 ['PERSON', 'PERSON'] 0.0\n",
      "\n",
      "As part of the campaign , Wen Qiang , the previous deputy director of the city police -- a post he held for 16 years until last year -- was detained in an internal investigation .\n",
      "per:title\n",
      "['Wen', 'Qiang'] ['Wen', 'Qiang'] 1.0 ['PERSON', 'PERSON'] 0.0\n",
      "\n"
     ]
    },
    {
     "name": "stderr",
     "output_type": "stream",
     "text": [
      "12629it [00:56, 210.35it/s]"
     ]
    },
    {
     "name": "stdout",
     "output_type": "stream",
     "text": [
      "Wen Qiang , 55 , former director of the Chongqing Municipal Judicial Bureau , was also accused of taking bribes , rape and owning huge amounts of money and assets he could not justify , heard the Chongqing Municipal No. 5 Intermediate People 's Court .\n",
      "no_relation\n",
      "['Wen', 'Qiang'] ['Wen', 'Qiang'] 1.0 ['PERSON', 'PERSON'] 0.0\n",
      "\n",
      "Earlier this month , China executed Wen Qiang , 55 , former director of the Chongqing Municipal Judicial Bureau for corruption charges involving bribery , rape , extortion and gang-related activities .\n",
      "per:charges\n",
      "['Wen', 'Qiang'] ['Wen', 'Qiang'] 1.0 ['PERSON', 'PERSON'] 0.0\n",
      "\n"
     ]
    },
    {
     "name": "stderr",
     "output_type": "stream",
     "text": [
      "12741it [00:56, 216.89it/s]"
     ]
    },
    {
     "name": "stdout",
     "output_type": "stream",
     "text": [
      "The prosecutors alleged that between May 2004 and 2009 , Wang also offered bribes well over 1.28 million yuan to five government employees , including Wen Qiang , formerly chief of Chongqing municipal bureau of justice , and Li Hanbin , a former police chief of the Chongqing Municipal Bureau of Public Security who was assigned to crack down on organized crimes .\n",
      "no_relation\n",
      "['Wen', 'Qiang'] ['Wen', 'Qiang'] 1.0 ['PERSON', 'PERSON'] 0.0\n",
      "\n"
     ]
    },
    {
     "name": "stderr",
     "output_type": "stream",
     "text": [
      "12877it [00:57, 221.12it/s]"
     ]
    },
    {
     "name": "stdout",
     "output_type": "stream",
     "text": [
      "Xie is the sister-in-law of the former head of Chongqing 's judiciary , Wen Qiang , who is at the centre of the crackdown .\n",
      "no_relation\n",
      "['Wen', 'Qiang'] ['Wen', 'Qiang'] 1.0 ['PERSON', 'PERSON'] 0.0\n",
      "\n"
     ]
    },
    {
     "name": "stderr",
     "output_type": "stream",
     "text": [
      "12946it [00:57, 223.68it/s]"
     ]
    },
    {
     "name": "stdout",
     "output_type": "stream",
     "text": [
      "Justice official arrested over allegedly protecting local gangs in SW China Wen Qiang , former head of the judicial administrative bureau in southwest China 's Chongqing Municipality , has been arrested over allegedly providing a `` protective umbrella '' for local gangs , local authorities said Sunday .\n",
      "no_relation\n",
      "['Wen', 'Qiang'] ['Wen', 'Qiang'] 1.0 ['PERSON', 'PERSON'] 0.0\n",
      "\n"
     ]
    },
    {
     "name": "stderr",
     "output_type": "stream",
     "text": [
      "13083it [00:58, 216.23it/s]"
     ]
    },
    {
     "name": "stdout",
     "output_type": "stream",
     "text": [
      "As part of the campaign , Wen Qiang , the previous deputy director of the city 's police -- a post he held for 16 years until last year -- has been detained in an internal investigation , Zhou said .\n",
      "no_relation\n",
      "['Wen', 'Qiang'] ['Wen', 'Qiang'] 1.0 ['PERSON', 'PERSON'] 0.0\n",
      "\n"
     ]
    },
    {
     "name": "stderr",
     "output_type": "stream",
     "text": [
      "13151it [00:58, 219.16it/s]"
     ]
    },
    {
     "name": "stdout",
     "output_type": "stream",
     "text": [
      "The verdict comes two days after Chongqing 's former police chief Wen Qiang went on trial for rape and accepting bribes in exchange for protecting the city 's extensive gang network .\n",
      "per:charges\n",
      "['Wen', 'Qiang'] ['Wen', 'Qiang'] 1.0 ['PERSON', 'PERSON'] 0.0\n",
      "\n"
     ]
    },
    {
     "name": "stderr",
     "output_type": "stream",
     "text": [
      "13243it [00:59, 217.40it/s]"
     ]
    },
    {
     "name": "stdout",
     "output_type": "stream",
     "text": [
      "China to conclude nationwide training for grassroots court presidents Among them were former SPC vice president Huang Songyou , who was sentenced on Jan 19 to life imprisonment for taking bribes and embezzlement and Wen Qiang , former director of the Chongqing Municipal Judicial Bureau , who was executed on charges of corruption charges involving organized crime .\n",
      "per:employee_of\n",
      "['Wen', 'Qiang'] ['Wen', 'Qiang'] 1.0 ['PERSON', 'PERSON'] 0.0\n",
      "\n",
      "China earlier this month executed Wen Qiang , a former top Chongqing police and justice official at the centre of the scandal .\n",
      "no_relation\n",
      "['Wen', 'Qiang'] ['Wen', 'Qiang'] 1.0 ['PERSON', 'PERSON'] 0.0\n",
      "\n"
     ]
    },
    {
     "name": "stderr",
     "output_type": "stream",
     "text": [
      "13514it [01:00, 214.40it/s]"
     ]
    },
    {
     "name": "stdout",
     "output_type": "stream",
     "text": [
      "Wen Qiang , former deputy director of Chongqing 's public security department , was also accused of rape and being unable to explain the sources of his assets , according to a statement published on the website of the municipal procuratorate , www.cqjcy.gov.cn .\n",
      "per:title\n",
      "['Wen', 'Qiang'] ['Wen', 'Qiang'] 1.0 ['PERSON', 'PERSON'] 0.0\n",
      "\n"
     ]
    },
    {
     "name": "stderr",
     "output_type": "stream",
     "text": [
      "13583it [01:00, 219.81it/s]"
     ]
    },
    {
     "name": "stdout",
     "output_type": "stream",
     "text": [
      "Wen Qiang , 55 , former director of the Chongqing Municipal Judicial Bureau , was convicted of corruption charges involving organized crime .\n",
      "per:charges\n",
      "['Wen', 'Qiang'] ['Wen', 'Qiang'] 1.0 ['PERSON', 'PERSON'] 0.0\n",
      "\n",
      "`` Wen Qiang provided the biggest protection umbrella for the Chongqing mafia -- his sentencing will show that Chongqing 's crackdown on organised crime is rather complete , '' Gao Yaoxian , a legal expert at the Legal Institute of Sichuan University , told AFP .\n",
      "no_relation\n",
      "['Wen', 'Qiang'] ['Wen', 'Qiang'] 1.0 ['PERSON', 'PERSON'] 0.0\n",
      "\n"
     ]
    },
    {
     "name": "stderr",
     "output_type": "stream",
     "text": [
      "13762it [01:01, 211.40it/s]"
     ]
    },
    {
     "name": "stdout",
     "output_type": "stream",
     "text": [
      "Xie was the sister-in-law of Wen Qiang , formerly the second in command of the Chongqing police and director of the justice bureau before he was arrested .\n",
      "per:employee_of\n",
      "['Wen', 'Qiang'] ['Wen', 'Qiang'] 1.0 ['PERSON', 'PERSON'] 0.0\n",
      "\n"
     ]
    },
    {
     "name": "stderr",
     "output_type": "stream",
     "text": [
      "13897it [01:02, 216.01it/s]"
     ]
    },
    {
     "name": "stdout",
     "output_type": "stream",
     "text": [
      "Wen Qiang was detained in August and accused of protecting the gang operations masterminded by his sister-in-law , Xie Caiping , 46 , known as the `` godmother '' of the Chongqing underworld .\n",
      "per:age\n",
      "['Wen', 'Qiang'] ['Wen', 'Qiang'] 1.0 ['PERSON', 'PERSON'] 0.0\n",
      "\n",
      "Wen Qiang , former head of the judicial administrative bureau in southwest China 's Chongqing Municipality , has been arrested over allegedly providing a `` protective umbrella '' for local gangs , local authorities said Sunday .\n",
      "per:countries_of_residence\n",
      "['Wen', 'Qiang'] ['Wen', 'Qiang'] 1.0 ['PERSON', 'PERSON'] 0.0\n",
      "\n",
      "Among them were Wen Qiang , former deputy director of Chongqing 's public security department ; Peng Changjian , former vice director of Chongqing 's public security department ; Zhang Tao , former deputy head of Chongqing 's higher court ; Mao Jianping , former deputy chief procurator of a branch of Chongqing People 's Procuratorate .\n",
      "no_relation\n",
      "['Wen', 'Qiang'] ['Wen', 'Qiang'] 1.0 ['PERSON', 'PERSON'] 0.0\n",
      "\n"
     ]
    },
    {
     "name": "stderr",
     "output_type": "stream",
     "text": [
      "14009it [01:02, 218.46it/s]"
     ]
    },
    {
     "name": "stdout",
     "output_type": "stream",
     "text": [
      "China earlier this month executed Wen Qiang , a former top Chongqing police and justice official at the centre of the scandal .\n",
      "no_relation\n",
      "['Wen', 'Qiang'] ['Wen', 'Qiang'] 1.0 ['PERSON', 'PERSON'] 0.0\n",
      "\n"
     ]
    },
    {
     "name": "stderr",
     "output_type": "stream",
     "text": [
      "14122it [01:03, 215.74it/s]"
     ]
    },
    {
     "name": "stdout",
     "output_type": "stream",
     "text": [
      "Among them were Wen Qiang , former deputy director of Chongqing 's public security department ; Peng Changjian , former vice director of Chongqing 's public security department ; Zhang Tao , former deputy head of Chongqing 's higher court ; Mao Jianping , former deputy chief procurator of a branch of Chongqing People 's Procuratorate .\n",
      "no_relation\n",
      "['Wen', 'Qiang'] ['Wen', 'Qiang'] 1.0 ['PERSON', 'PERSON'] 0.0\n",
      "\n"
     ]
    },
    {
     "name": "stderr",
     "output_type": "stream",
     "text": [
      "14281it [01:03, 220.55it/s]"
     ]
    },
    {
     "name": "stdout",
     "output_type": "stream",
     "text": [
      "China sentences to death two leaders of prostitution ring Chen was an associate of Wen Qiang , the former head of Chongqing 's judiciary and an ex-deputy police chief who was executed last month for charges including rape and taking bribes to protect gangs .\n",
      "per:charges\n",
      "['Wen', 'Qiang'] ['Wen', 'Qiang'] 1.0 ['PERSON', 'PERSON'] 0.0\n",
      "\n"
     ]
    },
    {
     "name": "stderr",
     "output_type": "stream",
     "text": [
      "14350it [01:04, 220.92it/s]"
     ]
    },
    {
     "name": "stdout",
     "output_type": "stream",
     "text": [
      "Chen was an associate of Wen Qiang , the former head of Chongqing 's judiciary and an ex-deputy police chief who was executed last month for charges including rape and taking bribes to protect gangs .\n",
      "per:title\n",
      "['Wen', 'Qiang'] ['Wen', 'Qiang'] 1.0 ['PERSON', 'PERSON'] 0.0\n",
      "\n"
     ]
    },
    {
     "name": "stderr",
     "output_type": "stream",
     "text": [
      "14511it [01:04, 220.81it/s]"
     ]
    },
    {
     "name": "stdout",
     "output_type": "stream",
     "text": [
      "Wen Qiang , former deputy director of Chongqing 's public security department , was also accused of rape and being unable to explain the sources of his assets , according to a statement published on the website of the municipal procuratorate , www.cqjcy.gov.cn .\n",
      "per:employee_of\n",
      "['Wen', 'Qiang'] ['Wen', 'Qiang'] 1.0 ['PERSON', 'PERSON'] 0.0\n",
      "\n",
      "Wen Qiang , who served as Chongqing 's judicial bureau chief before his arrest in September 2009 , was convicted of accepting bribes , shielding criminal gangs , rape and failing to account for large amount of his income .\n",
      "no_relation\n",
      "['Wen', 'Qiang'] ['Wen', 'Qiang'] 1.0 ['PERSON', 'PERSON'] 0.0\n",
      "\n",
      "He said more than 200 deputies to legislatures at different levels and hundreds of journalists heard the court proceedings of those cases , particularly the case of Wen Qiang , a former judicial chief of the municipality .\n",
      "no_relation\n",
      "['Wen', 'Qiang'] ['Wen', 'Qiang'] 1.0 ['PERSON', 'PERSON'] 0.0\n",
      "\n"
     ]
    },
    {
     "name": "stderr",
     "output_type": "stream",
     "text": [
      "14603it [01:05, 216.55it/s]"
     ]
    },
    {
     "name": "stdout",
     "output_type": "stream",
     "text": [
      "Gang members arrested in China corruption case Earlier this month , China executed Wen Qiang , 55 , former director of the Chongqing Municipal Judicial Bureau for corruption charges involving bribery , rape , extortion and gang-related activities .\n",
      "per:charges\n",
      "['Wen', 'Qiang'] ['Wen', 'Qiang'] 1.0 ['PERSON', 'PERSON'] 0.0\n",
      "\n",
      "She once absconded with a suitcase full of money after being tipped off by her brother-in-law , deputy head of police Wen Qiang , before a police raid on one of her premises , according to the Southern Weekend newspaper .\n",
      "no_relation\n",
      "['Wen', 'Qiang'] ['Wen', 'Qiang'] 1.0 ['PERSON', 'PERSON'] 0.0\n",
      "\n",
      "Wen Qiang , 54 , the former head of the judiciary in the southwestern Chongqing region and also an ex-deputy police chief , was sentenced to death in April for charges including rape and taking bribes to protect criminal gangs .\n",
      "no_relation\n",
      "['Wen', 'Qiang'] ['Wen', 'Qiang'] 1.0 ['PERSON', 'PERSON'] 0.0\n",
      "\n",
      "Wen Qiang , former deputy police chief and director of the justice bureau in Chongqing , was accused of rape , taking more than 15 million yuan ( 2.2 million dollars ) in bribes to protect criminal gangs , and possessing a huge amount of unexplainable assets .\n",
      "per:title\n",
      "['Wen', 'Qiang'] ['Wen', 'Qiang'] 1.0 ['PERSON', 'PERSON'] 0.0\n",
      "\n"
     ]
    },
    {
     "name": "stderr",
     "output_type": "stream",
     "text": [
      "14692it [01:05, 217.59it/s]"
     ]
    },
    {
     "name": "stdout",
     "output_type": "stream",
     "text": [
      "Wen Qiang , former deputy police chief and head of the justice bureau of Chongqing , stood trial last month .\n",
      "per:title\n",
      "['Wen', 'Qiang'] ['Wen', 'Qiang'] 1.0 ['PERSON', 'PERSON'] 0.0\n",
      "\n"
     ]
    },
    {
     "name": "stderr",
     "output_type": "stream",
     "text": [
      "14865it [01:06, 208.20it/s]"
     ]
    },
    {
     "name": "stdout",
     "output_type": "stream",
     "text": [
      "Wen Qiang , 54 , the former head of the judiciary in the southwestern Chongqing region and also an ex-deputy police chief , was sentenced to death in April for charges including rape and taking bribes to protect criminal gangs .\n",
      "per:charges\n",
      "['Wen', 'Qiang'] ['Wen', 'Qiang'] 1.0 ['PERSON', 'PERSON'] 0.0\n",
      "\n",
      "Prosecutors at the Chongqing No. 5 Intermediate People 's Court said Wen Qiang took bribes worth more than 16 million yuan ( $ 2.4 million ) from gang members he gave legal protection while he was director of the Chongqing Municipal Judicial Bureau , the official Xinhua News Agency reported .\n",
      "no_relation\n",
      "['Wen', 'Qiang'] ['Wen', 'Qiang'] 1.0 ['PERSON', 'PERSON'] 0.0\n",
      "\n"
     ]
    },
    {
     "name": "stderr",
     "output_type": "stream",
     "text": [
      "15041it [01:07, 210.27it/s]"
     ]
    },
    {
     "name": "stdout",
     "output_type": "stream",
     "text": [
      "As part of the campaign , Wen Qiang , the previous deputy director of the city police -- a post he held for 16 years until last year -- was detained in an internal investigation .\n",
      "per:title\n",
      "['Wen', 'Qiang'] ['Wen', 'Qiang'] 1.0 ['PERSON', 'PERSON'] 0.0\n",
      "\n"
     ]
    },
    {
     "name": "stderr",
     "output_type": "stream",
     "text": [
      "15128it [01:07, 211.88it/s]"
     ]
    },
    {
     "name": "stdout",
     "output_type": "stream",
     "text": [
      "Xie was sister-in-law of Wen Qiang , formerly the second in command of the Chongqing police and director of the justice bureau before his arrest .\n",
      "no_relation\n",
      "['Wen', 'Qiang'] ['Wen', 'Qiang'] 1.0 ['PERSON', 'PERSON'] 0.0\n",
      "\n"
     ]
    },
    {
     "name": "stderr",
     "output_type": "stream",
     "text": [
      "15289it [01:08, 220.06it/s]"
     ]
    },
    {
     "name": "stdout",
     "output_type": "stream",
     "text": [
      "Chinese city says breaks up 14 gangs As part of the campaign , Wen Qiang , the previous deputy director of the city 's police -- a post he held for 16 years until last year -- has been detained in an internal investigation , Zhou said .\n",
      "per:title\n",
      "['Wen', 'Qiang'] ['Wen', 'Qiang'] 1.0 ['PERSON', 'PERSON'] 0.0\n",
      "\n"
     ]
    },
    {
     "name": "stderr",
     "output_type": "stream",
     "text": [
      "15441it [01:09, 202.67it/s]"
     ]
    },
    {
     "name": "stdout",
     "output_type": "stream",
     "text": [
      "In July , authorities executed Wen Qiang , a former top police and justice official , for charges including rape and taking bribes to protect criminal gangs .\n",
      "per:cause_of_death\n",
      "['Wen', 'Qiang'] ['Wen', 'Qiang'] 1.0 ['PERSON', 'PERSON'] 0.0\n",
      "\n",
      "A municipal court in Chongqing convicted Xie Caiping -- sister-in-law of the former head of the city 's judiciary , Wen Qiang -- of a series of crimes linked to the gambling syndicate , said the verdict , posted on the court 's website .\n",
      "no_relation\n",
      "['Wen', 'Qiang'] ['Wen', 'Qiang'] 1.0 ['PERSON', 'PERSON'] 0.0\n",
      "\n"
     ]
    },
    {
     "name": "stderr",
     "output_type": "stream",
     "text": [
      "15509it [01:09, 222.89it/s]"
     ]
    },
    {
     "name": "stdout",
     "output_type": "stream",
     "text": [
      "Gang members arrested in China corruption case Earlier this month , China executed Wen Qiang , 55 , former director of the Chongqing Municipal Judicial Bureau for corruption charges involving bribery , rape , extortion and gang-related activities .\n",
      "per:country_of_death\n",
      "['Wen', 'Qiang'] ['Wen', 'Qiang'] 1.0 ['PERSON', 'PERSON'] 0.0\n",
      "\n",
      "22577\n"
     ]
    },
    {
     "name": "stderr",
     "output_type": "stream",
     "text": [
      "\n"
     ]
    }
   ],
   "source": [
    "\n",
    "filt_count = 0\n",
    "for ind, row in tqdm(sub_test_df.iterrows()):\n",
    "    row_id = row['id']\n",
    "    if row_id in train_ids:\n",
    "        tac_row = df_train[df_train['id']==row_id]\n",
    "    elif row_id in test_ids:\n",
    "        tac_row = df_test[df_test['id']==row_id]\n",
    "    elif row_id in dev_ids:\n",
    "        tac_row = df_dev[df_dev['id']==row_id]\n",
    "        \n",
    "    ner_tags = tac_row['stanford_ner'].item()\n",
    "    relation = tac_row['relation'].item()\n",
    "    \n",
    "    qids = row['qids']\n",
    "    probs = row['probs']\n",
    "    spans = row['spans']\n",
    "    aliases = row['aliases']\n",
    "    cand_probs = row['cand_probs']\n",
    "    ctx_emb_ids = row['ctx_emb_ids']\n",
    "    entity_ids = row['entity_ids']\n",
    "    gold = row['gold']\n",
    "    \n",
    "    tokens = row['sentence'].split(' ')\n",
    "    \n",
    "    # filter on people names with partial match\n",
    "    idx_filt = []\n",
    "    count = 0\n",
    "    for qid,prob,span,alias,cand_prob in zip(qids, probs, spans, aliases, cand_probs):\n",
    "        filt = 0\n",
    "        ner_span = ner_tags[span[0]:span[1]]\n",
    "#         alias_lst = alias.split(' ') # lowercase sentences\n",
    "        try:\n",
    "            alias_base = es_0905.get_title(qid)\n",
    "            alias_base = strip_accents(alias_base)\n",
    "            alias_lst = alias_base.split(' ')\n",
    "            boot_types = du.get_qid_types(qid, esp_0905, typeid2typename_wd_0905, wikidata=True)\n",
    "            boot_types = [typename2title_wd_0905[t] for t in boot_types]\n",
    "            #print(boot_types)\n",
    "        except:\n",
    "            alias_base = ''\n",
    "            alias_lst = []\n",
    "            \n",
    "        tok_base = ' '.join(tokens[span[0]:span[1]])\n",
    "        tok_base = strip_accents(tok_base)\n",
    "        tok_span = tok_base.split(' ')#tokens[span[0]:span[1]]\n",
    "        \n",
    "        # person filters\n",
    "        if 'PERSON' in ner_span:\n",
    "            if len(ner_span) < len(alias_lst) and entropy_candprobs(cand_prob) > 2:\n",
    "                filt = 1\n",
    "            elif len(ner_span) == len(alias_lst) and not all(tok in alias_lst for tok in tok_span):\n",
    "                filt = 1\n",
    "            elif entropy_candprobs(cand_prob) > 1.5:\n",
    "                filt = 1 \n",
    "            elif 'Company' in alias_base:\n",
    "                filt = 1\n",
    "                \n",
    "                \n",
    "        # filter entropy\n",
    "        elif entropy_candprobs(cand_prob) > 2.5 and not all(tok in alias_lst for tok in tok_span) and not tok_base.isupper():\n",
    "            filt = 1\n",
    "            \n",
    "            \n",
    "        # filter lower case text that's classified as a named entity\n",
    "        elif len(tok_span) == 1 and tok_span[0].islower() and len(alias_lst) > 1 and prob < 0.9:\n",
    "            filt = 1\n",
    "            \n",
    "        # filter professions with low confidence\n",
    "        elif any(ty in profession_content for ty in boot_types) and prob < 1.0:\n",
    "            filt = 1\n",
    "            \n",
    "        # filter organizations\n",
    "        elif 'Norris' in tok_base:\n",
    "            filt = 1\n",
    "        \n",
    "        \n",
    "        if 'Qiang' in tok_base:\n",
    "                print(row['sentence'])\n",
    "                print(relation)\n",
    "                print(tok_span, alias_lst, prob, ner_span, entropy_candprobs(cand_prob))\n",
    "                print()\n",
    "        if not filt:\n",
    "            idx_filt.append(count)\n",
    "        else:\n",
    "#             if 'country' in boot_types:# or 'politician' in boot_types:\n",
    "#                 print(tok_span, alias_lst, prob, ner_span, entropy_candprobs(cand_prob))\n",
    "#             if 'ORGANIZATION' in ner_span or 'LOCATION' in ner_span:\n",
    "#                 print(tok_span, alias_lst, prob)\n",
    "            filt_count += 1\n",
    "        count += 1\n",
    "        \n",
    "    \n",
    "    # construct final values\n",
    "    cols = ['qids','probs','aliases','spans','cand_probs','ctx_emb_ids','entity_ids','gold']\n",
    "    filtered_lists = [qids, probs, aliases, spans, cand_probs,  ctx_emb_ids,   entity_ids,   gold]\n",
    "    for i in range(len(cols)):\n",
    "        col = cols[i]\n",
    "        filtered_list = filtered_lists[i]\n",
    "        #bootleg_labels_df.at[ind, col] = [filtered_list[i] for i in idx_filt]\n",
    "\n",
    "print(filt_count)"
   ]
  },
  {
   "cell_type": "code",
   "execution_count": null,
   "metadata": {},
   "outputs": [],
   "source": [
    "words = ['extra', 'models', 'aide', 'independent', 'Ashiq', 'Barker', 'Fisher', 'double', 'raiser', 'Tours', 'Norris']"
   ]
  },
  {
   "cell_type": "code",
   "execution_count": null,
   "metadata": {},
   "outputs": [],
   "source": []
  },
  {
   "cell_type": "markdown",
   "metadata": {},
   "source": [
    "# Run this to save popularity counts (e.g. in the Training Data)"
   ]
  },
  {
   "cell_type": "code",
   "execution_count": 22,
   "metadata": {},
   "outputs": [],
   "source": [
    "# subj_counts = {}\n",
    "# obj_counts = {}\n",
    "# for ind, row in df_train.iterrows():\n",
    "#     idx = row['id']\n",
    "#     tokens = row['token']\n",
    "#     ss, se = row['subj_start'], row['subj_end']\n",
    "#     os_, oe = row['obj_start'], row['obj_end']\n",
    "    \n",
    "#     subj = ' '.join(tokens[ss:se+1]).lower()\n",
    "#     obj = ' '.join(tokens[os_:oe+1]).lower()\n",
    "    \n",
    "#     if subj in subj_counts:\n",
    "#         subj_counts[subj] = subj_counts[subj] + 1\n",
    "#     else:\n",
    "#         subj_counts[subj] = 1\n",
    "        \n",
    "#     if obj in obj_counts:\n",
    "#         obj_counts[obj] = obj_counts[obj] + 1\n",
    "#     else:\n",
    "#         obj_counts[obj] = 1\n",
    "        \n",
    "# import json\n",
    "\n",
    "# with open('/dfs/scratch1/simran/bootleg_downstream/error_outputs/subj_counts.json', 'w') as fp:\n",
    "#     json.save(subj_counts, fp)\n",
    "    \n",
    "# with open('/dfs/scratch1/simran/bootleg_downstream/error_outputs/obj_counts.json', 'w') as fp:\n",
    "#     json.save(obj_counts, fp)"
   ]
  },
  {
   "cell_type": "markdown",
   "metadata": {},
   "source": [
    "# generate a remapping for the static entity ids (so that we don't need to use all 5.2 M)"
   ]
  },
  {
   "cell_type": "code",
   "execution_count": null,
   "metadata": {},
   "outputs": [],
   "source": [
    "static_ent_ids_remap = []\n",
    "\n",
    "for ind, row in bootleg_labels_df.iterrows():\n",
    "    static_ids = row['entity_ids']\n",
    "    for idx in static_ids:\n",
    "        static_ent_ids_remap.append(idx)\n",
    "assert -1 not in static_ent_ids_remap"
   ]
  },
  {
   "cell_type": "code",
   "execution_count": 165,
   "metadata": {},
   "outputs": [
    {
     "name": "stdout",
     "output_type": "stream",
     "text": [
      "646904\n",
      "60229\n"
     ]
    }
   ],
   "source": [
    "print(len(static_ent_ids_remap))\n",
    "print(len(set(static_ent_ids_remap)))"
   ]
  },
  {
   "cell_type": "code",
   "execution_count": 166,
   "metadata": {},
   "outputs": [],
   "source": [
    "remap_static_ent_id_dict = {}\n",
    "count = 0\n",
    "for idx in set(static_ent_ids_remap):\n",
    "    remap_static_ent_id_dict[idx] = count # old --> new\n",
    "    count += 1"
   ]
  },
  {
   "cell_type": "code",
   "execution_count": 167,
   "metadata": {},
   "outputs": [
    {
     "name": "stdout",
     "output_type": "stream",
     "text": [
      "60229\n"
     ]
    }
   ],
   "source": [
    "print(len(remap_static_ent_id_dict.keys()))"
   ]
  },
  {
   "cell_type": "markdown",
   "metadata": {},
   "source": [
    "# extract out the static entity embs based on the remapping"
   ]
  },
  {
   "cell_type": "code",
   "execution_count": 168,
   "metadata": {},
   "outputs": [],
   "source": [
    "datafile = '{}{}/../static_embedding.npy'.format(base_directory, expt_directory)\n",
    "out_dir = os.path.dirname('{}{}/'.format(base_directory, expt_directory))\n",
    "\n",
    "if not os.path.exists(out_dir):\n",
    "    os.makedirs(out_dir)"
   ]
  },
  {
   "cell_type": "code",
   "execution_count": 169,
   "metadata": {},
   "outputs": [],
   "source": [
    "emb_data = np.load(datafile)"
   ]
  },
  {
   "cell_type": "code",
   "execution_count": 170,
   "metadata": {},
   "outputs": [
    {
     "name": "stderr",
     "output_type": "stream",
     "text": [
      "100%|██████████| 60229/60229 [00:00<00:00, 790461.15it/s]"
     ]
    },
    {
     "name": "stdout",
     "output_type": "stream",
     "text": [
      "(60229, 256)\n",
      "(5310043, 256)\n"
     ]
    },
    {
     "name": "stderr",
     "output_type": "stream",
     "text": [
      "\n"
     ]
    }
   ],
   "source": [
    "result_array = np.empty((len(set(static_ent_ids_remap)), 200))\n",
    "from tqdm import tqdm\n",
    "\n",
    "idx_lst = []\n",
    "for idx_orig, idx_new in tqdm(remap_static_ent_id_dict.items()): # orig --> remap id\n",
    "    idx_lst.append(idx_orig)\n",
    "result_array = emb_data[np.array(idx_lst)] \n",
    "print(result_array.shape)\n",
    "print(emb_data.shape)"
   ]
  },
  {
   "cell_type": "code",
   "execution_count": 151,
   "metadata": {},
   "outputs": [],
   "source": [
    "# Sanity Checks\n",
    "# for idx in idx_lst:\n",
    "#     idx_orig = idx\n",
    "#     idx_new = remap_static_ent_id_dict[idx_orig]\n",
    "#     assert all(result_array[idx_new] - emb_data[idx_orig] == 0), ValueError('STATIC EMB REMAP ERROR!')\n",
    "    \n",
    "# idx_orig = idx_lst[30]\n",
    "# idx_new = remap_static_ent_id_dict[idx_orig]\n",
    "# print(idx_orig, idx_new, result_array[idx_new] - emb_data[idx_orig])\n",
    "# print(type(result_array[idx_new][0]), type(emb_data[idx_orig][0]))\n",
    "\n",
    "\n",
    "# num_rows = 10\n",
    "# for ind, row in bootleg_labels_df.iterrows():\n",
    "#     if num_rows == 0:\n",
    "#         break\n",
    "#     num_rows -= 1\n",
    "    \n",
    "#     example = row['sentence']\n",
    "#     tokens = example.split(' ')\n",
    "#     length = len(tokens) \n",
    "#     static_ids = row['entity_ids']\n",
    "    \n",
    "#     for idx in static_ids:\n",
    "#         # static\n",
    "#         static_emb_id = idx\n",
    "#         static_emb_id_new = remap_static_ent_id_dict[static_emb_id] # map old id to new id\n",
    "        \n",
    "#         static_ent_emb_old = emb_data[static_emb_id]\n",
    "#         static_ent_emb_new = result_array[static_emb_id_new]\n",
    "#         print(static_ent_emb_old-static_ent_emb_new)\n",
    "    "
   ]
  },
  {
   "cell_type": "code",
   "execution_count": 171,
   "metadata": {},
   "outputs": [],
   "source": [
    "np.save('{DIR}/static_ent_emb_tacred.npy'.format(DIR=out_dir), result_array)"
   ]
  },
  {
   "cell_type": "markdown",
   "metadata": {},
   "source": [
    "# Obtain the ent_id and entity_emb_id features to be used in tacred"
   ]
  },
  {
   "cell_type": "code",
   "execution_count": 23,
   "metadata": {},
   "outputs": [],
   "source": [
    "ctx_emb_id_dict = {}\n",
    "qid_dict = {}\n",
    "emb_static_dict = {}\n",
    "emb_static_dict_full = {}\n",
    "\n",
    "ctx_emb_id_dict_first = {}\n",
    "qid_dict_first = {}\n",
    "emb_static_dict_first = {}\n",
    "emb_static_dict_first_full = {}\n",
    "\n",
    "for ind, row in bootleg_labels_df.iterrows():\n",
    "    ctx_emb_ids = row['ctx_emb_ids']\n",
    "    static_ids = row['entity_ids']\n",
    "    qids = row['qids']\n",
    "    spans = row['spans']\n",
    "    \n",
    "    # get sentence length\n",
    "    example = row['sentence']\n",
    "    tokens = example.split(' ')\n",
    "    length = len(tokens)\n",
    "    \n",
    "    # initialize result datastructures\n",
    "    ctx_emb_id_result = [-1] * length\n",
    "    qid_result = ['UNK'] * length\n",
    "    static_emb_id_result = [-1] * length\n",
    "    \n",
    "    ctx_emb_id_result_first = [-1] * length\n",
    "    qid_result_first = ['UNK'] * length\n",
    "    static_emb_id_result_first = [-1] * length\n",
    "    \n",
    "    for i in range(len(spans)):\n",
    "        span = spans[i]\n",
    "        start, end = span[0], span[1]\n",
    "        span_len = end-start\n",
    "        \n",
    "        # contextual\n",
    "        ctx_emb_id = ctx_emb_ids[i]\n",
    "        ctx_emb_id_lst = [ctx_emb_id] * span_len\n",
    "        ctx_emb_id_result[start:end] = ctx_emb_id_lst\n",
    "        ctx_emb_id_result_first[start] = ctx_emb_id # just put it in the first lot\n",
    "         \n",
    "        # qids\n",
    "        qid = qids[i]\n",
    "        qid_lst = [qid] * span_len\n",
    "        qid_result[start:end] = qid_lst\n",
    "        qid_result_first[start] = qid\n",
    "        \n",
    "        # static\n",
    "#         static_emb_id = static_ids[i]\n",
    "#         static_emb_id = remap_static_ent_id_dict[static_emb_id] # map old id to new id\n",
    "#         static_emb_id_lst = [static_emb_id] * span_len\n",
    "#         static_emb_id_result[start:end] = static_emb_id_lst\n",
    "#         static_emb_id_result_first[start] = static_emb_id\n",
    "        \n",
    "    idx = row['id']\n",
    "    if idx in ctx_emb_id_dict:\n",
    "        raise ValueError('duplicate indices!')\n",
    "    \n",
    "    ctx_emb_id_dict[idx] = ctx_emb_id_result\n",
    "    qid_dict[idx] = qid_result\n",
    "    emb_static_dict[idx] = static_emb_id_result\n",
    "    \n",
    "    ctx_emb_id_dict_first[idx] = ctx_emb_id_result_first\n",
    "    qid_dict_first[idx] = qid_result_first\n",
    "    emb_static_dict_first[idx] = static_emb_id_result_first\n",
    "\n"
   ]
  },
  {
   "cell_type": "code",
   "execution_count": null,
   "metadata": {},
   "outputs": [],
   "source": []
  },
  {
   "cell_type": "markdown",
   "metadata": {},
   "source": [
    "# Add the three features to the tacred data"
   ]
  },
  {
   "cell_type": "markdown",
   "metadata": {},
   "source": [
    "### Training Data"
   ]
  },
  {
   "cell_type": "code",
   "execution_count": 24,
   "metadata": {},
   "outputs": [
    {
     "data": {
      "text/plain": [
       "(68124, 14)"
      ]
     },
     "execution_count": 24,
     "metadata": {},
     "output_type": "execute_result"
    }
   ],
   "source": [
    "df_train.shape"
   ]
  },
  {
   "cell_type": "code",
   "execution_count": 25,
   "metadata": {
    "scrolled": true
   },
   "outputs": [],
   "source": [
    "df_train[\"entity_emb_id\"] = np.nan\n",
    "df_train['entity_emb_id_first'] = np.nan\n",
    "df_train['ent_id'] = np.nan\n",
    "df_train['ent_id_first'] = np.nan\n",
    "df_train['static_ent_emb_id'] = np.nan\n",
    "df_train['static_ent_emb_id_first'] = np.nan\n",
    "\n",
    "train_dict_ctx_emb_id = {}\n",
    "train_dict_ctx_emb_id_first = {}\n",
    "train_dict_qid = {}\n",
    "train_dict_qid_first = {}\n",
    "train_dict_static_emb_id = {}\n",
    "train_dict_static_emb_id_first = {}\n",
    "\n",
    "for ind, row in df_train.iterrows():\n",
    "    idx = row['id']\n",
    "    tokens = row['token']\n",
    "    length = len(tokens)\n",
    "    \n",
    "    # initialize result datastructures\n",
    "    ctx_emb_id_default = [-1] * length\n",
    "    qid_default = ['UNK'] * length\n",
    "    static_emb_id_default = [-1] * length\n",
    "    \n",
    "    # contextual\n",
    "    if idx in ctx_emb_id_dict:\n",
    "        train_dict_ctx_emb_id[idx] =  ctx_emb_id_dict[idx]\n",
    "    else:\n",
    "        train_dict_ctx_emb_id[idx] = ctx_emb_id_default\n",
    "        \n",
    "        \n",
    "    if idx in ctx_emb_id_dict_first:\n",
    "        train_dict_ctx_emb_id_first[idx] = ctx_emb_id_dict_first[idx]\n",
    "    else:\n",
    "        train_dict_ctx_emb_id_first[idx] = ctx_emb_id_default\n",
    "        \n",
    "    # qids\n",
    "    if idx in qid_dict:\n",
    "        train_dict_qid[idx] = qid_dict[idx]\n",
    "    else:\n",
    "        train_dict_qid[idx] = qid_default\n",
    "\n",
    "        \n",
    "    if idx in qid_dict_first:\n",
    "        train_dict_qid_first[idx] = qid_dict_first[idx]\n",
    "    else:\n",
    "        train_dict_qid_first[idx] = qid_default\n",
    "        \n",
    "    # static \n",
    "    if idx in emb_static_dict:\n",
    "        train_dict_static_emb_id[idx] = emb_static_dict[idx]\n",
    "    else:\n",
    "        train_dict_static_emb_id[idx] = static_emb_id_default\n",
    "        \n",
    "    if idx in emb_static_dict_first:\n",
    "        train_dict_static_emb_id_first[idx] = emb_static_dict_first[idx]\n",
    "    else:\n",
    "        train_dict_static_emb_id_first[idx] = static_emb_id_default\n",
    "        \n",
    "assert len(train_dict_ctx_emb_id.keys()) == df_train.shape[0], print(len(train_dict_ctx_emb_id.keys()), df_train.shape[0])\n",
    "assert len(train_dict_ctx_emb_id_first.keys()) == df_train.shape[0], print(len(train_dict_ctx_emb_id_first.keys()), df_train.shape[0])\n",
    "assert len(train_dict_qid.keys()) == df_train.shape[0], print(len(train_dict_qid.keys()), df_train.shape[0])\n",
    "assert len(train_dict_qid_first.keys()) == df_train.shape[0], print(len(train_dict_qid_first.keys()), df_train.shape[0])\n",
    "assert len(train_dict_static_emb_id.keys()) == df_train.shape[0], print(len(train_dict_static_emb_id.keys()), df_train.shape[0])\n",
    "assert len(train_dict_static_emb_id_first.keys()) == df_train.shape[0], print(len(train_dict_static_emb_id_first.keys()), df_train.shape[0])\n",
    "df_train['static_ent_emb_id_first'] = df_train['id'].map(train_dict_static_emb_id_first)\n",
    "df_train['entity_emb_id'] = df_train['id'].map(train_dict_ctx_emb_id)\n",
    "df_train['entity_emb_id_first'] = df_train['id'].map(train_dict_ctx_emb_id_first)\n",
    "df_train['ent_id'] = df_train['id'].map(train_dict_qid)\n",
    "df_train['ent_id_first'] = df_train['id'].map(train_dict_qid_first)\n",
    "df_train['static_ent_emb_id'] = df_train['id'].map(train_dict_static_emb_id)\n",
    "df_train['static_ent_emb_id_first'] = df_train['id'].map(train_dict_static_emb_id_first)\n",
    "\n"
   ]
  },
  {
   "cell_type": "code",
   "execution_count": 26,
   "metadata": {
    "scrolled": true
   },
   "outputs": [
    {
     "data": {
      "text/plain": [
       "(68124, 20)"
      ]
     },
     "execution_count": 26,
     "metadata": {},
     "output_type": "execute_result"
    }
   ],
   "source": [
    "df_train.shape"
   ]
  },
  {
   "cell_type": "markdown",
   "metadata": {},
   "source": [
    "# Dev Data"
   ]
  },
  {
   "cell_type": "code",
   "execution_count": 27,
   "metadata": {},
   "outputs": [
    {
     "data": {
      "text/plain": [
       "(22631, 14)"
      ]
     },
     "execution_count": 27,
     "metadata": {},
     "output_type": "execute_result"
    }
   ],
   "source": [
    "df_dev.shape"
   ]
  },
  {
   "cell_type": "code",
   "execution_count": 28,
   "metadata": {},
   "outputs": [],
   "source": [
    "df_dev[\"entity_emb_id\"] = np.nan\n",
    "df_dev['entity_emb_id_first'] = np.nan\n",
    "df_dev['ent_id'] = np.nan\n",
    "df_dev['ent_id_first'] = np.nan\n",
    "df_dev['static_ent_emb_id'] = np.nan\n",
    "df_dev['static_ent_emb_id_first'] = np.nan\n",
    "\n",
    "dev_dict_ctx_emb_id = {}\n",
    "dev_dict_ctx_emb_id_first = {}\n",
    "dev_dict_qid = {}\n",
    "dev_dict_qid_first = {}\n",
    "dev_dict_static_emb_id = {}\n",
    "dev_dict_static_emb_id_first = {}\n",
    "\n",
    "for ind, row in df_dev.iterrows():\n",
    "    idx = row['id']\n",
    "    tokens = row['token']\n",
    "    length = len(tokens)\n",
    "    \n",
    "    # initialize result datastructures\n",
    "    ctx_emb_id_default = [-1] * length\n",
    "    qid_default = ['UNK'] * length\n",
    "    static_emb_id_default = [-1] * length\n",
    "    \n",
    "    # contextual\n",
    "    if idx in ctx_emb_id_dict:\n",
    "        dev_dict_ctx_emb_id[idx] =  ctx_emb_id_dict[idx]\n",
    "    else:\n",
    "        dev_dict_ctx_emb_id[idx] = ctx_emb_id_default\n",
    "        \n",
    "        \n",
    "    if idx in ctx_emb_id_dict_first:\n",
    "        dev_dict_ctx_emb_id_first[idx] = ctx_emb_id_dict_first[idx]\n",
    "    else:\n",
    "        dev_dict_ctx_emb_id_first[idx] = ctx_emb_id_default\n",
    "        \n",
    "    # qids\n",
    "    if idx in qid_dict:\n",
    "        dev_dict_qid[idx] = qid_dict[idx]\n",
    "    else:\n",
    "        dev_dict_qid[idx] = qid_default\n",
    "\n",
    "        \n",
    "    if idx in qid_dict_first:\n",
    "        dev_dict_qid_first[idx] = qid_dict_first[idx]\n",
    "    else:\n",
    "        dev_dict_qid_first[idx] = qid_default\n",
    "        \n",
    "    # static \n",
    "    if idx in emb_static_dict:\n",
    "        dev_dict_static_emb_id[idx] = emb_static_dict[idx]\n",
    "    else:\n",
    "        dev_dict_static_emb_id[idx] = static_emb_id_default\n",
    "        \n",
    "    if idx in emb_static_dict_first:\n",
    "        dev_dict_static_emb_id_first[idx] = emb_static_dict_first[idx]\n",
    "    else:\n",
    "        dev_dict_static_emb_id_first[idx] = static_emb_id_default\n",
    "        \n",
    "assert len(dev_dict_ctx_emb_id.keys()) == df_dev.shape[0], print(len(dev_dict_ctx_emb_id.keys()), df_dev.shape[0])\n",
    "assert len(dev_dict_ctx_emb_id_first.keys()) == df_dev.shape[0], print(len(dev_dict_ctx_emb_id_first.keys()), df_dev.shape[0])\n",
    "assert len(dev_dict_qid.keys()) == df_dev.shape[0], print(len(dev_dict_qid.keys()), df_dev.shape[0])\n",
    "assert len(dev_dict_qid_first.keys()) == df_dev.shape[0], print(len(dev_dict_qid_first.keys()), df_dev.shape[0])\n",
    "assert len(dev_dict_static_emb_id.keys()) == df_dev.shape[0], print(len(dev_dict_static_emb_id.keys()), df_dev.shape[0])\n",
    "assert len(dev_dict_static_emb_id_first.keys()) == df_dev.shape[0], print(len(dev_dict_static_emb_id_first.keys()), df_dev.shape[0])\n",
    "df_dev['entity_emb_id'] = df_dev['id'].map(dev_dict_ctx_emb_id)\n",
    "df_dev['entity_emb_id_first'] = df_dev['id'].map(dev_dict_ctx_emb_id_first)\n",
    "df_dev['ent_id'] = df_dev['id'].map(dev_dict_qid)\n",
    "df_dev['ent_id_first'] = df_dev['id'].map(dev_dict_qid_first)\n",
    "df_dev['static_ent_emb_id'] = df_dev['id'].map(dev_dict_static_emb_id)\n",
    "df_dev['static_ent_emb_id_first'] = df_dev['id'].map(dev_dict_static_emb_id_first)"
   ]
  },
  {
   "cell_type": "code",
   "execution_count": 29,
   "metadata": {},
   "outputs": [
    {
     "data": {
      "text/plain": [
       "(22631, 20)"
      ]
     },
     "execution_count": 29,
     "metadata": {},
     "output_type": "execute_result"
    }
   ],
   "source": [
    "df_dev.shape"
   ]
  },
  {
   "cell_type": "markdown",
   "metadata": {},
   "source": [
    "# Test Data"
   ]
  },
  {
   "cell_type": "code",
   "execution_count": 30,
   "metadata": {},
   "outputs": [
    {
     "data": {
      "text/plain": [
       "(15509, 14)"
      ]
     },
     "execution_count": 30,
     "metadata": {},
     "output_type": "execute_result"
    }
   ],
   "source": [
    "df_test.shape"
   ]
  },
  {
   "cell_type": "code",
   "execution_count": 31,
   "metadata": {},
   "outputs": [],
   "source": [
    "df_test[\"entity_emb_id\"] = np.nan\n",
    "df_test['entity_emb_id_first'] = np.nan\n",
    "df_test['ent_id'] = np.nan\n",
    "df_test['ent_id_first'] = np.nan\n",
    "df_test['static_ent_emb_id'] = np.nan\n",
    "df_test['static_ent_emb_id_first'] = np.nan\n",
    "\n",
    "test_dict_ctx_emb_id = {}\n",
    "test_dict_ctx_emb_id_first = {}\n",
    "test_dict_qid = {}\n",
    "test_dict_qid_first = {}\n",
    "test_dict_static_emb_id = {}\n",
    "test_dict_static_emb_id_first = {}\n",
    "\n",
    "for ind, row in df_test.iterrows():\n",
    "    idx = row['id']\n",
    "    tokens = row['token']\n",
    "    length = len(tokens)\n",
    "    \n",
    "    # initialize result datastructures\n",
    "    ctx_emb_id_default = [-1] * length\n",
    "    qid_default = ['UNK'] * length\n",
    "    static_emb_id_default = [-1] * length\n",
    "    \n",
    "    # contextual\n",
    "    if idx in ctx_emb_id_dict:\n",
    "        test_dict_ctx_emb_id[idx] =  ctx_emb_id_dict[idx]\n",
    "    else:\n",
    "        test_dict_ctx_emb_id[idx] = ctx_emb_id_default\n",
    "        \n",
    "        \n",
    "    if idx in ctx_emb_id_dict_first:\n",
    "        test_dict_ctx_emb_id_first[idx] = ctx_emb_id_dict_first[idx]\n",
    "    else:\n",
    "        test_dict_ctx_emb_id_first[idx] = ctx_emb_id_default\n",
    "        \n",
    "    # qids\n",
    "    if idx in qid_dict:\n",
    "        test_dict_qid[idx] = qid_dict[idx]\n",
    "    else:\n",
    "        test_dict_qid[idx] = qid_default\n",
    "\n",
    "        \n",
    "    if idx in qid_dict_first:\n",
    "        test_dict_qid_first[idx] = qid_dict_first[idx]\n",
    "    else:\n",
    "        test_dict_qid_first[idx] = qid_default\n",
    "        \n",
    "    # static \n",
    "    if idx in emb_static_dict:\n",
    "        test_dict_static_emb_id[idx] = emb_static_dict[idx]\n",
    "    else:\n",
    "        test_dict_static_emb_id[idx] = static_emb_id_default\n",
    "        \n",
    "    if idx in emb_static_dict_first:\n",
    "        test_dict_static_emb_id_first[idx] = emb_static_dict_first[idx]\n",
    "    else:\n",
    "        test_dict_static_emb_id_first[idx] = static_emb_id_default\n",
    "\n",
    "assert len(test_dict_qid.keys()) == df_test.shape[0], print(len(test_dict_qid.keys()), df_test.shape[0])\n",
    "assert len(test_dict_static_emb_id.keys()) == df_test.shape[0], print(len(test_dict_static_emb_id.keys()), df_test.shape[0])\n",
    "assert len(test_dict_qid_first.keys()) == df_test.shape[0], print(len(test_dict_qid_first.keys()), df_test.shape[0])\n",
    "assert len(test_dict_ctx_emb_id_first.keys()) == df_test.shape[0], print(len(test_dict_ctx_emb_id_first.keys()), df_test.shape[0])\n",
    "assert len(test_dict_ctx_emb_id.keys()) == df_test.shape[0], print(len(test_dict_ctx_emb_id.keys()), df_test.shape[0])\n",
    "assert len(test_dict_static_emb_id_first.keys()) == df_test.shape[0], print(len(test_dict_static_emb_id_first.keys()), df_test.shape[0])\n",
    "df_test['entity_emb_id'] = df_test['id'].map(test_dict_ctx_emb_id)\n",
    "df_test['entity_emb_id_first'] = df_test['id'].map(test_dict_ctx_emb_id_first)\n",
    "df_test['ent_id'] = df_test['id'].map(test_dict_qid)\n",
    "df_test['ent_id_first'] = df_test['id'].map(test_dict_qid_first)\n",
    "df_test['static_ent_emb_id'] = df_test['id'].map(test_dict_static_emb_id)\n",
    "df_test['static_ent_emb_id_first'] = df_test['id'].map(test_dict_static_emb_id_first)"
   ]
  },
  {
   "cell_type": "code",
   "execution_count": 32,
   "metadata": {},
   "outputs": [
    {
     "data": {
      "text/plain": [
       "(15509, 20)"
      ]
     },
     "execution_count": 32,
     "metadata": {},
     "output_type": "execute_result"
    }
   ],
   "source": [
    "df_test.shape"
   ]
  },
  {
   "cell_type": "markdown",
   "metadata": {},
   "source": [
    "# Sanity check the static ids"
   ]
  },
  {
   "cell_type": "code",
   "execution_count": 33,
   "metadata": {
    "scrolled": true
   },
   "outputs": [],
   "source": [
    "# for ind, row in df_dev.iterrows():\n",
    "#     if 'Millipore' in row['token']:\n",
    "#         print(row[['token', 'entity_emb_id', 'entity_emb_id_first', 'ent_id', 'ent_id_first', 'static_ent_emb_id', 'static_ent_emb_id_first', 'subj_start', 'obj_start']])"
   ]
  },
  {
   "cell_type": "code",
   "execution_count": 34,
   "metadata": {},
   "outputs": [],
   "source": [
    "# # sanity check\n",
    "# pd.set_option('display.max_colwidth', -1)\n",
    "# for ind, row in bootleg_labels_df.iterrows():\n",
    "#     if 'Millipore' in row['sentence']:\n",
    "#         print(row[['sentence', 'entity_ids']])"
   ]
  },
  {
   "cell_type": "markdown",
   "metadata": {},
   "source": [
    "# Save the appended data"
   ]
  },
  {
   "cell_type": "code",
   "execution_count": 36,
   "metadata": {},
   "outputs": [
    {
     "name": "stdout",
     "output_type": "stream",
     "text": [
      "/dfs/scratch1/simran/tacred/tacred-relation-bootleg/dataset_bootleg_iclr_model/bootleg_092620/basic_full_sentences//filt_1015_v1\n"
     ]
    }
   ],
   "source": [
    "out_dir = os.path.dirname('{}{}/filt_1015_v1/'.format(base_directory, expt_directory))\n",
    "print(out_dir)"
   ]
  },
  {
   "cell_type": "code",
   "execution_count": 38,
   "metadata": {},
   "outputs": [],
   "source": [
    "train_out = df_train.to_json(r'{}/train_ent.json'.format(out_dir),orient='records')"
   ]
  },
  {
   "cell_type": "code",
   "execution_count": 39,
   "metadata": {},
   "outputs": [],
   "source": [
    "dev_out = df_dev.to_json(r'{}/dev_rev_ent.json'.format(out_dir),orient='records')"
   ]
  },
  {
   "cell_type": "code",
   "execution_count": 40,
   "metadata": {},
   "outputs": [],
   "source": [
    "test_out = df_test.to_json(r'{}/test_rev_ent.json'.format(out_dir),orient='records')"
   ]
  },
  {
   "cell_type": "code",
   "execution_count": 65,
   "metadata": {},
   "outputs": [],
   "source": [
    "# SCRAP"
   ]
  },
  {
   "cell_type": "code",
   "execution_count": 66,
   "metadata": {},
   "outputs": [],
   "source": [
    "# # MAP IF NEEDED\n",
    "# alldata_file = \"{}all_tacred_data_glovenormalized_mapping.jsonl\".format(directory)\n",
    "\n",
    "# alldata_df = load_mapping(alldata_file)\n",
    "# print(len(alldata_df))\n",
    "\n",
    "# alldata_dict = {}\n",
    "# for ind, row in alldata_df.iterrows():\n",
    "#     if row['sentence'] in alldata_dict:\n",
    "#         alldata_dict[row['sentence']].append(row['id'])\n",
    "#     else:\n",
    "#         alldata_dict[row['sentence']] = [row['id']]\n",
    "# len(alldata_dict)\n",
    "\n",
    "\n",
    "# mapping_dict = {}\n",
    "# for i, row in bootleg_labels_df.iterrows():\n",
    "#     sent = row['sentence']\n",
    "#     uq_id = row['sent_idx_unq']\n",
    "#     if sent in alldata_dict:\n",
    "#         map_id = alldata_dict[sent].pop()\n",
    "#         mapping_dict[uq_id] = map_id\n",
    "#         if not alldata_dict[sent]:\n",
    "#             del alldata_dict[sent]\n",
    "#     else:\n",
    "#         print(\"AHHH\")\n",
    "            \n",
    "# print(len(mapping_dict.keys()))    \n",
    "# bootleg_labels_df['id'] = bootleg_labels_df['sent_idx_unq'].map(mapping_dict)\n",
    "# print(bootleg_labels_df.shape)"
   ]
  },
  {
   "cell_type": "code",
   "execution_count": null,
   "metadata": {},
   "outputs": [],
   "source": []
  }
 ],
 "metadata": {
  "kernelspec": {
   "display_name": "Python 3",
   "language": "python",
   "name": "python3"
  },
  "language_info": {
   "codemirror_mode": {
    "name": "ipython",
    "version": 3
   },
   "file_extension": ".py",
   "mimetype": "text/x-python",
   "name": "python",
   "nbconvert_exporter": "python",
   "pygments_lexer": "ipython3",
   "version": "3.8.6"
  }
 },
 "nbformat": 4,
 "nbformat_minor": 4
}
