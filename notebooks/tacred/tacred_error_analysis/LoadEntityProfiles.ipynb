{
 "cells": [
  {
   "cell_type": "markdown",
   "metadata": {},
   "source": [
    "### This script will load up entity profiles. Note, it will ONLY work on raiders8."
   ]
  },
  {
   "cell_type": "code",
   "execution_count": 1,
   "metadata": {},
   "outputs": [
    {
     "data": {
      "text/html": [
       "<style>.container { width:90% !important; }</style>"
      ],
      "text/plain": [
       "<IPython.core.display.HTML object>"
      ]
     },
     "metadata": {},
     "output_type": "display_data"
    }
   ],
   "source": [
    "%load_ext autoreload\n",
    "%autoreload 2\n",
    "from IPython.core.display import display, HTML\n",
    "display(HTML(\"<style>.container { width:90% !important; }</style>\"))"
   ]
  },
  {
   "cell_type": "code",
   "execution_count": 2,
   "metadata": {},
   "outputs": [
    {
     "name": "stderr",
     "output_type": "stream",
     "text": [
      "/dfs/scratch1/simran/pkg/.pkg_venv/lib/python3.6/site-packages/pandas/compat/__init__.py:85: UserWarning: Could not import the lzma module. Your installed Python is incomplete. Attempting to use lzma compression will result in a RuntimeError.\n",
      "  warnings.warn(msg)\n",
      "/dfs/scratch1/simran/pkg/.pkg_venv/lib/python3.6/site-packages/pandas/compat/__init__.py:85: UserWarning: Could not import the lzma module. Your installed Python is incomplete. Attempting to use lzma compression will result in a RuntimeError.\n",
      "  warnings.warn(msg)\n",
      "[nltk_data] Downloading package stopwords to\n",
      "[nltk_data]     /lfs/1/simran/nltk_data...\n",
      "[nltk_data]   Package stopwords is already up-to-date!\n"
     ]
    }
   ],
   "source": [
    "import ujson as json\n",
    "import jsonlines\n",
    "import os,sys\n",
    "sys.path.append('/dfs/scratch1/simran/tutorial/bootleg-internal/notebooks')\n",
    "sys.path.append('/dfs/scratch1/simran/tutorial/bootleg-internal/')\n",
    "import time\n",
    "import multiprocessing\n",
    "from tabulate import tabulate\n",
    "from collections import defaultdict\n",
    "import os,sys\n",
    "import pandas as pd\n",
    "import jsonlines\n",
    "from tqdm import tqdm\n",
    "from collections import defaultdict\n",
    "import nltk\n",
    "nltk.download('stopwords')\n",
    "import utils_not_for_public as du\n"
   ]
  },
  {
   "cell_type": "code",
   "execution_count": 3,
   "metadata": {},
   "outputs": [],
   "source": [
    "def load_rel_names():\n",
    "    return json.load(open(\"/dfs/scratch1/simran/bootleg_downstream/archive/wikidata_mappings/pid_names.json\"))"
   ]
  },
  {
   "cell_type": "code",
   "execution_count": 5,
   "metadata": {},
   "outputs": [
    {
     "name": "stdout",
     "output_type": "stream",
     "text": [
      "Loading entity_symbols from /dfs/scratch0/lorr1/data_prep/data/wiki_0906_pg/_cache_wiki_0906_pg/wiki0516/entity_db/entity_mappings\n",
      "/dfs/scratch0/lorr1/data_prep/data/wiki_0906_pg/_cache_wiki_0906_pg/wiki0516/entity_db/entity_mappings\n"
     ]
    },
    {
     "ename": "FileNotFoundError",
     "evalue": "[Errno 2] No such file or directory: '/dfs/scratch0/lorr1/data_prep/data/wiki_0906_pg/_cache_wiki_0906_pg/wiki0516/entity_db/entity_mappings/config.json'",
     "output_type": "error",
     "traceback": [
      "\u001b[0;31m---------------------------------------------------------------------------\u001b[0m",
      "\u001b[0;31mFileNotFoundError\u001b[0m                         Traceback (most recent call last)",
      "\u001b[0;32m<ipython-input-5-45b2c32da949>\u001b[0m in \u001b[0;36m<module>\u001b[0;34m\u001b[0m\n\u001b[1;32m     17\u001b[0m     \u001b[0mhy_types\u001b[0m\u001b[0;34m=\u001b[0m\u001b[0;34m'hyena_types_wiki_all_aug.json'\u001b[0m\u001b[0;34m,\u001b[0m\u001b[0;34m\u001b[0m\u001b[0;34m\u001b[0m\u001b[0m\n\u001b[1;32m     18\u001b[0m     \u001b[0mwd_vocab\u001b[0m\u001b[0;34m=\u001b[0m\u001b[0;34m'wikidata_to_typeid.json'\u001b[0m\u001b[0;34m,\u001b[0m\u001b[0;34m\u001b[0m\u001b[0;34m\u001b[0m\u001b[0m\n\u001b[0;32m---> 19\u001b[0;31m     wd_types='wikidata_types_wiki_filt.json', overwrite=False)   \n\u001b[0m",
      "\u001b[0;32m/dfs/scratch1/simran/tutorial/bootleg-internal/notebooks/utils_not_for_public.py\u001b[0m in \u001b[0;36mload_esp\u001b[0;34m(name, cache_dir, subfolder, suffix, overwrite, data_dir, emb_dir, extras_dir, max_types, max_types_rel, kg_adj, kg_triples, hy_vocab, hy_types, wd_vocab, wd_types, rel_vocab, rel_types)\u001b[0m\n\u001b[1;32m     59\u001b[0m                     \u001b[0mrel_types\u001b[0m\u001b[0;34m=\u001b[0m\u001b[0mrel_types\u001b[0m\u001b[0;34m,\u001b[0m\u001b[0;34m\u001b[0m\u001b[0;34m\u001b[0m\u001b[0m\n\u001b[1;32m     60\u001b[0m                     overwrite_saved_entities=overwrite)\n\u001b[0;32m---> 61\u001b[0;31m     \u001b[0mes\u001b[0m\u001b[0;34m,\u001b[0m \u001b[0mesp\u001b[0m\u001b[0;34m,\u001b[0m \u001b[0mtype_vocab_hy\u001b[0m\u001b[0;34m,\u001b[0m \u001b[0mtypeid2typename_hy\u001b[0m\u001b[0;34m,\u001b[0m \u001b[0mtype_vocab_wd\u001b[0m\u001b[0;34m,\u001b[0m \u001b[0mtypeid2typename_wd\u001b[0m\u001b[0;34m,\u001b[0m \u001b[0mtype_vocab_rel\u001b[0m\u001b[0;34m,\u001b[0m \u001b[0mtypeid2typename_rel\u001b[0m\u001b[0;34m,\u001b[0m \u001b[0malias_qid_count\u001b[0m \u001b[0;34m=\u001b[0m \u001b[0mes_for_signals\u001b[0m\u001b[0;34m.\u001b[0m\u001b[0mload_entity_symbol_objs\u001b[0m\u001b[0;34m(\u001b[0m\u001b[0mes_args\u001b[0m\u001b[0;34m,\u001b[0m \u001b[0mcache_dir\u001b[0m\u001b[0;34m,\u001b[0m \u001b[0moverwrite_cache\u001b[0m\u001b[0;34m=\u001b[0m\u001b[0moverwrite\u001b[0m\u001b[0;34m)\u001b[0m\u001b[0;34m\u001b[0m\u001b[0;34m\u001b[0m\u001b[0m\n\u001b[0m\u001b[1;32m     62\u001b[0m     \u001b[0mprint\u001b[0m\u001b[0;34m(\u001b[0m\u001b[0;34mf\"Found {len(typeid2typename_hy)} hyena types\"\u001b[0m\u001b[0;34m)\u001b[0m\u001b[0;34m\u001b[0m\u001b[0;34m\u001b[0m\u001b[0m\n\u001b[1;32m     63\u001b[0m     \u001b[0mprint\u001b[0m\u001b[0;34m(\u001b[0m\u001b[0;34mf\"Found {len(typeid2typename_wd)} wikidata types\"\u001b[0m\u001b[0;34m)\u001b[0m\u001b[0;34m\u001b[0m\u001b[0;34m\u001b[0m\u001b[0m\n",
      "\u001b[0;32m/dfs/scratch1/simran/tutorial/bootleg-internal/bootleg_data_prep/utils/entity_symbols_for_signals.py\u001b[0m in \u001b[0;36mload_entity_symbol_objs\u001b[0;34m(args, cache_dir, overwrite_cache)\u001b[0m\n\u001b[1;32m    539\u001b[0m     \u001b[0mentity_load_dir\u001b[0m \u001b[0;34m=\u001b[0m \u001b[0mos\u001b[0m\u001b[0;34m.\u001b[0m\u001b[0mpath\u001b[0m\u001b[0;34m.\u001b[0m\u001b[0mjoin\u001b[0m\u001b[0;34m(\u001b[0m\u001b[0mload_dir\u001b[0m\u001b[0;34m,\u001b[0m \u001b[0;34m\"entity_db/entity_mappings\"\u001b[0m\u001b[0;34m)\u001b[0m\u001b[0;34m\u001b[0m\u001b[0;34m\u001b[0m\u001b[0m\n\u001b[1;32m    540\u001b[0m     \u001b[0mprint\u001b[0m\u001b[0;34m(\u001b[0m\u001b[0;34mf\"Loading entity_symbols from {entity_load_dir}\"\u001b[0m\u001b[0;34m)\u001b[0m\u001b[0;34m\u001b[0m\u001b[0;34m\u001b[0m\u001b[0m\n\u001b[0;32m--> 541\u001b[0;31m     \u001b[0mentity_symbols\u001b[0m \u001b[0;34m=\u001b[0m \u001b[0mEntitySymbols\u001b[0m\u001b[0;34m(\u001b[0m\u001b[0mload_dir\u001b[0m\u001b[0;34m=\u001b[0m\u001b[0mentity_load_dir\u001b[0m\u001b[0;34m)\u001b[0m\u001b[0;34m\u001b[0m\u001b[0;34m\u001b[0m\u001b[0m\n\u001b[0m\u001b[1;32m    542\u001b[0m     \u001b[0mesp_f\u001b[0m \u001b[0;34m=\u001b[0m \u001b[0mos\u001b[0m\u001b[0;34m.\u001b[0m\u001b[0mpath\u001b[0m\u001b[0;34m.\u001b[0m\u001b[0mjoin\u001b[0m\u001b[0;34m(\u001b[0m\u001b[0mcache_dir\u001b[0m\u001b[0;34m,\u001b[0m \u001b[0;34m\"entity_symbols_plus.pkl\"\u001b[0m\u001b[0;34m)\u001b[0m\u001b[0;34m\u001b[0m\u001b[0;34m\u001b[0m\u001b[0m\n\u001b[1;32m    543\u001b[0m     \u001b[0mtype_f_hy\u001b[0m \u001b[0;34m=\u001b[0m \u001b[0mos\u001b[0m\u001b[0;34m.\u001b[0m\u001b[0mpath\u001b[0m\u001b[0;34m.\u001b[0m\u001b[0mjoin\u001b[0m\u001b[0;34m(\u001b[0m\u001b[0mcache_dir\u001b[0m\u001b[0;34m,\u001b[0m \u001b[0;34m\"type_symbols_hy.pkl\"\u001b[0m\u001b[0;34m)\u001b[0m\u001b[0;34m\u001b[0m\u001b[0;34m\u001b[0m\u001b[0m\n",
      "\u001b[0;32m/dfs/scratch1/simran/pkg/Personalized_bootleg/make_personal_kg/bootleg/bootleg/symbols/entity_symbols.py\u001b[0m in \u001b[0;36m__init__\u001b[0;34m(self, load_dir, max_candidates, max_alias_len, alias2qids, qid2title, alias_cand_map_file)\u001b[0m\n\u001b[1;32m     26\u001b[0m         \u001b[0mself\u001b[0m\u001b[0;34m.\u001b[0m\u001b[0malias_cand_map_file\u001b[0m \u001b[0;34m=\u001b[0m \u001b[0malias_cand_map_file\u001b[0m\u001b[0;34m\u001b[0m\u001b[0;34m\u001b[0m\u001b[0m\n\u001b[1;32m     27\u001b[0m         \u001b[0;32mif\u001b[0m \u001b[0mload_dir\u001b[0m \u001b[0;32mis\u001b[0m \u001b[0;32mnot\u001b[0m \u001b[0;32mNone\u001b[0m\u001b[0;34m:\u001b[0m\u001b[0;34m\u001b[0m\u001b[0;34m\u001b[0m\u001b[0m\n\u001b[0;32m---> 28\u001b[0;31m             \u001b[0mself\u001b[0m\u001b[0;34m.\u001b[0m\u001b[0mload\u001b[0m\u001b[0;34m(\u001b[0m\u001b[0mload_dir\u001b[0m\u001b[0;34m)\u001b[0m\u001b[0;34m\u001b[0m\u001b[0;34m\u001b[0m\u001b[0m\n\u001b[0m\u001b[1;32m     29\u001b[0m         \u001b[0;32melse\u001b[0m\u001b[0;34m:\u001b[0m\u001b[0;34m\u001b[0m\u001b[0;34m\u001b[0m\u001b[0m\n\u001b[1;32m     30\u001b[0m             \u001b[0mself\u001b[0m\u001b[0;34m.\u001b[0m\u001b[0mmax_candidates\u001b[0m \u001b[0;34m=\u001b[0m \u001b[0mmax_candidates\u001b[0m\u001b[0;34m\u001b[0m\u001b[0;34m\u001b[0m\u001b[0m\n",
      "\u001b[0;32m/dfs/scratch1/simran/pkg/Personalized_bootleg/make_personal_kg/bootleg/bootleg/symbols/entity_symbols.py\u001b[0m in \u001b[0;36mload\u001b[0;34m(self, load_dir)\u001b[0m\n\u001b[1;32m     66\u001b[0m     \u001b[0;32mdef\u001b[0m \u001b[0mload\u001b[0m\u001b[0;34m(\u001b[0m\u001b[0mself\u001b[0m\u001b[0;34m,\u001b[0m \u001b[0mload_dir\u001b[0m\u001b[0;34m)\u001b[0m\u001b[0;34m:\u001b[0m\u001b[0;34m\u001b[0m\u001b[0;34m\u001b[0m\u001b[0m\n\u001b[1;32m     67\u001b[0m         \u001b[0mprint\u001b[0m\u001b[0;34m(\u001b[0m\u001b[0mload_dir\u001b[0m\u001b[0;34m)\u001b[0m\u001b[0;34m\u001b[0m\u001b[0;34m\u001b[0m\u001b[0m\n\u001b[0;32m---> 68\u001b[0;31m         \u001b[0mconfig\u001b[0m \u001b[0;34m=\u001b[0m \u001b[0mutils\u001b[0m\u001b[0;34m.\u001b[0m\u001b[0mload_json_file\u001b[0m\u001b[0;34m(\u001b[0m\u001b[0mfilename\u001b[0m\u001b[0;34m=\u001b[0m\u001b[0mos\u001b[0m\u001b[0;34m.\u001b[0m\u001b[0mpath\u001b[0m\u001b[0;34m.\u001b[0m\u001b[0mjoin\u001b[0m\u001b[0;34m(\u001b[0m\u001b[0mload_dir\u001b[0m\u001b[0;34m,\u001b[0m \u001b[0;34m\"config.json\"\u001b[0m\u001b[0;34m)\u001b[0m\u001b[0;34m)\u001b[0m\u001b[0;34m\u001b[0m\u001b[0;34m\u001b[0m\u001b[0m\n\u001b[0m\u001b[1;32m     69\u001b[0m         \u001b[0mself\u001b[0m\u001b[0;34m.\u001b[0m\u001b[0mmax_candidates\u001b[0m \u001b[0;34m=\u001b[0m \u001b[0;36m30\u001b[0m \u001b[0;31m#config[\"max_candidates\"]\u001b[0m\u001b[0;34m\u001b[0m\u001b[0;34m\u001b[0m\u001b[0m\n\u001b[1;32m     70\u001b[0m         \u001b[0mself\u001b[0m\u001b[0;34m.\u001b[0m\u001b[0mmax_alias_len\u001b[0m \u001b[0;34m=\u001b[0m \u001b[0;36m50\u001b[0m \u001b[0;31m#config[\"max_alias_len\"]\u001b[0m\u001b[0;34m\u001b[0m\u001b[0;34m\u001b[0m\u001b[0m\n",
      "\u001b[0;32m/dfs/scratch1/simran/pkg/Personalized_bootleg/make_personal_kg/bootleg/bootleg/utils/utils.py\u001b[0m in \u001b[0;36mload_json_file\u001b[0;34m(filename)\u001b[0m\n\u001b[1;32m     44\u001b[0m \u001b[0;34m\u001b[0m\u001b[0m\n\u001b[1;32m     45\u001b[0m \u001b[0;32mdef\u001b[0m \u001b[0mload_json_file\u001b[0m\u001b[0;34m(\u001b[0m\u001b[0mfilename\u001b[0m\u001b[0;34m)\u001b[0m\u001b[0;34m:\u001b[0m\u001b[0;34m\u001b[0m\u001b[0;34m\u001b[0m\u001b[0m\n\u001b[0;32m---> 46\u001b[0;31m     \u001b[0;32mwith\u001b[0m \u001b[0mopen\u001b[0m\u001b[0;34m(\u001b[0m\u001b[0mfilename\u001b[0m\u001b[0;34m,\u001b[0m \u001b[0;34m'r'\u001b[0m\u001b[0;34m)\u001b[0m \u001b[0;32mas\u001b[0m \u001b[0mf\u001b[0m\u001b[0;34m:\u001b[0m\u001b[0;34m\u001b[0m\u001b[0;34m\u001b[0m\u001b[0m\n\u001b[0m\u001b[1;32m     47\u001b[0m         \u001b[0mcontents\u001b[0m \u001b[0;34m=\u001b[0m \u001b[0mujson\u001b[0m\u001b[0;34m.\u001b[0m\u001b[0mload\u001b[0m\u001b[0;34m(\u001b[0m\u001b[0mf\u001b[0m\u001b[0;34m)\u001b[0m\u001b[0;34m\u001b[0m\u001b[0;34m\u001b[0m\u001b[0m\n\u001b[1;32m     48\u001b[0m     \u001b[0;32mreturn\u001b[0m \u001b[0mcontents\u001b[0m\u001b[0;34m\u001b[0m\u001b[0;34m\u001b[0m\u001b[0m\n",
      "\u001b[0;31mFileNotFoundError\u001b[0m: [Errno 2] No such file or directory: '/dfs/scratch0/lorr1/data_prep/data/wiki_0906_pg/_cache_wiki_0906_pg/wiki0516/entity_db/entity_mappings/config.json'"
     ]
    }
   ],
   "source": [
    "# Loads entity profiles\n",
    "# es -> entity_symbols stores QID -> title and QID->candidates\n",
    "# esp -> entity_symbols_plus stores QID->structural resource and QID->candidates; esp is more memory efficient and should be used in distributed processes\n",
    "# type_vocab -> hyena (coarse) type vocabulary\n",
    "# typeid2typename -> hyena type id to type name\n",
    "# type_vocab_wd -> wikidata (fine) type vocabulary\n",
    "# typeid2typename_wd -> wikidata type id to type QID name\n",
    "# alias_qid_count is alias->qid->number of times appears in training\n",
    "# typename2title: # As wikidata types go from type id -> QID name; this goes from QID name -> QID title for the type\n",
    "\n",
    "####### FILTERED ########\n",
    "#es, esp, type_vocab, typeid2typename, type_vocab_wd, typeid2typename_wd, alias_qid_count = du.load_esp(\"wiki\", overwrite=True) \n",
    "es, esp, type_vocab, typeid2typename, type_vocab_wd, typeid2typename_wd, alias_qid_count = du.load_esp(\"wiki\", \n",
    "    kg_adj='kg_adj_complete.txt',\n",
    "    kg_triples='kg_triples.txt',\n",
    "    hy_vocab='hyena_vocab.json',\n",
    "    hy_types='hyena_types_wiki_all_aug.json',\n",
    "    wd_vocab='wikidata_to_typeid.json',\n",
    "    wd_types='wikidata_types_wiki_filt.json', overwrite=False)   "
   ]
  },
  {
   "cell_type": "code",
   "execution_count": 5,
   "metadata": {},
   "outputs": [],
   "source": [
    "# es, esp, type_vocab, typeid2typename, type_vocab_wd, typeid2typename_wd, alias_qid_count = du.load_esp(\"wiki\", \n",
    "#     kg_adj='kg_adj_0905.txt',\n",
    "#     kg_triples='kg_triples_0905.txt',\n",
    "#     hy_vocab='hyena_vocab.json',\n",
    "#     hy_types='hyena_types_0905.json',\n",
    "#     wd_vocab='wikidata_to_typeid_0905.json',\n",
    "#     wd_types='wikidata_types_0905.json', overwrite=False)"
   ]
  },
  {
   "cell_type": "code",
   "execution_count": 6,
   "metadata": {},
   "outputs": [],
   "source": [
    "# print(typeid2typename_wd)"
   ]
  },
  {
   "cell_type": "code",
   "execution_count": 20,
   "metadata": {},
   "outputs": [],
   "source": [
    "typename2title_wd = du.load_wikidata_typename_map()\n",
    "rel_to_name = load_rel_names()"
   ]
  },
  {
   "cell_type": "code",
   "execution_count": null,
   "metadata": {},
   "outputs": [],
   "source": [
    "for k, v in rel_to_name.items():\n",
    "    if 'country' in v:\n",
    "        print(k,v)"
   ]
  },
  {
   "cell_type": "code",
   "execution_count": 22,
   "metadata": {},
   "outputs": [],
   "source": [
    "typeqid_to_id = json.load(open(\"/dfs/scratch1/simran/tacred/tacred-relation-bootleg/dataset_bootleg_cidr_model/bootleg_downloads/emb_data/wikidata_types_wiki_filt.json\"))\n"
   ]
  },
  {
   "cell_type": "code",
   "execution_count": 23,
   "metadata": {},
   "outputs": [
    {
     "data": {
      "text/plain": [
       "[2543]"
      ]
     },
     "execution_count": 23,
     "metadata": {},
     "output_type": "execute_result"
    }
   ],
   "source": [
    "typeqid_to_id['Q8104']"
   ]
  },
  {
   "cell_type": "code",
   "execution_count": null,
   "metadata": {},
   "outputs": [],
   "source": [
    "qid = \"Q265\"\n",
    "qid2 = \"Q5145844\"\n",
    "alias = \"uzbekistan\"\n",
    "\n",
    "# To access the title of a QID\n",
    "title = es.get_title(qid)\n",
    "print(f\"Title {title}\")\n",
    "print()\n",
    "title = es.get_title(qid2)\n",
    "print(f\"Title {title}\")\n",
    "print()\n",
    "\n",
    "# Get wikidata types for a qid \n",
    "types = du.get_qid_types(qid, esp, typeid2typename_wd, wikidata=True)\n",
    "print(f\"Types {types}\")\n",
    "print()\n",
    "\n",
    "# To get wikidata types in a nice format\n",
    "types = [typename2title_wd[t] for t in types]\n",
    "print(f\"Types Pretty {types}\")\n",
    "print()\n",
    "\n",
    "# Get heyan types for a qid \n",
    "types = du.get_qid_types(qid, esp, typeid2typename, wikidata=False)\n",
    "print(f\"Hyena Types {types}\")\n",
    "\n",
    "# Get one of the relationships between two qids\n",
    "rel = esp.get_relation_name(esp.get_relation(qid, qid2))\n",
    "rel = rel_to_name.get(rel, rel)\n",
    "print(f\"Rel {rel}\")\n",
    "\n",
    "# If there are multiple relationships between two qids (both directions)\n",
    "rels = [esp.get_relation_name(r) for r in esp.get_all_relations(qid, qid2)]\n",
    "rels = [rel_to_name.get(rel, rel) for rel in rels]\n",
    "print(f\"Rels {rels}\")\n",
    "\n",
    "# Get all connected qids for a give qid\n",
    "related_qids = du.get_related_qids(qid, esp)\n",
    "print(f\"Related QIDs {related_qids}\")\n",
    "print([es.get_title(r) for r in related_qids])"
   ]
  },
  {
   "cell_type": "code",
   "execution_count": 12,
   "metadata": {},
   "outputs": [],
   "source": [
    "# # pushed to github \n",
    "\n",
    "# qids = ['Q33999', 'Q3501317', 'Q177220', 'Q4610556', 'Q131524', 'Q8246794', 'Q488205']\n",
    "# for qid in qids:\n",
    "#     print(typename2title_wd[qid])"
   ]
  },
  {
   "cell_type": "code",
   "execution_count": 13,
   "metadata": {},
   "outputs": [
    {
     "data": {
      "text/plain": [
       "'Q2661677'"
      ]
     },
     "execution_count": 13,
     "metadata": {},
     "output_type": "execute_result"
    }
   ],
   "source": [
    "typeid2typename_wd[531]"
   ]
  },
  {
   "cell_type": "code",
   "execution_count": 26,
   "metadata": {},
   "outputs": [
    {
     "name": "stdout",
     "output_type": "stream",
     "text": [
      "Cands ['Q265', 'Q487321', 'Q484578', 'Q3247955', 'Q3328961', 'Q1640414', 'Q2118259', 'Q1769173', 'Q3329262', 'Q3328738', 'Q851535', 'Q2116762', 'Q2628681', 'Q7904660', 'Q853837', 'Q586113', 'Q483774', 'Q1837521', 'Q7904680', 'Q7904675', 'Q17747236', 'Q1544234', 'Q39045943', 'Q30716126', 'Q259319']\n",
      "['Uzbekistan', 'Uzbekistan national football team', 'Uzbek Soviet Socialist Republic', 'Uzbekistan national under-23 football team', 'Uzbekistan national under-20 football team', 'Uzbek cuisine', 'Uzbekistan Davis Cup team', 'Uzbekistan Fed Cup team', 'Uzbekistan national under-17 football team', 'Music of Uzbekistan', \"Uzbekistan women's national football team\", 'Uzbekistan national futsal team', 'Uzbekistan national basketball team', 'Uzbekistan at the Hopman Cup', 'Uzbekistan at the 2012 Summer Olympics', 'LGBT rights in Uzbekistan', 'Flag of Uzbekistan', 'Uzbekistan at the 2010 Summer Youth Olympics', 'Uzbekistan at the Paralympics', 'Uzbekistan national beach soccer team', 'Uzbekistan at the 2014 Asian Games', 'Uzbekistan national rugby union team', 'High-speed rail in Uzbekistan', 'Science and technology in Uzbekistan', 'Uzbekistan at the 2004 Summer Paralympics']\n"
     ]
    }
   ],
   "source": [
    "# BY ALIAS: \n",
    "alias = \"uzbekistan\"\n",
    "try:\n",
    "    # To get qid candidates of an alias\n",
    "    cands = esp.get_qid_cands(alias)\n",
    "    print(f\"Cands {cands}\")\n",
    "    print([es.get_title(qid) for qid in cands])\n",
    "except:\n",
    "    print(\"no candidates\")\n",
    "    pass\n",
    "\n"
   ]
  },
  {
   "cell_type": "markdown",
   "metadata": {},
   "source": [
    "# ADD ALIASES PLAYGROUND "
   ]
  },
  {
   "cell_type": "code",
   "execution_count": 15,
   "metadata": {},
   "outputs": [],
   "source": [
    "# # Load title mapping (helps to debug)\n",
    "# q2t = json.load(open(\"/dfs/scratch0/lorr1/contextual-embeddings/aug_data/wiki_prn_0516_lfs/entity_dump/qid2title.json\"))\n",
    "\n",
    "# input_dir = \"/dfs/scratch1/simran/tacred/tacred-relation-bootleg/dataset_bootleg_09042020/bootleg_09042020\"  # FILL IN \n",
    "# cand_map = f'{input_dir}/wiki_cand_map.json'\n",
    "# cand_map2 = f'{input_dir}/wiki_cand_map2.json'\n",
    "# a2q = json.load(open(cand_map))"
   ]
  },
  {
   "cell_type": "code",
   "execution_count": 16,
   "metadata": {},
   "outputs": [],
   "source": [
    "# # get qid of interest\n",
    "# word = \"us\"\n",
    "# try:\n",
    "#     # To get qid candidates of an alias\n",
    "#     cands = esp.get_qid_cands(word)\n",
    "#     print(f\"Cands {cands}\")\n",
    "#     print([es.get_title(qid) for qid in cands])\n",
    "# except:\n",
    "#     print(\"no candidates\")\n",
    "#     pass\n",
    "\n",
    "# qid_word = esp.get_qid_cands(word)[0]\n",
    "# print(qid_word)"
   ]
  },
  {
   "cell_type": "code",
   "execution_count": 17,
   "metadata": {},
   "outputs": [],
   "source": [
    "# # Test if acronym is in the alias set\n",
    "# # IF THE CORRECT CANDIDATE IS NOT THERE, ADD THE TUPLE WITH [qid, score]\n",
    "# acronym = \"u.s.\"\n",
    "# print([q2t[q[0]] for q in a2q.get(acronym, [])])"
   ]
  },
  {
   "cell_type": "code",
   "execution_count": 18,
   "metadata": {},
   "outputs": [],
   "source": [
    "# # TAKE THE QID AAND A HIGH score VALUE TO MAKE SURE IT'S USED\n",
    "# if acronym in a2q:\n",
    "#     a2q[acronym].append([qid_word, 10000])\n",
    "# else:\n",
    "#     a2q[acronym] = [[qid_word, 10000]]\n",
    "# # # REPEAT FOR MORE ACRONYMS\n",
    "# # ..."
   ]
  },
  {
   "cell_type": "code",
   "execution_count": 19,
   "metadata": {},
   "outputs": [],
   "source": [
    "# json.save(a2q, open(cand_map2, \"w\"))\n",
    "# USE cand_map2 file for mention extraction"
   ]
  },
  {
   "cell_type": "code",
   "execution_count": null,
   "metadata": {},
   "outputs": [],
   "source": []
  }
 ],
 "metadata": {
  "kernelspec": {
   "display_name": "Python 3",
   "language": "python",
   "name": "python3"
  },
  "language_info": {
   "codemirror_mode": {
    "name": "ipython",
    "version": 3
   },
   "file_extension": ".py",
   "mimetype": "text/x-python",
   "name": "python",
   "nbconvert_exporter": "python",
   "pygments_lexer": "ipython3",
   "version": "3.6.7"
  }
 },
 "nbformat": 4,
 "nbformat_minor": 4
}
